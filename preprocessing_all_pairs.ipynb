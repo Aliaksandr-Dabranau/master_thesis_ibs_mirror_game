{
 "cells": [
  {
   "cell_type": "markdown",
   "id": "ab348bcb",
   "metadata": {},
   "source": [
    "# Preprocessing: All pairs of participants"
   ]
  },
  {
   "cell_type": "markdown",
   "id": "0e13ab7f",
   "metadata": {},
   "source": [
    "### Steps:\n",
    "    1. filtering (1–40 Hz)\n",
    "    2. removing bad channels (0.7 channels on average)\n",
    "    3. ICA (removed 6 components on average)\n",
    "    4. epoching (-2, 25, no baseline correction)\n",
    "    5. downsampling to 256 Hz\n",
    "    6. removing trials where participants moved although they should not have moved (2.75% trials)\n",
    "    7. referencing to (1) average, (2) infinity, (3) surface Laplacian\n",
    "    8. interpolating bad channels for each reference type"
   ]
  },
  {
   "cell_type": "code",
   "execution_count": 1,
   "id": "eb2cd859",
   "metadata": {},
   "outputs": [],
   "source": [
    "# Importing packages\n",
    "\n",
    "import matplotlib\n",
    "import pathlib\n",
    "import mne\n",
    "import numpy as np\n",
    "import pandas as pd\n",
    "import glob, os\n",
    "import scipy\n",
    "from mne.preprocessing import (ICA, corrmap)\n",
    "matplotlib.use('Qt5Agg')"
   ]
  },
  {
   "cell_type": "markdown",
   "id": "fc0fecb9",
   "metadata": {},
   "source": [
    "<div class=\"alert alert-info\">\n",
    "    <p><b>\n",
    "        — loading the data, <br>\n",
    "        — separating two subjects within a pair, <br> \n",
    "        — renaming channels,<br>\n",
    "        — filtering,<br>\n",
    "        — setting montage, <br>\n",
    "        — saving </b></p>\n",
    "\n",
    "</div>"
   ]
  },
  {
   "cell_type": "code",
   "execution_count": 3,
   "id": "b2263b47",
   "metadata": {},
   "outputs": [
    {
     "name": "stdout",
     "output_type": "stream",
     "text": [
      "Reading 0 ... 6428671  =      0.000 ...  3139.000 secs...\n",
      "Filtering raw data in 1 contiguous segment\n",
      "Setting up band-pass filter from 1 - 40 Hz\n",
      "\n",
      "FIR filter parameters\n",
      "---------------------\n",
      "Designing a one-pass, zero-phase, non-causal bandpass filter:\n",
      "- Windowed time-domain design (firwin) method\n",
      "- Hamming window with 0.0194 passband ripple and 53 dB stopband attenuation\n",
      "- Lower passband edge: 1.00\n",
      "- Lower transition bandwidth: 1.00 Hz (-6 dB cutoff frequency: 0.50 Hz)\n",
      "- Upper passband edge: 40.00 Hz\n",
      "- Upper transition bandwidth: 10.00 Hz (-6 dB cutoff frequency: 45.00 Hz)\n",
      "- Filter length: 6759 samples (3.300 sec)\n",
      "\n"
     ]
    },
    {
     "name": "stderr",
     "output_type": "stream",
     "text": [
      "[Parallel(n_jobs=1)]: Using backend SequentialBackend with 1 concurrent workers.\n",
      "[Parallel(n_jobs=1)]: Done   1 out of   1 | elapsed:    0.4s remaining:    0.0s\n",
      "[Parallel(n_jobs=1)]: Done   2 out of   2 | elapsed:    0.7s remaining:    0.0s\n",
      "[Parallel(n_jobs=1)]: Done   3 out of   3 | elapsed:    0.9s remaining:    0.0s\n",
      "[Parallel(n_jobs=1)]: Done   4 out of   4 | elapsed:    1.2s remaining:    0.0s\n",
      "[Parallel(n_jobs=1)]: Done  64 out of  64 | elapsed:   25.3s finished\n"
     ]
    },
    {
     "name": "stdout",
     "output_type": "stream",
     "text": [
      "Reading 0 ... 6428671  =      0.000 ...  3139.000 secs...\n",
      "Filtering raw data in 1 contiguous segment\n",
      "Setting up band-pass filter from 1 - 40 Hz\n",
      "\n",
      "FIR filter parameters\n",
      "---------------------\n",
      "Designing a one-pass, zero-phase, non-causal bandpass filter:\n",
      "- Windowed time-domain design (firwin) method\n",
      "- Hamming window with 0.0194 passband ripple and 53 dB stopband attenuation\n",
      "- Lower passband edge: 1.00\n",
      "- Lower transition bandwidth: 1.00 Hz (-6 dB cutoff frequency: 0.50 Hz)\n",
      "- Upper passband edge: 40.00 Hz\n",
      "- Upper transition bandwidth: 10.00 Hz (-6 dB cutoff frequency: 45.00 Hz)\n",
      "- Filter length: 6759 samples (3.300 sec)\n",
      "\n"
     ]
    },
    {
     "name": "stderr",
     "output_type": "stream",
     "text": [
      "[Parallel(n_jobs=1)]: Using backend SequentialBackend with 1 concurrent workers.\n",
      "[Parallel(n_jobs=1)]: Done   1 out of   1 | elapsed:    0.4s remaining:    0.0s\n",
      "[Parallel(n_jobs=1)]: Done   2 out of   2 | elapsed:    0.7s remaining:    0.0s\n",
      "[Parallel(n_jobs=1)]: Done   3 out of   3 | elapsed:    0.9s remaining:    0.0s\n",
      "[Parallel(n_jobs=1)]: Done   4 out of   4 | elapsed:    1.3s remaining:    0.0s\n",
      "[Parallel(n_jobs=1)]: Done  64 out of  64 | elapsed:   25.5s finished\n"
     ]
    },
    {
     "name": "stdout",
     "output_type": "stream",
     "text": [
      "Reading 0 ... 6529023  =      0.000 ...  3188.000 secs...\n",
      "Filtering raw data in 1 contiguous segment\n",
      "Setting up band-pass filter from 1 - 40 Hz\n",
      "\n",
      "FIR filter parameters\n",
      "---------------------\n",
      "Designing a one-pass, zero-phase, non-causal bandpass filter:\n",
      "- Windowed time-domain design (firwin) method\n",
      "- Hamming window with 0.0194 passband ripple and 53 dB stopband attenuation\n",
      "- Lower passband edge: 1.00\n",
      "- Lower transition bandwidth: 1.00 Hz (-6 dB cutoff frequency: 0.50 Hz)\n",
      "- Upper passband edge: 40.00 Hz\n",
      "- Upper transition bandwidth: 10.00 Hz (-6 dB cutoff frequency: 45.00 Hz)\n",
      "- Filter length: 6759 samples (3.300 sec)\n",
      "\n"
     ]
    },
    {
     "name": "stderr",
     "output_type": "stream",
     "text": [
      "[Parallel(n_jobs=1)]: Using backend SequentialBackend with 1 concurrent workers.\n",
      "[Parallel(n_jobs=1)]: Done   1 out of   1 | elapsed:    0.5s remaining:    0.0s\n",
      "[Parallel(n_jobs=1)]: Done   2 out of   2 | elapsed:    0.7s remaining:    0.0s\n",
      "[Parallel(n_jobs=1)]: Done   3 out of   3 | elapsed:    1.1s remaining:    0.0s\n",
      "[Parallel(n_jobs=1)]: Done   4 out of   4 | elapsed:    1.4s remaining:    0.0s\n",
      "[Parallel(n_jobs=1)]: Done  64 out of  64 | elapsed:   26.6s finished\n"
     ]
    },
    {
     "name": "stdout",
     "output_type": "stream",
     "text": [
      "Reading 0 ... 6529023  =      0.000 ...  3188.000 secs...\n",
      "Filtering raw data in 1 contiguous segment\n",
      "Setting up band-pass filter from 1 - 40 Hz\n",
      "\n",
      "FIR filter parameters\n",
      "---------------------\n",
      "Designing a one-pass, zero-phase, non-causal bandpass filter:\n",
      "- Windowed time-domain design (firwin) method\n",
      "- Hamming window with 0.0194 passband ripple and 53 dB stopband attenuation\n",
      "- Lower passband edge: 1.00\n",
      "- Lower transition bandwidth: 1.00 Hz (-6 dB cutoff frequency: 0.50 Hz)\n",
      "- Upper passband edge: 40.00 Hz\n",
      "- Upper transition bandwidth: 10.00 Hz (-6 dB cutoff frequency: 45.00 Hz)\n",
      "- Filter length: 6759 samples (3.300 sec)\n",
      "\n"
     ]
    },
    {
     "name": "stderr",
     "output_type": "stream",
     "text": [
      "[Parallel(n_jobs=1)]: Using backend SequentialBackend with 1 concurrent workers.\n",
      "[Parallel(n_jobs=1)]: Done   1 out of   1 | elapsed:    0.4s remaining:    0.0s\n",
      "[Parallel(n_jobs=1)]: Done   2 out of   2 | elapsed:    0.7s remaining:    0.0s\n",
      "[Parallel(n_jobs=1)]: Done   3 out of   3 | elapsed:    0.9s remaining:    0.0s\n",
      "[Parallel(n_jobs=1)]: Done   4 out of   4 | elapsed:    1.2s remaining:    0.0s\n",
      "[Parallel(n_jobs=1)]: Done  64 out of  64 | elapsed:   36.0s finished\n"
     ]
    },
    {
     "name": "stdout",
     "output_type": "stream",
     "text": [
      "Reading 0 ... 6608895  =      0.000 ...  3227.000 secs...\n",
      "Filtering raw data in 1 contiguous segment\n",
      "Setting up band-pass filter from 1 - 40 Hz\n",
      "\n",
      "FIR filter parameters\n",
      "---------------------\n",
      "Designing a one-pass, zero-phase, non-causal bandpass filter:\n",
      "- Windowed time-domain design (firwin) method\n",
      "- Hamming window with 0.0194 passband ripple and 53 dB stopband attenuation\n",
      "- Lower passband edge: 1.00\n",
      "- Lower transition bandwidth: 1.00 Hz (-6 dB cutoff frequency: 0.50 Hz)\n",
      "- Upper passband edge: 40.00 Hz\n",
      "- Upper transition bandwidth: 10.00 Hz (-6 dB cutoff frequency: 45.00 Hz)\n",
      "- Filter length: 6759 samples (3.300 sec)\n",
      "\n"
     ]
    },
    {
     "name": "stderr",
     "output_type": "stream",
     "text": [
      "[Parallel(n_jobs=1)]: Using backend SequentialBackend with 1 concurrent workers.\n",
      "[Parallel(n_jobs=1)]: Done   1 out of   1 | elapsed:    0.6s remaining:    0.0s\n",
      "[Parallel(n_jobs=1)]: Done   2 out of   2 | elapsed:    0.9s remaining:    0.0s\n",
      "[Parallel(n_jobs=1)]: Done   3 out of   3 | elapsed:    1.2s remaining:    0.0s\n",
      "[Parallel(n_jobs=1)]: Done   4 out of   4 | elapsed:    1.5s remaining:    0.0s\n",
      "[Parallel(n_jobs=1)]: Done  64 out of  64 | elapsed:   28.2s finished\n"
     ]
    },
    {
     "name": "stdout",
     "output_type": "stream",
     "text": [
      "Reading 0 ... 6608895  =      0.000 ...  3227.000 secs...\n",
      "Filtering raw data in 1 contiguous segment\n",
      "Setting up band-pass filter from 1 - 40 Hz\n",
      "\n",
      "FIR filter parameters\n",
      "---------------------\n",
      "Designing a one-pass, zero-phase, non-causal bandpass filter:\n",
      "- Windowed time-domain design (firwin) method\n",
      "- Hamming window with 0.0194 passband ripple and 53 dB stopband attenuation\n",
      "- Lower passband edge: 1.00\n",
      "- Lower transition bandwidth: 1.00 Hz (-6 dB cutoff frequency: 0.50 Hz)\n",
      "- Upper passband edge: 40.00 Hz\n",
      "- Upper transition bandwidth: 10.00 Hz (-6 dB cutoff frequency: 45.00 Hz)\n",
      "- Filter length: 6759 samples (3.300 sec)\n",
      "\n"
     ]
    },
    {
     "name": "stderr",
     "output_type": "stream",
     "text": [
      "[Parallel(n_jobs=1)]: Using backend SequentialBackend with 1 concurrent workers.\n",
      "[Parallel(n_jobs=1)]: Done   1 out of   1 | elapsed:    0.4s remaining:    0.0s\n",
      "[Parallel(n_jobs=1)]: Done   2 out of   2 | elapsed:    0.6s remaining:    0.0s\n",
      "[Parallel(n_jobs=1)]: Done   3 out of   3 | elapsed:    1.0s remaining:    0.0s\n",
      "[Parallel(n_jobs=1)]: Done   4 out of   4 | elapsed:    1.3s remaining:    0.0s\n",
      "[Parallel(n_jobs=1)]: Done  64 out of  64 | elapsed:   34.4s finished\n"
     ]
    },
    {
     "name": "stdout",
     "output_type": "stream",
     "text": [
      "Reading 0 ... 6645759  =      0.000 ...  3245.000 secs...\n",
      "Filtering raw data in 1 contiguous segment\n",
      "Setting up band-pass filter from 1 - 40 Hz\n",
      "\n",
      "FIR filter parameters\n",
      "---------------------\n",
      "Designing a one-pass, zero-phase, non-causal bandpass filter:\n",
      "- Windowed time-domain design (firwin) method\n",
      "- Hamming window with 0.0194 passband ripple and 53 dB stopband attenuation\n",
      "- Lower passband edge: 1.00\n",
      "- Lower transition bandwidth: 1.00 Hz (-6 dB cutoff frequency: 0.50 Hz)\n",
      "- Upper passband edge: 40.00 Hz\n",
      "- Upper transition bandwidth: 10.00 Hz (-6 dB cutoff frequency: 45.00 Hz)\n",
      "- Filter length: 6759 samples (3.300 sec)\n",
      "\n"
     ]
    },
    {
     "name": "stderr",
     "output_type": "stream",
     "text": [
      "[Parallel(n_jobs=1)]: Using backend SequentialBackend with 1 concurrent workers.\n",
      "[Parallel(n_jobs=1)]: Done   1 out of   1 | elapsed:    0.4s remaining:    0.0s\n",
      "[Parallel(n_jobs=1)]: Done   2 out of   2 | elapsed:    0.7s remaining:    0.0s\n",
      "[Parallel(n_jobs=1)]: Done   3 out of   3 | elapsed:    0.9s remaining:    0.0s\n",
      "[Parallel(n_jobs=1)]: Done   4 out of   4 | elapsed:    1.3s remaining:    0.0s\n",
      "[Parallel(n_jobs=1)]: Done  64 out of  64 | elapsed:   29.2s finished\n"
     ]
    },
    {
     "name": "stdout",
     "output_type": "stream",
     "text": [
      "Reading 0 ... 6645759  =      0.000 ...  3245.000 secs...\n",
      "Filtering raw data in 1 contiguous segment\n",
      "Setting up band-pass filter from 1 - 40 Hz\n",
      "\n",
      "FIR filter parameters\n",
      "---------------------\n",
      "Designing a one-pass, zero-phase, non-causal bandpass filter:\n",
      "- Windowed time-domain design (firwin) method\n",
      "- Hamming window with 0.0194 passband ripple and 53 dB stopband attenuation\n",
      "- Lower passband edge: 1.00\n",
      "- Lower transition bandwidth: 1.00 Hz (-6 dB cutoff frequency: 0.50 Hz)\n",
      "- Upper passband edge: 40.00 Hz\n",
      "- Upper transition bandwidth: 10.00 Hz (-6 dB cutoff frequency: 45.00 Hz)\n",
      "- Filter length: 6759 samples (3.300 sec)\n",
      "\n"
     ]
    },
    {
     "name": "stderr",
     "output_type": "stream",
     "text": [
      "[Parallel(n_jobs=1)]: Using backend SequentialBackend with 1 concurrent workers.\n",
      "[Parallel(n_jobs=1)]: Done   1 out of   1 | elapsed:    0.4s remaining:    0.0s\n",
      "[Parallel(n_jobs=1)]: Done   2 out of   2 | elapsed:    0.7s remaining:    0.0s\n",
      "[Parallel(n_jobs=1)]: Done   3 out of   3 | elapsed:    0.9s remaining:    0.0s\n",
      "[Parallel(n_jobs=1)]: Done   4 out of   4 | elapsed:    1.2s remaining:    0.0s\n",
      "[Parallel(n_jobs=1)]: Done  64 out of  64 | elapsed:   30.6s finished\n"
     ]
    },
    {
     "name": "stdout",
     "output_type": "stream",
     "text": [
      "Reading 0 ... 6557695  =      0.000 ...  3202.000 secs...\n",
      "Filtering raw data in 1 contiguous segment\n",
      "Setting up band-pass filter from 1 - 40 Hz\n",
      "\n",
      "FIR filter parameters\n",
      "---------------------\n",
      "Designing a one-pass, zero-phase, non-causal bandpass filter:\n",
      "- Windowed time-domain design (firwin) method\n",
      "- Hamming window with 0.0194 passband ripple and 53 dB stopband attenuation\n",
      "- Lower passband edge: 1.00\n",
      "- Lower transition bandwidth: 1.00 Hz (-6 dB cutoff frequency: 0.50 Hz)\n",
      "- Upper passband edge: 40.00 Hz\n",
      "- Upper transition bandwidth: 10.00 Hz (-6 dB cutoff frequency: 45.00 Hz)\n",
      "- Filter length: 6759 samples (3.300 sec)\n",
      "\n"
     ]
    },
    {
     "name": "stderr",
     "output_type": "stream",
     "text": [
      "[Parallel(n_jobs=1)]: Using backend SequentialBackend with 1 concurrent workers.\n",
      "[Parallel(n_jobs=1)]: Done   1 out of   1 | elapsed:    0.7s remaining:    0.0s\n",
      "[Parallel(n_jobs=1)]: Done   2 out of   2 | elapsed:    1.1s remaining:    0.0s\n",
      "[Parallel(n_jobs=1)]: Done   3 out of   3 | elapsed:    1.3s remaining:    0.0s\n",
      "[Parallel(n_jobs=1)]: Done   4 out of   4 | elapsed:    1.7s remaining:    0.0s\n",
      "[Parallel(n_jobs=1)]: Done  64 out of  64 | elapsed:   24.0s finished\n"
     ]
    },
    {
     "name": "stdout",
     "output_type": "stream",
     "text": [
      "Reading 0 ... 6557695  =      0.000 ...  3202.000 secs...\n",
      "Filtering raw data in 1 contiguous segment\n",
      "Setting up band-pass filter from 1 - 40 Hz\n",
      "\n",
      "FIR filter parameters\n",
      "---------------------\n",
      "Designing a one-pass, zero-phase, non-causal bandpass filter:\n",
      "- Windowed time-domain design (firwin) method\n",
      "- Hamming window with 0.0194 passband ripple and 53 dB stopband attenuation\n",
      "- Lower passband edge: 1.00\n",
      "- Lower transition bandwidth: 1.00 Hz (-6 dB cutoff frequency: 0.50 Hz)\n",
      "- Upper passband edge: 40.00 Hz\n",
      "- Upper transition bandwidth: 10.00 Hz (-6 dB cutoff frequency: 45.00 Hz)\n",
      "- Filter length: 6759 samples (3.300 sec)\n",
      "\n"
     ]
    },
    {
     "name": "stderr",
     "output_type": "stream",
     "text": [
      "[Parallel(n_jobs=1)]: Using backend SequentialBackend with 1 concurrent workers.\n",
      "[Parallel(n_jobs=1)]: Done   1 out of   1 | elapsed:    0.5s remaining:    0.0s\n",
      "[Parallel(n_jobs=1)]: Done   2 out of   2 | elapsed:    0.9s remaining:    0.0s\n",
      "[Parallel(n_jobs=1)]: Done   3 out of   3 | elapsed:    1.2s remaining:    0.0s\n",
      "[Parallel(n_jobs=1)]: Done   4 out of   4 | elapsed:    1.7s remaining:    0.0s\n",
      "[Parallel(n_jobs=1)]: Done  64 out of  64 | elapsed:   42.7s finished\n"
     ]
    },
    {
     "name": "stdout",
     "output_type": "stream",
     "text": [
      "Reading 0 ... 6445055  =      0.000 ...  3147.000 secs...\n",
      "Filtering raw data in 1 contiguous segment\n",
      "Setting up band-pass filter from 1 - 40 Hz\n",
      "\n",
      "FIR filter parameters\n",
      "---------------------\n",
      "Designing a one-pass, zero-phase, non-causal bandpass filter:\n",
      "- Windowed time-domain design (firwin) method\n",
      "- Hamming window with 0.0194 passband ripple and 53 dB stopband attenuation\n",
      "- Lower passband edge: 1.00\n",
      "- Lower transition bandwidth: 1.00 Hz (-6 dB cutoff frequency: 0.50 Hz)\n",
      "- Upper passband edge: 40.00 Hz\n",
      "- Upper transition bandwidth: 10.00 Hz (-6 dB cutoff frequency: 45.00 Hz)\n",
      "- Filter length: 6759 samples (3.300 sec)\n",
      "\n"
     ]
    },
    {
     "name": "stderr",
     "output_type": "stream",
     "text": [
      "[Parallel(n_jobs=1)]: Using backend SequentialBackend with 1 concurrent workers.\n",
      "[Parallel(n_jobs=1)]: Done   1 out of   1 | elapsed:    0.4s remaining:    0.0s\n",
      "[Parallel(n_jobs=1)]: Done   2 out of   2 | elapsed:    0.7s remaining:    0.0s\n",
      "[Parallel(n_jobs=1)]: Done   3 out of   3 | elapsed:    1.0s remaining:    0.0s\n",
      "[Parallel(n_jobs=1)]: Done   4 out of   4 | elapsed:    1.3s remaining:    0.0s\n",
      "[Parallel(n_jobs=1)]: Done  64 out of  64 | elapsed:   25.3s finished\n"
     ]
    },
    {
     "name": "stdout",
     "output_type": "stream",
     "text": [
      "Reading 0 ... 6445055  =      0.000 ...  3147.000 secs...\n",
      "Filtering raw data in 1 contiguous segment\n",
      "Setting up band-pass filter from 1 - 40 Hz\n",
      "\n",
      "FIR filter parameters\n",
      "---------------------\n",
      "Designing a one-pass, zero-phase, non-causal bandpass filter:\n",
      "- Windowed time-domain design (firwin) method\n",
      "- Hamming window with 0.0194 passband ripple and 53 dB stopband attenuation\n",
      "- Lower passband edge: 1.00\n",
      "- Lower transition bandwidth: 1.00 Hz (-6 dB cutoff frequency: 0.50 Hz)\n",
      "- Upper passband edge: 40.00 Hz\n",
      "- Upper transition bandwidth: 10.00 Hz (-6 dB cutoff frequency: 45.00 Hz)\n",
      "- Filter length: 6759 samples (3.300 sec)\n",
      "\n"
     ]
    },
    {
     "name": "stderr",
     "output_type": "stream",
     "text": [
      "[Parallel(n_jobs=1)]: Using backend SequentialBackend with 1 concurrent workers.\n",
      "[Parallel(n_jobs=1)]: Done   1 out of   1 | elapsed:    0.5s remaining:    0.0s\n",
      "[Parallel(n_jobs=1)]: Done   2 out of   2 | elapsed:    0.7s remaining:    0.0s\n",
      "[Parallel(n_jobs=1)]: Done   3 out of   3 | elapsed:    1.0s remaining:    0.0s\n",
      "[Parallel(n_jobs=1)]: Done   4 out of   4 | elapsed:    1.3s remaining:    0.0s\n",
      "[Parallel(n_jobs=1)]: Done  64 out of  64 | elapsed:   33.9s finished\n"
     ]
    },
    {
     "name": "stdout",
     "output_type": "stream",
     "text": [
      "Reading 0 ... 6582271  =      0.000 ...  3214.000 secs...\n",
      "Filtering raw data in 1 contiguous segment\n",
      "Setting up band-pass filter from 1 - 40 Hz\n",
      "\n",
      "FIR filter parameters\n",
      "---------------------\n",
      "Designing a one-pass, zero-phase, non-causal bandpass filter:\n",
      "- Windowed time-domain design (firwin) method\n",
      "- Hamming window with 0.0194 passband ripple and 53 dB stopband attenuation\n",
      "- Lower passband edge: 1.00\n",
      "- Lower transition bandwidth: 1.00 Hz (-6 dB cutoff frequency: 0.50 Hz)\n",
      "- Upper passband edge: 40.00 Hz\n",
      "- Upper transition bandwidth: 10.00 Hz (-6 dB cutoff frequency: 45.00 Hz)\n",
      "- Filter length: 6759 samples (3.300 sec)\n",
      "\n"
     ]
    },
    {
     "name": "stderr",
     "output_type": "stream",
     "text": [
      "[Parallel(n_jobs=1)]: Using backend SequentialBackend with 1 concurrent workers.\n",
      "[Parallel(n_jobs=1)]: Done   1 out of   1 | elapsed:    0.6s remaining:    0.0s\n",
      "[Parallel(n_jobs=1)]: Done   2 out of   2 | elapsed:    1.0s remaining:    0.0s\n",
      "[Parallel(n_jobs=1)]: Done   3 out of   3 | elapsed:    1.4s remaining:    0.0s\n",
      "[Parallel(n_jobs=1)]: Done   4 out of   4 | elapsed:    1.7s remaining:    0.0s\n",
      "[Parallel(n_jobs=1)]: Done  64 out of  64 | elapsed:   37.7s finished\n"
     ]
    },
    {
     "name": "stdout",
     "output_type": "stream",
     "text": [
      "Reading 0 ... 6582271  =      0.000 ...  3214.000 secs...\n",
      "Filtering raw data in 1 contiguous segment\n",
      "Setting up band-pass filter from 1 - 40 Hz\n",
      "\n",
      "FIR filter parameters\n",
      "---------------------\n",
      "Designing a one-pass, zero-phase, non-causal bandpass filter:\n",
      "- Windowed time-domain design (firwin) method\n",
      "- Hamming window with 0.0194 passband ripple and 53 dB stopband attenuation\n",
      "- Lower passband edge: 1.00\n",
      "- Lower transition bandwidth: 1.00 Hz (-6 dB cutoff frequency: 0.50 Hz)\n",
      "- Upper passband edge: 40.00 Hz\n",
      "- Upper transition bandwidth: 10.00 Hz (-6 dB cutoff frequency: 45.00 Hz)\n",
      "- Filter length: 6759 samples (3.300 sec)\n",
      "\n"
     ]
    },
    {
     "name": "stderr",
     "output_type": "stream",
     "text": [
      "[Parallel(n_jobs=1)]: Using backend SequentialBackend with 1 concurrent workers.\n",
      "[Parallel(n_jobs=1)]: Done   1 out of   1 | elapsed:    0.4s remaining:    0.0s\n",
      "[Parallel(n_jobs=1)]: Done   2 out of   2 | elapsed:    0.7s remaining:    0.0s\n",
      "[Parallel(n_jobs=1)]: Done   3 out of   3 | elapsed:    1.0s remaining:    0.0s\n",
      "[Parallel(n_jobs=1)]: Done   4 out of   4 | elapsed:    1.3s remaining:    0.0s\n",
      "[Parallel(n_jobs=1)]: Done  64 out of  64 | elapsed:   27.4s finished\n"
     ]
    },
    {
     "name": "stdout",
     "output_type": "stream",
     "text": [
      "Reading 0 ... 6615039  =      0.000 ...  3230.000 secs...\n",
      "Filtering raw data in 1 contiguous segment\n",
      "Setting up band-pass filter from 1 - 40 Hz\n",
      "\n",
      "FIR filter parameters\n",
      "---------------------\n",
      "Designing a one-pass, zero-phase, non-causal bandpass filter:\n",
      "- Windowed time-domain design (firwin) method\n",
      "- Hamming window with 0.0194 passband ripple and 53 dB stopband attenuation\n",
      "- Lower passband edge: 1.00\n",
      "- Lower transition bandwidth: 1.00 Hz (-6 dB cutoff frequency: 0.50 Hz)\n",
      "- Upper passband edge: 40.00 Hz\n",
      "- Upper transition bandwidth: 10.00 Hz (-6 dB cutoff frequency: 45.00 Hz)\n",
      "- Filter length: 6759 samples (3.300 sec)\n",
      "\n"
     ]
    },
    {
     "name": "stderr",
     "output_type": "stream",
     "text": [
      "[Parallel(n_jobs=1)]: Using backend SequentialBackend with 1 concurrent workers.\n",
      "[Parallel(n_jobs=1)]: Done   1 out of   1 | elapsed:    0.5s remaining:    0.0s\n",
      "[Parallel(n_jobs=1)]: Done   2 out of   2 | elapsed:    0.8s remaining:    0.0s\n",
      "[Parallel(n_jobs=1)]: Done   3 out of   3 | elapsed:    1.2s remaining:    0.0s\n",
      "[Parallel(n_jobs=1)]: Done   4 out of   4 | elapsed:    1.6s remaining:    0.0s\n",
      "[Parallel(n_jobs=1)]: Done  64 out of  64 | elapsed:   34.7s finished\n"
     ]
    },
    {
     "name": "stdout",
     "output_type": "stream",
     "text": [
      "Reading 0 ... 6615039  =      0.000 ...  3230.000 secs...\n",
      "Filtering raw data in 1 contiguous segment\n",
      "Setting up band-pass filter from 1 - 40 Hz\n",
      "\n",
      "FIR filter parameters\n",
      "---------------------\n",
      "Designing a one-pass, zero-phase, non-causal bandpass filter:\n",
      "- Windowed time-domain design (firwin) method\n",
      "- Hamming window with 0.0194 passband ripple and 53 dB stopband attenuation\n",
      "- Lower passband edge: 1.00\n",
      "- Lower transition bandwidth: 1.00 Hz (-6 dB cutoff frequency: 0.50 Hz)\n",
      "- Upper passband edge: 40.00 Hz\n",
      "- Upper transition bandwidth: 10.00 Hz (-6 dB cutoff frequency: 45.00 Hz)\n",
      "- Filter length: 6759 samples (3.300 sec)\n",
      "\n"
     ]
    },
    {
     "name": "stderr",
     "output_type": "stream",
     "text": [
      "[Parallel(n_jobs=1)]: Using backend SequentialBackend with 1 concurrent workers.\n",
      "[Parallel(n_jobs=1)]: Done   1 out of   1 | elapsed:    0.5s remaining:    0.0s\n",
      "[Parallel(n_jobs=1)]: Done   2 out of   2 | elapsed:    1.0s remaining:    0.0s\n",
      "[Parallel(n_jobs=1)]: Done   3 out of   3 | elapsed:    1.4s remaining:    0.0s\n",
      "[Parallel(n_jobs=1)]: Done   4 out of   4 | elapsed:    1.8s remaining:    0.0s\n",
      "[Parallel(n_jobs=1)]: Done  64 out of  64 | elapsed:   50.0s finished\n"
     ]
    }
   ],
   "source": [
    "pairs = [\"003\",\"004\",\"005\",\"007\",\"008\",\"009\",\"010\",\"011\",\"012\",\"013\",\"014\",\n",
    "         \"016\",\"017\",\"018\",\"019\",\"020\",\"022\",\"023\",\"024\",\"025\",\"027\"]\n",
    "\n",
    "for pair_n in pairs:\n",
    "    folder = f\"/Users/aliaksandrdabranau/Data/Mirror_game/pair{pair_n}\"\n",
    "    os.chdir(folder)\n",
    "\n",
    "    raw = mne.io.read_raw_bdf(glob.glob(\"*.bdf\")[0], verbose=False)\n",
    "\n",
    "    ### retrieve channel names\n",
    "    channel_names = raw.ch_names\n",
    "\n",
    "    ### pick channels\n",
    "    channels_a = mne.pick_channels_regexp(channel_names, '(1\\-A.*)|(1\\-B.*)|(Status)')\n",
    "    channels_b = mne.pick_channels_regexp(channel_names, '(2\\-A.*)|(2\\-B.*)|(Status)')\n",
    "\n",
    "    ### separate the data\n",
    "    raw_a = raw.copy().pick(channels_a)\n",
    "    raw_b = raw.copy().pick(channels_b)\n",
    "\n",
    "    ### rename channels\n",
    "    \n",
    "    biosemi_layout = mne.channels.make_standard_montage('biosemi64')\n",
    "    biosemi_names = biosemi_layout.ch_names\n",
    "\n",
    "    for i in range(len(biosemi_names)):\n",
    "        raw_a.rename_channels(mapping = {raw_a.ch_names[i]:biosemi_names[i]})\n",
    "\n",
    "    for i in range(len(biosemi_names)):\n",
    "        raw_b.rename_channels(mapping = {raw_b.ch_names[i]:biosemi_names[i]})\n",
    "    \n",
    "    \n",
    "    ### filter data, set montage, and save\n",
    "    \n",
    "    raw_a.load_data()\n",
    "    filtered_a = raw_a.copy().filter(l_freq=1, h_freq=40)\n",
    "    filtered_a = filtered_a.set_montage(\"biosemi64\")\n",
    "    filtered_a.save(pathlib.Path(folder+f'/{pair_n}a_filtered_raw.fif'), overwrite=True, verbose=False)\n",
    "    \n",
    "    raw_b.load_data()\n",
    "    filtered_b = raw_b.copy().filter(l_freq=1, h_freq=40)\n",
    "    filtered_b = filtered_b.set_montage(\"biosemi64\")\n",
    "    filtered_b.save(pathlib.Path(folder+f'/{pair_n}b_filtered_raw.fif'), overwrite=True, verbose=False)"
   ]
  },
  {
   "cell_type": "markdown",
   "id": "1a76928a",
   "metadata": {},
   "source": [
    "<div class=\"alert alert-info\">\n",
    "    <p><b>\n",
    "        — Removing BAD channels </b></p>\n",
    "\n",
    "</div>"
   ]
  },
  {
   "cell_type": "markdown",
   "id": "d6fb36fe",
   "metadata": {},
   "source": [
    "Log – bad channels:\n",
    "\n",
    "       003a - Iz\n",
    "       003b - FC1, T8\n",
    "       005a - nothing\n",
    "       005b - nothing\n",
    "       007a - nothing\n",
    "       007b - PO4, P2, P8, TP8\n",
    "       008a - nothing\n",
    "       008b - nothing\n",
    "       009a - PO3\n",
    "       009b - T7\n",
    "       010a - FT7\n",
    "       010b - P1, PO3\n",
    "       011a - nothing\n",
    "       011b - T7, T8\n",
    "       012a - nothing\n",
    "       012b - nothing\n",
    "       013a - PO3\n",
    "       013b - nothing\n",
    "       014a - P1\n",
    "       014b - nothing\n",
    "       016a - PO3, P1\n",
    "       016b - Iz\n",
    "       017a - nothing\n",
    "       017b - nothing\n",
    "       018a - PO3\n",
    "       018b - P1, P2\n",
    "       019a - nothing\n",
    "       019b - P1\n",
    "       020a - nothing\n",
    "       020b - nothing\n",
    "       022a - nothing\n",
    "       022b - nothing\n",
    "       023a - PO3\n",
    "       023b - Iz\n",
    "       024a - P2\n",
    "       024b - PO3, P1\n",
    "       025a - nothing\n",
    "       025b - nothing\n",
    "       027a - nothing\n",
    "       027b - nothing"
   ]
  },
  {
   "cell_type": "code",
   "execution_count": 2,
   "id": "9a4c26b2",
   "metadata": {},
   "outputs": [],
   "source": [
    "### The pairs are processed one by one at this step\n",
    "\n",
    "pair_n = \"004\"\n",
    "folder = f\"/Users/aliaksandrdabranau/Data/Mirror_game/pair{pair_n}\""
   ]
  },
  {
   "cell_type": "markdown",
   "id": "31dd5da0",
   "metadata": {},
   "source": [
    "### Participant A"
   ]
  },
  {
   "cell_type": "code",
   "execution_count": 14,
   "id": "76cb34e1",
   "metadata": {},
   "outputs": [
    {
     "name": "stdout",
     "output_type": "stream",
     "text": [
      "Opening raw data file /Users/aliaksandrdabranau/Data/Mirror_game/pair025/025a_filtered_nobad_raw.fif...\n",
      "    Range : 0 ... 6598655 =      0.000 ...  3222.000 secs\n",
      "Ready.\n",
      "Effective window size : 0.125 (s)\n"
     ]
    },
    {
     "data": {
      "text/plain": [
       "<MNELineFigure size 2000x700 with 2 Axes>"
      ]
     },
     "execution_count": 14,
     "metadata": {},
     "output_type": "execute_result"
    }
   ],
   "source": [
    "filtered_a = mne.io.read_raw_fif(pathlib.Path(folder+f'/{pair_n}a_filtered_nobad_raw.fif'))\n",
    "filtered_a.compute_psd().plot()"
   ]
  },
  {
   "cell_type": "code",
   "execution_count": 164,
   "id": "a85966a9",
   "metadata": {},
   "outputs": [],
   "source": [
    "filtered_a.info[\"bads\"].append(\"P2\")"
   ]
  },
  {
   "cell_type": "code",
   "execution_count": 155,
   "id": "c7fef875",
   "metadata": {},
   "outputs": [
    {
     "data": {
      "text/plain": [
       "<MNEBrowseFigure size 1600x1570 with 4 Axes>"
      ]
     },
     "execution_count": 155,
     "metadata": {},
     "output_type": "execute_result"
    },
    {
     "name": "stdout",
     "output_type": "stream",
     "text": [
      "Channels marked as bad:\n",
      "none\n"
     ]
    }
   ],
   "source": [
    "filtered_a.plot()"
   ]
  },
  {
   "cell_type": "code",
   "execution_count": 165,
   "id": "64d06bf2",
   "metadata": {},
   "outputs": [
    {
     "name": "stdout",
     "output_type": "stream",
     "text": [
      "Effective window size : 0.125 (s)\n"
     ]
    },
    {
     "data": {
      "text/plain": [
       "<MNELineFigure size 2000x700 with 2 Axes>"
      ]
     },
     "execution_count": 165,
     "metadata": {},
     "output_type": "execute_result"
    }
   ],
   "source": [
    "filtered_a.compute_psd().plot()"
   ]
  },
  {
   "cell_type": "code",
   "execution_count": 180,
   "id": "402d6cb1",
   "metadata": {},
   "outputs": [],
   "source": [
    "filtered_a.save(pathlib.Path(folder+f'/{pair_n}a_filtered_nobad_raw.fif'), overwrite=True, verbose=False)"
   ]
  },
  {
   "cell_type": "markdown",
   "id": "c04432eb",
   "metadata": {},
   "source": [
    "### Participant B"
   ]
  },
  {
   "cell_type": "code",
   "execution_count": 22,
   "id": "818e7633",
   "metadata": {},
   "outputs": [
    {
     "name": "stdout",
     "output_type": "stream",
     "text": [
      "Opening raw data file /Users/aliaksandrdabranau/Data/Mirror_game/pair018/018b_filtered_nobad_raw.fif...\n",
      "    Range : 0 ... 6664191 =      0.000 ...  3254.000 secs\n",
      "Ready.\n",
      "Effective window size : 0.125 (s)\n"
     ]
    },
    {
     "data": {
      "text/plain": [
       "<MNELineFigure size 2000x700 with 2 Axes>"
      ]
     },
     "execution_count": 22,
     "metadata": {},
     "output_type": "execute_result"
    }
   ],
   "source": [
    "filtered_b = mne.io.read_raw_fif(pathlib.Path(folder+f'/{pair_n}b_filtered_nobad_raw.fif'))\n",
    "filtered_b.compute_psd().plot()"
   ]
  },
  {
   "cell_type": "code",
   "execution_count": 240,
   "id": "10943b95",
   "metadata": {},
   "outputs": [
    {
     "data": {
      "text/plain": [
       "<MNEBrowseFigure size 1600x1570 with 4 Axes>"
      ]
     },
     "execution_count": 240,
     "metadata": {},
     "output_type": "execute_result"
    },
    {
     "name": "stdout",
     "output_type": "stream",
     "text": [
      "Channels marked as bad:\n",
      "['P1']\n"
     ]
    }
   ],
   "source": [
    "filtered_b.plot()"
   ]
  },
  {
   "cell_type": "code",
   "execution_count": 9,
   "id": "1877a331",
   "metadata": {},
   "outputs": [],
   "source": [
    "filtered_b.info[\"bads\"].append(\"P1\")\n",
    "filtered_b.info[\"bads\"].append(\"P2\")"
   ]
  },
  {
   "cell_type": "code",
   "execution_count": 10,
   "id": "4aa5cc1a",
   "metadata": {},
   "outputs": [
    {
     "name": "stdout",
     "output_type": "stream",
     "text": [
      "Effective window size : 0.125 (s)\n"
     ]
    },
    {
     "data": {
      "text/plain": [
       "<MNELineFigure size 2000x700 with 2 Axes>"
      ]
     },
     "execution_count": 10,
     "metadata": {},
     "output_type": "execute_result"
    }
   ],
   "source": [
    "filtered_b.compute_psd().plot()"
   ]
  },
  {
   "cell_type": "code",
   "execution_count": 213,
   "id": "9832c1ad",
   "metadata": {},
   "outputs": [
    {
     "data": {
      "text/plain": [
       "<MNEBrowseFigure size 1600x1570 with 4 Axes>"
      ]
     },
     "execution_count": 213,
     "metadata": {},
     "output_type": "execute_result"
    },
    {
     "name": "stdout",
     "output_type": "stream",
     "text": [
      "Channels marked as bad:\n",
      "none\n"
     ]
    }
   ],
   "source": [
    "filtered_b.plot()"
   ]
  },
  {
   "cell_type": "code",
   "execution_count": 17,
   "id": "28444079",
   "metadata": {},
   "outputs": [],
   "source": [
    "filtered_b.save(pathlib.Path(folder+f'/{pair_n}b_filtered_nobad_raw.fif'), overwrite=True, verbose=False)"
   ]
  },
  {
   "cell_type": "markdown",
   "id": "ea27ca67",
   "metadata": {},
   "source": [
    "<div class=\"alert alert-info\">\n",
    "    <p><b>\n",
    "        — ICA </b></p>\n",
    "\n",
    "</div>"
   ]
  },
  {
   "cell_type": "code",
   "execution_count": 2,
   "id": "99f7d718",
   "metadata": {},
   "outputs": [],
   "source": [
    "### Part 1: Creating ICA projections"
   ]
  },
  {
   "cell_type": "code",
   "execution_count": 2,
   "id": "9ca525a9",
   "metadata": {},
   "outputs": [
    {
     "name": "stdout",
     "output_type": "stream",
     "text": [
      "Opening raw data file /Users/aliaksandrdabranau/Data/Mirror_game/pair023/023a_filtered_nobad_raw.fif...\n",
      "    Range : 0 ... 6516736 =      0.000 ...  3182.000 secs\n",
      "Ready.\n",
      "Opening raw data file /Users/aliaksandrdabranau/Data/Mirror_game/pair023/023b_filtered_nobad_raw.fif...\n",
      "    Range : 0 ... 6516736 =      0.000 ...  3182.000 secs\n",
      "Ready.\n",
      "Fitting ICA to data using 63 channels (please be patient, this may take a while)\n",
      "Selecting by number: 63 components\n",
      "Computing Extended Infomax ICA\n",
      "Fitting ICA took 3123.6s.\n",
      "Fitting ICA to data using 63 channels (please be patient, this may take a while)\n",
      "Selecting by number: 63 components\n",
      "Computing Extended Infomax ICA\n",
      "Fitting ICA took 2612.8s.\n",
      "Opening raw data file /Users/aliaksandrdabranau/Data/Mirror_game/pair025/025a_filtered_nobad_raw.fif...\n",
      "    Range : 0 ... 6598655 =      0.000 ...  3222.000 secs\n",
      "Ready.\n",
      "Opening raw data file /Users/aliaksandrdabranau/Data/Mirror_game/pair025/025b_filtered_nobad_raw.fif...\n",
      "    Range : 0 ... 4302848 =      0.000 ...  2101.000 secs\n",
      "Ready.\n",
      "Fitting ICA to data using 64 channels (please be patient, this may take a while)\n",
      "Selecting by number: 64 components\n",
      "Computing Extended Infomax ICA\n",
      "Fitting ICA took 2983.9s.\n",
      "Fitting ICA to data using 64 channels (please be patient, this may take a while)\n",
      "Selecting by number: 64 components\n",
      "Computing Extended Infomax ICA\n",
      "Fitting ICA took 1833.1s.\n"
     ]
    }
   ],
   "source": [
    "pairs = [\"003\",\"004\",\"005\",\"007\",\"008\",\"009\",\"010\",\"011\",\"012\",\"013\",\"014\",\n",
    "         \"016\",\"017\",\"018\",\"019\",\"020\",\"022\",\"023\",\"024\",\"025\",\"027\"]\n",
    "\n",
    "for pair_n in pairs:\n",
    "    folder = f\"/Users/aliaksandrdabranau/Data/Mirror_game/pair{pair_n}\"\n",
    "    \n",
    "    ### loading the data\n",
    "    filtered_a = mne.io.read_raw_fif(pathlib.Path(folder+f'/{pair_n}a_filtered_nobad_raw.fif'))\n",
    "    filtered_b = mne.io.read_raw_fif(pathlib.Path(folder+f'/{pair_n}b_filtered_nobad_raw.fif'))\n",
    "    \n",
    "    ### running ICA and saving\n",
    "    number_a = len(filtered_a.info[\"chs\"])-(len(filtered_a.info[\"bads\"])+1)\n",
    "    ica_a = ICA(n_components=number_a, max_iter='auto', random_state=100, method='infomax', fit_params=dict(extended=True))\n",
    "    ica_a.fit(filtered_a)\n",
    "    ica_a.save(pathlib.Path(folder+f'/{pair_n}a_ica.fif'), overwrite=True, verbose=False)\n",
    "    \n",
    "    number_b = len(filtered_b.info[\"chs\"])-(len(filtered_b.info[\"bads\"])+1)\n",
    "    ica_b = ICA(n_components=number_b, max_iter='auto', random_state=200, method='infomax', fit_params=dict(extended=True))\n",
    "    ica_b.fit(filtered_b)\n",
    "    ica_b.save(pathlib.Path(folder+f'/{pair_n}b_ica.fif'), overwrite=True, verbose=False)"
   ]
  },
  {
   "cell_type": "code",
   "execution_count": 1,
   "id": "c9889475",
   "metadata": {},
   "outputs": [],
   "source": [
    "### Part 2: Removing components and applying ICA projections.\n",
    "### Here the preprocessing is again performed one by one"
   ]
  },
  {
   "cell_type": "markdown",
   "id": "6aae4595",
   "metadata": {},
   "source": [
    "    Log:\n",
    "    003a – 6 components (000,002 - eyes, 008 - clear electrode noise, 021,026,030 – clear muscle noise).\n",
    "    003b – 5 components (000,004 - eyes, 013,015 - channel noise)\n",
    "    004a - 6 components (000, 001, 002 -, 015 - a clear muscle component with very little brain activit, 21 - unknown origin but clearly not brain activity, and 058 - channel noise)\n",
    "    004b - 11 components (001,009 - eyes, 000,002,003,004,005,007,008,011,018 - electrode pop)\n",
    "    005a – 2 components (000,001 - eyes)\n",
    "    005b - 5 components (000,001,002,003 - eyes, 010 - clear muscle noise)\n",
    "    007a - 3 components (000,001 - eyes, 030 - clear muscle)\n",
    "    007b - 3 components (000,002 - eyes, 019 - muscle)\n",
    "    008a - 5 components (000,001,005 - eyes, 016,019 - muscle)\n",
    "    008b - 5 components (000,001,002,004 - eyes, 010 - muscle)\n",
    "    009a - 8 components (000,001,006,008 - eyes, 011,013,016 - muscle, 028 - electrode pop)\n",
    "    009b - 5 components (000,001,002,003 - eyes, 009 - ears)\n",
    "    010a - 6 components (000,001,002,003 - eyes, 018,020 - electrode noise)\n",
    "    010b - 10 components (000 - eyes, 003,006,007,009,011,013,017,022 - muscle, 026 - electrode pop)\n",
    "    011a - 6 components (000,002 - eyes, 014,017,028 - muscle, 023 - electrode pop)\n",
    "    011b - 5 components (000,001 - eyes, 010,018,031 - muscle)\n",
    "    012a - 7 components (000,001 - eyes, 002,004 - heart, 012,013,016 - muscle)\n",
    "    012b - 8 components (000,004 - eyes, 002,005 - electrode, 007,014,017,018 - muscle)\n",
    "    013a - 8 components (000,001 - eyes, 006 - heart, 007,009,014,017,018 - muscle)\n",
    "    013b - 7 components (000,001,002,003,005 - eyes, 013,016 - electrode)\n",
    "    014a - 5 components (000,001,003,004 - eyes, 010 - electrode)\n",
    "    014b - 4 components (000,002 - eyes, 006,015 - muscle)\n",
    "    016a - 4 components (000,001 - eyes, 036 - muscle, 039 - electrode pop)\n",
    "    016b - 7 components (000,001 - eye, 003,004 - eye, 007 - electrode pop, 011,022 - muscle)\n",
    "    017a - 4 components (000,001 - eyes, 009 - electrode pop, 023 - muscle)\n",
    "    017b - 7 components (000,001,002 - eyes, 004 - electrode pop, 010, 018,019 - muscle)\n",
    "    018a - 10 components (000,002 - eyes, 003 - electrode pop, 007,009,013,014,017,018,021 - muscle)\n",
    "    018b - 6 components (000,002 - eye, 006,007,010,012 - muscle)\n",
    "    019a - 4 components (000,003 - eyes, 006,013 - muscle)\n",
    "    019b - 6 components (001,002,004,005 - eyes, 016 - muscle, 025 - channel noise)\n",
    "    020a - 7 components (000,004,019 - eyes, 001,002 - electrode pop, 008,016 - muscle)\n",
    "    020b - 5 components (000,004 - eye, 002,016,025 - electrode)\n",
    "    022a - 3 components (000,002 - eyes, 017 - muscle)\n",
    "    022b - 5 components (000,001,010,011 - eyes, 014 - muscle)\n",
    "    023a - 5 components (000,001 - eyes, 013,015 - electrode pop, 028 - muscle)\n",
    "    023b - 8 components (001 - eye,009,016,018,019,029,022 - muscle,044 - channel noise)\n",
    "    024a - 4 components (000,004 - eyes, 015,025 - muscle)\n",
    "    024b - 9 components (000,001 - eyes, 002,005,006,010,012,014 - electrode pop, 017 - muscle)\n",
    "    025a - 4 components (000,003 - eyes, 004,016 - electrode pop)\n",
    "    025b - 10 components (000,002 - eyes, 001,003,004 - electrode pop, 006,009,014,017,039 - muscle) \n",
    "    027a - 6 components (000,003 - eyes, 007 - heart,008,015,017 - muscle)\n",
    "    027b - 7 components (000,001 - eyes, 012,013,015,016,022 - muscle)\n",
    "    \n",
    "    6 components on average"
   ]
  },
  {
   "cell_type": "code",
   "execution_count": 2,
   "id": "f3eaa38e",
   "metadata": {},
   "outputs": [],
   "source": [
    "pair_n = \"004\"\n",
    "folder = f\"/Users/aliaksandrdabranau/Data/Mirror_game/pair{pair_n}\""
   ]
  },
  {
   "cell_type": "code",
   "execution_count": 5,
   "id": "e82a170a",
   "metadata": {},
   "outputs": [
    {
     "name": "stdout",
     "output_type": "stream",
     "text": [
      "Reading /Users/aliaksandrdabranau/Data/Mirror_game/pair023/023a_1_ica.fif ...\n",
      "Now restoring ICA solution ...\n",
      "Ready.\n",
      "Opening raw data file /Users/aliaksandrdabranau/Data/Mirror_game/pair023/023a_filtered_nobad_raw.fif...\n",
      "    Range : 0 ... 6516736 =      0.000 ...  3182.000 secs\n",
      "Ready.\n",
      "Reading 0 ... 6516736  =      0.000 ...  3182.000 secs...\n",
      "Creating RawArray with float64 data, n_channels=63, n_times=6516737\n",
      "    Range : 0 ... 6516736 =      0.000 ...  3182.000 secs\n",
      "Ready.\n"
     ]
    },
    {
     "data": {
      "text/plain": [
       "<MNEBrowseFigure size 1600x1370 with 4 Axes>"
      ]
     },
     "execution_count": 5,
     "metadata": {},
     "output_type": "execute_result"
    },
    {
     "name": "stdout",
     "output_type": "stream",
     "text": [
      "    Using multitaper spectrum estimation with 7 DPSS windows\n",
      "Not setting metadata\n",
      "1591 matching events found\n",
      "No baseline correction applied\n",
      "0 projection items activated\n",
      "    Using multitaper spectrum estimation with 7 DPSS windows\n",
      "Not setting metadata\n",
      "1591 matching events found\n",
      "No baseline correction applied\n",
      "0 projection items activated\n",
      "    Using multitaper spectrum estimation with 7 DPSS windows\n",
      "Not setting metadata\n",
      "1591 matching events found\n",
      "No baseline correction applied\n",
      "0 projection items activated\n",
      "    Using multitaper spectrum estimation with 7 DPSS windows\n",
      "Not setting metadata\n",
      "1591 matching events found\n",
      "No baseline correction applied\n",
      "0 projection items activated\n"
     ]
    }
   ],
   "source": [
    "### Subject A\n",
    "\n",
    "### loading the files\n",
    "ica_a = mne.preprocessing.read_ica(pathlib.Path(folder+f'/{pair_n}a_1_ica.fif'))\n",
    "filtered_a = mne.io.read_raw_fif(pathlib.Path(folder+f'/{pair_n}a_filtered_nobad_raw.fif'))\n",
    "\n",
    "### examining the components\n",
    "filtered_a.load_data()\n",
    "ica_a.plot_sources(filtered_a, show_scrollbars=True)"
   ]
  },
  {
   "cell_type": "code",
   "execution_count": 6,
   "id": "37455181",
   "metadata": {},
   "outputs": [
    {
     "name": "stdout",
     "output_type": "stream",
     "text": [
      "Applying ICA to Raw instance\n",
      "    Transforming to ICA space (63 components)\n",
      "    Zeroing out 5 ICA components\n",
      "    Projecting back using 63 PCA components\n"
     ]
    }
   ],
   "source": [
    "### applying the projection and saving\n",
    "filtered_a_clean = filtered_a.copy()\n",
    "ica_a.apply(filtered_a_clean)\n",
    "filtered_a_clean.save(pathlib.Path(folder+f'/{pair_n}a_clean_raw.fif'), overwrite=True, verbose=False)"
   ]
  },
  {
   "cell_type": "code",
   "execution_count": 7,
   "id": "1e33e01e",
   "metadata": {},
   "outputs": [
    {
     "data": {
      "text/plain": [
       "<MNEBrowseFigure size 1600x1370 with 4 Axes>"
      ]
     },
     "execution_count": 7,
     "metadata": {},
     "output_type": "execute_result"
    },
    {
     "name": "stdout",
     "output_type": "stream",
     "text": [
      "Channels marked as bad:\n",
      "['PO3']\n",
      "Channels marked as bad:\n",
      "['PO3']\n"
     ]
    }
   ],
   "source": [
    "filtered_a_clean.plot(title='clean')\n",
    "filtered_a.plot(title='dirty')"
   ]
  },
  {
   "cell_type": "code",
   "execution_count": 3,
   "id": "a72b927d",
   "metadata": {},
   "outputs": [
    {
     "name": "stdout",
     "output_type": "stream",
     "text": [
      "Reading /Users/aliaksandrdabranau/Data/Mirror_game/pair004/004b_ica.fif ...\n",
      "Now restoring ICA solution ...\n",
      "Ready.\n",
      "Opening raw data file /Users/aliaksandrdabranau/Data/Mirror_game/pair004/004b_filtered_raw.fif...\n",
      "Isotrak not found\n",
      "    Range : 0 ... 6586367 =      0.000 ...  3216.000 secs\n",
      "Ready.\n",
      "Reading 0 ... 6586367  =      0.000 ...  3216.000 secs...\n",
      "Creating RawArray with float64 data, n_channels=64, n_times=6586368\n",
      "    Range : 0 ... 6586367 =      0.000 ...  3216.000 secs\n",
      "Ready.\n",
      "Using matplotlib as 2D backend.\n"
     ]
    },
    {
     "data": {
      "text/plain": [
       "<MNEBrowseFigure size 1600x1370 with 4 Axes>"
      ]
     },
     "execution_count": 3,
     "metadata": {},
     "output_type": "execute_result"
    },
    {
     "name": "stdout",
     "output_type": "stream",
     "text": [
      "    Using multitaper spectrum estimation with 7 DPSS windows\n",
      "Not setting metadata\n",
      "1608 matching events found\n",
      "No baseline correction applied\n",
      "0 projection items activated\n",
      "    Using multitaper spectrum estimation with 7 DPSS windows\n",
      "Not setting metadata\n",
      "1608 matching events found\n",
      "No baseline correction applied\n",
      "0 projection items activated\n",
      "    Using multitaper spectrum estimation with 7 DPSS windows\n",
      "Not setting metadata\n",
      "1608 matching events found\n",
      "No baseline correction applied\n",
      "0 projection items activated\n",
      "    Using multitaper spectrum estimation with 7 DPSS windows\n",
      "Not setting metadata\n",
      "1608 matching events found\n",
      "No baseline correction applied\n",
      "0 projection items activated\n",
      "    Using multitaper spectrum estimation with 7 DPSS windows\n",
      "Not setting metadata\n",
      "1608 matching events found\n",
      "No baseline correction applied\n",
      "0 projection items activated\n",
      "    Using multitaper spectrum estimation with 7 DPSS windows\n",
      "Not setting metadata\n",
      "1608 matching events found\n",
      "No baseline correction applied\n",
      "0 projection items activated\n",
      "    Using multitaper spectrum estimation with 7 DPSS windows\n",
      "Not setting metadata\n",
      "1608 matching events found\n",
      "No baseline correction applied\n",
      "0 projection items activated\n",
      "    Using multitaper spectrum estimation with 7 DPSS windows\n",
      "Not setting metadata\n",
      "1608 matching events found\n",
      "No baseline correction applied\n",
      "0 projection items activated\n"
     ]
    }
   ],
   "source": [
    "### Subject B\n",
    "\n",
    "### loading the files\n",
    "ica_b = mne.preprocessing.read_ica(pathlib.Path(folder+f'/{pair_n}b_ica.fif'))\n",
    "filtered_b = mne.io.read_raw_fif(pathlib.Path(folder+f'/{pair_n}b_filtered_raw.fif'))\n",
    "\n",
    "### examining the components\n",
    "filtered_b.load_data()\n",
    "ica_b.plot_sources(filtered_b, show_scrollbars=True)"
   ]
  },
  {
   "cell_type": "code",
   "execution_count": 4,
   "id": "6e91c68a",
   "metadata": {},
   "outputs": [
    {
     "name": "stdout",
     "output_type": "stream",
     "text": [
      "Applying ICA to Raw instance\n",
      "    Transforming to ICA space (64 components)\n",
      "    Zeroing out 11 ICA components\n",
      "    Projecting back using 64 PCA components\n"
     ]
    }
   ],
   "source": [
    "### applying the projection and saving\n",
    "filtered_b_clean = filtered_b.copy()\n",
    "ica_b.apply(filtered_b_clean)\n",
    "filtered_b_clean.save(pathlib.Path(folder+f'/{pair_n}b_clean_raw.fif'), overwrite=True, verbose=False)"
   ]
  },
  {
   "cell_type": "code",
   "execution_count": 5,
   "id": "4a801737",
   "metadata": {},
   "outputs": [
    {
     "data": {
      "text/plain": [
       "<MNEBrowseFigure size 1600x1370 with 4 Axes>"
      ]
     },
     "execution_count": 5,
     "metadata": {},
     "output_type": "execute_result"
    },
    {
     "name": "stdout",
     "output_type": "stream",
     "text": [
      "Channels marked as bad:\n",
      "none\n",
      "Channels marked as bad:\n",
      "none\n"
     ]
    }
   ],
   "source": [
    "filtered_b_clean.plot(title='clean')\n",
    "filtered_b.plot(title='dirty')"
   ]
  },
  {
   "cell_type": "markdown",
   "id": "d3e254b2",
   "metadata": {},
   "source": [
    "<div class=\"alert alert-info\">\n",
    "    <p><b>— Epoching: pre-stimulus period = 2 s, activity period = 25 s. No baseline correction</b><br>\n",
    "       <b>— Downsampling to 256 Hz</b></p>\n",
    "\n",
    "</div>"
   ]
  },
  {
   "cell_type": "code",
   "execution_count": 38,
   "id": "e473b5bd",
   "metadata": {},
   "outputs": [
    {
     "name": "stdout",
     "output_type": "stream",
     "text": [
      "Opening raw data file /Users/aliaksandrdabranau/Data/Mirror_game/pair025/025b_clean_raw.fif...\n",
      "    Range : 0 ... 4302848 =      0.000 ...  2101.000 secs\n",
      "Ready.\n"
     ]
    }
   ],
   "source": [
    "event_names_a = {\n",
    "    'rest': 101,\n",
    "    'individual': 102,\n",
    "    'coupled': 103,\n",
    "    'actor': 106,\n",
    "    'observer': 104,\n",
    "    'leader':107,\n",
    "    'follower':105,\n",
    "    'control': 108\n",
    "}\n",
    "\n",
    "\n",
    "event_names_b = {\n",
    "    'rest': 101,\n",
    "    'individual': 102,\n",
    "    'coupled': 103,\n",
    "    'actor': 104,\n",
    "    'observer': 106,\n",
    "    'leader':105,\n",
    "    'follower':107,\n",
    "    'control': 108\n",
    "}\n",
    "\n",
    "pairs = [\"003\",\"004\",\"005\",\"007\",\"008\",\"009\",\"010\",\"011\",\"012\",\"013\",\"014\",\n",
    "         \"016\",\"017\",\"018\",\"019\",\"020\",\"022\",\"023\",\"024\",\"025\",\"027\"]\n",
    "\n",
    "for pair_n in pairs:\n",
    "    folder = f\"/Users/aliaksandrdabranau/Data/Mirror_game/pair{pair_n}\"\n",
    "\n",
    "    clean_a = mne.io.read_raw_fif(pathlib.Path(folder+f'/{pair_n}a_clean_raw.fif'))\n",
    "    clean_b = mne.io.read_raw_fif(pathlib.Path(folder+f'/{pair_n}b_clean_raw.fif'))\n",
    "\n",
    "    events_mold = mne.find_events(clean_a, stim_channel = 'Status',verbose=False)\n",
    "    events = events_mold[1::2]\n",
    "\n",
    "    ### — subject A\n",
    "    epochs_a = mne.Epochs(clean_a,\n",
    "                    events=events,\n",
    "                    event_id=event_names_a,\n",
    "                    tmin=-2,\n",
    "                    tmax=25,\n",
    "                    baseline=None,\n",
    "                    preload=True,\n",
    "                    verbose=False)\n",
    "\n",
    "    epochs_res_a = epochs_a.resample(sfreq = 256)\n",
    "    epochs_res_a.save(pathlib.Path(folder+f'/{pair_n}a_res_epo.fif'), overwrite=True, verbose=False)\n",
    "\n",
    "    ### — subject B\n",
    "    epochs_b = mne.Epochs(clean_b,\n",
    "                    events=events,\n",
    "                    event_id=event_names_b,\n",
    "                    tmin=-2,\n",
    "                    tmax=25,\n",
    "                    baseline=None,\n",
    "                    preload=True,\n",
    "                    verbose=False)\n",
    "\n",
    "    epochs_res_b = epochs_b.resample(sfreq = 256)\n",
    "    epochs_res_b.save(pathlib.Path(folder+f'/{pair_n}b_res_epo.fif'), overwrite=True, verbose=False)"
   ]
  },
  {
   "cell_type": "markdown",
   "id": "9c3e6509",
   "metadata": {},
   "source": [
    "<div class=\"alert alert-info\">\n",
    "    <p><b>— Removing epochs if behavioral data shows movement in observation condiiton</b></p>\n",
    "\n",
    "</div>"
   ]
  },
  {
   "cell_type": "markdown",
   "id": "f7d9bbd2",
   "metadata": {},
   "source": [
    "    Log of dropped epochs:\n",
    "        003a - 12,62\n",
    "        003b - 49,58,67,80\n",
    "        003sum - 12,62,49,58,67,80\n",
    "        004a - 54,61,75\n",
    "        004b - 40,46\n",
    "        004sum - 54,61,75,40,46\n",
    "        005a - 12,52\n",
    "        005b - 39\n",
    "        005sum - 12,52,39\n",
    "        007a - 64\n",
    "        007b - 80\n",
    "        007sum - 64,80\n",
    "        008a - 32\n",
    "        008b - 80\n",
    "        008sum - 32,80\n",
    "        009a - 3\n",
    "        009b - nothing\n",
    "        009sum - 3\n",
    "        010a - 74\n",
    "        010b - nothing\n",
    "        010sum - 74\n",
    "        011a - 25,35,41,51,64,72\n",
    "        011b - nothing\n",
    "        011sum - 25,35,41,51,64,72\n",
    "        012a - 34,72\n",
    "        012b - 8,68\n",
    "        012sum - 34,72,8,68\n",
    "        013a - 4,34,65\n",
    "        013b - 27,50,79\n",
    "        013sum - 4,34,65,27,50,79\n",
    "        014a - 3\n",
    "        014b - 18,29\n",
    "        014sum - 3,18,29\n",
    "        016a - 24,61\n",
    "        016b - 29,49,59,70,80\n",
    "        016sum - 24,61,29,49,59,70,80\n",
    "        017a - 4,61,74\n",
    "        017b - 16,59\n",
    "        017sum - 4,61,74,16,59\n",
    "        018a - 2,72\n",
    "        018b - 48,57,70\n",
    "        018sum - 2,72,48,57,70\n",
    "        019a - 15\n",
    "        019b - nothing\n",
    "        019sum - 15\n",
    "        020a - nothing\n",
    "        020b - 29 (31), 67 (69)\n",
    "        020sum - 29,67\n",
    "        022a - 34,52\n",
    "        022b - nothing\n",
    "        022sum - 34,52\n",
    "        023a - 5,24,42,63\n",
    "        023b - nothing\n",
    "        023sum - 5,24,42,63\n",
    "        024a - 1\n",
    "        024b - 1, 49\n",
    "        024sum - 1,49\n",
    "        025a - 41,72\n",
    "        025b - 49,77\n",
    "        025sum - 41,49,72,77,54\n",
    "        027a - 1,24\n",
    "        027b - 19,27,37,48,57,68,78\n",
    "        027sum - 1,24,19,27,37,48,57,68,78\n",
    "        \n",
    "        \n",
    "        On average, 4.8% of epochs per participant have been removed"
   ]
  },
  {
   "cell_type": "code",
   "execution_count": 91,
   "id": "7ef6f59e",
   "metadata": {},
   "outputs": [],
   "source": [
    "pair_n = \"004\"\n",
    "folder = f\"/Users/aliaksandrdabranau/Data/Mirror_game/pair{pair_n}\"\n",
    "\n",
    "epochs_a = mne.read_epochs(pathlib.Path(folder+f'/{pair_n}a_res_epo.fif'), verbose=False)\n",
    "epochs_b = mne.read_epochs(pathlib.Path(folder+f'/{pair_n}b_res_epo.fif'), verbose=False)"
   ]
  },
  {
   "cell_type": "code",
   "execution_count": 77,
   "id": "3c646faa",
   "metadata": {},
   "outputs": [
    {
     "name": "stdout",
     "output_type": "stream",
     "text": [
      "Dropped 9 epochs: 1, 19, 24, 27, 37, 48, 57, 68, 78\n"
     ]
    }
   ],
   "source": [
    "epochs_a.drop([54,61,75,40,46])\n",
    "epochs_a.save(pathlib.Path(folder+f'/{pair_n}a_beh_epo.fif'), overwrite=True, verbose=False)"
   ]
  },
  {
   "cell_type": "code",
   "execution_count": 96,
   "id": "122e14f0",
   "metadata": {},
   "outputs": [
    {
     "name": "stdout",
     "output_type": "stream",
     "text": [
      "Dropped 5 epochs: 40, 46, 54, 61, 75\n"
     ]
    }
   ],
   "source": [
    "epochs_b.drop([54,61,75,40,46])\n",
    "epochs_b.save(pathlib.Path(folder+f'/{pair_n}b_beh_epo.fif'), overwrite=True, verbose=False)"
   ]
  },
  {
   "cell_type": "code",
   "execution_count": 67,
   "id": "f388b510",
   "metadata": {},
   "outputs": [
    {
     "name": "stdout",
     "output_type": "stream",
     "text": [
      "Opening raw data file /Users/aliaksandrdabranau/Data/Mirror_game/pair020/020a_clean_raw.fif...\n",
      "    Range : 0 ... 6651903 =      0.000 ...  3248.000 secs\n",
      "Ready.\n"
     ]
    }
   ],
   "source": [
    "### Loading events and event names again\n",
    "\n",
    "clean_a = mne.io.read_raw_fif(pathlib.Path(folder+f'/{pair_n}a_clean_raw.fif'))\n",
    "clean_b = mne.io.read_raw_fif(pathlib.Path(folder+f'/{pair_n}b_clean_raw.fif'))\n",
    "\n",
    "events_mold = mne.find_events(clean_a, stim_channel = 'Status',verbose=False)\n",
    "events = events_mold[1::2]\n",
    "\n",
    "### subject A\n",
    "event_names_a = {\n",
    "    'rest': 101,\n",
    "    'individual': 102,\n",
    "    'coupled': 103,\n",
    "    'actor': 106,\n",
    "    'observer': 104,\n",
    "    'leader':107,\n",
    "    'follower':105,\n",
    "    'control': 108\n",
    "}\n",
    "\n",
    "event_names_b = {\n",
    "    'rest': 101,\n",
    "    'individual': 102,\n",
    "    'coupled': 103,\n",
    "    'actor': 104,\n",
    "    'observer': 106,\n",
    "    'leader':105,\n",
    "    'follower':107,\n",
    "    'control': 108\n",
    "}"
   ]
  },
  {
   "cell_type": "markdown",
   "id": "890c049d",
   "metadata": {},
   "source": [
    "<div class=\"alert alert-info\">\n",
    "    <p><b>— Referencing: <br>(1) Average, <br>(2) Infinity, <br>(3) Laplacian</b>\n",
    "    <br><br><b>— Interpolating bad channels</b></p>\n",
    "\n",
    "</div>"
   ]
  },
  {
   "cell_type": "code",
   "execution_count": 79,
   "id": "97b36759",
   "metadata": {},
   "outputs": [],
   "source": [
    "pairs = [\"003\",\"004\",\"005\",\"007\",\"008\",\"009\",\"010\",\"011\",\"012\",\"013\",\"014\",\n",
    "         \"016\",\"017\",\"018\",\"019\",\"020\",\"022\",\"023\",\"024\",\"025\",\"027\"]"
   ]
  },
  {
   "cell_type": "code",
   "execution_count": 97,
   "id": "51146aeb",
   "metadata": {},
   "outputs": [
    {
     "name": "stdout",
     "output_type": "stream",
     "text": [
      "EEG channel type selected for re-referencing\n",
      "Applying average reference.\n",
      "Applying a custom ('EEG',) reference.\n",
      "Interpolating bad channels\n",
      "    Automatic origin fit: head of radius 95.0 mm\n",
      "Computing interpolation matrix from 63 sensor positions\n",
      "Interpolating 1 sensors\n",
      "Fitted sphere radius:         95.0 mm\n",
      "Origin head coordinates:      0.0 -0.0 40.1 mm\n",
      "Origin device coordinates:    0.0 -0.0 40.1 mm\n",
      "Fitted sphere radius:         95.0 mm\n",
      "Origin head coordinates:      0.0 -0.0 40.1 mm\n",
      "Origin device coordinates:    0.0 -0.0 40.1 mm\n",
      "\n",
      "Equiv. model fitting -> RV = 0.00491618 %\n",
      "mu1 = 0.94375    lambda1 = 0.13988\n",
      "mu2 = 0.662436    lambda2 = 0.696795\n",
      "mu3 = 0.290512    lambda3 = -0.0263051\n",
      "Set up EEG sphere model with scalp radius    95.0 mm\n",
      "\n",
      "Sphere                : origin at (0.0 -0.0 40.1) mm\n",
      "              radius  : 85.5 mm\n",
      "grid                  : 5.0 mm\n",
      "mindist               : 5.0 mm\n",
      "\n",
      "Setting up the sphere...\n",
      "Surface CM = (   0.0   -0.0   40.1) mm\n",
      "Surface fits inside a sphere with radius   85.5 mm\n",
      "Surface extent:\n",
      "    x =  -85.5 ...   85.5 mm\n",
      "    y =  -85.5 ...   85.5 mm\n",
      "    z =  -45.4 ...  125.6 mm\n",
      "Grid extent:\n",
      "    x =  -90.0 ...   90.0 mm\n",
      "    y =  -90.0 ...   90.0 mm\n",
      "    z =  -50.0 ...  130.0 mm\n",
      "50653 sources before omitting any.\n",
      "20895 sources after omitting infeasible sources not within 0.0 - 85.5 mm.\n",
      "17437 sources remaining after excluding the sources outside the surface and less than    5.0 mm inside.\n",
      "Adjusting the neighborhood info.\n",
      "Source space : MRI voxel -> MRI (surface RAS)\n",
      "     0.005000  0.000000  0.000000     -90.00 mm\n",
      "     0.000000  0.005000  0.000000     -90.00 mm\n",
      "     0.000000  0.000000  0.005000     -50.00 mm\n",
      "     0.000000  0.000000  0.000000       1.00\n",
      "Source space          : <SourceSpaces: [<discrete, n_used=17437>] MRI (surface RAS) coords, ~12.6 MB>\n",
      "MRI -> head transform : identity\n",
      "Measurement data      : instance of Info\n",
      "Sphere model      : origin at [ 5.07590205e-09 -2.27468297e-08  4.01488980e-02] mm\n",
      "Standard field computations\n",
      "Do computations in head coordinates\n",
      "Free source orientations\n",
      "\n",
      "Read 1 source spaces a total of 17437 active source locations\n",
      "\n",
      "Coordinate transformation: MRI (surface RAS) -> head\n",
      "     1.000000  0.000000  0.000000       0.00 mm\n",
      "     0.000000  1.000000  0.000000       0.00 mm\n",
      "     0.000000  0.000000  1.000000       0.00 mm\n",
      "     0.000000  0.000000  0.000000       1.00\n",
      "\n",
      "Read  64 EEG channels from info\n",
      "Head coordinate coil definitions created.\n",
      "Source spaces are now in head coordinates.\n",
      "\n",
      "Using the sphere model.\n",
      "\n",
      "Using the equivalent source approach in the homogeneous sphere for EEG\n",
      "Computing EEG at 17437 source locations (free orientations)...\n"
     ]
    },
    {
     "name": "stderr",
     "output_type": "stream",
     "text": [
      "[Parallel(n_jobs=1)]: Using backend SequentialBackend with 1 concurrent workers.\n"
     ]
    },
    {
     "name": "stdout",
     "output_type": "stream",
     "text": [
      "\n",
      "Finished.\n"
     ]
    },
    {
     "name": "stderr",
     "output_type": "stream",
     "text": [
      "[Parallel(n_jobs=1)]: Done   1 out of   1 | elapsed:    3.1s remaining:    0.0s\n",
      "[Parallel(n_jobs=1)]: Done   1 out of   1 | elapsed:    3.1s finished\n"
     ]
    },
    {
     "name": "stdout",
     "output_type": "stream",
     "text": [
      "EEG channel type selected for re-referencing\n",
      "Applying REST reference.\n",
      "Applying a custom ('EEG',) reference.\n",
      "    63 out of 64 channels remain after picking\n",
      "Interpolating bad channels\n",
      "    Automatic origin fit: head of radius 95.0 mm\n",
      "Computing interpolation matrix from 63 sensor positions\n",
      "Interpolating 1 sensors\n",
      "EEG channel type selected for re-referencing\n",
      "Applying average reference.\n",
      "Applying a custom ('EEG',) reference.\n",
      "Interpolating bad channels\n",
      "    Automatic origin fit: head of radius 95.0 mm\n",
      "Computing interpolation matrix from 62 sensor positions\n",
      "Interpolating 2 sensors\n",
      "Fitted sphere radius:         95.0 mm\n",
      "Origin head coordinates:      0.0 -0.0 40.1 mm\n",
      "Origin device coordinates:    0.0 -0.0 40.1 mm\n",
      "Fitted sphere radius:         95.0 mm\n",
      "Origin head coordinates:      0.0 -0.0 40.1 mm\n",
      "Origin device coordinates:    0.0 -0.0 40.1 mm\n",
      "\n",
      "Equiv. model fitting -> RV = 0.00491618 %\n",
      "mu1 = 0.94375    lambda1 = 0.13988\n",
      "mu2 = 0.662436    lambda2 = 0.696795\n",
      "mu3 = 0.290512    lambda3 = -0.0263051\n",
      "Set up EEG sphere model with scalp radius    95.0 mm\n",
      "\n",
      "Sphere                : origin at (0.0 -0.0 40.1) mm\n",
      "              radius  : 85.5 mm\n",
      "grid                  : 5.0 mm\n",
      "mindist               : 5.0 mm\n",
      "\n",
      "Setting up the sphere...\n",
      "Surface CM = (   0.0   -0.0   40.1) mm\n",
      "Surface fits inside a sphere with radius   85.5 mm\n",
      "Surface extent:\n",
      "    x =  -85.5 ...   85.5 mm\n",
      "    y =  -85.5 ...   85.5 mm\n",
      "    z =  -45.4 ...  125.6 mm\n",
      "Grid extent:\n",
      "    x =  -90.0 ...   90.0 mm\n",
      "    y =  -90.0 ...   90.0 mm\n",
      "    z =  -50.0 ...  130.0 mm\n",
      "50653 sources before omitting any.\n",
      "20895 sources after omitting infeasible sources not within 0.0 - 85.5 mm.\n",
      "17437 sources remaining after excluding the sources outside the surface and less than    5.0 mm inside.\n",
      "Adjusting the neighborhood info.\n",
      "Source space : MRI voxel -> MRI (surface RAS)\n",
      "     0.005000  0.000000  0.000000     -90.00 mm\n",
      "     0.000000  0.005000  0.000000     -90.00 mm\n",
      "     0.000000  0.000000  0.005000     -50.00 mm\n",
      "     0.000000  0.000000  0.000000       1.00\n",
      "Source space          : <SourceSpaces: [<discrete, n_used=17437>] MRI (surface RAS) coords, ~12.6 MB>\n",
      "MRI -> head transform : identity\n",
      "Measurement data      : instance of Info\n",
      "Sphere model      : origin at [ 5.07590205e-09 -2.27468297e-08  4.01488980e-02] mm\n",
      "Standard field computations\n",
      "Do computations in head coordinates\n",
      "Free source orientations\n",
      "\n",
      "Read 1 source spaces a total of 17437 active source locations\n",
      "\n",
      "Coordinate transformation: MRI (surface RAS) -> head\n",
      "     1.000000  0.000000  0.000000       0.00 mm\n",
      "     0.000000  1.000000  0.000000       0.00 mm\n",
      "     0.000000  0.000000  1.000000       0.00 mm\n",
      "     0.000000  0.000000  0.000000       1.00\n",
      "\n",
      "Read  64 EEG channels from info\n",
      "Head coordinate coil definitions created.\n",
      "Source spaces are now in head coordinates.\n",
      "\n",
      "Using the sphere model.\n",
      "\n",
      "Using the equivalent source approach in the homogeneous sphere for EEG\n",
      "Computing EEG at 17437 source locations (free orientations)...\n"
     ]
    },
    {
     "name": "stderr",
     "output_type": "stream",
     "text": [
      "[Parallel(n_jobs=1)]: Using backend SequentialBackend with 1 concurrent workers.\n"
     ]
    },
    {
     "name": "stdout",
     "output_type": "stream",
     "text": [
      "\n",
      "Finished.\n"
     ]
    },
    {
     "name": "stderr",
     "output_type": "stream",
     "text": [
      "[Parallel(n_jobs=1)]: Done   1 out of   1 | elapsed:    3.1s remaining:    0.0s\n",
      "[Parallel(n_jobs=1)]: Done   1 out of   1 | elapsed:    3.1s finished\n"
     ]
    },
    {
     "name": "stdout",
     "output_type": "stream",
     "text": [
      "EEG channel type selected for re-referencing\n",
      "Applying REST reference.\n",
      "Applying a custom ('EEG',) reference.\n",
      "    62 out of 64 channels remain after picking\n",
      "Interpolating bad channels\n",
      "    Automatic origin fit: head of radius 95.0 mm\n",
      "Computing interpolation matrix from 62 sensor positions\n",
      "Interpolating 2 sensors\n",
      "EEG channel type selected for re-referencing\n",
      "Applying average reference.\n",
      "Applying a custom ('EEG',) reference.\n"
     ]
    },
    {
     "name": "stderr",
     "output_type": "stream",
     "text": [
      "/var/folders/mq/knftmst16037tkq__p96znfh0000gn/T/ipykernel_82026/3955720515.py:11: RuntimeWarning: No bad channels to interpolate. Doing nothing...\n",
      "  epochs_a_ave.interpolate_bads(reset_bads=True, mode='accurate', origin='auto', method=None, exclude=(), verbose=None)\n"
     ]
    },
    {
     "name": "stdout",
     "output_type": "stream",
     "text": [
      "Fitted sphere radius:         95.0 mm\n",
      "Origin head coordinates:      0.0 -0.0 40.1 mm\n",
      "Origin device coordinates:    0.0 -0.0 40.1 mm\n",
      "Fitted sphere radius:         95.0 mm\n",
      "Origin head coordinates:      0.0 -0.0 40.1 mm\n",
      "Origin device coordinates:    0.0 -0.0 40.1 mm\n",
      "\n",
      "Equiv. model fitting -> RV = 0.00491618 %\n",
      "mu1 = 0.94375    lambda1 = 0.13988\n",
      "mu2 = 0.662436    lambda2 = 0.696795\n",
      "mu3 = 0.290512    lambda3 = -0.0263051\n",
      "Set up EEG sphere model with scalp radius    95.0 mm\n",
      "\n",
      "Sphere                : origin at (0.0 -0.0 40.1) mm\n",
      "              radius  : 85.5 mm\n",
      "grid                  : 5.0 mm\n",
      "mindist               : 5.0 mm\n",
      "\n",
      "Setting up the sphere...\n",
      "Surface CM = (   0.0   -0.0   40.1) mm\n",
      "Surface fits inside a sphere with radius   85.5 mm\n",
      "Surface extent:\n",
      "    x =  -85.5 ...   85.5 mm\n",
      "    y =  -85.5 ...   85.5 mm\n",
      "    z =  -45.4 ...  125.6 mm\n",
      "Grid extent:\n",
      "    x =  -90.0 ...   90.0 mm\n",
      "    y =  -90.0 ...   90.0 mm\n",
      "    z =  -50.0 ...  130.0 mm\n",
      "50653 sources before omitting any.\n",
      "20895 sources after omitting infeasible sources not within 0.0 - 85.5 mm.\n",
      "17437 sources remaining after excluding the sources outside the surface and less than    5.0 mm inside.\n",
      "Adjusting the neighborhood info.\n",
      "Source space : MRI voxel -> MRI (surface RAS)\n",
      "     0.005000  0.000000  0.000000     -90.00 mm\n",
      "     0.000000  0.005000  0.000000     -90.00 mm\n",
      "     0.000000  0.000000  0.005000     -50.00 mm\n",
      "     0.000000  0.000000  0.000000       1.00\n",
      "Source space          : <SourceSpaces: [<discrete, n_used=17437>] MRI (surface RAS) coords, ~12.6 MB>\n",
      "MRI -> head transform : identity\n",
      "Measurement data      : instance of Info\n",
      "Sphere model      : origin at [ 5.07590205e-09 -2.27468297e-08  4.01488980e-02] mm\n",
      "Standard field computations\n",
      "Do computations in head coordinates\n",
      "Free source orientations\n",
      "\n",
      "Read 1 source spaces a total of 17437 active source locations\n",
      "\n",
      "Coordinate transformation: MRI (surface RAS) -> head\n",
      "     1.000000  0.000000  0.000000       0.00 mm\n",
      "     0.000000  1.000000  0.000000       0.00 mm\n",
      "     0.000000  0.000000  1.000000       0.00 mm\n",
      "     0.000000  0.000000  0.000000       1.00\n",
      "\n",
      "Read  64 EEG channels from info\n",
      "Head coordinate coil definitions created.\n",
      "Source spaces are now in head coordinates.\n",
      "\n",
      "Using the sphere model.\n",
      "\n",
      "Using the equivalent source approach in the homogeneous sphere for EEG\n",
      "Computing EEG at 17437 source locations (free orientations)...\n"
     ]
    },
    {
     "name": "stderr",
     "output_type": "stream",
     "text": [
      "[Parallel(n_jobs=1)]: Using backend SequentialBackend with 1 concurrent workers.\n"
     ]
    },
    {
     "name": "stdout",
     "output_type": "stream",
     "text": [
      "\n",
      "Finished.\n"
     ]
    },
    {
     "name": "stderr",
     "output_type": "stream",
     "text": [
      "[Parallel(n_jobs=1)]: Done   1 out of   1 | elapsed:    3.1s remaining:    0.0s\n",
      "[Parallel(n_jobs=1)]: Done   1 out of   1 | elapsed:    3.1s finished\n"
     ]
    },
    {
     "name": "stdout",
     "output_type": "stream",
     "text": [
      "EEG channel type selected for re-referencing\n",
      "Applying REST reference.\n",
      "Applying a custom ('EEG',) reference.\n",
      "    64 out of 64 channels remain after picking\n"
     ]
    },
    {
     "name": "stderr",
     "output_type": "stream",
     "text": [
      "/var/folders/mq/knftmst16037tkq__p96znfh0000gn/T/ipykernel_82026/3955720515.py:23: RuntimeWarning: No bad channels to interpolate. Doing nothing...\n",
      "  epochs_a_rest.interpolate_bads(reset_bads=True, mode='accurate', origin='auto', method=None, exclude=(), verbose=None)\n"
     ]
    },
    {
     "name": "stdout",
     "output_type": "stream",
     "text": [
      "EEG channel type selected for re-referencing\n",
      "Applying average reference.\n",
      "Applying a custom ('EEG',) reference.\n"
     ]
    },
    {
     "name": "stderr",
     "output_type": "stream",
     "text": [
      "/var/folders/mq/knftmst16037tkq__p96znfh0000gn/T/ipykernel_82026/3955720515.py:33: RuntimeWarning: No bad channels to interpolate. Doing nothing...\n",
      "  epochs_b_ave.interpolate_bads(reset_bads=True, mode='accurate', origin='auto', method=None, exclude=(), verbose=None)\n"
     ]
    },
    {
     "name": "stdout",
     "output_type": "stream",
     "text": [
      "Fitted sphere radius:         95.0 mm\n",
      "Origin head coordinates:      0.0 -0.0 40.1 mm\n",
      "Origin device coordinates:    0.0 -0.0 40.1 mm\n",
      "Fitted sphere radius:         95.0 mm\n",
      "Origin head coordinates:      0.0 -0.0 40.1 mm\n",
      "Origin device coordinates:    0.0 -0.0 40.1 mm\n",
      "\n",
      "Equiv. model fitting -> RV = 0.00491618 %\n",
      "mu1 = 0.94375    lambda1 = 0.13988\n",
      "mu2 = 0.662436    lambda2 = 0.696795\n",
      "mu3 = 0.290512    lambda3 = -0.0263051\n",
      "Set up EEG sphere model with scalp radius    95.0 mm\n",
      "\n",
      "Sphere                : origin at (0.0 -0.0 40.1) mm\n",
      "              radius  : 85.5 mm\n",
      "grid                  : 5.0 mm\n",
      "mindist               : 5.0 mm\n",
      "\n",
      "Setting up the sphere...\n",
      "Surface CM = (   0.0   -0.0   40.1) mm\n",
      "Surface fits inside a sphere with radius   85.5 mm\n",
      "Surface extent:\n",
      "    x =  -85.5 ...   85.5 mm\n",
      "    y =  -85.5 ...   85.5 mm\n",
      "    z =  -45.4 ...  125.6 mm\n",
      "Grid extent:\n",
      "    x =  -90.0 ...   90.0 mm\n",
      "    y =  -90.0 ...   90.0 mm\n",
      "    z =  -50.0 ...  130.0 mm\n",
      "50653 sources before omitting any.\n",
      "20895 sources after omitting infeasible sources not within 0.0 - 85.5 mm.\n",
      "17437 sources remaining after excluding the sources outside the surface and less than    5.0 mm inside.\n",
      "Adjusting the neighborhood info.\n",
      "Source space : MRI voxel -> MRI (surface RAS)\n",
      "     0.005000  0.000000  0.000000     -90.00 mm\n",
      "     0.000000  0.005000  0.000000     -90.00 mm\n",
      "     0.000000  0.000000  0.005000     -50.00 mm\n",
      "     0.000000  0.000000  0.000000       1.00\n",
      "Source space          : <SourceSpaces: [<discrete, n_used=17437>] MRI (surface RAS) coords, ~12.6 MB>\n",
      "MRI -> head transform : identity\n",
      "Measurement data      : instance of Info\n",
      "Sphere model      : origin at [ 5.07590205e-09 -2.27468297e-08  4.01488980e-02] mm\n",
      "Standard field computations\n",
      "Do computations in head coordinates\n",
      "Free source orientations\n",
      "\n",
      "Read 1 source spaces a total of 17437 active source locations\n",
      "\n",
      "Coordinate transformation: MRI (surface RAS) -> head\n",
      "     1.000000  0.000000  0.000000       0.00 mm\n",
      "     0.000000  1.000000  0.000000       0.00 mm\n",
      "     0.000000  0.000000  1.000000       0.00 mm\n",
      "     0.000000  0.000000  0.000000       1.00\n",
      "\n",
      "Read  64 EEG channels from info\n",
      "Head coordinate coil definitions created.\n",
      "Source spaces are now in head coordinates.\n",
      "\n",
      "Using the sphere model.\n",
      "\n",
      "Using the equivalent source approach in the homogeneous sphere for EEG\n",
      "Computing EEG at 17437 source locations (free orientations)...\n"
     ]
    },
    {
     "name": "stderr",
     "output_type": "stream",
     "text": [
      "[Parallel(n_jobs=1)]: Using backend SequentialBackend with 1 concurrent workers.\n"
     ]
    },
    {
     "name": "stdout",
     "output_type": "stream",
     "text": [
      "\n",
      "Finished.\n",
      "EEG channel type selected for re-referencing\n",
      "Applying REST reference.\n",
      "Applying a custom ('EEG',) reference.\n"
     ]
    },
    {
     "name": "stderr",
     "output_type": "stream",
     "text": [
      "[Parallel(n_jobs=1)]: Done   1 out of   1 | elapsed:    3.0s remaining:    0.0s\n",
      "[Parallel(n_jobs=1)]: Done   1 out of   1 | elapsed:    3.0s finished\n"
     ]
    },
    {
     "name": "stdout",
     "output_type": "stream",
     "text": [
      "    64 out of 64 channels remain after picking\n"
     ]
    },
    {
     "name": "stderr",
     "output_type": "stream",
     "text": [
      "/var/folders/mq/knftmst16037tkq__p96znfh0000gn/T/ipykernel_82026/3955720515.py:45: RuntimeWarning: No bad channels to interpolate. Doing nothing...\n",
      "  epochs_b_rest.interpolate_bads(reset_bads=True, mode='accurate', origin='auto', method=None, exclude=(), verbose=None)\n"
     ]
    },
    {
     "name": "stdout",
     "output_type": "stream",
     "text": [
      "EEG channel type selected for re-referencing\n",
      "Applying average reference.\n",
      "Applying a custom ('EEG',) reference.\n"
     ]
    },
    {
     "name": "stderr",
     "output_type": "stream",
     "text": [
      "/var/folders/mq/knftmst16037tkq__p96znfh0000gn/T/ipykernel_82026/3955720515.py:11: RuntimeWarning: No bad channels to interpolate. Doing nothing...\n",
      "  epochs_a_ave.interpolate_bads(reset_bads=True, mode='accurate', origin='auto', method=None, exclude=(), verbose=None)\n"
     ]
    },
    {
     "name": "stdout",
     "output_type": "stream",
     "text": [
      "Fitted sphere radius:         95.0 mm\n",
      "Origin head coordinates:      0.0 -0.0 40.1 mm\n",
      "Origin device coordinates:    0.0 -0.0 40.1 mm\n",
      "Fitted sphere radius:         95.0 mm\n",
      "Origin head coordinates:      0.0 -0.0 40.1 mm\n",
      "Origin device coordinates:    0.0 -0.0 40.1 mm\n",
      "\n",
      "Equiv. model fitting -> RV = 0.00491618 %\n",
      "mu1 = 0.94375    lambda1 = 0.13988\n",
      "mu2 = 0.662436    lambda2 = 0.696795\n",
      "mu3 = 0.290512    lambda3 = -0.0263051\n",
      "Set up EEG sphere model with scalp radius    95.0 mm\n",
      "\n",
      "Sphere                : origin at (0.0 -0.0 40.1) mm\n",
      "              radius  : 85.5 mm\n",
      "grid                  : 5.0 mm\n",
      "mindist               : 5.0 mm\n",
      "\n",
      "Setting up the sphere...\n",
      "Surface CM = (   0.0   -0.0   40.1) mm\n",
      "Surface fits inside a sphere with radius   85.5 mm\n",
      "Surface extent:\n",
      "    x =  -85.5 ...   85.5 mm\n",
      "    y =  -85.5 ...   85.5 mm\n",
      "    z =  -45.4 ...  125.6 mm\n",
      "Grid extent:\n",
      "    x =  -90.0 ...   90.0 mm\n",
      "    y =  -90.0 ...   90.0 mm\n",
      "    z =  -50.0 ...  130.0 mm\n",
      "50653 sources before omitting any.\n",
      "20895 sources after omitting infeasible sources not within 0.0 - 85.5 mm.\n",
      "17437 sources remaining after excluding the sources outside the surface and less than    5.0 mm inside.\n",
      "Adjusting the neighborhood info.\n",
      "Source space : MRI voxel -> MRI (surface RAS)\n",
      "     0.005000  0.000000  0.000000     -90.00 mm\n",
      "     0.000000  0.005000  0.000000     -90.00 mm\n",
      "     0.000000  0.000000  0.005000     -50.00 mm\n",
      "     0.000000  0.000000  0.000000       1.00\n",
      "Source space          : <SourceSpaces: [<discrete, n_used=17437>] MRI (surface RAS) coords, ~12.6 MB>\n",
      "MRI -> head transform : identity\n",
      "Measurement data      : instance of Info\n",
      "Sphere model      : origin at [ 5.07590205e-09 -2.27468297e-08  4.01488980e-02] mm\n",
      "Standard field computations\n",
      "Do computations in head coordinates\n",
      "Free source orientations\n",
      "\n",
      "Read 1 source spaces a total of 17437 active source locations\n",
      "\n",
      "Coordinate transformation: MRI (surface RAS) -> head\n",
      "     1.000000  0.000000  0.000000       0.00 mm\n",
      "     0.000000  1.000000  0.000000       0.00 mm\n",
      "     0.000000  0.000000  1.000000       0.00 mm\n",
      "     0.000000  0.000000  0.000000       1.00\n",
      "\n",
      "Read  64 EEG channels from info\n",
      "Head coordinate coil definitions created.\n",
      "Source spaces are now in head coordinates.\n",
      "\n",
      "Using the sphere model.\n",
      "\n",
      "Using the equivalent source approach in the homogeneous sphere for EEG\n",
      "Computing EEG at 17437 source locations (free orientations)...\n"
     ]
    },
    {
     "name": "stderr",
     "output_type": "stream",
     "text": [
      "[Parallel(n_jobs=1)]: Using backend SequentialBackend with 1 concurrent workers.\n"
     ]
    },
    {
     "name": "stdout",
     "output_type": "stream",
     "text": [
      "\n",
      "Finished.\n",
      "EEG channel type selected for re-referencing\n",
      "Applying REST reference.\n",
      "Applying a custom ('EEG',) reference.\n"
     ]
    },
    {
     "name": "stderr",
     "output_type": "stream",
     "text": [
      "[Parallel(n_jobs=1)]: Done   1 out of   1 | elapsed:    3.1s remaining:    0.0s\n",
      "[Parallel(n_jobs=1)]: Done   1 out of   1 | elapsed:    3.1s finished\n"
     ]
    },
    {
     "name": "stdout",
     "output_type": "stream",
     "text": [
      "    64 out of 64 channels remain after picking\n"
     ]
    },
    {
     "name": "stderr",
     "output_type": "stream",
     "text": [
      "/var/folders/mq/knftmst16037tkq__p96znfh0000gn/T/ipykernel_82026/3955720515.py:23: RuntimeWarning: No bad channels to interpolate. Doing nothing...\n",
      "  epochs_a_rest.interpolate_bads(reset_bads=True, mode='accurate', origin='auto', method=None, exclude=(), verbose=None)\n"
     ]
    },
    {
     "name": "stdout",
     "output_type": "stream",
     "text": [
      "EEG channel type selected for re-referencing\n",
      "Applying average reference.\n",
      "Applying a custom ('EEG',) reference.\n"
     ]
    },
    {
     "name": "stderr",
     "output_type": "stream",
     "text": [
      "/var/folders/mq/knftmst16037tkq__p96znfh0000gn/T/ipykernel_82026/3955720515.py:33: RuntimeWarning: No bad channels to interpolate. Doing nothing...\n",
      "  epochs_b_ave.interpolate_bads(reset_bads=True, mode='accurate', origin='auto', method=None, exclude=(), verbose=None)\n"
     ]
    },
    {
     "name": "stdout",
     "output_type": "stream",
     "text": [
      "Fitted sphere radius:         95.0 mm\n",
      "Origin head coordinates:      0.0 -0.0 40.1 mm\n",
      "Origin device coordinates:    0.0 -0.0 40.1 mm\n",
      "Fitted sphere radius:         95.0 mm\n",
      "Origin head coordinates:      0.0 -0.0 40.1 mm\n",
      "Origin device coordinates:    0.0 -0.0 40.1 mm\n",
      "\n",
      "Equiv. model fitting -> RV = 0.00491618 %\n",
      "mu1 = 0.94375    lambda1 = 0.13988\n",
      "mu2 = 0.662436    lambda2 = 0.696795\n",
      "mu3 = 0.290512    lambda3 = -0.0263051\n",
      "Set up EEG sphere model with scalp radius    95.0 mm\n",
      "\n",
      "Sphere                : origin at (0.0 -0.0 40.1) mm\n",
      "              radius  : 85.5 mm\n",
      "grid                  : 5.0 mm\n",
      "mindist               : 5.0 mm\n",
      "\n",
      "Setting up the sphere...\n",
      "Surface CM = (   0.0   -0.0   40.1) mm\n",
      "Surface fits inside a sphere with radius   85.5 mm\n",
      "Surface extent:\n",
      "    x =  -85.5 ...   85.5 mm\n",
      "    y =  -85.5 ...   85.5 mm\n",
      "    z =  -45.4 ...  125.6 mm\n",
      "Grid extent:\n",
      "    x =  -90.0 ...   90.0 mm\n",
      "    y =  -90.0 ...   90.0 mm\n",
      "    z =  -50.0 ...  130.0 mm\n",
      "50653 sources before omitting any.\n",
      "20895 sources after omitting infeasible sources not within 0.0 - 85.5 mm.\n",
      "17437 sources remaining after excluding the sources outside the surface and less than    5.0 mm inside.\n",
      "Adjusting the neighborhood info.\n",
      "Source space : MRI voxel -> MRI (surface RAS)\n",
      "     0.005000  0.000000  0.000000     -90.00 mm\n",
      "     0.000000  0.005000  0.000000     -90.00 mm\n",
      "     0.000000  0.000000  0.005000     -50.00 mm\n",
      "     0.000000  0.000000  0.000000       1.00\n",
      "Source space          : <SourceSpaces: [<discrete, n_used=17437>] MRI (surface RAS) coords, ~12.6 MB>\n",
      "MRI -> head transform : identity\n",
      "Measurement data      : instance of Info\n",
      "Sphere model      : origin at [ 5.07590205e-09 -2.27468297e-08  4.01488980e-02] mm\n",
      "Standard field computations\n",
      "Do computations in head coordinates\n",
      "Free source orientations\n",
      "\n",
      "Read 1 source spaces a total of 17437 active source locations\n",
      "\n",
      "Coordinate transformation: MRI (surface RAS) -> head\n",
      "     1.000000  0.000000  0.000000       0.00 mm\n",
      "     0.000000  1.000000  0.000000       0.00 mm\n",
      "     0.000000  0.000000  1.000000       0.00 mm\n",
      "     0.000000  0.000000  0.000000       1.00\n",
      "\n",
      "Read  64 EEG channels from info\n",
      "Head coordinate coil definitions created.\n",
      "Source spaces are now in head coordinates.\n",
      "\n",
      "Using the sphere model.\n",
      "\n",
      "Using the equivalent source approach in the homogeneous sphere for EEG\n",
      "Computing EEG at 17437 source locations (free orientations)...\n"
     ]
    },
    {
     "name": "stderr",
     "output_type": "stream",
     "text": [
      "[Parallel(n_jobs=1)]: Using backend SequentialBackend with 1 concurrent workers.\n"
     ]
    },
    {
     "name": "stdout",
     "output_type": "stream",
     "text": [
      "\n",
      "Finished.\n",
      "EEG channel type selected for re-referencing\n",
      "Applying REST reference.\n",
      "Applying a custom ('EEG',) reference.\n"
     ]
    },
    {
     "name": "stderr",
     "output_type": "stream",
     "text": [
      "[Parallel(n_jobs=1)]: Done   1 out of   1 | elapsed:    3.1s remaining:    0.0s\n",
      "[Parallel(n_jobs=1)]: Done   1 out of   1 | elapsed:    3.1s finished\n"
     ]
    },
    {
     "name": "stdout",
     "output_type": "stream",
     "text": [
      "    64 out of 64 channels remain after picking\n"
     ]
    },
    {
     "name": "stderr",
     "output_type": "stream",
     "text": [
      "/var/folders/mq/knftmst16037tkq__p96znfh0000gn/T/ipykernel_82026/3955720515.py:45: RuntimeWarning: No bad channels to interpolate. Doing nothing...\n",
      "  epochs_b_rest.interpolate_bads(reset_bads=True, mode='accurate', origin='auto', method=None, exclude=(), verbose=None)\n"
     ]
    },
    {
     "name": "stdout",
     "output_type": "stream",
     "text": [
      "EEG channel type selected for re-referencing\n",
      "Applying average reference.\n",
      "Applying a custom ('EEG',) reference.\n"
     ]
    },
    {
     "name": "stderr",
     "output_type": "stream",
     "text": [
      "/var/folders/mq/knftmst16037tkq__p96znfh0000gn/T/ipykernel_82026/3955720515.py:11: RuntimeWarning: No bad channels to interpolate. Doing nothing...\n",
      "  epochs_a_ave.interpolate_bads(reset_bads=True, mode='accurate', origin='auto', method=None, exclude=(), verbose=None)\n"
     ]
    },
    {
     "name": "stdout",
     "output_type": "stream",
     "text": [
      "Fitted sphere radius:         95.0 mm\n",
      "Origin head coordinates:      0.0 -0.0 40.1 mm\n",
      "Origin device coordinates:    0.0 -0.0 40.1 mm\n",
      "Fitted sphere radius:         95.0 mm\n",
      "Origin head coordinates:      0.0 -0.0 40.1 mm\n",
      "Origin device coordinates:    0.0 -0.0 40.1 mm\n",
      "\n",
      "Equiv. model fitting -> RV = 0.00491618 %\n",
      "mu1 = 0.94375    lambda1 = 0.13988\n",
      "mu2 = 0.662436    lambda2 = 0.696795\n",
      "mu3 = 0.290512    lambda3 = -0.0263051\n",
      "Set up EEG sphere model with scalp radius    95.0 mm\n",
      "\n",
      "Sphere                : origin at (0.0 -0.0 40.1) mm\n",
      "              radius  : 85.5 mm\n",
      "grid                  : 5.0 mm\n",
      "mindist               : 5.0 mm\n",
      "\n",
      "Setting up the sphere...\n",
      "Surface CM = (   0.0   -0.0   40.1) mm\n",
      "Surface fits inside a sphere with radius   85.5 mm\n",
      "Surface extent:\n",
      "    x =  -85.5 ...   85.5 mm\n",
      "    y =  -85.5 ...   85.5 mm\n",
      "    z =  -45.4 ...  125.6 mm\n",
      "Grid extent:\n",
      "    x =  -90.0 ...   90.0 mm\n",
      "    y =  -90.0 ...   90.0 mm\n",
      "    z =  -50.0 ...  130.0 mm\n",
      "50653 sources before omitting any.\n",
      "20895 sources after omitting infeasible sources not within 0.0 - 85.5 mm.\n",
      "17437 sources remaining after excluding the sources outside the surface and less than    5.0 mm inside.\n",
      "Adjusting the neighborhood info.\n",
      "Source space : MRI voxel -> MRI (surface RAS)\n",
      "     0.005000  0.000000  0.000000     -90.00 mm\n",
      "     0.000000  0.005000  0.000000     -90.00 mm\n",
      "     0.000000  0.000000  0.005000     -50.00 mm\n",
      "     0.000000  0.000000  0.000000       1.00\n",
      "Source space          : <SourceSpaces: [<discrete, n_used=17437>] MRI (surface RAS) coords, ~12.6 MB>\n",
      "MRI -> head transform : identity\n",
      "Measurement data      : instance of Info\n",
      "Sphere model      : origin at [ 5.07590205e-09 -2.27468297e-08  4.01488980e-02] mm\n",
      "Standard field computations\n",
      "Do computations in head coordinates\n",
      "Free source orientations\n",
      "\n",
      "Read 1 source spaces a total of 17437 active source locations\n",
      "\n",
      "Coordinate transformation: MRI (surface RAS) -> head\n",
      "     1.000000  0.000000  0.000000       0.00 mm\n",
      "     0.000000  1.000000  0.000000       0.00 mm\n",
      "     0.000000  0.000000  1.000000       0.00 mm\n",
      "     0.000000  0.000000  0.000000       1.00\n",
      "\n",
      "Read  64 EEG channels from info\n",
      "Head coordinate coil definitions created.\n",
      "Source spaces are now in head coordinates.\n",
      "\n",
      "Using the sphere model.\n",
      "\n",
      "Using the equivalent source approach in the homogeneous sphere for EEG\n",
      "Computing EEG at 17437 source locations (free orientations)...\n"
     ]
    },
    {
     "name": "stderr",
     "output_type": "stream",
     "text": [
      "[Parallel(n_jobs=1)]: Using backend SequentialBackend with 1 concurrent workers.\n"
     ]
    },
    {
     "name": "stdout",
     "output_type": "stream",
     "text": [
      "\n",
      "Finished.\n",
      "EEG channel type selected for re-referencing\n",
      "Applying REST reference.\n",
      "Applying a custom ('EEG',) reference.\n"
     ]
    },
    {
     "name": "stderr",
     "output_type": "stream",
     "text": [
      "[Parallel(n_jobs=1)]: Done   1 out of   1 | elapsed:    3.1s remaining:    0.0s\n",
      "[Parallel(n_jobs=1)]: Done   1 out of   1 | elapsed:    3.1s finished\n"
     ]
    },
    {
     "name": "stdout",
     "output_type": "stream",
     "text": [
      "    64 out of 64 channels remain after picking\n"
     ]
    },
    {
     "name": "stderr",
     "output_type": "stream",
     "text": [
      "/var/folders/mq/knftmst16037tkq__p96znfh0000gn/T/ipykernel_82026/3955720515.py:23: RuntimeWarning: No bad channels to interpolate. Doing nothing...\n",
      "  epochs_a_rest.interpolate_bads(reset_bads=True, mode='accurate', origin='auto', method=None, exclude=(), verbose=None)\n"
     ]
    },
    {
     "name": "stdout",
     "output_type": "stream",
     "text": [
      "EEG channel type selected for re-referencing\n",
      "Applying average reference.\n",
      "Applying a custom ('EEG',) reference.\n",
      "Interpolating bad channels\n",
      "    Automatic origin fit: head of radius 95.0 mm\n",
      "Computing interpolation matrix from 62 sensor positions\n",
      "Interpolating 2 sensors\n",
      "Fitted sphere radius:         95.0 mm\n",
      "Origin head coordinates:      0.0 -0.0 40.1 mm\n",
      "Origin device coordinates:    0.0 -0.0 40.1 mm\n",
      "Fitted sphere radius:         95.0 mm\n",
      "Origin head coordinates:      0.0 -0.0 40.1 mm\n",
      "Origin device coordinates:    0.0 -0.0 40.1 mm\n",
      "\n",
      "Equiv. model fitting -> RV = 0.00491618 %\n",
      "mu1 = 0.94375    lambda1 = 0.13988\n",
      "mu2 = 0.662436    lambda2 = 0.696795\n",
      "mu3 = 0.290512    lambda3 = -0.0263051\n",
      "Set up EEG sphere model with scalp radius    95.0 mm\n",
      "\n",
      "Sphere                : origin at (0.0 -0.0 40.1) mm\n",
      "              radius  : 85.5 mm\n",
      "grid                  : 5.0 mm\n",
      "mindist               : 5.0 mm\n",
      "\n",
      "Setting up the sphere...\n",
      "Surface CM = (   0.0   -0.0   40.1) mm\n",
      "Surface fits inside a sphere with radius   85.5 mm\n",
      "Surface extent:\n",
      "    x =  -85.5 ...   85.5 mm\n",
      "    y =  -85.5 ...   85.5 mm\n",
      "    z =  -45.4 ...  125.6 mm\n",
      "Grid extent:\n",
      "    x =  -90.0 ...   90.0 mm\n",
      "    y =  -90.0 ...   90.0 mm\n",
      "    z =  -50.0 ...  130.0 mm\n",
      "50653 sources before omitting any.\n",
      "20895 sources after omitting infeasible sources not within 0.0 - 85.5 mm.\n",
      "17437 sources remaining after excluding the sources outside the surface and less than    5.0 mm inside.\n",
      "Adjusting the neighborhood info.\n",
      "Source space : MRI voxel -> MRI (surface RAS)\n",
      "     0.005000  0.000000  0.000000     -90.00 mm\n",
      "     0.000000  0.005000  0.000000     -90.00 mm\n",
      "     0.000000  0.000000  0.005000     -50.00 mm\n",
      "     0.000000  0.000000  0.000000       1.00\n",
      "Source space          : <SourceSpaces: [<discrete, n_used=17437>] MRI (surface RAS) coords, ~12.6 MB>\n",
      "MRI -> head transform : identity\n",
      "Measurement data      : instance of Info\n",
      "Sphere model      : origin at [ 5.07590205e-09 -2.27468297e-08  4.01488980e-02] mm\n",
      "Standard field computations\n",
      "Do computations in head coordinates\n",
      "Free source orientations\n",
      "\n",
      "Read 1 source spaces a total of 17437 active source locations\n",
      "\n",
      "Coordinate transformation: MRI (surface RAS) -> head\n",
      "     1.000000  0.000000  0.000000       0.00 mm\n",
      "     0.000000  1.000000  0.000000       0.00 mm\n",
      "     0.000000  0.000000  1.000000       0.00 mm\n",
      "     0.000000  0.000000  0.000000       1.00\n",
      "\n",
      "Read  64 EEG channels from info\n",
      "Head coordinate coil definitions created.\n",
      "Source spaces are now in head coordinates.\n",
      "\n",
      "Using the sphere model.\n",
      "\n",
      "Using the equivalent source approach in the homogeneous sphere for EEG\n",
      "Computing EEG at 17437 source locations (free orientations)...\n"
     ]
    },
    {
     "name": "stderr",
     "output_type": "stream",
     "text": [
      "[Parallel(n_jobs=1)]: Using backend SequentialBackend with 1 concurrent workers.\n"
     ]
    },
    {
     "name": "stdout",
     "output_type": "stream",
     "text": [
      "\n",
      "Finished.\n",
      "EEG channel type selected for re-referencing\n",
      "Applying REST reference.\n",
      "Applying a custom ('EEG',) reference.\n"
     ]
    },
    {
     "name": "stderr",
     "output_type": "stream",
     "text": [
      "[Parallel(n_jobs=1)]: Done   1 out of   1 | elapsed:    3.1s remaining:    0.0s\n",
      "[Parallel(n_jobs=1)]: Done   1 out of   1 | elapsed:    3.1s finished\n"
     ]
    },
    {
     "name": "stdout",
     "output_type": "stream",
     "text": [
      "    62 out of 64 channels remain after picking\n",
      "Interpolating bad channels\n",
      "    Automatic origin fit: head of radius 95.0 mm\n",
      "Computing interpolation matrix from 62 sensor positions\n",
      "Interpolating 2 sensors\n",
      "EEG channel type selected for re-referencing\n",
      "Applying average reference.\n",
      "Applying a custom ('EEG',) reference.\n"
     ]
    },
    {
     "name": "stderr",
     "output_type": "stream",
     "text": [
      "/var/folders/mq/knftmst16037tkq__p96znfh0000gn/T/ipykernel_82026/3955720515.py:11: RuntimeWarning: No bad channels to interpolate. Doing nothing...\n",
      "  epochs_a_ave.interpolate_bads(reset_bads=True, mode='accurate', origin='auto', method=None, exclude=(), verbose=None)\n"
     ]
    },
    {
     "name": "stdout",
     "output_type": "stream",
     "text": [
      "Fitted sphere radius:         95.0 mm\n",
      "Origin head coordinates:      0.0 -0.0 40.1 mm\n",
      "Origin device coordinates:    0.0 -0.0 40.1 mm\n",
      "Fitted sphere radius:         95.0 mm\n",
      "Origin head coordinates:      0.0 -0.0 40.1 mm\n",
      "Origin device coordinates:    0.0 -0.0 40.1 mm\n",
      "\n",
      "Equiv. model fitting -> RV = 0.00491618 %\n",
      "mu1 = 0.94375    lambda1 = 0.13988\n",
      "mu2 = 0.662436    lambda2 = 0.696795\n",
      "mu3 = 0.290512    lambda3 = -0.0263051\n",
      "Set up EEG sphere model with scalp radius    95.0 mm\n",
      "\n",
      "Sphere                : origin at (0.0 -0.0 40.1) mm\n",
      "              radius  : 85.5 mm\n",
      "grid                  : 5.0 mm\n",
      "mindist               : 5.0 mm\n",
      "\n",
      "Setting up the sphere...\n",
      "Surface CM = (   0.0   -0.0   40.1) mm\n",
      "Surface fits inside a sphere with radius   85.5 mm\n",
      "Surface extent:\n",
      "    x =  -85.5 ...   85.5 mm\n",
      "    y =  -85.5 ...   85.5 mm\n",
      "    z =  -45.4 ...  125.6 mm\n",
      "Grid extent:\n",
      "    x =  -90.0 ...   90.0 mm\n",
      "    y =  -90.0 ...   90.0 mm\n",
      "    z =  -50.0 ...  130.0 mm\n",
      "50653 sources before omitting any.\n",
      "20895 sources after omitting infeasible sources not within 0.0 - 85.5 mm.\n",
      "17437 sources remaining after excluding the sources outside the surface and less than    5.0 mm inside.\n",
      "Adjusting the neighborhood info.\n",
      "Source space : MRI voxel -> MRI (surface RAS)\n",
      "     0.005000  0.000000  0.000000     -90.00 mm\n",
      "     0.000000  0.005000  0.000000     -90.00 mm\n",
      "     0.000000  0.000000  0.005000     -50.00 mm\n",
      "     0.000000  0.000000  0.000000       1.00\n",
      "Source space          : <SourceSpaces: [<discrete, n_used=17437>] MRI (surface RAS) coords, ~12.6 MB>\n",
      "MRI -> head transform : identity\n",
      "Measurement data      : instance of Info\n",
      "Sphere model      : origin at [ 5.07590205e-09 -2.27468297e-08  4.01488980e-02] mm\n",
      "Standard field computations\n",
      "Do computations in head coordinates\n",
      "Free source orientations\n",
      "\n",
      "Read 1 source spaces a total of 17437 active source locations\n",
      "\n",
      "Coordinate transformation: MRI (surface RAS) -> head\n",
      "     1.000000  0.000000  0.000000       0.00 mm\n",
      "     0.000000  1.000000  0.000000       0.00 mm\n",
      "     0.000000  0.000000  1.000000       0.00 mm\n",
      "     0.000000  0.000000  0.000000       1.00\n",
      "\n",
      "Read  64 EEG channels from info\n",
      "Head coordinate coil definitions created.\n",
      "Source spaces are now in head coordinates.\n",
      "\n",
      "Using the sphere model.\n",
      "\n",
      "Using the equivalent source approach in the homogeneous sphere for EEG\n",
      "Computing EEG at 17437 source locations (free orientations)...\n"
     ]
    },
    {
     "name": "stderr",
     "output_type": "stream",
     "text": [
      "[Parallel(n_jobs=1)]: Using backend SequentialBackend with 1 concurrent workers.\n"
     ]
    },
    {
     "name": "stdout",
     "output_type": "stream",
     "text": [
      "\n",
      "Finished.\n",
      "EEG channel type selected for re-referencing\n",
      "Applying REST reference.\n",
      "Applying a custom ('EEG',) reference.\n"
     ]
    },
    {
     "name": "stderr",
     "output_type": "stream",
     "text": [
      "[Parallel(n_jobs=1)]: Done   1 out of   1 | elapsed:    3.1s remaining:    0.0s\n",
      "[Parallel(n_jobs=1)]: Done   1 out of   1 | elapsed:    3.1s finished\n"
     ]
    },
    {
     "name": "stdout",
     "output_type": "stream",
     "text": [
      "    64 out of 64 channels remain after picking\n"
     ]
    },
    {
     "name": "stderr",
     "output_type": "stream",
     "text": [
      "/var/folders/mq/knftmst16037tkq__p96znfh0000gn/T/ipykernel_82026/3955720515.py:23: RuntimeWarning: No bad channels to interpolate. Doing nothing...\n",
      "  epochs_a_rest.interpolate_bads(reset_bads=True, mode='accurate', origin='auto', method=None, exclude=(), verbose=None)\n"
     ]
    },
    {
     "name": "stdout",
     "output_type": "stream",
     "text": [
      "EEG channel type selected for re-referencing\n",
      "Applying average reference.\n",
      "Applying a custom ('EEG',) reference.\n"
     ]
    },
    {
     "name": "stderr",
     "output_type": "stream",
     "text": [
      "/var/folders/mq/knftmst16037tkq__p96znfh0000gn/T/ipykernel_82026/3955720515.py:33: RuntimeWarning: No bad channels to interpolate. Doing nothing...\n",
      "  epochs_b_ave.interpolate_bads(reset_bads=True, mode='accurate', origin='auto', method=None, exclude=(), verbose=None)\n"
     ]
    },
    {
     "name": "stdout",
     "output_type": "stream",
     "text": [
      "Fitted sphere radius:         95.0 mm\n",
      "Origin head coordinates:      0.0 -0.0 40.1 mm\n",
      "Origin device coordinates:    0.0 -0.0 40.1 mm\n",
      "Fitted sphere radius:         95.0 mm\n",
      "Origin head coordinates:      0.0 -0.0 40.1 mm\n",
      "Origin device coordinates:    0.0 -0.0 40.1 mm\n",
      "\n",
      "Equiv. model fitting -> RV = 0.00491618 %\n",
      "mu1 = 0.94375    lambda1 = 0.13988\n",
      "mu2 = 0.662436    lambda2 = 0.696795\n",
      "mu3 = 0.290512    lambda3 = -0.0263051\n",
      "Set up EEG sphere model with scalp radius    95.0 mm\n",
      "\n",
      "Sphere                : origin at (0.0 -0.0 40.1) mm\n",
      "              radius  : 85.5 mm\n",
      "grid                  : 5.0 mm\n",
      "mindist               : 5.0 mm\n",
      "\n",
      "Setting up the sphere...\n",
      "Surface CM = (   0.0   -0.0   40.1) mm\n",
      "Surface fits inside a sphere with radius   85.5 mm\n",
      "Surface extent:\n",
      "    x =  -85.5 ...   85.5 mm\n",
      "    y =  -85.5 ...   85.5 mm\n",
      "    z =  -45.4 ...  125.6 mm\n",
      "Grid extent:\n",
      "    x =  -90.0 ...   90.0 mm\n",
      "    y =  -90.0 ...   90.0 mm\n",
      "    z =  -50.0 ...  130.0 mm\n",
      "50653 sources before omitting any.\n",
      "20895 sources after omitting infeasible sources not within 0.0 - 85.5 mm.\n",
      "17437 sources remaining after excluding the sources outside the surface and less than    5.0 mm inside.\n",
      "Adjusting the neighborhood info.\n",
      "Source space : MRI voxel -> MRI (surface RAS)\n",
      "     0.005000  0.000000  0.000000     -90.00 mm\n",
      "     0.000000  0.005000  0.000000     -90.00 mm\n",
      "     0.000000  0.000000  0.005000     -50.00 mm\n",
      "     0.000000  0.000000  0.000000       1.00\n",
      "Source space          : <SourceSpaces: [<discrete, n_used=17437>] MRI (surface RAS) coords, ~12.6 MB>\n",
      "MRI -> head transform : identity\n",
      "Measurement data      : instance of Info\n",
      "Sphere model      : origin at [ 5.07590205e-09 -2.27468297e-08  4.01488980e-02] mm\n",
      "Standard field computations\n",
      "Do computations in head coordinates\n",
      "Free source orientations\n",
      "\n",
      "Read 1 source spaces a total of 17437 active source locations\n",
      "\n",
      "Coordinate transformation: MRI (surface RAS) -> head\n",
      "     1.000000  0.000000  0.000000       0.00 mm\n",
      "     0.000000  1.000000  0.000000       0.00 mm\n",
      "     0.000000  0.000000  1.000000       0.00 mm\n",
      "     0.000000  0.000000  0.000000       1.00\n",
      "\n",
      "Read  64 EEG channels from info\n",
      "Head coordinate coil definitions created.\n",
      "Source spaces are now in head coordinates.\n",
      "\n",
      "Using the sphere model.\n",
      "\n",
      "Using the equivalent source approach in the homogeneous sphere for EEG\n",
      "Computing EEG at 17437 source locations (free orientations)...\n"
     ]
    },
    {
     "name": "stderr",
     "output_type": "stream",
     "text": [
      "[Parallel(n_jobs=1)]: Using backend SequentialBackend with 1 concurrent workers.\n"
     ]
    },
    {
     "name": "stdout",
     "output_type": "stream",
     "text": [
      "\n",
      "Finished.\n",
      "EEG channel type selected for re-referencing\n",
      "Applying REST reference.\n",
      "Applying a custom ('EEG',) reference.\n"
     ]
    },
    {
     "name": "stderr",
     "output_type": "stream",
     "text": [
      "[Parallel(n_jobs=1)]: Done   1 out of   1 | elapsed:    3.1s remaining:    0.0s\n",
      "[Parallel(n_jobs=1)]: Done   1 out of   1 | elapsed:    3.1s finished\n"
     ]
    },
    {
     "name": "stdout",
     "output_type": "stream",
     "text": [
      "    64 out of 64 channels remain after picking\n"
     ]
    },
    {
     "name": "stderr",
     "output_type": "stream",
     "text": [
      "/var/folders/mq/knftmst16037tkq__p96znfh0000gn/T/ipykernel_82026/3955720515.py:45: RuntimeWarning: No bad channels to interpolate. Doing nothing...\n",
      "  epochs_b_rest.interpolate_bads(reset_bads=True, mode='accurate', origin='auto', method=None, exclude=(), verbose=None)\n"
     ]
    },
    {
     "name": "stdout",
     "output_type": "stream",
     "text": [
      "EEG channel type selected for re-referencing\n",
      "Applying average reference.\n",
      "Applying a custom ('EEG',) reference.\n",
      "Interpolating bad channels\n",
      "    Automatic origin fit: head of radius 95.0 mm\n",
      "Computing interpolation matrix from 63 sensor positions\n",
      "Interpolating 1 sensors\n",
      "Fitted sphere radius:         95.0 mm\n",
      "Origin head coordinates:      0.0 -0.0 40.1 mm\n",
      "Origin device coordinates:    0.0 -0.0 40.1 mm\n",
      "Fitted sphere radius:         95.0 mm\n",
      "Origin head coordinates:      0.0 -0.0 40.1 mm\n",
      "Origin device coordinates:    0.0 -0.0 40.1 mm\n",
      "\n",
      "Equiv. model fitting -> RV = 0.00491618 %\n",
      "mu1 = 0.94375    lambda1 = 0.13988\n",
      "mu2 = 0.662436    lambda2 = 0.696795\n",
      "mu3 = 0.290512    lambda3 = -0.0263051\n",
      "Set up EEG sphere model with scalp radius    95.0 mm\n",
      "\n",
      "Sphere                : origin at (0.0 -0.0 40.1) mm\n",
      "              radius  : 85.5 mm\n",
      "grid                  : 5.0 mm\n",
      "mindist               : 5.0 mm\n",
      "\n",
      "Setting up the sphere...\n",
      "Surface CM = (   0.0   -0.0   40.1) mm\n",
      "Surface fits inside a sphere with radius   85.5 mm\n",
      "Surface extent:\n",
      "    x =  -85.5 ...   85.5 mm\n",
      "    y =  -85.5 ...   85.5 mm\n",
      "    z =  -45.4 ...  125.6 mm\n",
      "Grid extent:\n",
      "    x =  -90.0 ...   90.0 mm\n",
      "    y =  -90.0 ...   90.0 mm\n",
      "    z =  -50.0 ...  130.0 mm\n",
      "50653 sources before omitting any.\n",
      "20895 sources after omitting infeasible sources not within 0.0 - 85.5 mm.\n",
      "17437 sources remaining after excluding the sources outside the surface and less than    5.0 mm inside.\n",
      "Adjusting the neighborhood info.\n",
      "Source space : MRI voxel -> MRI (surface RAS)\n",
      "     0.005000  0.000000  0.000000     -90.00 mm\n",
      "     0.000000  0.005000  0.000000     -90.00 mm\n",
      "     0.000000  0.000000  0.005000     -50.00 mm\n",
      "     0.000000  0.000000  0.000000       1.00\n",
      "Source space          : <SourceSpaces: [<discrete, n_used=17437>] MRI (surface RAS) coords, ~12.6 MB>\n",
      "MRI -> head transform : identity\n",
      "Measurement data      : instance of Info\n",
      "Sphere model      : origin at [ 5.07590205e-09 -2.27468297e-08  4.01488980e-02] mm\n",
      "Standard field computations\n",
      "Do computations in head coordinates\n",
      "Free source orientations\n",
      "\n",
      "Read 1 source spaces a total of 17437 active source locations\n",
      "\n",
      "Coordinate transformation: MRI (surface RAS) -> head\n",
      "     1.000000  0.000000  0.000000       0.00 mm\n",
      "     0.000000  1.000000  0.000000       0.00 mm\n",
      "     0.000000  0.000000  1.000000       0.00 mm\n",
      "     0.000000  0.000000  0.000000       1.00\n",
      "\n",
      "Read  64 EEG channels from info\n",
      "Head coordinate coil definitions created.\n",
      "Source spaces are now in head coordinates.\n",
      "\n",
      "Using the sphere model.\n",
      "\n",
      "Using the equivalent source approach in the homogeneous sphere for EEG\n",
      "Computing EEG at 17437 source locations (free orientations)...\n"
     ]
    },
    {
     "name": "stderr",
     "output_type": "stream",
     "text": [
      "[Parallel(n_jobs=1)]: Using backend SequentialBackend with 1 concurrent workers.\n"
     ]
    },
    {
     "name": "stdout",
     "output_type": "stream",
     "text": [
      "\n",
      "Finished.\n",
      "EEG channel type selected for re-referencing\n",
      "Applying REST reference.\n",
      "Applying a custom ('EEG',) reference.\n"
     ]
    },
    {
     "name": "stderr",
     "output_type": "stream",
     "text": [
      "[Parallel(n_jobs=1)]: Done   1 out of   1 | elapsed:    3.1s remaining:    0.0s\n",
      "[Parallel(n_jobs=1)]: Done   1 out of   1 | elapsed:    3.1s finished\n"
     ]
    },
    {
     "name": "stdout",
     "output_type": "stream",
     "text": [
      "    63 out of 64 channels remain after picking\n",
      "Interpolating bad channels\n",
      "    Automatic origin fit: head of radius 95.0 mm\n",
      "Computing interpolation matrix from 63 sensor positions\n",
      "Interpolating 1 sensors\n",
      "EEG channel type selected for re-referencing\n",
      "Applying average reference.\n",
      "Applying a custom ('EEG',) reference.\n",
      "Interpolating bad channels\n",
      "    Automatic origin fit: head of radius 95.0 mm\n",
      "Computing interpolation matrix from 63 sensor positions\n",
      "Interpolating 1 sensors\n",
      "Fitted sphere radius:         95.0 mm\n",
      "Origin head coordinates:      0.0 -0.0 40.1 mm\n",
      "Origin device coordinates:    0.0 -0.0 40.1 mm\n",
      "Fitted sphere radius:         95.0 mm\n",
      "Origin head coordinates:      0.0 -0.0 40.1 mm\n",
      "Origin device coordinates:    0.0 -0.0 40.1 mm\n",
      "\n",
      "Equiv. model fitting -> RV = 0.00491618 %\n",
      "mu1 = 0.94375    lambda1 = 0.13988\n",
      "mu2 = 0.662436    lambda2 = 0.696795\n",
      "mu3 = 0.290512    lambda3 = -0.0263051\n",
      "Set up EEG sphere model with scalp radius    95.0 mm\n",
      "\n",
      "Sphere                : origin at (0.0 -0.0 40.1) mm\n",
      "              radius  : 85.5 mm\n",
      "grid                  : 5.0 mm\n",
      "mindist               : 5.0 mm\n",
      "\n",
      "Setting up the sphere...\n",
      "Surface CM = (   0.0   -0.0   40.1) mm\n",
      "Surface fits inside a sphere with radius   85.5 mm\n",
      "Surface extent:\n",
      "    x =  -85.5 ...   85.5 mm\n",
      "    y =  -85.5 ...   85.5 mm\n",
      "    z =  -45.4 ...  125.6 mm\n",
      "Grid extent:\n",
      "    x =  -90.0 ...   90.0 mm\n",
      "    y =  -90.0 ...   90.0 mm\n",
      "    z =  -50.0 ...  130.0 mm\n",
      "50653 sources before omitting any.\n",
      "20895 sources after omitting infeasible sources not within 0.0 - 85.5 mm.\n",
      "17437 sources remaining after excluding the sources outside the surface and less than    5.0 mm inside.\n",
      "Adjusting the neighborhood info.\n",
      "Source space : MRI voxel -> MRI (surface RAS)\n",
      "     0.005000  0.000000  0.000000     -90.00 mm\n",
      "     0.000000  0.005000  0.000000     -90.00 mm\n",
      "     0.000000  0.000000  0.005000     -50.00 mm\n",
      "     0.000000  0.000000  0.000000       1.00\n",
      "Source space          : <SourceSpaces: [<discrete, n_used=17437>] MRI (surface RAS) coords, ~12.6 MB>\n",
      "MRI -> head transform : identity\n",
      "Measurement data      : instance of Info\n",
      "Sphere model      : origin at [ 5.07590205e-09 -2.27468297e-08  4.01488980e-02] mm\n",
      "Standard field computations\n",
      "Do computations in head coordinates\n",
      "Free source orientations\n",
      "\n",
      "Read 1 source spaces a total of 17437 active source locations\n",
      "\n",
      "Coordinate transformation: MRI (surface RAS) -> head\n",
      "     1.000000  0.000000  0.000000       0.00 mm\n",
      "     0.000000  1.000000  0.000000       0.00 mm\n",
      "     0.000000  0.000000  1.000000       0.00 mm\n",
      "     0.000000  0.000000  0.000000       1.00\n",
      "\n",
      "Read  64 EEG channels from info\n",
      "Head coordinate coil definitions created.\n",
      "Source spaces are now in head coordinates.\n",
      "\n",
      "Using the sphere model.\n",
      "\n",
      "Using the equivalent source approach in the homogeneous sphere for EEG\n",
      "Computing EEG at 17437 source locations (free orientations)...\n"
     ]
    },
    {
     "name": "stderr",
     "output_type": "stream",
     "text": [
      "[Parallel(n_jobs=1)]: Using backend SequentialBackend with 1 concurrent workers.\n"
     ]
    },
    {
     "name": "stdout",
     "output_type": "stream",
     "text": [
      "\n",
      "Finished.\n",
      "EEG channel type selected for re-referencing\n",
      "Applying REST reference.\n",
      "Applying a custom ('EEG',) reference.\n"
     ]
    },
    {
     "name": "stderr",
     "output_type": "stream",
     "text": [
      "[Parallel(n_jobs=1)]: Done   1 out of   1 | elapsed:    3.1s remaining:    0.0s\n",
      "[Parallel(n_jobs=1)]: Done   1 out of   1 | elapsed:    3.1s finished\n"
     ]
    },
    {
     "name": "stdout",
     "output_type": "stream",
     "text": [
      "    63 out of 64 channels remain after picking\n",
      "Interpolating bad channels\n",
      "    Automatic origin fit: head of radius 95.0 mm\n",
      "Computing interpolation matrix from 63 sensor positions\n",
      "Interpolating 1 sensors\n",
      "EEG channel type selected for re-referencing\n",
      "Applying average reference.\n",
      "Applying a custom ('EEG',) reference.\n",
      "Interpolating bad channels\n",
      "    Automatic origin fit: head of radius 95.0 mm\n",
      "Computing interpolation matrix from 63 sensor positions\n",
      "Interpolating 1 sensors\n",
      "Fitted sphere radius:         95.0 mm\n",
      "Origin head coordinates:      0.0 -0.0 40.1 mm\n",
      "Origin device coordinates:    0.0 -0.0 40.1 mm\n",
      "Fitted sphere radius:         95.0 mm\n",
      "Origin head coordinates:      0.0 -0.0 40.1 mm\n",
      "Origin device coordinates:    0.0 -0.0 40.1 mm\n",
      "\n",
      "Equiv. model fitting -> RV = 0.00491618 %\n",
      "mu1 = 0.94375    lambda1 = 0.13988\n",
      "mu2 = 0.662436    lambda2 = 0.696795\n",
      "mu3 = 0.290512    lambda3 = -0.0263051\n",
      "Set up EEG sphere model with scalp radius    95.0 mm\n",
      "\n",
      "Sphere                : origin at (0.0 -0.0 40.1) mm\n",
      "              radius  : 85.5 mm\n",
      "grid                  : 5.0 mm\n",
      "mindist               : 5.0 mm\n",
      "\n",
      "Setting up the sphere...\n",
      "Surface CM = (   0.0   -0.0   40.1) mm\n",
      "Surface fits inside a sphere with radius   85.5 mm\n",
      "Surface extent:\n",
      "    x =  -85.5 ...   85.5 mm\n",
      "    y =  -85.5 ...   85.5 mm\n",
      "    z =  -45.4 ...  125.6 mm\n",
      "Grid extent:\n",
      "    x =  -90.0 ...   90.0 mm\n",
      "    y =  -90.0 ...   90.0 mm\n",
      "    z =  -50.0 ...  130.0 mm\n",
      "50653 sources before omitting any.\n",
      "20895 sources after omitting infeasible sources not within 0.0 - 85.5 mm.\n",
      "17437 sources remaining after excluding the sources outside the surface and less than    5.0 mm inside.\n",
      "Adjusting the neighborhood info.\n",
      "Source space : MRI voxel -> MRI (surface RAS)\n",
      "     0.005000  0.000000  0.000000     -90.00 mm\n",
      "     0.000000  0.005000  0.000000     -90.00 mm\n",
      "     0.000000  0.000000  0.005000     -50.00 mm\n",
      "     0.000000  0.000000  0.000000       1.00\n",
      "Source space          : <SourceSpaces: [<discrete, n_used=17437>] MRI (surface RAS) coords, ~12.6 MB>\n",
      "MRI -> head transform : identity\n",
      "Measurement data      : instance of Info\n",
      "Sphere model      : origin at [ 5.07590205e-09 -2.27468297e-08  4.01488980e-02] mm\n",
      "Standard field computations\n",
      "Do computations in head coordinates\n",
      "Free source orientations\n",
      "\n",
      "Read 1 source spaces a total of 17437 active source locations\n",
      "\n",
      "Coordinate transformation: MRI (surface RAS) -> head\n",
      "     1.000000  0.000000  0.000000       0.00 mm\n",
      "     0.000000  1.000000  0.000000       0.00 mm\n",
      "     0.000000  0.000000  1.000000       0.00 mm\n",
      "     0.000000  0.000000  0.000000       1.00\n",
      "\n",
      "Read  64 EEG channels from info\n",
      "Head coordinate coil definitions created.\n",
      "Source spaces are now in head coordinates.\n",
      "\n",
      "Using the sphere model.\n",
      "\n",
      "Using the equivalent source approach in the homogeneous sphere for EEG\n",
      "Computing EEG at 17437 source locations (free orientations)...\n"
     ]
    },
    {
     "name": "stderr",
     "output_type": "stream",
     "text": [
      "[Parallel(n_jobs=1)]: Using backend SequentialBackend with 1 concurrent workers.\n"
     ]
    },
    {
     "name": "stdout",
     "output_type": "stream",
     "text": [
      "\n",
      "Finished.\n"
     ]
    },
    {
     "name": "stderr",
     "output_type": "stream",
     "text": [
      "[Parallel(n_jobs=1)]: Done   1 out of   1 | elapsed:    3.5s remaining:    0.0s\n",
      "[Parallel(n_jobs=1)]: Done   1 out of   1 | elapsed:    3.5s finished\n"
     ]
    },
    {
     "name": "stdout",
     "output_type": "stream",
     "text": [
      "EEG channel type selected for re-referencing\n",
      "Applying REST reference.\n",
      "Applying a custom ('EEG',) reference.\n",
      "    63 out of 64 channels remain after picking\n",
      "Interpolating bad channels\n",
      "    Automatic origin fit: head of radius 95.0 mm\n",
      "Computing interpolation matrix from 63 sensor positions\n",
      "Interpolating 1 sensors\n",
      "EEG channel type selected for re-referencing\n",
      "Applying average reference.\n",
      "Applying a custom ('EEG',) reference.\n",
      "Interpolating bad channels\n",
      "    Automatic origin fit: head of radius 95.0 mm\n",
      "Computing interpolation matrix from 62 sensor positions\n",
      "Interpolating 2 sensors\n",
      "Fitted sphere radius:         95.0 mm\n",
      "Origin head coordinates:      0.0 -0.0 40.1 mm\n",
      "Origin device coordinates:    0.0 -0.0 40.1 mm\n",
      "Fitted sphere radius:         95.0 mm\n",
      "Origin head coordinates:      0.0 -0.0 40.1 mm\n",
      "Origin device coordinates:    0.0 -0.0 40.1 mm\n",
      "\n",
      "Equiv. model fitting -> RV = 0.00491618 %\n",
      "mu1 = 0.94375    lambda1 = 0.13988\n",
      "mu2 = 0.662436    lambda2 = 0.696795\n",
      "mu3 = 0.290512    lambda3 = -0.0263051\n",
      "Set up EEG sphere model with scalp radius    95.0 mm\n",
      "\n",
      "Sphere                : origin at (0.0 -0.0 40.1) mm\n",
      "              radius  : 85.5 mm\n",
      "grid                  : 5.0 mm\n",
      "mindist               : 5.0 mm\n",
      "\n",
      "Setting up the sphere...\n",
      "Surface CM = (   0.0   -0.0   40.1) mm\n",
      "Surface fits inside a sphere with radius   85.5 mm\n",
      "Surface extent:\n",
      "    x =  -85.5 ...   85.5 mm\n",
      "    y =  -85.5 ...   85.5 mm\n",
      "    z =  -45.4 ...  125.6 mm\n",
      "Grid extent:\n",
      "    x =  -90.0 ...   90.0 mm\n",
      "    y =  -90.0 ...   90.0 mm\n",
      "    z =  -50.0 ...  130.0 mm\n",
      "50653 sources before omitting any.\n",
      "20895 sources after omitting infeasible sources not within 0.0 - 85.5 mm.\n",
      "17437 sources remaining after excluding the sources outside the surface and less than    5.0 mm inside.\n",
      "Adjusting the neighborhood info.\n",
      "Source space : MRI voxel -> MRI (surface RAS)\n",
      "     0.005000  0.000000  0.000000     -90.00 mm\n",
      "     0.000000  0.005000  0.000000     -90.00 mm\n",
      "     0.000000  0.000000  0.005000     -50.00 mm\n",
      "     0.000000  0.000000  0.000000       1.00\n",
      "Source space          : <SourceSpaces: [<discrete, n_used=17437>] MRI (surface RAS) coords, ~12.6 MB>\n",
      "MRI -> head transform : identity\n",
      "Measurement data      : instance of Info\n",
      "Sphere model      : origin at [ 5.07590205e-09 -2.27468297e-08  4.01488980e-02] mm\n",
      "Standard field computations\n",
      "Do computations in head coordinates\n",
      "Free source orientations\n",
      "\n",
      "Read 1 source spaces a total of 17437 active source locations\n",
      "\n",
      "Coordinate transformation: MRI (surface RAS) -> head\n",
      "     1.000000  0.000000  0.000000       0.00 mm\n",
      "     0.000000  1.000000  0.000000       0.00 mm\n",
      "     0.000000  0.000000  1.000000       0.00 mm\n",
      "     0.000000  0.000000  0.000000       1.00\n",
      "\n",
      "Read  64 EEG channels from info\n",
      "Head coordinate coil definitions created.\n",
      "Source spaces are now in head coordinates.\n",
      "\n",
      "Using the sphere model.\n",
      "\n",
      "Using the equivalent source approach in the homogeneous sphere for EEG\n",
      "Computing EEG at 17437 source locations (free orientations)...\n"
     ]
    },
    {
     "name": "stderr",
     "output_type": "stream",
     "text": [
      "[Parallel(n_jobs=1)]: Using backend SequentialBackend with 1 concurrent workers.\n"
     ]
    },
    {
     "name": "stdout",
     "output_type": "stream",
     "text": [
      "\n",
      "Finished.\n",
      "EEG channel type selected for re-referencing\n",
      "Applying REST reference.\n",
      "Applying a custom ('EEG',) reference.\n"
     ]
    },
    {
     "name": "stderr",
     "output_type": "stream",
     "text": [
      "[Parallel(n_jobs=1)]: Done   1 out of   1 | elapsed:    3.1s remaining:    0.0s\n",
      "[Parallel(n_jobs=1)]: Done   1 out of   1 | elapsed:    3.1s finished\n"
     ]
    },
    {
     "name": "stdout",
     "output_type": "stream",
     "text": [
      "    62 out of 64 channels remain after picking\n",
      "Interpolating bad channels\n",
      "    Automatic origin fit: head of radius 95.0 mm\n",
      "Computing interpolation matrix from 62 sensor positions\n",
      "Interpolating 2 sensors\n",
      "EEG channel type selected for re-referencing\n",
      "Applying average reference.\n",
      "Applying a custom ('EEG',) reference.\n"
     ]
    },
    {
     "name": "stderr",
     "output_type": "stream",
     "text": [
      "/var/folders/mq/knftmst16037tkq__p96znfh0000gn/T/ipykernel_82026/3955720515.py:11: RuntimeWarning: No bad channels to interpolate. Doing nothing...\n",
      "  epochs_a_ave.interpolate_bads(reset_bads=True, mode='accurate', origin='auto', method=None, exclude=(), verbose=None)\n"
     ]
    },
    {
     "name": "stdout",
     "output_type": "stream",
     "text": [
      "Fitted sphere radius:         95.0 mm\n",
      "Origin head coordinates:      0.0 -0.0 40.1 mm\n",
      "Origin device coordinates:    0.0 -0.0 40.1 mm\n",
      "Fitted sphere radius:         95.0 mm\n",
      "Origin head coordinates:      0.0 -0.0 40.1 mm\n",
      "Origin device coordinates:    0.0 -0.0 40.1 mm\n",
      "\n",
      "Equiv. model fitting -> RV = 0.00491618 %\n",
      "mu1 = 0.94375    lambda1 = 0.13988\n",
      "mu2 = 0.662436    lambda2 = 0.696795\n",
      "mu3 = 0.290512    lambda3 = -0.0263051\n",
      "Set up EEG sphere model with scalp radius    95.0 mm\n",
      "\n",
      "Sphere                : origin at (0.0 -0.0 40.1) mm\n",
      "              radius  : 85.5 mm\n",
      "grid                  : 5.0 mm\n",
      "mindist               : 5.0 mm\n",
      "\n",
      "Setting up the sphere...\n",
      "Surface CM = (   0.0   -0.0   40.1) mm\n",
      "Surface fits inside a sphere with radius   85.5 mm\n",
      "Surface extent:\n",
      "    x =  -85.5 ...   85.5 mm\n",
      "    y =  -85.5 ...   85.5 mm\n",
      "    z =  -45.4 ...  125.6 mm\n",
      "Grid extent:\n",
      "    x =  -90.0 ...   90.0 mm\n",
      "    y =  -90.0 ...   90.0 mm\n",
      "    z =  -50.0 ...  130.0 mm\n",
      "50653 sources before omitting any.\n",
      "20895 sources after omitting infeasible sources not within 0.0 - 85.5 mm.\n",
      "17437 sources remaining after excluding the sources outside the surface and less than    5.0 mm inside.\n",
      "Adjusting the neighborhood info.\n",
      "Source space : MRI voxel -> MRI (surface RAS)\n",
      "     0.005000  0.000000  0.000000     -90.00 mm\n",
      "     0.000000  0.005000  0.000000     -90.00 mm\n",
      "     0.000000  0.000000  0.005000     -50.00 mm\n",
      "     0.000000  0.000000  0.000000       1.00\n",
      "Source space          : <SourceSpaces: [<discrete, n_used=17437>] MRI (surface RAS) coords, ~12.6 MB>\n",
      "MRI -> head transform : identity\n",
      "Measurement data      : instance of Info\n",
      "Sphere model      : origin at [ 5.07590205e-09 -2.27468297e-08  4.01488980e-02] mm\n",
      "Standard field computations\n",
      "Do computations in head coordinates\n",
      "Free source orientations\n",
      "\n",
      "Read 1 source spaces a total of 17437 active source locations\n",
      "\n",
      "Coordinate transformation: MRI (surface RAS) -> head\n",
      "     1.000000  0.000000  0.000000       0.00 mm\n",
      "     0.000000  1.000000  0.000000       0.00 mm\n",
      "     0.000000  0.000000  1.000000       0.00 mm\n",
      "     0.000000  0.000000  0.000000       1.00\n",
      "\n",
      "Read  64 EEG channels from info\n",
      "Head coordinate coil definitions created.\n",
      "Source spaces are now in head coordinates.\n",
      "\n",
      "Using the sphere model.\n",
      "\n",
      "Using the equivalent source approach in the homogeneous sphere for EEG\n",
      "Computing EEG at 17437 source locations (free orientations)...\n"
     ]
    },
    {
     "name": "stderr",
     "output_type": "stream",
     "text": [
      "[Parallel(n_jobs=1)]: Using backend SequentialBackend with 1 concurrent workers.\n"
     ]
    },
    {
     "name": "stdout",
     "output_type": "stream",
     "text": [
      "\n",
      "Finished.\n",
      "EEG channel type selected for re-referencing\n",
      "Applying REST reference.\n",
      "Applying a custom ('EEG',) reference.\n"
     ]
    },
    {
     "name": "stderr",
     "output_type": "stream",
     "text": [
      "[Parallel(n_jobs=1)]: Done   1 out of   1 | elapsed:    3.2s remaining:    0.0s\n",
      "[Parallel(n_jobs=1)]: Done   1 out of   1 | elapsed:    3.2s finished\n"
     ]
    },
    {
     "name": "stdout",
     "output_type": "stream",
     "text": [
      "    64 out of 64 channels remain after picking\n"
     ]
    },
    {
     "name": "stderr",
     "output_type": "stream",
     "text": [
      "/var/folders/mq/knftmst16037tkq__p96znfh0000gn/T/ipykernel_82026/3955720515.py:23: RuntimeWarning: No bad channels to interpolate. Doing nothing...\n",
      "  epochs_a_rest.interpolate_bads(reset_bads=True, mode='accurate', origin='auto', method=None, exclude=(), verbose=None)\n"
     ]
    },
    {
     "name": "stdout",
     "output_type": "stream",
     "text": [
      "EEG channel type selected for re-referencing\n",
      "Applying average reference.\n",
      "Applying a custom ('EEG',) reference.\n",
      "Interpolating bad channels\n",
      "    Automatic origin fit: head of radius 95.0 mm\n",
      "Computing interpolation matrix from 62 sensor positions\n",
      "Interpolating 2 sensors\n",
      "Fitted sphere radius:         95.0 mm\n",
      "Origin head coordinates:      0.0 -0.0 40.1 mm\n",
      "Origin device coordinates:    0.0 -0.0 40.1 mm\n",
      "Fitted sphere radius:         95.0 mm\n",
      "Origin head coordinates:      0.0 -0.0 40.1 mm\n",
      "Origin device coordinates:    0.0 -0.0 40.1 mm\n",
      "\n",
      "Equiv. model fitting -> RV = 0.00491618 %\n",
      "mu1 = 0.94375    lambda1 = 0.13988\n",
      "mu2 = 0.662436    lambda2 = 0.696795\n",
      "mu3 = 0.290512    lambda3 = -0.0263051\n",
      "Set up EEG sphere model with scalp radius    95.0 mm\n",
      "\n",
      "Sphere                : origin at (0.0 -0.0 40.1) mm\n",
      "              radius  : 85.5 mm\n",
      "grid                  : 5.0 mm\n",
      "mindist               : 5.0 mm\n",
      "\n",
      "Setting up the sphere...\n",
      "Surface CM = (   0.0   -0.0   40.1) mm\n",
      "Surface fits inside a sphere with radius   85.5 mm\n",
      "Surface extent:\n",
      "    x =  -85.5 ...   85.5 mm\n",
      "    y =  -85.5 ...   85.5 mm\n",
      "    z =  -45.4 ...  125.6 mm\n",
      "Grid extent:\n",
      "    x =  -90.0 ...   90.0 mm\n",
      "    y =  -90.0 ...   90.0 mm\n",
      "    z =  -50.0 ...  130.0 mm\n",
      "50653 sources before omitting any.\n",
      "20895 sources after omitting infeasible sources not within 0.0 - 85.5 mm.\n",
      "17437 sources remaining after excluding the sources outside the surface and less than    5.0 mm inside.\n",
      "Adjusting the neighborhood info.\n",
      "Source space : MRI voxel -> MRI (surface RAS)\n",
      "     0.005000  0.000000  0.000000     -90.00 mm\n",
      "     0.000000  0.005000  0.000000     -90.00 mm\n",
      "     0.000000  0.000000  0.005000     -50.00 mm\n",
      "     0.000000  0.000000  0.000000       1.00\n",
      "Source space          : <SourceSpaces: [<discrete, n_used=17437>] MRI (surface RAS) coords, ~12.6 MB>\n",
      "MRI -> head transform : identity\n",
      "Measurement data      : instance of Info\n",
      "Sphere model      : origin at [ 5.07590205e-09 -2.27468297e-08  4.01488980e-02] mm\n",
      "Standard field computations\n",
      "Do computations in head coordinates\n",
      "Free source orientations\n",
      "\n",
      "Read 1 source spaces a total of 17437 active source locations\n",
      "\n",
      "Coordinate transformation: MRI (surface RAS) -> head\n",
      "     1.000000  0.000000  0.000000       0.00 mm\n",
      "     0.000000  1.000000  0.000000       0.00 mm\n",
      "     0.000000  0.000000  1.000000       0.00 mm\n",
      "     0.000000  0.000000  0.000000       1.00\n",
      "\n",
      "Read  64 EEG channels from info\n",
      "Head coordinate coil definitions created.\n",
      "Source spaces are now in head coordinates.\n",
      "\n",
      "Using the sphere model.\n",
      "\n",
      "Using the equivalent source approach in the homogeneous sphere for EEG\n",
      "Computing EEG at 17437 source locations (free orientations)...\n"
     ]
    },
    {
     "name": "stderr",
     "output_type": "stream",
     "text": [
      "[Parallel(n_jobs=1)]: Using backend SequentialBackend with 1 concurrent workers.\n"
     ]
    },
    {
     "name": "stdout",
     "output_type": "stream",
     "text": [
      "\n",
      "Finished.\n",
      "EEG channel type selected for re-referencing\n",
      "Applying REST reference.\n",
      "Applying a custom ('EEG',) reference.\n"
     ]
    },
    {
     "name": "stderr",
     "output_type": "stream",
     "text": [
      "[Parallel(n_jobs=1)]: Done   1 out of   1 | elapsed:    3.2s remaining:    0.0s\n",
      "[Parallel(n_jobs=1)]: Done   1 out of   1 | elapsed:    3.2s finished\n"
     ]
    },
    {
     "name": "stdout",
     "output_type": "stream",
     "text": [
      "    62 out of 64 channels remain after picking\n",
      "Interpolating bad channels\n",
      "    Automatic origin fit: head of radius 95.0 mm\n",
      "Computing interpolation matrix from 62 sensor positions\n",
      "Interpolating 2 sensors\n",
      "EEG channel type selected for re-referencing\n",
      "Applying average reference.\n",
      "Applying a custom ('EEG',) reference.\n"
     ]
    },
    {
     "name": "stderr",
     "output_type": "stream",
     "text": [
      "/var/folders/mq/knftmst16037tkq__p96znfh0000gn/T/ipykernel_82026/3955720515.py:11: RuntimeWarning: No bad channels to interpolate. Doing nothing...\n",
      "  epochs_a_ave.interpolate_bads(reset_bads=True, mode='accurate', origin='auto', method=None, exclude=(), verbose=None)\n"
     ]
    },
    {
     "name": "stdout",
     "output_type": "stream",
     "text": [
      "Fitted sphere radius:         95.0 mm\n",
      "Origin head coordinates:      0.0 -0.0 40.1 mm\n",
      "Origin device coordinates:    0.0 -0.0 40.1 mm\n",
      "Fitted sphere radius:         95.0 mm\n",
      "Origin head coordinates:      0.0 -0.0 40.1 mm\n",
      "Origin device coordinates:    0.0 -0.0 40.1 mm\n",
      "\n",
      "Equiv. model fitting -> RV = 0.00491618 %\n",
      "mu1 = 0.94375    lambda1 = 0.13988\n",
      "mu2 = 0.662436    lambda2 = 0.696795\n",
      "mu3 = 0.290512    lambda3 = -0.0263051\n",
      "Set up EEG sphere model with scalp radius    95.0 mm\n",
      "\n",
      "Sphere                : origin at (0.0 -0.0 40.1) mm\n",
      "              radius  : 85.5 mm\n",
      "grid                  : 5.0 mm\n",
      "mindist               : 5.0 mm\n",
      "\n",
      "Setting up the sphere...\n",
      "Surface CM = (   0.0   -0.0   40.1) mm\n",
      "Surface fits inside a sphere with radius   85.5 mm\n",
      "Surface extent:\n",
      "    x =  -85.5 ...   85.5 mm\n",
      "    y =  -85.5 ...   85.5 mm\n",
      "    z =  -45.4 ...  125.6 mm\n",
      "Grid extent:\n",
      "    x =  -90.0 ...   90.0 mm\n",
      "    y =  -90.0 ...   90.0 mm\n",
      "    z =  -50.0 ...  130.0 mm\n",
      "50653 sources before omitting any.\n",
      "20895 sources after omitting infeasible sources not within 0.0 - 85.5 mm.\n",
      "17437 sources remaining after excluding the sources outside the surface and less than    5.0 mm inside.\n",
      "Adjusting the neighborhood info.\n",
      "Source space : MRI voxel -> MRI (surface RAS)\n",
      "     0.005000  0.000000  0.000000     -90.00 mm\n",
      "     0.000000  0.005000  0.000000     -90.00 mm\n",
      "     0.000000  0.000000  0.005000     -50.00 mm\n",
      "     0.000000  0.000000  0.000000       1.00\n",
      "Source space          : <SourceSpaces: [<discrete, n_used=17437>] MRI (surface RAS) coords, ~12.6 MB>\n",
      "MRI -> head transform : identity\n",
      "Measurement data      : instance of Info\n",
      "Sphere model      : origin at [ 5.07590205e-09 -2.27468297e-08  4.01488980e-02] mm\n",
      "Standard field computations\n",
      "Do computations in head coordinates\n",
      "Free source orientations\n",
      "\n",
      "Read 1 source spaces a total of 17437 active source locations\n",
      "\n",
      "Coordinate transformation: MRI (surface RAS) -> head\n",
      "     1.000000  0.000000  0.000000       0.00 mm\n",
      "     0.000000  1.000000  0.000000       0.00 mm\n",
      "     0.000000  0.000000  1.000000       0.00 mm\n",
      "     0.000000  0.000000  0.000000       1.00\n",
      "\n",
      "Read  64 EEG channels from info\n",
      "Head coordinate coil definitions created.\n",
      "Source spaces are now in head coordinates.\n",
      "\n",
      "Using the sphere model.\n",
      "\n",
      "Using the equivalent source approach in the homogeneous sphere for EEG\n",
      "Computing EEG at 17437 source locations (free orientations)...\n"
     ]
    },
    {
     "name": "stderr",
     "output_type": "stream",
     "text": [
      "[Parallel(n_jobs=1)]: Using backend SequentialBackend with 1 concurrent workers.\n"
     ]
    },
    {
     "name": "stdout",
     "output_type": "stream",
     "text": [
      "\n",
      "Finished.\n",
      "EEG channel type selected for re-referencing\n",
      "Applying REST reference.\n",
      "Applying a custom ('EEG',) reference.\n"
     ]
    },
    {
     "name": "stderr",
     "output_type": "stream",
     "text": [
      "[Parallel(n_jobs=1)]: Done   1 out of   1 | elapsed:    3.1s remaining:    0.0s\n",
      "[Parallel(n_jobs=1)]: Done   1 out of   1 | elapsed:    3.1s finished\n"
     ]
    },
    {
     "name": "stdout",
     "output_type": "stream",
     "text": [
      "    64 out of 64 channels remain after picking\n"
     ]
    },
    {
     "name": "stderr",
     "output_type": "stream",
     "text": [
      "/var/folders/mq/knftmst16037tkq__p96znfh0000gn/T/ipykernel_82026/3955720515.py:23: RuntimeWarning: No bad channels to interpolate. Doing nothing...\n",
      "  epochs_a_rest.interpolate_bads(reset_bads=True, mode='accurate', origin='auto', method=None, exclude=(), verbose=None)\n"
     ]
    },
    {
     "name": "stdout",
     "output_type": "stream",
     "text": [
      "EEG channel type selected for re-referencing\n",
      "Applying average reference.\n",
      "Applying a custom ('EEG',) reference.\n"
     ]
    },
    {
     "name": "stderr",
     "output_type": "stream",
     "text": [
      "/var/folders/mq/knftmst16037tkq__p96znfh0000gn/T/ipykernel_82026/3955720515.py:33: RuntimeWarning: No bad channels to interpolate. Doing nothing...\n",
      "  epochs_b_ave.interpolate_bads(reset_bads=True, mode='accurate', origin='auto', method=None, exclude=(), verbose=None)\n"
     ]
    },
    {
     "name": "stdout",
     "output_type": "stream",
     "text": [
      "Fitted sphere radius:         95.0 mm\n",
      "Origin head coordinates:      0.0 -0.0 40.1 mm\n",
      "Origin device coordinates:    0.0 -0.0 40.1 mm\n",
      "Fitted sphere radius:         95.0 mm\n",
      "Origin head coordinates:      0.0 -0.0 40.1 mm\n",
      "Origin device coordinates:    0.0 -0.0 40.1 mm\n",
      "\n",
      "Equiv. model fitting -> RV = 0.00491618 %\n",
      "mu1 = 0.94375    lambda1 = 0.13988\n",
      "mu2 = 0.662436    lambda2 = 0.696795\n",
      "mu3 = 0.290512    lambda3 = -0.0263051\n",
      "Set up EEG sphere model with scalp radius    95.0 mm\n",
      "\n",
      "Sphere                : origin at (0.0 -0.0 40.1) mm\n",
      "              radius  : 85.5 mm\n",
      "grid                  : 5.0 mm\n",
      "mindist               : 5.0 mm\n",
      "\n",
      "Setting up the sphere...\n",
      "Surface CM = (   0.0   -0.0   40.1) mm\n",
      "Surface fits inside a sphere with radius   85.5 mm\n",
      "Surface extent:\n",
      "    x =  -85.5 ...   85.5 mm\n",
      "    y =  -85.5 ...   85.5 mm\n",
      "    z =  -45.4 ...  125.6 mm\n",
      "Grid extent:\n",
      "    x =  -90.0 ...   90.0 mm\n",
      "    y =  -90.0 ...   90.0 mm\n",
      "    z =  -50.0 ...  130.0 mm\n",
      "50653 sources before omitting any.\n",
      "20895 sources after omitting infeasible sources not within 0.0 - 85.5 mm.\n",
      "17437 sources remaining after excluding the sources outside the surface and less than    5.0 mm inside.\n",
      "Adjusting the neighborhood info.\n",
      "Source space : MRI voxel -> MRI (surface RAS)\n",
      "     0.005000  0.000000  0.000000     -90.00 mm\n",
      "     0.000000  0.005000  0.000000     -90.00 mm\n",
      "     0.000000  0.000000  0.005000     -50.00 mm\n",
      "     0.000000  0.000000  0.000000       1.00\n",
      "Source space          : <SourceSpaces: [<discrete, n_used=17437>] MRI (surface RAS) coords, ~12.6 MB>\n",
      "MRI -> head transform : identity\n",
      "Measurement data      : instance of Info\n",
      "Sphere model      : origin at [ 5.07590205e-09 -2.27468297e-08  4.01488980e-02] mm\n",
      "Standard field computations\n",
      "Do computations in head coordinates\n",
      "Free source orientations\n",
      "\n",
      "Read 1 source spaces a total of 17437 active source locations\n",
      "\n",
      "Coordinate transformation: MRI (surface RAS) -> head\n",
      "     1.000000  0.000000  0.000000       0.00 mm\n",
      "     0.000000  1.000000  0.000000       0.00 mm\n",
      "     0.000000  0.000000  1.000000       0.00 mm\n",
      "     0.000000  0.000000  0.000000       1.00\n",
      "\n",
      "Read  64 EEG channels from info\n",
      "Head coordinate coil definitions created.\n",
      "Source spaces are now in head coordinates.\n",
      "\n",
      "Using the sphere model.\n",
      "\n",
      "Using the equivalent source approach in the homogeneous sphere for EEG\n",
      "Computing EEG at 17437 source locations (free orientations)...\n"
     ]
    },
    {
     "name": "stderr",
     "output_type": "stream",
     "text": [
      "[Parallel(n_jobs=1)]: Using backend SequentialBackend with 1 concurrent workers.\n"
     ]
    },
    {
     "name": "stdout",
     "output_type": "stream",
     "text": [
      "\n",
      "Finished.\n",
      "EEG channel type selected for re-referencing\n",
      "Applying REST reference.\n",
      "Applying a custom ('EEG',) reference.\n"
     ]
    },
    {
     "name": "stderr",
     "output_type": "stream",
     "text": [
      "[Parallel(n_jobs=1)]: Done   1 out of   1 | elapsed:    3.2s remaining:    0.0s\n",
      "[Parallel(n_jobs=1)]: Done   1 out of   1 | elapsed:    3.2s finished\n"
     ]
    },
    {
     "name": "stdout",
     "output_type": "stream",
     "text": [
      "    64 out of 64 channels remain after picking\n"
     ]
    },
    {
     "name": "stderr",
     "output_type": "stream",
     "text": [
      "/var/folders/mq/knftmst16037tkq__p96znfh0000gn/T/ipykernel_82026/3955720515.py:45: RuntimeWarning: No bad channels to interpolate. Doing nothing...\n",
      "  epochs_b_rest.interpolate_bads(reset_bads=True, mode='accurate', origin='auto', method=None, exclude=(), verbose=None)\n"
     ]
    },
    {
     "name": "stdout",
     "output_type": "stream",
     "text": [
      "EEG channel type selected for re-referencing\n",
      "Applying average reference.\n",
      "Applying a custom ('EEG',) reference.\n",
      "Interpolating bad channels\n",
      "    Automatic origin fit: head of radius 95.0 mm\n",
      "Computing interpolation matrix from 63 sensor positions\n",
      "Interpolating 1 sensors\n",
      "Fitted sphere radius:         95.0 mm\n",
      "Origin head coordinates:      0.0 -0.0 40.1 mm\n",
      "Origin device coordinates:    0.0 -0.0 40.1 mm\n",
      "Fitted sphere radius:         95.0 mm\n",
      "Origin head coordinates:      0.0 -0.0 40.1 mm\n",
      "Origin device coordinates:    0.0 -0.0 40.1 mm\n",
      "\n",
      "Equiv. model fitting -> RV = 0.00491618 %\n",
      "mu1 = 0.94375    lambda1 = 0.13988\n",
      "mu2 = 0.662436    lambda2 = 0.696795\n",
      "mu3 = 0.290512    lambda3 = -0.0263051\n",
      "Set up EEG sphere model with scalp radius    95.0 mm\n",
      "\n",
      "Sphere                : origin at (0.0 -0.0 40.1) mm\n",
      "              radius  : 85.5 mm\n",
      "grid                  : 5.0 mm\n",
      "mindist               : 5.0 mm\n",
      "\n",
      "Setting up the sphere...\n",
      "Surface CM = (   0.0   -0.0   40.1) mm\n",
      "Surface fits inside a sphere with radius   85.5 mm\n",
      "Surface extent:\n",
      "    x =  -85.5 ...   85.5 mm\n",
      "    y =  -85.5 ...   85.5 mm\n",
      "    z =  -45.4 ...  125.6 mm\n",
      "Grid extent:\n",
      "    x =  -90.0 ...   90.0 mm\n",
      "    y =  -90.0 ...   90.0 mm\n",
      "    z =  -50.0 ...  130.0 mm\n",
      "50653 sources before omitting any.\n",
      "20895 sources after omitting infeasible sources not within 0.0 - 85.5 mm.\n",
      "17437 sources remaining after excluding the sources outside the surface and less than    5.0 mm inside.\n",
      "Adjusting the neighborhood info.\n",
      "Source space : MRI voxel -> MRI (surface RAS)\n",
      "     0.005000  0.000000  0.000000     -90.00 mm\n",
      "     0.000000  0.005000  0.000000     -90.00 mm\n",
      "     0.000000  0.000000  0.005000     -50.00 mm\n",
      "     0.000000  0.000000  0.000000       1.00\n",
      "Source space          : <SourceSpaces: [<discrete, n_used=17437>] MRI (surface RAS) coords, ~12.6 MB>\n",
      "MRI -> head transform : identity\n",
      "Measurement data      : instance of Info\n",
      "Sphere model      : origin at [ 5.07590205e-09 -2.27468297e-08  4.01488980e-02] mm\n",
      "Standard field computations\n",
      "Do computations in head coordinates\n",
      "Free source orientations\n",
      "\n",
      "Read 1 source spaces a total of 17437 active source locations\n",
      "\n",
      "Coordinate transformation: MRI (surface RAS) -> head\n",
      "     1.000000  0.000000  0.000000       0.00 mm\n",
      "     0.000000  1.000000  0.000000       0.00 mm\n",
      "     0.000000  0.000000  1.000000       0.00 mm\n",
      "     0.000000  0.000000  0.000000       1.00\n",
      "\n",
      "Read  64 EEG channels from info\n",
      "Head coordinate coil definitions created.\n",
      "Source spaces are now in head coordinates.\n",
      "\n",
      "Using the sphere model.\n",
      "\n",
      "Using the equivalent source approach in the homogeneous sphere for EEG\n",
      "Computing EEG at 17437 source locations (free orientations)...\n"
     ]
    },
    {
     "name": "stderr",
     "output_type": "stream",
     "text": [
      "[Parallel(n_jobs=1)]: Using backend SequentialBackend with 1 concurrent workers.\n"
     ]
    },
    {
     "name": "stdout",
     "output_type": "stream",
     "text": [
      "\n",
      "Finished.\n",
      "EEG channel type selected for re-referencing\n",
      "Applying REST reference.\n",
      "Applying a custom ('EEG',) reference.\n"
     ]
    },
    {
     "name": "stderr",
     "output_type": "stream",
     "text": [
      "[Parallel(n_jobs=1)]: Done   1 out of   1 | elapsed:    3.1s remaining:    0.0s\n",
      "[Parallel(n_jobs=1)]: Done   1 out of   1 | elapsed:    3.1s finished\n"
     ]
    },
    {
     "name": "stdout",
     "output_type": "stream",
     "text": [
      "    63 out of 64 channels remain after picking\n",
      "Interpolating bad channels\n",
      "    Automatic origin fit: head of radius 95.0 mm\n",
      "Computing interpolation matrix from 63 sensor positions\n",
      "Interpolating 1 sensors\n",
      "EEG channel type selected for re-referencing\n",
      "Applying average reference.\n",
      "Applying a custom ('EEG',) reference.\n"
     ]
    },
    {
     "name": "stderr",
     "output_type": "stream",
     "text": [
      "/var/folders/mq/knftmst16037tkq__p96znfh0000gn/T/ipykernel_82026/3955720515.py:33: RuntimeWarning: No bad channels to interpolate. Doing nothing...\n",
      "  epochs_b_ave.interpolate_bads(reset_bads=True, mode='accurate', origin='auto', method=None, exclude=(), verbose=None)\n"
     ]
    },
    {
     "name": "stdout",
     "output_type": "stream",
     "text": [
      "Fitted sphere radius:         95.0 mm\n",
      "Origin head coordinates:      0.0 -0.0 40.1 mm\n",
      "Origin device coordinates:    0.0 -0.0 40.1 mm\n",
      "Fitted sphere radius:         95.0 mm\n",
      "Origin head coordinates:      0.0 -0.0 40.1 mm\n",
      "Origin device coordinates:    0.0 -0.0 40.1 mm\n",
      "\n",
      "Equiv. model fitting -> RV = 0.00491618 %\n",
      "mu1 = 0.94375    lambda1 = 0.13988\n",
      "mu2 = 0.662436    lambda2 = 0.696795\n",
      "mu3 = 0.290512    lambda3 = -0.0263051\n",
      "Set up EEG sphere model with scalp radius    95.0 mm\n",
      "\n",
      "Sphere                : origin at (0.0 -0.0 40.1) mm\n",
      "              radius  : 85.5 mm\n",
      "grid                  : 5.0 mm\n",
      "mindist               : 5.0 mm\n",
      "\n",
      "Setting up the sphere...\n",
      "Surface CM = (   0.0   -0.0   40.1) mm\n",
      "Surface fits inside a sphere with radius   85.5 mm\n",
      "Surface extent:\n",
      "    x =  -85.5 ...   85.5 mm\n",
      "    y =  -85.5 ...   85.5 mm\n",
      "    z =  -45.4 ...  125.6 mm\n",
      "Grid extent:\n",
      "    x =  -90.0 ...   90.0 mm\n",
      "    y =  -90.0 ...   90.0 mm\n",
      "    z =  -50.0 ...  130.0 mm\n",
      "50653 sources before omitting any.\n",
      "20895 sources after omitting infeasible sources not within 0.0 - 85.5 mm.\n",
      "17437 sources remaining after excluding the sources outside the surface and less than    5.0 mm inside.\n",
      "Adjusting the neighborhood info.\n",
      "Source space : MRI voxel -> MRI (surface RAS)\n",
      "     0.005000  0.000000  0.000000     -90.00 mm\n",
      "     0.000000  0.005000  0.000000     -90.00 mm\n",
      "     0.000000  0.000000  0.005000     -50.00 mm\n",
      "     0.000000  0.000000  0.000000       1.00\n",
      "Source space          : <SourceSpaces: [<discrete, n_used=17437>] MRI (surface RAS) coords, ~12.6 MB>\n",
      "MRI -> head transform : identity\n",
      "Measurement data      : instance of Info\n",
      "Sphere model      : origin at [ 5.07590205e-09 -2.27468297e-08  4.01488980e-02] mm\n",
      "Standard field computations\n",
      "Do computations in head coordinates\n",
      "Free source orientations\n",
      "\n",
      "Read 1 source spaces a total of 17437 active source locations\n",
      "\n",
      "Coordinate transformation: MRI (surface RAS) -> head\n",
      "     1.000000  0.000000  0.000000       0.00 mm\n",
      "     0.000000  1.000000  0.000000       0.00 mm\n",
      "     0.000000  0.000000  1.000000       0.00 mm\n",
      "     0.000000  0.000000  0.000000       1.00\n",
      "\n",
      "Read  64 EEG channels from info\n",
      "Head coordinate coil definitions created.\n",
      "Source spaces are now in head coordinates.\n",
      "\n",
      "Using the sphere model.\n",
      "\n",
      "Using the equivalent source approach in the homogeneous sphere for EEG\n",
      "Computing EEG at 17437 source locations (free orientations)...\n"
     ]
    },
    {
     "name": "stderr",
     "output_type": "stream",
     "text": [
      "[Parallel(n_jobs=1)]: Using backend SequentialBackend with 1 concurrent workers.\n"
     ]
    },
    {
     "name": "stdout",
     "output_type": "stream",
     "text": [
      "\n",
      "Finished.\n",
      "EEG channel type selected for re-referencing\n",
      "Applying REST reference.\n",
      "Applying a custom ('EEG',) reference.\n"
     ]
    },
    {
     "name": "stderr",
     "output_type": "stream",
     "text": [
      "[Parallel(n_jobs=1)]: Done   1 out of   1 | elapsed:    3.2s remaining:    0.0s\n",
      "[Parallel(n_jobs=1)]: Done   1 out of   1 | elapsed:    3.2s finished\n"
     ]
    },
    {
     "name": "stdout",
     "output_type": "stream",
     "text": [
      "    64 out of 64 channels remain after picking\n"
     ]
    },
    {
     "name": "stderr",
     "output_type": "stream",
     "text": [
      "/var/folders/mq/knftmst16037tkq__p96znfh0000gn/T/ipykernel_82026/3955720515.py:45: RuntimeWarning: No bad channels to interpolate. Doing nothing...\n",
      "  epochs_b_rest.interpolate_bads(reset_bads=True, mode='accurate', origin='auto', method=None, exclude=(), verbose=None)\n"
     ]
    },
    {
     "name": "stdout",
     "output_type": "stream",
     "text": [
      "EEG channel type selected for re-referencing\n",
      "Applying average reference.\n",
      "Applying a custom ('EEG',) reference.\n",
      "Interpolating bad channels\n",
      "    Automatic origin fit: head of radius 95.0 mm\n",
      "Computing interpolation matrix from 63 sensor positions\n",
      "Interpolating 1 sensors\n",
      "Fitted sphere radius:         95.0 mm\n",
      "Origin head coordinates:      0.0 -0.0 40.1 mm\n",
      "Origin device coordinates:    0.0 -0.0 40.1 mm\n",
      "Fitted sphere radius:         95.0 mm\n",
      "Origin head coordinates:      0.0 -0.0 40.1 mm\n",
      "Origin device coordinates:    0.0 -0.0 40.1 mm\n",
      "\n",
      "Equiv. model fitting -> RV = 0.00491618 %\n",
      "mu1 = 0.94375    lambda1 = 0.13988\n",
      "mu2 = 0.662436    lambda2 = 0.696795\n",
      "mu3 = 0.290512    lambda3 = -0.0263051\n",
      "Set up EEG sphere model with scalp radius    95.0 mm\n",
      "\n",
      "Sphere                : origin at (0.0 -0.0 40.1) mm\n",
      "              radius  : 85.5 mm\n",
      "grid                  : 5.0 mm\n",
      "mindist               : 5.0 mm\n",
      "\n",
      "Setting up the sphere...\n",
      "Surface CM = (   0.0   -0.0   40.1) mm\n",
      "Surface fits inside a sphere with radius   85.5 mm\n",
      "Surface extent:\n",
      "    x =  -85.5 ...   85.5 mm\n",
      "    y =  -85.5 ...   85.5 mm\n",
      "    z =  -45.4 ...  125.6 mm\n",
      "Grid extent:\n",
      "    x =  -90.0 ...   90.0 mm\n",
      "    y =  -90.0 ...   90.0 mm\n",
      "    z =  -50.0 ...  130.0 mm\n",
      "50653 sources before omitting any.\n",
      "20895 sources after omitting infeasible sources not within 0.0 - 85.5 mm.\n",
      "17437 sources remaining after excluding the sources outside the surface and less than    5.0 mm inside.\n",
      "Adjusting the neighborhood info.\n",
      "Source space : MRI voxel -> MRI (surface RAS)\n",
      "     0.005000  0.000000  0.000000     -90.00 mm\n",
      "     0.000000  0.005000  0.000000     -90.00 mm\n",
      "     0.000000  0.000000  0.005000     -50.00 mm\n",
      "     0.000000  0.000000  0.000000       1.00\n",
      "Source space          : <SourceSpaces: [<discrete, n_used=17437>] MRI (surface RAS) coords, ~12.6 MB>\n",
      "MRI -> head transform : identity\n",
      "Measurement data      : instance of Info\n",
      "Sphere model      : origin at [ 5.07590205e-09 -2.27468297e-08  4.01488980e-02] mm\n",
      "Standard field computations\n",
      "Do computations in head coordinates\n",
      "Free source orientations\n",
      "\n",
      "Read 1 source spaces a total of 17437 active source locations\n",
      "\n",
      "Coordinate transformation: MRI (surface RAS) -> head\n",
      "     1.000000  0.000000  0.000000       0.00 mm\n",
      "     0.000000  1.000000  0.000000       0.00 mm\n",
      "     0.000000  0.000000  1.000000       0.00 mm\n",
      "     0.000000  0.000000  0.000000       1.00\n",
      "\n",
      "Read  64 EEG channels from info\n",
      "Head coordinate coil definitions created.\n",
      "Source spaces are now in head coordinates.\n",
      "\n",
      "Using the sphere model.\n",
      "\n",
      "Using the equivalent source approach in the homogeneous sphere for EEG\n",
      "Computing EEG at 17437 source locations (free orientations)...\n"
     ]
    },
    {
     "name": "stderr",
     "output_type": "stream",
     "text": [
      "[Parallel(n_jobs=1)]: Using backend SequentialBackend with 1 concurrent workers.\n"
     ]
    },
    {
     "name": "stdout",
     "output_type": "stream",
     "text": [
      "\n",
      "Finished.\n"
     ]
    },
    {
     "name": "stderr",
     "output_type": "stream",
     "text": [
      "[Parallel(n_jobs=1)]: Done   1 out of   1 | elapsed:    3.3s remaining:    0.0s\n",
      "[Parallel(n_jobs=1)]: Done   1 out of   1 | elapsed:    3.3s finished\n"
     ]
    },
    {
     "name": "stdout",
     "output_type": "stream",
     "text": [
      "EEG channel type selected for re-referencing\n",
      "Applying REST reference.\n",
      "Applying a custom ('EEG',) reference.\n",
      "    63 out of 64 channels remain after picking\n",
      "Interpolating bad channels\n",
      "    Automatic origin fit: head of radius 95.0 mm\n",
      "Computing interpolation matrix from 63 sensor positions\n",
      "Interpolating 1 sensors\n",
      "EEG channel type selected for re-referencing\n",
      "Applying average reference.\n",
      "Applying a custom ('EEG',) reference.\n"
     ]
    },
    {
     "name": "stderr",
     "output_type": "stream",
     "text": [
      "/var/folders/mq/knftmst16037tkq__p96znfh0000gn/T/ipykernel_82026/3955720515.py:33: RuntimeWarning: No bad channels to interpolate. Doing nothing...\n",
      "  epochs_b_ave.interpolate_bads(reset_bads=True, mode='accurate', origin='auto', method=None, exclude=(), verbose=None)\n"
     ]
    },
    {
     "name": "stdout",
     "output_type": "stream",
     "text": [
      "Fitted sphere radius:         95.0 mm\n",
      "Origin head coordinates:      0.0 -0.0 40.1 mm\n",
      "Origin device coordinates:    0.0 -0.0 40.1 mm\n",
      "Fitted sphere radius:         95.0 mm\n",
      "Origin head coordinates:      0.0 -0.0 40.1 mm\n",
      "Origin device coordinates:    0.0 -0.0 40.1 mm\n",
      "\n",
      "Equiv. model fitting -> RV = 0.00491618 %\n",
      "mu1 = 0.94375    lambda1 = 0.13988\n",
      "mu2 = 0.662436    lambda2 = 0.696795\n",
      "mu3 = 0.290512    lambda3 = -0.0263051\n",
      "Set up EEG sphere model with scalp radius    95.0 mm\n",
      "\n",
      "Sphere                : origin at (0.0 -0.0 40.1) mm\n",
      "              radius  : 85.5 mm\n",
      "grid                  : 5.0 mm\n",
      "mindist               : 5.0 mm\n",
      "\n",
      "Setting up the sphere...\n",
      "Surface CM = (   0.0   -0.0   40.1) mm\n",
      "Surface fits inside a sphere with radius   85.5 mm\n",
      "Surface extent:\n",
      "    x =  -85.5 ...   85.5 mm\n",
      "    y =  -85.5 ...   85.5 mm\n",
      "    z =  -45.4 ...  125.6 mm\n",
      "Grid extent:\n",
      "    x =  -90.0 ...   90.0 mm\n",
      "    y =  -90.0 ...   90.0 mm\n",
      "    z =  -50.0 ...  130.0 mm\n",
      "50653 sources before omitting any.\n",
      "20895 sources after omitting infeasible sources not within 0.0 - 85.5 mm.\n",
      "17437 sources remaining after excluding the sources outside the surface and less than    5.0 mm inside.\n",
      "Adjusting the neighborhood info.\n",
      "Source space : MRI voxel -> MRI (surface RAS)\n",
      "     0.005000  0.000000  0.000000     -90.00 mm\n",
      "     0.000000  0.005000  0.000000     -90.00 mm\n",
      "     0.000000  0.000000  0.005000     -50.00 mm\n",
      "     0.000000  0.000000  0.000000       1.00\n",
      "Source space          : <SourceSpaces: [<discrete, n_used=17437>] MRI (surface RAS) coords, ~12.6 MB>\n",
      "MRI -> head transform : identity\n",
      "Measurement data      : instance of Info\n",
      "Sphere model      : origin at [ 5.07590205e-09 -2.27468297e-08  4.01488980e-02] mm\n",
      "Standard field computations\n",
      "Do computations in head coordinates\n",
      "Free source orientations\n",
      "\n",
      "Read 1 source spaces a total of 17437 active source locations\n",
      "\n",
      "Coordinate transformation: MRI (surface RAS) -> head\n",
      "     1.000000  0.000000  0.000000       0.00 mm\n",
      "     0.000000  1.000000  0.000000       0.00 mm\n",
      "     0.000000  0.000000  1.000000       0.00 mm\n",
      "     0.000000  0.000000  0.000000       1.00\n",
      "\n",
      "Read  64 EEG channels from info\n",
      "Head coordinate coil definitions created.\n",
      "Source spaces are now in head coordinates.\n",
      "\n",
      "Using the sphere model.\n",
      "\n",
      "Using the equivalent source approach in the homogeneous sphere for EEG\n",
      "Computing EEG at 17437 source locations (free orientations)...\n"
     ]
    },
    {
     "name": "stderr",
     "output_type": "stream",
     "text": [
      "[Parallel(n_jobs=1)]: Using backend SequentialBackend with 1 concurrent workers.\n"
     ]
    },
    {
     "name": "stdout",
     "output_type": "stream",
     "text": [
      "\n",
      "Finished.\n",
      "EEG channel type selected for re-referencing\n",
      "Applying REST reference.\n",
      "Applying a custom ('EEG',) reference.\n"
     ]
    },
    {
     "name": "stderr",
     "output_type": "stream",
     "text": [
      "[Parallel(n_jobs=1)]: Done   1 out of   1 | elapsed:    3.2s remaining:    0.0s\n",
      "[Parallel(n_jobs=1)]: Done   1 out of   1 | elapsed:    3.2s finished\n"
     ]
    },
    {
     "name": "stdout",
     "output_type": "stream",
     "text": [
      "    64 out of 64 channels remain after picking\n"
     ]
    },
    {
     "name": "stderr",
     "output_type": "stream",
     "text": [
      "/var/folders/mq/knftmst16037tkq__p96znfh0000gn/T/ipykernel_82026/3955720515.py:45: RuntimeWarning: No bad channels to interpolate. Doing nothing...\n",
      "  epochs_b_rest.interpolate_bads(reset_bads=True, mode='accurate', origin='auto', method=None, exclude=(), verbose=None)\n"
     ]
    },
    {
     "name": "stdout",
     "output_type": "stream",
     "text": [
      "EEG channel type selected for re-referencing\n",
      "Applying average reference.\n",
      "Applying a custom ('EEG',) reference.\n",
      "Interpolating bad channels\n",
      "    Automatic origin fit: head of radius 95.0 mm\n",
      "Computing interpolation matrix from 62 sensor positions\n",
      "Interpolating 2 sensors\n",
      "Fitted sphere radius:         95.0 mm\n",
      "Origin head coordinates:      0.0 -0.0 40.1 mm\n",
      "Origin device coordinates:    0.0 -0.0 40.1 mm\n",
      "Fitted sphere radius:         95.0 mm\n",
      "Origin head coordinates:      0.0 -0.0 40.1 mm\n",
      "Origin device coordinates:    0.0 -0.0 40.1 mm\n",
      "\n",
      "Equiv. model fitting -> RV = 0.00491618 %\n",
      "mu1 = 0.94375    lambda1 = 0.13988\n",
      "mu2 = 0.662436    lambda2 = 0.696795\n",
      "mu3 = 0.290512    lambda3 = -0.0263051\n",
      "Set up EEG sphere model with scalp radius    95.0 mm\n",
      "\n",
      "Sphere                : origin at (0.0 -0.0 40.1) mm\n",
      "              radius  : 85.5 mm\n",
      "grid                  : 5.0 mm\n",
      "mindist               : 5.0 mm\n",
      "\n",
      "Setting up the sphere...\n",
      "Surface CM = (   0.0   -0.0   40.1) mm\n",
      "Surface fits inside a sphere with radius   85.5 mm\n",
      "Surface extent:\n",
      "    x =  -85.5 ...   85.5 mm\n",
      "    y =  -85.5 ...   85.5 mm\n",
      "    z =  -45.4 ...  125.6 mm\n",
      "Grid extent:\n",
      "    x =  -90.0 ...   90.0 mm\n",
      "    y =  -90.0 ...   90.0 mm\n",
      "    z =  -50.0 ...  130.0 mm\n",
      "50653 sources before omitting any.\n",
      "20895 sources after omitting infeasible sources not within 0.0 - 85.5 mm.\n",
      "17437 sources remaining after excluding the sources outside the surface and less than    5.0 mm inside.\n",
      "Adjusting the neighborhood info.\n",
      "Source space : MRI voxel -> MRI (surface RAS)\n",
      "     0.005000  0.000000  0.000000     -90.00 mm\n",
      "     0.000000  0.005000  0.000000     -90.00 mm\n",
      "     0.000000  0.000000  0.005000     -50.00 mm\n",
      "     0.000000  0.000000  0.000000       1.00\n",
      "Source space          : <SourceSpaces: [<discrete, n_used=17437>] MRI (surface RAS) coords, ~12.6 MB>\n",
      "MRI -> head transform : identity\n",
      "Measurement data      : instance of Info\n",
      "Sphere model      : origin at [ 5.07590205e-09 -2.27468297e-08  4.01488980e-02] mm\n",
      "Standard field computations\n",
      "Do computations in head coordinates\n",
      "Free source orientations\n",
      "\n",
      "Read 1 source spaces a total of 17437 active source locations\n",
      "\n",
      "Coordinate transformation: MRI (surface RAS) -> head\n",
      "     1.000000  0.000000  0.000000       0.00 mm\n",
      "     0.000000  1.000000  0.000000       0.00 mm\n",
      "     0.000000  0.000000  1.000000       0.00 mm\n",
      "     0.000000  0.000000  0.000000       1.00\n",
      "\n",
      "Read  64 EEG channels from info\n",
      "Head coordinate coil definitions created.\n",
      "Source spaces are now in head coordinates.\n",
      "\n",
      "Using the sphere model.\n",
      "\n",
      "Using the equivalent source approach in the homogeneous sphere for EEG\n",
      "Computing EEG at 17437 source locations (free orientations)...\n"
     ]
    },
    {
     "name": "stderr",
     "output_type": "stream",
     "text": [
      "[Parallel(n_jobs=1)]: Using backend SequentialBackend with 1 concurrent workers.\n"
     ]
    },
    {
     "name": "stdout",
     "output_type": "stream",
     "text": [
      "\n",
      "Finished.\n"
     ]
    },
    {
     "name": "stderr",
     "output_type": "stream",
     "text": [
      "[Parallel(n_jobs=1)]: Done   1 out of   1 | elapsed:    3.2s remaining:    0.0s\n",
      "[Parallel(n_jobs=1)]: Done   1 out of   1 | elapsed:    3.2s finished\n"
     ]
    },
    {
     "name": "stdout",
     "output_type": "stream",
     "text": [
      "EEG channel type selected for re-referencing\n",
      "Applying REST reference.\n",
      "Applying a custom ('EEG',) reference.\n",
      "    62 out of 64 channels remain after picking\n",
      "Interpolating bad channels\n",
      "    Automatic origin fit: head of radius 95.0 mm\n",
      "Computing interpolation matrix from 62 sensor positions\n",
      "Interpolating 2 sensors\n",
      "EEG channel type selected for re-referencing\n",
      "Applying average reference.\n",
      "Applying a custom ('EEG',) reference.\n",
      "Interpolating bad channels\n",
      "    Automatic origin fit: head of radius 95.0 mm\n",
      "Computing interpolation matrix from 63 sensor positions\n",
      "Interpolating 1 sensors\n",
      "Fitted sphere radius:         95.0 mm\n",
      "Origin head coordinates:      0.0 -0.0 40.1 mm\n",
      "Origin device coordinates:    0.0 -0.0 40.1 mm\n",
      "Fitted sphere radius:         95.0 mm\n",
      "Origin head coordinates:      0.0 -0.0 40.1 mm\n",
      "Origin device coordinates:    0.0 -0.0 40.1 mm\n",
      "\n",
      "Equiv. model fitting -> RV = 0.00491618 %\n",
      "mu1 = 0.94375    lambda1 = 0.13988\n",
      "mu2 = 0.662436    lambda2 = 0.696795\n",
      "mu3 = 0.290512    lambda3 = -0.0263051\n",
      "Set up EEG sphere model with scalp radius    95.0 mm\n",
      "\n",
      "Sphere                : origin at (0.0 -0.0 40.1) mm\n",
      "              radius  : 85.5 mm\n",
      "grid                  : 5.0 mm\n",
      "mindist               : 5.0 mm\n",
      "\n",
      "Setting up the sphere...\n",
      "Surface CM = (   0.0   -0.0   40.1) mm\n",
      "Surface fits inside a sphere with radius   85.5 mm\n",
      "Surface extent:\n",
      "    x =  -85.5 ...   85.5 mm\n",
      "    y =  -85.5 ...   85.5 mm\n",
      "    z =  -45.4 ...  125.6 mm\n",
      "Grid extent:\n",
      "    x =  -90.0 ...   90.0 mm\n",
      "    y =  -90.0 ...   90.0 mm\n",
      "    z =  -50.0 ...  130.0 mm\n",
      "50653 sources before omitting any.\n",
      "20895 sources after omitting infeasible sources not within 0.0 - 85.5 mm.\n",
      "17437 sources remaining after excluding the sources outside the surface and less than    5.0 mm inside.\n",
      "Adjusting the neighborhood info.\n",
      "Source space : MRI voxel -> MRI (surface RAS)\n",
      "     0.005000  0.000000  0.000000     -90.00 mm\n",
      "     0.000000  0.005000  0.000000     -90.00 mm\n",
      "     0.000000  0.000000  0.005000     -50.00 mm\n",
      "     0.000000  0.000000  0.000000       1.00\n",
      "Source space          : <SourceSpaces: [<discrete, n_used=17437>] MRI (surface RAS) coords, ~12.6 MB>\n",
      "MRI -> head transform : identity\n",
      "Measurement data      : instance of Info\n",
      "Sphere model      : origin at [ 5.07590205e-09 -2.27468297e-08  4.01488980e-02] mm\n",
      "Standard field computations\n",
      "Do computations in head coordinates\n",
      "Free source orientations\n",
      "\n",
      "Read 1 source spaces a total of 17437 active source locations\n",
      "\n",
      "Coordinate transformation: MRI (surface RAS) -> head\n",
      "     1.000000  0.000000  0.000000       0.00 mm\n",
      "     0.000000  1.000000  0.000000       0.00 mm\n",
      "     0.000000  0.000000  1.000000       0.00 mm\n",
      "     0.000000  0.000000  0.000000       1.00\n",
      "\n",
      "Read  64 EEG channels from info\n",
      "Head coordinate coil definitions created.\n",
      "Source spaces are now in head coordinates.\n",
      "\n",
      "Using the sphere model.\n",
      "\n",
      "Using the equivalent source approach in the homogeneous sphere for EEG\n",
      "Computing EEG at 17437 source locations (free orientations)...\n"
     ]
    },
    {
     "name": "stderr",
     "output_type": "stream",
     "text": [
      "[Parallel(n_jobs=1)]: Using backend SequentialBackend with 1 concurrent workers.\n"
     ]
    },
    {
     "name": "stdout",
     "output_type": "stream",
     "text": [
      "\n",
      "Finished.\n"
     ]
    },
    {
     "name": "stderr",
     "output_type": "stream",
     "text": [
      "[Parallel(n_jobs=1)]: Done   1 out of   1 | elapsed:    3.2s remaining:    0.0s\n",
      "[Parallel(n_jobs=1)]: Done   1 out of   1 | elapsed:    3.2s finished\n"
     ]
    },
    {
     "name": "stdout",
     "output_type": "stream",
     "text": [
      "EEG channel type selected for re-referencing\n",
      "Applying REST reference.\n",
      "Applying a custom ('EEG',) reference.\n",
      "    63 out of 64 channels remain after picking\n",
      "Interpolating bad channels\n",
      "    Automatic origin fit: head of radius 95.0 mm\n",
      "Computing interpolation matrix from 63 sensor positions\n",
      "Interpolating 1 sensors\n",
      "EEG channel type selected for re-referencing\n",
      "Applying average reference.\n",
      "Applying a custom ('EEG',) reference.\n"
     ]
    },
    {
     "name": "stderr",
     "output_type": "stream",
     "text": [
      "/var/folders/mq/knftmst16037tkq__p96znfh0000gn/T/ipykernel_82026/3955720515.py:11: RuntimeWarning: No bad channels to interpolate. Doing nothing...\n",
      "  epochs_a_ave.interpolate_bads(reset_bads=True, mode='accurate', origin='auto', method=None, exclude=(), verbose=None)\n"
     ]
    },
    {
     "name": "stdout",
     "output_type": "stream",
     "text": [
      "Fitted sphere radius:         95.0 mm\n",
      "Origin head coordinates:      0.0 -0.0 40.1 mm\n",
      "Origin device coordinates:    0.0 -0.0 40.1 mm\n",
      "Fitted sphere radius:         95.0 mm\n",
      "Origin head coordinates:      0.0 -0.0 40.1 mm\n",
      "Origin device coordinates:    0.0 -0.0 40.1 mm\n",
      "\n",
      "Equiv. model fitting -> RV = 0.00491618 %\n",
      "mu1 = 0.94375    lambda1 = 0.13988\n",
      "mu2 = 0.662436    lambda2 = 0.696795\n",
      "mu3 = 0.290512    lambda3 = -0.0263051\n",
      "Set up EEG sphere model with scalp radius    95.0 mm\n",
      "\n",
      "Sphere                : origin at (0.0 -0.0 40.1) mm\n",
      "              radius  : 85.5 mm\n",
      "grid                  : 5.0 mm\n",
      "mindist               : 5.0 mm\n",
      "\n",
      "Setting up the sphere...\n",
      "Surface CM = (   0.0   -0.0   40.1) mm\n",
      "Surface fits inside a sphere with radius   85.5 mm\n",
      "Surface extent:\n",
      "    x =  -85.5 ...   85.5 mm\n",
      "    y =  -85.5 ...   85.5 mm\n",
      "    z =  -45.4 ...  125.6 mm\n",
      "Grid extent:\n",
      "    x =  -90.0 ...   90.0 mm\n",
      "    y =  -90.0 ...   90.0 mm\n",
      "    z =  -50.0 ...  130.0 mm\n",
      "50653 sources before omitting any.\n",
      "20895 sources after omitting infeasible sources not within 0.0 - 85.5 mm.\n",
      "17437 sources remaining after excluding the sources outside the surface and less than    5.0 mm inside.\n",
      "Adjusting the neighborhood info.\n",
      "Source space : MRI voxel -> MRI (surface RAS)\n",
      "     0.005000  0.000000  0.000000     -90.00 mm\n",
      "     0.000000  0.005000  0.000000     -90.00 mm\n",
      "     0.000000  0.000000  0.005000     -50.00 mm\n",
      "     0.000000  0.000000  0.000000       1.00\n",
      "Source space          : <SourceSpaces: [<discrete, n_used=17437>] MRI (surface RAS) coords, ~12.6 MB>\n",
      "MRI -> head transform : identity\n",
      "Measurement data      : instance of Info\n",
      "Sphere model      : origin at [ 5.07590205e-09 -2.27468297e-08  4.01488980e-02] mm\n",
      "Standard field computations\n",
      "Do computations in head coordinates\n",
      "Free source orientations\n",
      "\n",
      "Read 1 source spaces a total of 17437 active source locations\n",
      "\n",
      "Coordinate transformation: MRI (surface RAS) -> head\n",
      "     1.000000  0.000000  0.000000       0.00 mm\n",
      "     0.000000  1.000000  0.000000       0.00 mm\n",
      "     0.000000  0.000000  1.000000       0.00 mm\n",
      "     0.000000  0.000000  0.000000       1.00\n",
      "\n",
      "Read  64 EEG channels from info\n",
      "Head coordinate coil definitions created.\n",
      "Source spaces are now in head coordinates.\n",
      "\n",
      "Using the sphere model.\n",
      "\n",
      "Using the equivalent source approach in the homogeneous sphere for EEG\n",
      "Computing EEG at 17437 source locations (free orientations)...\n"
     ]
    },
    {
     "name": "stderr",
     "output_type": "stream",
     "text": [
      "[Parallel(n_jobs=1)]: Using backend SequentialBackend with 1 concurrent workers.\n"
     ]
    },
    {
     "name": "stdout",
     "output_type": "stream",
     "text": [
      "\n",
      "Finished.\n",
      "EEG channel type selected for re-referencing\n",
      "Applying REST reference.\n",
      "Applying a custom ('EEG',) reference.\n"
     ]
    },
    {
     "name": "stderr",
     "output_type": "stream",
     "text": [
      "[Parallel(n_jobs=1)]: Done   1 out of   1 | elapsed:    3.2s remaining:    0.0s\n",
      "[Parallel(n_jobs=1)]: Done   1 out of   1 | elapsed:    3.2s finished\n"
     ]
    },
    {
     "name": "stdout",
     "output_type": "stream",
     "text": [
      "    64 out of 64 channels remain after picking\n"
     ]
    },
    {
     "name": "stderr",
     "output_type": "stream",
     "text": [
      "/var/folders/mq/knftmst16037tkq__p96znfh0000gn/T/ipykernel_82026/3955720515.py:23: RuntimeWarning: No bad channels to interpolate. Doing nothing...\n",
      "  epochs_a_rest.interpolate_bads(reset_bads=True, mode='accurate', origin='auto', method=None, exclude=(), verbose=None)\n"
     ]
    },
    {
     "name": "stdout",
     "output_type": "stream",
     "text": [
      "EEG channel type selected for re-referencing\n",
      "Applying average reference.\n",
      "Applying a custom ('EEG',) reference.\n"
     ]
    },
    {
     "name": "stderr",
     "output_type": "stream",
     "text": [
      "/var/folders/mq/knftmst16037tkq__p96znfh0000gn/T/ipykernel_82026/3955720515.py:33: RuntimeWarning: No bad channels to interpolate. Doing nothing...\n",
      "  epochs_b_ave.interpolate_bads(reset_bads=True, mode='accurate', origin='auto', method=None, exclude=(), verbose=None)\n"
     ]
    },
    {
     "name": "stdout",
     "output_type": "stream",
     "text": [
      "Fitted sphere radius:         95.0 mm\n",
      "Origin head coordinates:      0.0 -0.0 40.1 mm\n",
      "Origin device coordinates:    0.0 -0.0 40.1 mm\n",
      "Fitted sphere radius:         95.0 mm\n",
      "Origin head coordinates:      0.0 -0.0 40.1 mm\n",
      "Origin device coordinates:    0.0 -0.0 40.1 mm\n",
      "\n",
      "Equiv. model fitting -> RV = 0.00491618 %\n",
      "mu1 = 0.94375    lambda1 = 0.13988\n",
      "mu2 = 0.662436    lambda2 = 0.696795\n",
      "mu3 = 0.290512    lambda3 = -0.0263051\n",
      "Set up EEG sphere model with scalp radius    95.0 mm\n",
      "\n",
      "Sphere                : origin at (0.0 -0.0 40.1) mm\n",
      "              radius  : 85.5 mm\n",
      "grid                  : 5.0 mm\n",
      "mindist               : 5.0 mm\n",
      "\n",
      "Setting up the sphere...\n",
      "Surface CM = (   0.0   -0.0   40.1) mm\n",
      "Surface fits inside a sphere with radius   85.5 mm\n",
      "Surface extent:\n",
      "    x =  -85.5 ...   85.5 mm\n",
      "    y =  -85.5 ...   85.5 mm\n",
      "    z =  -45.4 ...  125.6 mm\n",
      "Grid extent:\n",
      "    x =  -90.0 ...   90.0 mm\n",
      "    y =  -90.0 ...   90.0 mm\n",
      "    z =  -50.0 ...  130.0 mm\n",
      "50653 sources before omitting any.\n",
      "20895 sources after omitting infeasible sources not within 0.0 - 85.5 mm.\n",
      "17437 sources remaining after excluding the sources outside the surface and less than    5.0 mm inside.\n",
      "Adjusting the neighborhood info.\n",
      "Source space : MRI voxel -> MRI (surface RAS)\n",
      "     0.005000  0.000000  0.000000     -90.00 mm\n",
      "     0.000000  0.005000  0.000000     -90.00 mm\n",
      "     0.000000  0.000000  0.005000     -50.00 mm\n",
      "     0.000000  0.000000  0.000000       1.00\n",
      "Source space          : <SourceSpaces: [<discrete, n_used=17437>] MRI (surface RAS) coords, ~12.6 MB>\n",
      "MRI -> head transform : identity\n",
      "Measurement data      : instance of Info\n",
      "Sphere model      : origin at [ 5.07590205e-09 -2.27468297e-08  4.01488980e-02] mm\n",
      "Standard field computations\n",
      "Do computations in head coordinates\n",
      "Free source orientations\n",
      "\n",
      "Read 1 source spaces a total of 17437 active source locations\n",
      "\n",
      "Coordinate transformation: MRI (surface RAS) -> head\n",
      "     1.000000  0.000000  0.000000       0.00 mm\n",
      "     0.000000  1.000000  0.000000       0.00 mm\n",
      "     0.000000  0.000000  1.000000       0.00 mm\n",
      "     0.000000  0.000000  0.000000       1.00\n",
      "\n",
      "Read  64 EEG channels from info\n",
      "Head coordinate coil definitions created.\n",
      "Source spaces are now in head coordinates.\n",
      "\n",
      "Using the sphere model.\n",
      "\n",
      "Using the equivalent source approach in the homogeneous sphere for EEG\n",
      "Computing EEG at 17437 source locations (free orientations)...\n"
     ]
    },
    {
     "name": "stderr",
     "output_type": "stream",
     "text": [
      "[Parallel(n_jobs=1)]: Using backend SequentialBackend with 1 concurrent workers.\n"
     ]
    },
    {
     "name": "stdout",
     "output_type": "stream",
     "text": [
      "\n",
      "Finished.\n",
      "EEG channel type selected for re-referencing\n",
      "Applying REST reference.\n",
      "Applying a custom ('EEG',) reference.\n"
     ]
    },
    {
     "name": "stderr",
     "output_type": "stream",
     "text": [
      "[Parallel(n_jobs=1)]: Done   1 out of   1 | elapsed:    3.3s remaining:    0.0s\n",
      "[Parallel(n_jobs=1)]: Done   1 out of   1 | elapsed:    3.3s finished\n"
     ]
    },
    {
     "name": "stdout",
     "output_type": "stream",
     "text": [
      "    64 out of 64 channels remain after picking\n"
     ]
    },
    {
     "name": "stderr",
     "output_type": "stream",
     "text": [
      "/var/folders/mq/knftmst16037tkq__p96znfh0000gn/T/ipykernel_82026/3955720515.py:45: RuntimeWarning: No bad channels to interpolate. Doing nothing...\n",
      "  epochs_b_rest.interpolate_bads(reset_bads=True, mode='accurate', origin='auto', method=None, exclude=(), verbose=None)\n"
     ]
    },
    {
     "name": "stdout",
     "output_type": "stream",
     "text": [
      "EEG channel type selected for re-referencing\n",
      "Applying average reference.\n",
      "Applying a custom ('EEG',) reference.\n",
      "Interpolating bad channels\n",
      "    Automatic origin fit: head of radius 95.0 mm\n",
      "Computing interpolation matrix from 63 sensor positions\n",
      "Interpolating 1 sensors\n",
      "Fitted sphere radius:         95.0 mm\n",
      "Origin head coordinates:      0.0 -0.0 40.1 mm\n",
      "Origin device coordinates:    0.0 -0.0 40.1 mm\n",
      "Fitted sphere radius:         95.0 mm\n",
      "Origin head coordinates:      0.0 -0.0 40.1 mm\n",
      "Origin device coordinates:    0.0 -0.0 40.1 mm\n",
      "\n",
      "Equiv. model fitting -> RV = 0.00491618 %\n",
      "mu1 = 0.94375    lambda1 = 0.13988\n",
      "mu2 = 0.662436    lambda2 = 0.696795\n",
      "mu3 = 0.290512    lambda3 = -0.0263051\n",
      "Set up EEG sphere model with scalp radius    95.0 mm\n",
      "\n",
      "Sphere                : origin at (0.0 -0.0 40.1) mm\n",
      "              radius  : 85.5 mm\n",
      "grid                  : 5.0 mm\n",
      "mindist               : 5.0 mm\n",
      "\n",
      "Setting up the sphere...\n",
      "Surface CM = (   0.0   -0.0   40.1) mm\n",
      "Surface fits inside a sphere with radius   85.5 mm\n",
      "Surface extent:\n",
      "    x =  -85.5 ...   85.5 mm\n",
      "    y =  -85.5 ...   85.5 mm\n",
      "    z =  -45.4 ...  125.6 mm\n",
      "Grid extent:\n",
      "    x =  -90.0 ...   90.0 mm\n",
      "    y =  -90.0 ...   90.0 mm\n",
      "    z =  -50.0 ...  130.0 mm\n",
      "50653 sources before omitting any.\n",
      "20895 sources after omitting infeasible sources not within 0.0 - 85.5 mm.\n",
      "17437 sources remaining after excluding the sources outside the surface and less than    5.0 mm inside.\n",
      "Adjusting the neighborhood info.\n",
      "Source space : MRI voxel -> MRI (surface RAS)\n",
      "     0.005000  0.000000  0.000000     -90.00 mm\n",
      "     0.000000  0.005000  0.000000     -90.00 mm\n",
      "     0.000000  0.000000  0.005000     -50.00 mm\n",
      "     0.000000  0.000000  0.000000       1.00\n",
      "Source space          : <SourceSpaces: [<discrete, n_used=17437>] MRI (surface RAS) coords, ~12.6 MB>\n",
      "MRI -> head transform : identity\n",
      "Measurement data      : instance of Info\n",
      "Sphere model      : origin at [ 5.07590205e-09 -2.27468297e-08  4.01488980e-02] mm\n",
      "Standard field computations\n",
      "Do computations in head coordinates\n",
      "Free source orientations\n",
      "\n",
      "Read 1 source spaces a total of 17437 active source locations\n",
      "\n",
      "Coordinate transformation: MRI (surface RAS) -> head\n",
      "     1.000000  0.000000  0.000000       0.00 mm\n",
      "     0.000000  1.000000  0.000000       0.00 mm\n",
      "     0.000000  0.000000  1.000000       0.00 mm\n",
      "     0.000000  0.000000  0.000000       1.00\n",
      "\n",
      "Read  64 EEG channels from info\n",
      "Head coordinate coil definitions created.\n",
      "Source spaces are now in head coordinates.\n",
      "\n",
      "Using the sphere model.\n",
      "\n",
      "Using the equivalent source approach in the homogeneous sphere for EEG\n",
      "Computing EEG at 17437 source locations (free orientations)...\n"
     ]
    },
    {
     "name": "stderr",
     "output_type": "stream",
     "text": [
      "[Parallel(n_jobs=1)]: Using backend SequentialBackend with 1 concurrent workers.\n"
     ]
    },
    {
     "name": "stdout",
     "output_type": "stream",
     "text": [
      "\n",
      "Finished.\n",
      "EEG channel type selected for re-referencing\n",
      "Applying REST reference.\n",
      "Applying a custom ('EEG',) reference.\n"
     ]
    },
    {
     "name": "stderr",
     "output_type": "stream",
     "text": [
      "[Parallel(n_jobs=1)]: Done   1 out of   1 | elapsed:    3.2s remaining:    0.0s\n",
      "[Parallel(n_jobs=1)]: Done   1 out of   1 | elapsed:    3.2s finished\n"
     ]
    },
    {
     "name": "stdout",
     "output_type": "stream",
     "text": [
      "    63 out of 64 channels remain after picking\n",
      "Interpolating bad channels\n",
      "    Automatic origin fit: head of radius 95.0 mm\n",
      "Computing interpolation matrix from 63 sensor positions\n",
      "Interpolating 1 sensors\n",
      "EEG channel type selected for re-referencing\n",
      "Applying average reference.\n",
      "Applying a custom ('EEG',) reference.\n",
      "Interpolating bad channels\n",
      "    Automatic origin fit: head of radius 95.0 mm\n",
      "Computing interpolation matrix from 62 sensor positions\n",
      "Interpolating 2 sensors\n",
      "Fitted sphere radius:         95.0 mm\n",
      "Origin head coordinates:      0.0 -0.0 40.1 mm\n",
      "Origin device coordinates:    0.0 -0.0 40.1 mm\n",
      "Fitted sphere radius:         95.0 mm\n",
      "Origin head coordinates:      0.0 -0.0 40.1 mm\n",
      "Origin device coordinates:    0.0 -0.0 40.1 mm\n",
      "\n",
      "Equiv. model fitting -> RV = 0.00491618 %\n",
      "mu1 = 0.94375    lambda1 = 0.13988\n",
      "mu2 = 0.662436    lambda2 = 0.696795\n",
      "mu3 = 0.290512    lambda3 = -0.0263051\n",
      "Set up EEG sphere model with scalp radius    95.0 mm\n",
      "\n",
      "Sphere                : origin at (0.0 -0.0 40.1) mm\n",
      "              radius  : 85.5 mm\n",
      "grid                  : 5.0 mm\n",
      "mindist               : 5.0 mm\n",
      "\n",
      "Setting up the sphere...\n",
      "Surface CM = (   0.0   -0.0   40.1) mm\n",
      "Surface fits inside a sphere with radius   85.5 mm\n",
      "Surface extent:\n",
      "    x =  -85.5 ...   85.5 mm\n",
      "    y =  -85.5 ...   85.5 mm\n",
      "    z =  -45.4 ...  125.6 mm\n",
      "Grid extent:\n",
      "    x =  -90.0 ...   90.0 mm\n",
      "    y =  -90.0 ...   90.0 mm\n",
      "    z =  -50.0 ...  130.0 mm\n",
      "50653 sources before omitting any.\n",
      "20895 sources after omitting infeasible sources not within 0.0 - 85.5 mm.\n",
      "17437 sources remaining after excluding the sources outside the surface and less than    5.0 mm inside.\n",
      "Adjusting the neighborhood info.\n",
      "Source space : MRI voxel -> MRI (surface RAS)\n",
      "     0.005000  0.000000  0.000000     -90.00 mm\n",
      "     0.000000  0.005000  0.000000     -90.00 mm\n",
      "     0.000000  0.000000  0.005000     -50.00 mm\n",
      "     0.000000  0.000000  0.000000       1.00\n",
      "Source space          : <SourceSpaces: [<discrete, n_used=17437>] MRI (surface RAS) coords, ~12.6 MB>\n",
      "MRI -> head transform : identity\n",
      "Measurement data      : instance of Info\n",
      "Sphere model      : origin at [ 5.07590205e-09 -2.27468297e-08  4.01488980e-02] mm\n",
      "Standard field computations\n",
      "Do computations in head coordinates\n",
      "Free source orientations\n",
      "\n",
      "Read 1 source spaces a total of 17437 active source locations\n",
      "\n",
      "Coordinate transformation: MRI (surface RAS) -> head\n",
      "     1.000000  0.000000  0.000000       0.00 mm\n",
      "     0.000000  1.000000  0.000000       0.00 mm\n",
      "     0.000000  0.000000  1.000000       0.00 mm\n",
      "     0.000000  0.000000  0.000000       1.00\n",
      "\n",
      "Read  64 EEG channels from info\n",
      "Head coordinate coil definitions created.\n",
      "Source spaces are now in head coordinates.\n",
      "\n",
      "Using the sphere model.\n",
      "\n",
      "Using the equivalent source approach in the homogeneous sphere for EEG\n",
      "Computing EEG at 17437 source locations (free orientations)...\n"
     ]
    },
    {
     "name": "stderr",
     "output_type": "stream",
     "text": [
      "[Parallel(n_jobs=1)]: Using backend SequentialBackend with 1 concurrent workers.\n"
     ]
    },
    {
     "name": "stdout",
     "output_type": "stream",
     "text": [
      "\n",
      "Finished.\n",
      "EEG channel type selected for re-referencing\n",
      "Applying REST reference.\n",
      "Applying a custom ('EEG',) reference.\n"
     ]
    },
    {
     "name": "stderr",
     "output_type": "stream",
     "text": [
      "[Parallel(n_jobs=1)]: Done   1 out of   1 | elapsed:    3.2s remaining:    0.0s\n",
      "[Parallel(n_jobs=1)]: Done   1 out of   1 | elapsed:    3.2s finished\n"
     ]
    },
    {
     "name": "stdout",
     "output_type": "stream",
     "text": [
      "    62 out of 64 channels remain after picking\n",
      "Interpolating bad channels\n",
      "    Automatic origin fit: head of radius 95.0 mm\n",
      "Computing interpolation matrix from 62 sensor positions\n",
      "Interpolating 2 sensors\n",
      "EEG channel type selected for re-referencing\n",
      "Applying average reference.\n",
      "Applying a custom ('EEG',) reference.\n"
     ]
    },
    {
     "name": "stderr",
     "output_type": "stream",
     "text": [
      "/var/folders/mq/knftmst16037tkq__p96znfh0000gn/T/ipykernel_82026/3955720515.py:11: RuntimeWarning: No bad channels to interpolate. Doing nothing...\n",
      "  epochs_a_ave.interpolate_bads(reset_bads=True, mode='accurate', origin='auto', method=None, exclude=(), verbose=None)\n"
     ]
    },
    {
     "name": "stdout",
     "output_type": "stream",
     "text": [
      "Fitted sphere radius:         95.0 mm\n",
      "Origin head coordinates:      0.0 -0.0 40.1 mm\n",
      "Origin device coordinates:    0.0 -0.0 40.1 mm\n",
      "Fitted sphere radius:         95.0 mm\n",
      "Origin head coordinates:      0.0 -0.0 40.1 mm\n",
      "Origin device coordinates:    0.0 -0.0 40.1 mm\n",
      "\n",
      "Equiv. model fitting -> RV = 0.00491618 %\n",
      "mu1 = 0.94375    lambda1 = 0.13988\n",
      "mu2 = 0.662436    lambda2 = 0.696795\n",
      "mu3 = 0.290512    lambda3 = -0.0263051\n",
      "Set up EEG sphere model with scalp radius    95.0 mm\n",
      "\n",
      "Sphere                : origin at (0.0 -0.0 40.1) mm\n",
      "              radius  : 85.5 mm\n",
      "grid                  : 5.0 mm\n",
      "mindist               : 5.0 mm\n",
      "\n",
      "Setting up the sphere...\n",
      "Surface CM = (   0.0   -0.0   40.1) mm\n",
      "Surface fits inside a sphere with radius   85.5 mm\n",
      "Surface extent:\n",
      "    x =  -85.5 ...   85.5 mm\n",
      "    y =  -85.5 ...   85.5 mm\n",
      "    z =  -45.4 ...  125.6 mm\n",
      "Grid extent:\n",
      "    x =  -90.0 ...   90.0 mm\n",
      "    y =  -90.0 ...   90.0 mm\n",
      "    z =  -50.0 ...  130.0 mm\n",
      "50653 sources before omitting any.\n",
      "20895 sources after omitting infeasible sources not within 0.0 - 85.5 mm.\n",
      "17437 sources remaining after excluding the sources outside the surface and less than    5.0 mm inside.\n",
      "Adjusting the neighborhood info.\n",
      "Source space : MRI voxel -> MRI (surface RAS)\n",
      "     0.005000  0.000000  0.000000     -90.00 mm\n",
      "     0.000000  0.005000  0.000000     -90.00 mm\n",
      "     0.000000  0.000000  0.005000     -50.00 mm\n",
      "     0.000000  0.000000  0.000000       1.00\n",
      "Source space          : <SourceSpaces: [<discrete, n_used=17437>] MRI (surface RAS) coords, ~12.6 MB>\n",
      "MRI -> head transform : identity\n",
      "Measurement data      : instance of Info\n",
      "Sphere model      : origin at [ 5.07590205e-09 -2.27468297e-08  4.01488980e-02] mm\n",
      "Standard field computations\n",
      "Do computations in head coordinates\n",
      "Free source orientations\n",
      "\n",
      "Read 1 source spaces a total of 17437 active source locations\n",
      "\n",
      "Coordinate transformation: MRI (surface RAS) -> head\n",
      "     1.000000  0.000000  0.000000       0.00 mm\n",
      "     0.000000  1.000000  0.000000       0.00 mm\n",
      "     0.000000  0.000000  1.000000       0.00 mm\n",
      "     0.000000  0.000000  0.000000       1.00\n",
      "\n",
      "Read  64 EEG channels from info\n",
      "Head coordinate coil definitions created.\n",
      "Source spaces are now in head coordinates.\n",
      "\n",
      "Using the sphere model.\n",
      "\n",
      "Using the equivalent source approach in the homogeneous sphere for EEG\n",
      "Computing EEG at 17437 source locations (free orientations)...\n"
     ]
    },
    {
     "name": "stderr",
     "output_type": "stream",
     "text": [
      "[Parallel(n_jobs=1)]: Using backend SequentialBackend with 1 concurrent workers.\n"
     ]
    },
    {
     "name": "stdout",
     "output_type": "stream",
     "text": [
      "\n",
      "Finished.\n",
      "EEG channel type selected for re-referencing\n",
      "Applying REST reference.\n",
      "Applying a custom ('EEG',) reference.\n"
     ]
    },
    {
     "name": "stderr",
     "output_type": "stream",
     "text": [
      "[Parallel(n_jobs=1)]: Done   1 out of   1 | elapsed:    3.1s remaining:    0.0s\n",
      "[Parallel(n_jobs=1)]: Done   1 out of   1 | elapsed:    3.1s finished\n"
     ]
    },
    {
     "name": "stdout",
     "output_type": "stream",
     "text": [
      "    64 out of 64 channels remain after picking\n"
     ]
    },
    {
     "name": "stderr",
     "output_type": "stream",
     "text": [
      "/var/folders/mq/knftmst16037tkq__p96znfh0000gn/T/ipykernel_82026/3955720515.py:23: RuntimeWarning: No bad channels to interpolate. Doing nothing...\n",
      "  epochs_a_rest.interpolate_bads(reset_bads=True, mode='accurate', origin='auto', method=None, exclude=(), verbose=None)\n"
     ]
    },
    {
     "name": "stdout",
     "output_type": "stream",
     "text": [
      "EEG channel type selected for re-referencing\n",
      "Applying average reference.\n",
      "Applying a custom ('EEG',) reference.\n",
      "Interpolating bad channels\n",
      "    Automatic origin fit: head of radius 95.0 mm\n",
      "Computing interpolation matrix from 63 sensor positions\n",
      "Interpolating 1 sensors\n",
      "Fitted sphere radius:         95.0 mm\n",
      "Origin head coordinates:      0.0 -0.0 40.1 mm\n",
      "Origin device coordinates:    0.0 -0.0 40.1 mm\n",
      "Fitted sphere radius:         95.0 mm\n",
      "Origin head coordinates:      0.0 -0.0 40.1 mm\n",
      "Origin device coordinates:    0.0 -0.0 40.1 mm\n",
      "\n",
      "Equiv. model fitting -> RV = 0.00491618 %\n",
      "mu1 = 0.94375    lambda1 = 0.13988\n",
      "mu2 = 0.662436    lambda2 = 0.696795\n",
      "mu3 = 0.290512    lambda3 = -0.0263051\n",
      "Set up EEG sphere model with scalp radius    95.0 mm\n",
      "\n",
      "Sphere                : origin at (0.0 -0.0 40.1) mm\n",
      "              radius  : 85.5 mm\n",
      "grid                  : 5.0 mm\n",
      "mindist               : 5.0 mm\n",
      "\n",
      "Setting up the sphere...\n",
      "Surface CM = (   0.0   -0.0   40.1) mm\n",
      "Surface fits inside a sphere with radius   85.5 mm\n",
      "Surface extent:\n",
      "    x =  -85.5 ...   85.5 mm\n",
      "    y =  -85.5 ...   85.5 mm\n",
      "    z =  -45.4 ...  125.6 mm\n",
      "Grid extent:\n",
      "    x =  -90.0 ...   90.0 mm\n",
      "    y =  -90.0 ...   90.0 mm\n",
      "    z =  -50.0 ...  130.0 mm\n",
      "50653 sources before omitting any.\n",
      "20895 sources after omitting infeasible sources not within 0.0 - 85.5 mm.\n",
      "17437 sources remaining after excluding the sources outside the surface and less than    5.0 mm inside.\n",
      "Adjusting the neighborhood info.\n",
      "Source space : MRI voxel -> MRI (surface RAS)\n",
      "     0.005000  0.000000  0.000000     -90.00 mm\n",
      "     0.000000  0.005000  0.000000     -90.00 mm\n",
      "     0.000000  0.000000  0.005000     -50.00 mm\n",
      "     0.000000  0.000000  0.000000       1.00\n",
      "Source space          : <SourceSpaces: [<discrete, n_used=17437>] MRI (surface RAS) coords, ~12.6 MB>\n",
      "MRI -> head transform : identity\n",
      "Measurement data      : instance of Info\n",
      "Sphere model      : origin at [ 5.07590205e-09 -2.27468297e-08  4.01488980e-02] mm\n",
      "Standard field computations\n",
      "Do computations in head coordinates\n",
      "Free source orientations\n",
      "\n",
      "Read 1 source spaces a total of 17437 active source locations\n",
      "\n",
      "Coordinate transformation: MRI (surface RAS) -> head\n",
      "     1.000000  0.000000  0.000000       0.00 mm\n",
      "     0.000000  1.000000  0.000000       0.00 mm\n",
      "     0.000000  0.000000  1.000000       0.00 mm\n",
      "     0.000000  0.000000  0.000000       1.00\n",
      "\n",
      "Read  64 EEG channels from info\n",
      "Head coordinate coil definitions created.\n",
      "Source spaces are now in head coordinates.\n",
      "\n",
      "Using the sphere model.\n",
      "\n",
      "Using the equivalent source approach in the homogeneous sphere for EEG\n",
      "Computing EEG at 17437 source locations (free orientations)...\n"
     ]
    },
    {
     "name": "stderr",
     "output_type": "stream",
     "text": [
      "[Parallel(n_jobs=1)]: Using backend SequentialBackend with 1 concurrent workers.\n"
     ]
    },
    {
     "name": "stdout",
     "output_type": "stream",
     "text": [
      "\n",
      "Finished.\n",
      "EEG channel type selected for re-referencing\n",
      "Applying REST reference.\n",
      "Applying a custom ('EEG',) reference.\n"
     ]
    },
    {
     "name": "stderr",
     "output_type": "stream",
     "text": [
      "[Parallel(n_jobs=1)]: Done   1 out of   1 | elapsed:    3.1s remaining:    0.0s\n",
      "[Parallel(n_jobs=1)]: Done   1 out of   1 | elapsed:    3.1s finished\n"
     ]
    },
    {
     "name": "stdout",
     "output_type": "stream",
     "text": [
      "    63 out of 64 channels remain after picking\n",
      "Interpolating bad channels\n",
      "    Automatic origin fit: head of radius 95.0 mm\n",
      "Computing interpolation matrix from 63 sensor positions\n",
      "Interpolating 1 sensors\n",
      "EEG channel type selected for re-referencing\n",
      "Applying average reference.\n",
      "Applying a custom ('EEG',) reference.\n"
     ]
    },
    {
     "name": "stderr",
     "output_type": "stream",
     "text": [
      "/var/folders/mq/knftmst16037tkq__p96znfh0000gn/T/ipykernel_82026/3955720515.py:11: RuntimeWarning: No bad channels to interpolate. Doing nothing...\n",
      "  epochs_a_ave.interpolate_bads(reset_bads=True, mode='accurate', origin='auto', method=None, exclude=(), verbose=None)\n"
     ]
    },
    {
     "name": "stdout",
     "output_type": "stream",
     "text": [
      "Fitted sphere radius:         95.0 mm\n",
      "Origin head coordinates:      0.0 -0.0 40.1 mm\n",
      "Origin device coordinates:    0.0 -0.0 40.1 mm\n",
      "Fitted sphere radius:         95.0 mm\n",
      "Origin head coordinates:      0.0 -0.0 40.1 mm\n",
      "Origin device coordinates:    0.0 -0.0 40.1 mm\n",
      "\n",
      "Equiv. model fitting -> RV = 0.00491618 %\n",
      "mu1 = 0.94375    lambda1 = 0.13988\n",
      "mu2 = 0.662436    lambda2 = 0.696795\n",
      "mu3 = 0.290512    lambda3 = -0.0263051\n",
      "Set up EEG sphere model with scalp radius    95.0 mm\n",
      "\n",
      "Sphere                : origin at (0.0 -0.0 40.1) mm\n",
      "              radius  : 85.5 mm\n",
      "grid                  : 5.0 mm\n",
      "mindist               : 5.0 mm\n",
      "\n",
      "Setting up the sphere...\n",
      "Surface CM = (   0.0   -0.0   40.1) mm\n",
      "Surface fits inside a sphere with radius   85.5 mm\n",
      "Surface extent:\n",
      "    x =  -85.5 ...   85.5 mm\n",
      "    y =  -85.5 ...   85.5 mm\n",
      "    z =  -45.4 ...  125.6 mm\n",
      "Grid extent:\n",
      "    x =  -90.0 ...   90.0 mm\n",
      "    y =  -90.0 ...   90.0 mm\n",
      "    z =  -50.0 ...  130.0 mm\n",
      "50653 sources before omitting any.\n",
      "20895 sources after omitting infeasible sources not within 0.0 - 85.5 mm.\n",
      "17437 sources remaining after excluding the sources outside the surface and less than    5.0 mm inside.\n",
      "Adjusting the neighborhood info.\n",
      "Source space : MRI voxel -> MRI (surface RAS)\n",
      "     0.005000  0.000000  0.000000     -90.00 mm\n",
      "     0.000000  0.005000  0.000000     -90.00 mm\n",
      "     0.000000  0.000000  0.005000     -50.00 mm\n",
      "     0.000000  0.000000  0.000000       1.00\n",
      "Source space          : <SourceSpaces: [<discrete, n_used=17437>] MRI (surface RAS) coords, ~12.6 MB>\n",
      "MRI -> head transform : identity\n",
      "Measurement data      : instance of Info\n",
      "Sphere model      : origin at [ 5.07590205e-09 -2.27468297e-08  4.01488980e-02] mm\n",
      "Standard field computations\n",
      "Do computations in head coordinates\n",
      "Free source orientations\n",
      "\n",
      "Read 1 source spaces a total of 17437 active source locations\n",
      "\n",
      "Coordinate transformation: MRI (surface RAS) -> head\n",
      "     1.000000  0.000000  0.000000       0.00 mm\n",
      "     0.000000  1.000000  0.000000       0.00 mm\n",
      "     0.000000  0.000000  1.000000       0.00 mm\n",
      "     0.000000  0.000000  0.000000       1.00\n",
      "\n",
      "Read  64 EEG channels from info\n",
      "Head coordinate coil definitions created.\n",
      "Source spaces are now in head coordinates.\n",
      "\n",
      "Using the sphere model.\n",
      "\n",
      "Using the equivalent source approach in the homogeneous sphere for EEG\n",
      "Computing EEG at 17437 source locations (free orientations)...\n"
     ]
    },
    {
     "name": "stderr",
     "output_type": "stream",
     "text": [
      "[Parallel(n_jobs=1)]: Using backend SequentialBackend with 1 concurrent workers.\n"
     ]
    },
    {
     "name": "stdout",
     "output_type": "stream",
     "text": [
      "\n",
      "Finished.\n",
      "EEG channel type selected for re-referencing\n",
      "Applying REST reference.\n",
      "Applying a custom ('EEG',) reference.\n"
     ]
    },
    {
     "name": "stderr",
     "output_type": "stream",
     "text": [
      "[Parallel(n_jobs=1)]: Done   1 out of   1 | elapsed:    3.1s remaining:    0.0s\n",
      "[Parallel(n_jobs=1)]: Done   1 out of   1 | elapsed:    3.1s finished\n"
     ]
    },
    {
     "name": "stdout",
     "output_type": "stream",
     "text": [
      "    64 out of 64 channels remain after picking\n"
     ]
    },
    {
     "name": "stderr",
     "output_type": "stream",
     "text": [
      "/var/folders/mq/knftmst16037tkq__p96znfh0000gn/T/ipykernel_82026/3955720515.py:23: RuntimeWarning: No bad channels to interpolate. Doing nothing...\n",
      "  epochs_a_rest.interpolate_bads(reset_bads=True, mode='accurate', origin='auto', method=None, exclude=(), verbose=None)\n"
     ]
    },
    {
     "name": "stdout",
     "output_type": "stream",
     "text": [
      "EEG channel type selected for re-referencing\n",
      "Applying average reference.\n",
      "Applying a custom ('EEG',) reference.\n"
     ]
    },
    {
     "name": "stderr",
     "output_type": "stream",
     "text": [
      "/var/folders/mq/knftmst16037tkq__p96znfh0000gn/T/ipykernel_82026/3955720515.py:33: RuntimeWarning: No bad channels to interpolate. Doing nothing...\n",
      "  epochs_b_ave.interpolate_bads(reset_bads=True, mode='accurate', origin='auto', method=None, exclude=(), verbose=None)\n"
     ]
    },
    {
     "name": "stdout",
     "output_type": "stream",
     "text": [
      "Fitted sphere radius:         95.0 mm\n",
      "Origin head coordinates:      0.0 -0.0 40.1 mm\n",
      "Origin device coordinates:    0.0 -0.0 40.1 mm\n",
      "Fitted sphere radius:         95.0 mm\n",
      "Origin head coordinates:      0.0 -0.0 40.1 mm\n",
      "Origin device coordinates:    0.0 -0.0 40.1 mm\n",
      "\n",
      "Equiv. model fitting -> RV = 0.00491618 %\n",
      "mu1 = 0.94375    lambda1 = 0.13988\n",
      "mu2 = 0.662436    lambda2 = 0.696795\n",
      "mu3 = 0.290512    lambda3 = -0.0263051\n",
      "Set up EEG sphere model with scalp radius    95.0 mm\n",
      "\n",
      "Sphere                : origin at (0.0 -0.0 40.1) mm\n",
      "              radius  : 85.5 mm\n",
      "grid                  : 5.0 mm\n",
      "mindist               : 5.0 mm\n",
      "\n",
      "Setting up the sphere...\n",
      "Surface CM = (   0.0   -0.0   40.1) mm\n",
      "Surface fits inside a sphere with radius   85.5 mm\n",
      "Surface extent:\n",
      "    x =  -85.5 ...   85.5 mm\n",
      "    y =  -85.5 ...   85.5 mm\n",
      "    z =  -45.4 ...  125.6 mm\n",
      "Grid extent:\n",
      "    x =  -90.0 ...   90.0 mm\n",
      "    y =  -90.0 ...   90.0 mm\n",
      "    z =  -50.0 ...  130.0 mm\n",
      "50653 sources before omitting any.\n",
      "20895 sources after omitting infeasible sources not within 0.0 - 85.5 mm.\n",
      "17437 sources remaining after excluding the sources outside the surface and less than    5.0 mm inside.\n",
      "Adjusting the neighborhood info.\n",
      "Source space : MRI voxel -> MRI (surface RAS)\n",
      "     0.005000  0.000000  0.000000     -90.00 mm\n",
      "     0.000000  0.005000  0.000000     -90.00 mm\n",
      "     0.000000  0.000000  0.005000     -50.00 mm\n",
      "     0.000000  0.000000  0.000000       1.00\n",
      "Source space          : <SourceSpaces: [<discrete, n_used=17437>] MRI (surface RAS) coords, ~12.6 MB>\n",
      "MRI -> head transform : identity\n",
      "Measurement data      : instance of Info\n",
      "Sphere model      : origin at [ 5.07590205e-09 -2.27468297e-08  4.01488980e-02] mm\n",
      "Standard field computations\n",
      "Do computations in head coordinates\n",
      "Free source orientations\n",
      "\n",
      "Read 1 source spaces a total of 17437 active source locations\n",
      "\n",
      "Coordinate transformation: MRI (surface RAS) -> head\n",
      "     1.000000  0.000000  0.000000       0.00 mm\n",
      "     0.000000  1.000000  0.000000       0.00 mm\n",
      "     0.000000  0.000000  1.000000       0.00 mm\n",
      "     0.000000  0.000000  0.000000       1.00\n",
      "\n",
      "Read  64 EEG channels from info\n",
      "Head coordinate coil definitions created.\n",
      "Source spaces are now in head coordinates.\n",
      "\n",
      "Using the sphere model.\n",
      "\n",
      "Using the equivalent source approach in the homogeneous sphere for EEG\n",
      "Computing EEG at 17437 source locations (free orientations)...\n"
     ]
    },
    {
     "name": "stderr",
     "output_type": "stream",
     "text": [
      "[Parallel(n_jobs=1)]: Using backend SequentialBackend with 1 concurrent workers.\n"
     ]
    },
    {
     "name": "stdout",
     "output_type": "stream",
     "text": [
      "\n",
      "Finished.\n",
      "EEG channel type selected for re-referencing\n",
      "Applying REST reference.\n",
      "Applying a custom ('EEG',) reference.\n"
     ]
    },
    {
     "name": "stderr",
     "output_type": "stream",
     "text": [
      "[Parallel(n_jobs=1)]: Done   1 out of   1 | elapsed:    3.1s remaining:    0.0s\n",
      "[Parallel(n_jobs=1)]: Done   1 out of   1 | elapsed:    3.1s finished\n"
     ]
    },
    {
     "name": "stdout",
     "output_type": "stream",
     "text": [
      "    64 out of 64 channels remain after picking\n"
     ]
    },
    {
     "name": "stderr",
     "output_type": "stream",
     "text": [
      "/var/folders/mq/knftmst16037tkq__p96znfh0000gn/T/ipykernel_82026/3955720515.py:45: RuntimeWarning: No bad channels to interpolate. Doing nothing...\n",
      "  epochs_b_rest.interpolate_bads(reset_bads=True, mode='accurate', origin='auto', method=None, exclude=(), verbose=None)\n"
     ]
    },
    {
     "name": "stdout",
     "output_type": "stream",
     "text": [
      "EEG channel type selected for re-referencing\n",
      "Applying average reference.\n",
      "Applying a custom ('EEG',) reference.\n"
     ]
    },
    {
     "name": "stderr",
     "output_type": "stream",
     "text": [
      "/var/folders/mq/knftmst16037tkq__p96znfh0000gn/T/ipykernel_82026/3955720515.py:11: RuntimeWarning: No bad channels to interpolate. Doing nothing...\n",
      "  epochs_a_ave.interpolate_bads(reset_bads=True, mode='accurate', origin='auto', method=None, exclude=(), verbose=None)\n"
     ]
    },
    {
     "name": "stdout",
     "output_type": "stream",
     "text": [
      "Fitted sphere radius:         95.0 mm\n",
      "Origin head coordinates:      0.0 -0.0 40.1 mm\n",
      "Origin device coordinates:    0.0 -0.0 40.1 mm\n",
      "Fitted sphere radius:         95.0 mm\n",
      "Origin head coordinates:      0.0 -0.0 40.1 mm\n",
      "Origin device coordinates:    0.0 -0.0 40.1 mm\n",
      "\n",
      "Equiv. model fitting -> RV = 0.00491618 %\n",
      "mu1 = 0.94375    lambda1 = 0.13988\n",
      "mu2 = 0.662436    lambda2 = 0.696795\n",
      "mu3 = 0.290512    lambda3 = -0.0263051\n",
      "Set up EEG sphere model with scalp radius    95.0 mm\n",
      "\n",
      "Sphere                : origin at (0.0 -0.0 40.1) mm\n",
      "              radius  : 85.5 mm\n",
      "grid                  : 5.0 mm\n",
      "mindist               : 5.0 mm\n",
      "\n",
      "Setting up the sphere...\n",
      "Surface CM = (   0.0   -0.0   40.1) mm\n",
      "Surface fits inside a sphere with radius   85.5 mm\n",
      "Surface extent:\n",
      "    x =  -85.5 ...   85.5 mm\n",
      "    y =  -85.5 ...   85.5 mm\n",
      "    z =  -45.4 ...  125.6 mm\n",
      "Grid extent:\n",
      "    x =  -90.0 ...   90.0 mm\n",
      "    y =  -90.0 ...   90.0 mm\n",
      "    z =  -50.0 ...  130.0 mm\n",
      "50653 sources before omitting any.\n",
      "20895 sources after omitting infeasible sources not within 0.0 - 85.5 mm.\n",
      "17437 sources remaining after excluding the sources outside the surface and less than    5.0 mm inside.\n",
      "Adjusting the neighborhood info.\n",
      "Source space : MRI voxel -> MRI (surface RAS)\n",
      "     0.005000  0.000000  0.000000     -90.00 mm\n",
      "     0.000000  0.005000  0.000000     -90.00 mm\n",
      "     0.000000  0.000000  0.005000     -50.00 mm\n",
      "     0.000000  0.000000  0.000000       1.00\n",
      "Source space          : <SourceSpaces: [<discrete, n_used=17437>] MRI (surface RAS) coords, ~12.6 MB>\n",
      "MRI -> head transform : identity\n",
      "Measurement data      : instance of Info\n",
      "Sphere model      : origin at [ 5.07590205e-09 -2.27468297e-08  4.01488980e-02] mm\n",
      "Standard field computations\n",
      "Do computations in head coordinates\n",
      "Free source orientations\n",
      "\n",
      "Read 1 source spaces a total of 17437 active source locations\n",
      "\n",
      "Coordinate transformation: MRI (surface RAS) -> head\n",
      "     1.000000  0.000000  0.000000       0.00 mm\n",
      "     0.000000  1.000000  0.000000       0.00 mm\n",
      "     0.000000  0.000000  1.000000       0.00 mm\n",
      "     0.000000  0.000000  0.000000       1.00\n",
      "\n",
      "Read  64 EEG channels from info\n",
      "Head coordinate coil definitions created.\n",
      "Source spaces are now in head coordinates.\n",
      "\n",
      "Using the sphere model.\n",
      "\n",
      "Using the equivalent source approach in the homogeneous sphere for EEG\n",
      "Computing EEG at 17437 source locations (free orientations)...\n"
     ]
    },
    {
     "name": "stderr",
     "output_type": "stream",
     "text": [
      "[Parallel(n_jobs=1)]: Using backend SequentialBackend with 1 concurrent workers.\n"
     ]
    },
    {
     "name": "stdout",
     "output_type": "stream",
     "text": [
      "\n",
      "Finished.\n",
      "EEG channel type selected for re-referencing\n",
      "Applying REST reference.\n",
      "Applying a custom ('EEG',) reference.\n"
     ]
    },
    {
     "name": "stderr",
     "output_type": "stream",
     "text": [
      "[Parallel(n_jobs=1)]: Done   1 out of   1 | elapsed:    3.2s remaining:    0.0s\n",
      "[Parallel(n_jobs=1)]: Done   1 out of   1 | elapsed:    3.2s finished\n"
     ]
    },
    {
     "name": "stdout",
     "output_type": "stream",
     "text": [
      "    64 out of 64 channels remain after picking\n"
     ]
    },
    {
     "name": "stderr",
     "output_type": "stream",
     "text": [
      "/var/folders/mq/knftmst16037tkq__p96znfh0000gn/T/ipykernel_82026/3955720515.py:23: RuntimeWarning: No bad channels to interpolate. Doing nothing...\n",
      "  epochs_a_rest.interpolate_bads(reset_bads=True, mode='accurate', origin='auto', method=None, exclude=(), verbose=None)\n"
     ]
    },
    {
     "name": "stdout",
     "output_type": "stream",
     "text": [
      "EEG channel type selected for re-referencing\n",
      "Applying average reference.\n",
      "Applying a custom ('EEG',) reference.\n"
     ]
    },
    {
     "name": "stderr",
     "output_type": "stream",
     "text": [
      "/var/folders/mq/knftmst16037tkq__p96znfh0000gn/T/ipykernel_82026/3955720515.py:33: RuntimeWarning: No bad channels to interpolate. Doing nothing...\n",
      "  epochs_b_ave.interpolate_bads(reset_bads=True, mode='accurate', origin='auto', method=None, exclude=(), verbose=None)\n"
     ]
    },
    {
     "name": "stdout",
     "output_type": "stream",
     "text": [
      "Fitted sphere radius:         95.0 mm\n",
      "Origin head coordinates:      0.0 -0.0 40.1 mm\n",
      "Origin device coordinates:    0.0 -0.0 40.1 mm\n",
      "Fitted sphere radius:         95.0 mm\n",
      "Origin head coordinates:      0.0 -0.0 40.1 mm\n",
      "Origin device coordinates:    0.0 -0.0 40.1 mm\n",
      "\n",
      "Equiv. model fitting -> RV = 0.00491618 %\n",
      "mu1 = 0.94375    lambda1 = 0.13988\n",
      "mu2 = 0.662436    lambda2 = 0.696795\n",
      "mu3 = 0.290512    lambda3 = -0.0263051\n",
      "Set up EEG sphere model with scalp radius    95.0 mm\n",
      "\n",
      "Sphere                : origin at (0.0 -0.0 40.1) mm\n",
      "              radius  : 85.5 mm\n",
      "grid                  : 5.0 mm\n",
      "mindist               : 5.0 mm\n",
      "\n",
      "Setting up the sphere...\n",
      "Surface CM = (   0.0   -0.0   40.1) mm\n",
      "Surface fits inside a sphere with radius   85.5 mm\n",
      "Surface extent:\n",
      "    x =  -85.5 ...   85.5 mm\n",
      "    y =  -85.5 ...   85.5 mm\n",
      "    z =  -45.4 ...  125.6 mm\n",
      "Grid extent:\n",
      "    x =  -90.0 ...   90.0 mm\n",
      "    y =  -90.0 ...   90.0 mm\n",
      "    z =  -50.0 ...  130.0 mm\n",
      "50653 sources before omitting any.\n",
      "20895 sources after omitting infeasible sources not within 0.0 - 85.5 mm.\n",
      "17437 sources remaining after excluding the sources outside the surface and less than    5.0 mm inside.\n",
      "Adjusting the neighborhood info.\n",
      "Source space : MRI voxel -> MRI (surface RAS)\n",
      "     0.005000  0.000000  0.000000     -90.00 mm\n",
      "     0.000000  0.005000  0.000000     -90.00 mm\n",
      "     0.000000  0.000000  0.005000     -50.00 mm\n",
      "     0.000000  0.000000  0.000000       1.00\n",
      "Source space          : <SourceSpaces: [<discrete, n_used=17437>] MRI (surface RAS) coords, ~12.6 MB>\n",
      "MRI -> head transform : identity\n",
      "Measurement data      : instance of Info\n",
      "Sphere model      : origin at [ 5.07590205e-09 -2.27468297e-08  4.01488980e-02] mm\n",
      "Standard field computations\n",
      "Do computations in head coordinates\n",
      "Free source orientations\n",
      "\n",
      "Read 1 source spaces a total of 17437 active source locations\n",
      "\n",
      "Coordinate transformation: MRI (surface RAS) -> head\n",
      "     1.000000  0.000000  0.000000       0.00 mm\n",
      "     0.000000  1.000000  0.000000       0.00 mm\n",
      "     0.000000  0.000000  1.000000       0.00 mm\n",
      "     0.000000  0.000000  0.000000       1.00\n",
      "\n",
      "Read  64 EEG channels from info\n",
      "Head coordinate coil definitions created.\n",
      "Source spaces are now in head coordinates.\n",
      "\n",
      "Using the sphere model.\n",
      "\n",
      "Using the equivalent source approach in the homogeneous sphere for EEG\n",
      "Computing EEG at 17437 source locations (free orientations)...\n"
     ]
    },
    {
     "name": "stderr",
     "output_type": "stream",
     "text": [
      "[Parallel(n_jobs=1)]: Using backend SequentialBackend with 1 concurrent workers.\n"
     ]
    },
    {
     "name": "stdout",
     "output_type": "stream",
     "text": [
      "\n",
      "Finished.\n",
      "EEG channel type selected for re-referencing\n",
      "Applying REST reference.\n",
      "Applying a custom ('EEG',) reference.\n"
     ]
    },
    {
     "name": "stderr",
     "output_type": "stream",
     "text": [
      "[Parallel(n_jobs=1)]: Done   1 out of   1 | elapsed:    3.1s remaining:    0.0s\n",
      "[Parallel(n_jobs=1)]: Done   1 out of   1 | elapsed:    3.1s finished\n"
     ]
    },
    {
     "name": "stdout",
     "output_type": "stream",
     "text": [
      "    64 out of 64 channels remain after picking\n"
     ]
    },
    {
     "name": "stderr",
     "output_type": "stream",
     "text": [
      "/var/folders/mq/knftmst16037tkq__p96znfh0000gn/T/ipykernel_82026/3955720515.py:45: RuntimeWarning: No bad channels to interpolate. Doing nothing...\n",
      "  epochs_b_rest.interpolate_bads(reset_bads=True, mode='accurate', origin='auto', method=None, exclude=(), verbose=None)\n"
     ]
    },
    {
     "name": "stdout",
     "output_type": "stream",
     "text": [
      "EEG channel type selected for re-referencing\n",
      "Applying average reference.\n",
      "Applying a custom ('EEG',) reference.\n",
      "Interpolating bad channels\n",
      "    Automatic origin fit: head of radius 95.0 mm\n",
      "Computing interpolation matrix from 63 sensor positions\n",
      "Interpolating 1 sensors\n",
      "Fitted sphere radius:         95.0 mm\n",
      "Origin head coordinates:      0.0 -0.0 40.1 mm\n",
      "Origin device coordinates:    0.0 -0.0 40.1 mm\n",
      "Fitted sphere radius:         95.0 mm\n",
      "Origin head coordinates:      0.0 -0.0 40.1 mm\n",
      "Origin device coordinates:    0.0 -0.0 40.1 mm\n",
      "\n",
      "Equiv. model fitting -> RV = 0.00491618 %\n",
      "mu1 = 0.94375    lambda1 = 0.13988\n",
      "mu2 = 0.662436    lambda2 = 0.696795\n",
      "mu3 = 0.290512    lambda3 = -0.0263051\n",
      "Set up EEG sphere model with scalp radius    95.0 mm\n",
      "\n",
      "Sphere                : origin at (0.0 -0.0 40.1) mm\n",
      "              radius  : 85.5 mm\n",
      "grid                  : 5.0 mm\n",
      "mindist               : 5.0 mm\n",
      "\n",
      "Setting up the sphere...\n",
      "Surface CM = (   0.0   -0.0   40.1) mm\n",
      "Surface fits inside a sphere with radius   85.5 mm\n",
      "Surface extent:\n",
      "    x =  -85.5 ...   85.5 mm\n",
      "    y =  -85.5 ...   85.5 mm\n",
      "    z =  -45.4 ...  125.6 mm\n",
      "Grid extent:\n",
      "    x =  -90.0 ...   90.0 mm\n",
      "    y =  -90.0 ...   90.0 mm\n",
      "    z =  -50.0 ...  130.0 mm\n",
      "50653 sources before omitting any.\n",
      "20895 sources after omitting infeasible sources not within 0.0 - 85.5 mm.\n",
      "17437 sources remaining after excluding the sources outside the surface and less than    5.0 mm inside.\n",
      "Adjusting the neighborhood info.\n",
      "Source space : MRI voxel -> MRI (surface RAS)\n",
      "     0.005000  0.000000  0.000000     -90.00 mm\n",
      "     0.000000  0.005000  0.000000     -90.00 mm\n",
      "     0.000000  0.000000  0.005000     -50.00 mm\n",
      "     0.000000  0.000000  0.000000       1.00\n",
      "Source space          : <SourceSpaces: [<discrete, n_used=17437>] MRI (surface RAS) coords, ~12.6 MB>\n",
      "MRI -> head transform : identity\n",
      "Measurement data      : instance of Info\n",
      "Sphere model      : origin at [ 5.07590205e-09 -2.27468297e-08  4.01488980e-02] mm\n",
      "Standard field computations\n",
      "Do computations in head coordinates\n",
      "Free source orientations\n",
      "\n",
      "Read 1 source spaces a total of 17437 active source locations\n",
      "\n",
      "Coordinate transformation: MRI (surface RAS) -> head\n",
      "     1.000000  0.000000  0.000000       0.00 mm\n",
      "     0.000000  1.000000  0.000000       0.00 mm\n",
      "     0.000000  0.000000  1.000000       0.00 mm\n",
      "     0.000000  0.000000  0.000000       1.00\n",
      "\n",
      "Read  64 EEG channels from info\n",
      "Head coordinate coil definitions created.\n",
      "Source spaces are now in head coordinates.\n",
      "\n",
      "Using the sphere model.\n",
      "\n",
      "Using the equivalent source approach in the homogeneous sphere for EEG\n",
      "Computing EEG at 17437 source locations (free orientations)...\n"
     ]
    },
    {
     "name": "stderr",
     "output_type": "stream",
     "text": [
      "[Parallel(n_jobs=1)]: Using backend SequentialBackend with 1 concurrent workers.\n"
     ]
    },
    {
     "name": "stdout",
     "output_type": "stream",
     "text": [
      "\n",
      "Finished.\n",
      "EEG channel type selected for re-referencing\n",
      "Applying REST reference.\n",
      "Applying a custom ('EEG',) reference.\n"
     ]
    },
    {
     "name": "stderr",
     "output_type": "stream",
     "text": [
      "[Parallel(n_jobs=1)]: Done   1 out of   1 | elapsed:    3.1s remaining:    0.0s\n",
      "[Parallel(n_jobs=1)]: Done   1 out of   1 | elapsed:    3.1s finished\n"
     ]
    },
    {
     "name": "stdout",
     "output_type": "stream",
     "text": [
      "    63 out of 64 channels remain after picking\n",
      "Interpolating bad channels\n",
      "    Automatic origin fit: head of radius 95.0 mm\n",
      "Computing interpolation matrix from 63 sensor positions\n",
      "Interpolating 1 sensors\n",
      "EEG channel type selected for re-referencing\n",
      "Applying average reference.\n",
      "Applying a custom ('EEG',) reference.\n",
      "Interpolating bad channels\n",
      "    Automatic origin fit: head of radius 95.0 mm\n",
      "Computing interpolation matrix from 63 sensor positions\n",
      "Interpolating 1 sensors\n",
      "Fitted sphere radius:         95.0 mm\n",
      "Origin head coordinates:      0.0 -0.0 40.1 mm\n",
      "Origin device coordinates:    0.0 -0.0 40.1 mm\n",
      "Fitted sphere radius:         95.0 mm\n",
      "Origin head coordinates:      0.0 -0.0 40.1 mm\n",
      "Origin device coordinates:    0.0 -0.0 40.1 mm\n",
      "\n",
      "Equiv. model fitting -> RV = 0.00491618 %\n",
      "mu1 = 0.94375    lambda1 = 0.13988\n",
      "mu2 = 0.662436    lambda2 = 0.696795\n",
      "mu3 = 0.290512    lambda3 = -0.0263051\n",
      "Set up EEG sphere model with scalp radius    95.0 mm\n",
      "\n",
      "Sphere                : origin at (0.0 -0.0 40.1) mm\n",
      "              radius  : 85.5 mm\n",
      "grid                  : 5.0 mm\n",
      "mindist               : 5.0 mm\n",
      "\n",
      "Setting up the sphere...\n",
      "Surface CM = (   0.0   -0.0   40.1) mm\n",
      "Surface fits inside a sphere with radius   85.5 mm\n",
      "Surface extent:\n",
      "    x =  -85.5 ...   85.5 mm\n",
      "    y =  -85.5 ...   85.5 mm\n",
      "    z =  -45.4 ...  125.6 mm\n",
      "Grid extent:\n",
      "    x =  -90.0 ...   90.0 mm\n",
      "    y =  -90.0 ...   90.0 mm\n",
      "    z =  -50.0 ...  130.0 mm\n",
      "50653 sources before omitting any.\n",
      "20895 sources after omitting infeasible sources not within 0.0 - 85.5 mm.\n",
      "17437 sources remaining after excluding the sources outside the surface and less than    5.0 mm inside.\n",
      "Adjusting the neighborhood info.\n",
      "Source space : MRI voxel -> MRI (surface RAS)\n",
      "     0.005000  0.000000  0.000000     -90.00 mm\n",
      "     0.000000  0.005000  0.000000     -90.00 mm\n",
      "     0.000000  0.000000  0.005000     -50.00 mm\n",
      "     0.000000  0.000000  0.000000       1.00\n",
      "Source space          : <SourceSpaces: [<discrete, n_used=17437>] MRI (surface RAS) coords, ~12.6 MB>\n",
      "MRI -> head transform : identity\n",
      "Measurement data      : instance of Info\n",
      "Sphere model      : origin at [ 5.07590205e-09 -2.27468297e-08  4.01488980e-02] mm\n",
      "Standard field computations\n",
      "Do computations in head coordinates\n",
      "Free source orientations\n",
      "\n",
      "Read 1 source spaces a total of 17437 active source locations\n",
      "\n",
      "Coordinate transformation: MRI (surface RAS) -> head\n",
      "     1.000000  0.000000  0.000000       0.00 mm\n",
      "     0.000000  1.000000  0.000000       0.00 mm\n",
      "     0.000000  0.000000  1.000000       0.00 mm\n",
      "     0.000000  0.000000  0.000000       1.00\n",
      "\n",
      "Read  64 EEG channels from info\n",
      "Head coordinate coil definitions created.\n",
      "Source spaces are now in head coordinates.\n",
      "\n",
      "Using the sphere model.\n",
      "\n",
      "Using the equivalent source approach in the homogeneous sphere for EEG\n",
      "Computing EEG at 17437 source locations (free orientations)...\n"
     ]
    },
    {
     "name": "stderr",
     "output_type": "stream",
     "text": [
      "[Parallel(n_jobs=1)]: Using backend SequentialBackend with 1 concurrent workers.\n"
     ]
    },
    {
     "name": "stdout",
     "output_type": "stream",
     "text": [
      "\n",
      "Finished.\n",
      "EEG channel type selected for re-referencing\n",
      "Applying REST reference.\n",
      "Applying a custom ('EEG',) reference.\n"
     ]
    },
    {
     "name": "stderr",
     "output_type": "stream",
     "text": [
      "[Parallel(n_jobs=1)]: Done   1 out of   1 | elapsed:    3.1s remaining:    0.0s\n",
      "[Parallel(n_jobs=1)]: Done   1 out of   1 | elapsed:    3.1s finished\n"
     ]
    },
    {
     "name": "stdout",
     "output_type": "stream",
     "text": [
      "    63 out of 64 channels remain after picking\n",
      "Interpolating bad channels\n",
      "    Automatic origin fit: head of radius 95.0 mm\n",
      "Computing interpolation matrix from 63 sensor positions\n",
      "Interpolating 1 sensors\n",
      "EEG channel type selected for re-referencing\n",
      "Applying average reference.\n",
      "Applying a custom ('EEG',) reference.\n",
      "Interpolating bad channels\n",
      "    Automatic origin fit: head of radius 95.0 mm\n",
      "Computing interpolation matrix from 63 sensor positions\n",
      "Interpolating 1 sensors\n",
      "Fitted sphere radius:         95.0 mm\n",
      "Origin head coordinates:      0.0 -0.0 40.1 mm\n",
      "Origin device coordinates:    0.0 -0.0 40.1 mm\n",
      "Fitted sphere radius:         95.0 mm\n",
      "Origin head coordinates:      0.0 -0.0 40.1 mm\n",
      "Origin device coordinates:    0.0 -0.0 40.1 mm\n",
      "\n",
      "Equiv. model fitting -> RV = 0.00491618 %\n",
      "mu1 = 0.94375    lambda1 = 0.13988\n",
      "mu2 = 0.662436    lambda2 = 0.696795\n",
      "mu3 = 0.290512    lambda3 = -0.0263051\n",
      "Set up EEG sphere model with scalp radius    95.0 mm\n",
      "\n",
      "Sphere                : origin at (0.0 -0.0 40.1) mm\n",
      "              radius  : 85.5 mm\n",
      "grid                  : 5.0 mm\n",
      "mindist               : 5.0 mm\n",
      "\n",
      "Setting up the sphere...\n",
      "Surface CM = (   0.0   -0.0   40.1) mm\n",
      "Surface fits inside a sphere with radius   85.5 mm\n",
      "Surface extent:\n",
      "    x =  -85.5 ...   85.5 mm\n",
      "    y =  -85.5 ...   85.5 mm\n",
      "    z =  -45.4 ...  125.6 mm\n",
      "Grid extent:\n",
      "    x =  -90.0 ...   90.0 mm\n",
      "    y =  -90.0 ...   90.0 mm\n",
      "    z =  -50.0 ...  130.0 mm\n",
      "50653 sources before omitting any.\n",
      "20895 sources after omitting infeasible sources not within 0.0 - 85.5 mm.\n",
      "17437 sources remaining after excluding the sources outside the surface and less than    5.0 mm inside.\n",
      "Adjusting the neighborhood info.\n",
      "Source space : MRI voxel -> MRI (surface RAS)\n",
      "     0.005000  0.000000  0.000000     -90.00 mm\n",
      "     0.000000  0.005000  0.000000     -90.00 mm\n",
      "     0.000000  0.000000  0.005000     -50.00 mm\n",
      "     0.000000  0.000000  0.000000       1.00\n",
      "Source space          : <SourceSpaces: [<discrete, n_used=17437>] MRI (surface RAS) coords, ~12.6 MB>\n",
      "MRI -> head transform : identity\n",
      "Measurement data      : instance of Info\n",
      "Sphere model      : origin at [ 5.07590205e-09 -2.27468297e-08  4.01488980e-02] mm\n",
      "Standard field computations\n",
      "Do computations in head coordinates\n",
      "Free source orientations\n",
      "\n",
      "Read 1 source spaces a total of 17437 active source locations\n",
      "\n",
      "Coordinate transformation: MRI (surface RAS) -> head\n",
      "     1.000000  0.000000  0.000000       0.00 mm\n",
      "     0.000000  1.000000  0.000000       0.00 mm\n",
      "     0.000000  0.000000  1.000000       0.00 mm\n",
      "     0.000000  0.000000  0.000000       1.00\n",
      "\n",
      "Read  64 EEG channels from info\n",
      "Head coordinate coil definitions created.\n",
      "Source spaces are now in head coordinates.\n",
      "\n",
      "Using the sphere model.\n",
      "\n",
      "Using the equivalent source approach in the homogeneous sphere for EEG\n",
      "Computing EEG at 17437 source locations (free orientations)...\n"
     ]
    },
    {
     "name": "stderr",
     "output_type": "stream",
     "text": [
      "[Parallel(n_jobs=1)]: Using backend SequentialBackend with 1 concurrent workers.\n"
     ]
    },
    {
     "name": "stdout",
     "output_type": "stream",
     "text": [
      "\n",
      "Finished.\n",
      "EEG channel type selected for re-referencing\n",
      "Applying REST reference.\n",
      "Applying a custom ('EEG',) reference.\n"
     ]
    },
    {
     "name": "stderr",
     "output_type": "stream",
     "text": [
      "[Parallel(n_jobs=1)]: Done   1 out of   1 | elapsed:    3.1s remaining:    0.0s\n",
      "[Parallel(n_jobs=1)]: Done   1 out of   1 | elapsed:    3.1s finished\n"
     ]
    },
    {
     "name": "stdout",
     "output_type": "stream",
     "text": [
      "    63 out of 64 channels remain after picking\n",
      "Interpolating bad channels\n",
      "    Automatic origin fit: head of radius 95.0 mm\n",
      "Computing interpolation matrix from 63 sensor positions\n",
      "Interpolating 1 sensors\n",
      "EEG channel type selected for re-referencing\n",
      "Applying average reference.\n",
      "Applying a custom ('EEG',) reference.\n",
      "Interpolating bad channels\n",
      "    Automatic origin fit: head of radius 95.0 mm\n",
      "Computing interpolation matrix from 62 sensor positions\n",
      "Interpolating 2 sensors\n",
      "Fitted sphere radius:         95.0 mm\n",
      "Origin head coordinates:      0.0 -0.0 40.1 mm\n",
      "Origin device coordinates:    0.0 -0.0 40.1 mm\n",
      "Fitted sphere radius:         95.0 mm\n",
      "Origin head coordinates:      0.0 -0.0 40.1 mm\n",
      "Origin device coordinates:    0.0 -0.0 40.1 mm\n",
      "\n",
      "Equiv. model fitting -> RV = 0.00491618 %\n",
      "mu1 = 0.94375    lambda1 = 0.13988\n",
      "mu2 = 0.662436    lambda2 = 0.696795\n",
      "mu3 = 0.290512    lambda3 = -0.0263051\n",
      "Set up EEG sphere model with scalp radius    95.0 mm\n",
      "\n",
      "Sphere                : origin at (0.0 -0.0 40.1) mm\n",
      "              radius  : 85.5 mm\n",
      "grid                  : 5.0 mm\n",
      "mindist               : 5.0 mm\n",
      "\n",
      "Setting up the sphere...\n",
      "Surface CM = (   0.0   -0.0   40.1) mm\n",
      "Surface fits inside a sphere with radius   85.5 mm\n",
      "Surface extent:\n",
      "    x =  -85.5 ...   85.5 mm\n",
      "    y =  -85.5 ...   85.5 mm\n",
      "    z =  -45.4 ...  125.6 mm\n",
      "Grid extent:\n",
      "    x =  -90.0 ...   90.0 mm\n",
      "    y =  -90.0 ...   90.0 mm\n",
      "    z =  -50.0 ...  130.0 mm\n",
      "50653 sources before omitting any.\n",
      "20895 sources after omitting infeasible sources not within 0.0 - 85.5 mm.\n",
      "17437 sources remaining after excluding the sources outside the surface and less than    5.0 mm inside.\n",
      "Adjusting the neighborhood info.\n",
      "Source space : MRI voxel -> MRI (surface RAS)\n",
      "     0.005000  0.000000  0.000000     -90.00 mm\n",
      "     0.000000  0.005000  0.000000     -90.00 mm\n",
      "     0.000000  0.000000  0.005000     -50.00 mm\n",
      "     0.000000  0.000000  0.000000       1.00\n",
      "Source space          : <SourceSpaces: [<discrete, n_used=17437>] MRI (surface RAS) coords, ~12.6 MB>\n",
      "MRI -> head transform : identity\n",
      "Measurement data      : instance of Info\n",
      "Sphere model      : origin at [ 5.07590205e-09 -2.27468297e-08  4.01488980e-02] mm\n",
      "Standard field computations\n",
      "Do computations in head coordinates\n",
      "Free source orientations\n",
      "\n",
      "Read 1 source spaces a total of 17437 active source locations\n",
      "\n",
      "Coordinate transformation: MRI (surface RAS) -> head\n",
      "     1.000000  0.000000  0.000000       0.00 mm\n",
      "     0.000000  1.000000  0.000000       0.00 mm\n",
      "     0.000000  0.000000  1.000000       0.00 mm\n",
      "     0.000000  0.000000  0.000000       1.00\n",
      "\n",
      "Read  64 EEG channels from info\n",
      "Head coordinate coil definitions created.\n",
      "Source spaces are now in head coordinates.\n",
      "\n",
      "Using the sphere model.\n",
      "\n",
      "Using the equivalent source approach in the homogeneous sphere for EEG\n",
      "Computing EEG at 17437 source locations (free orientations)...\n"
     ]
    },
    {
     "name": "stderr",
     "output_type": "stream",
     "text": [
      "[Parallel(n_jobs=1)]: Using backend SequentialBackend with 1 concurrent workers.\n"
     ]
    },
    {
     "name": "stdout",
     "output_type": "stream",
     "text": [
      "\n",
      "Finished.\n",
      "EEG channel type selected for re-referencing\n",
      "Applying REST reference.\n",
      "Applying a custom ('EEG',) reference.\n"
     ]
    },
    {
     "name": "stderr",
     "output_type": "stream",
     "text": [
      "[Parallel(n_jobs=1)]: Done   1 out of   1 | elapsed:    3.1s remaining:    0.0s\n",
      "[Parallel(n_jobs=1)]: Done   1 out of   1 | elapsed:    3.1s finished\n"
     ]
    },
    {
     "name": "stdout",
     "output_type": "stream",
     "text": [
      "    62 out of 64 channels remain after picking\n",
      "Interpolating bad channels\n",
      "    Automatic origin fit: head of radius 95.0 mm\n",
      "Computing interpolation matrix from 62 sensor positions\n",
      "Interpolating 2 sensors\n",
      "EEG channel type selected for re-referencing\n",
      "Applying average reference.\n",
      "Applying a custom ('EEG',) reference.\n",
      "Fitted sphere radius:         95.0 mm\n",
      "Origin head coordinates:      0.0 -0.0 40.1 mm\n",
      "Origin device coordinates:    0.0 -0.0 40.1 mm\n"
     ]
    },
    {
     "name": "stderr",
     "output_type": "stream",
     "text": [
      "/var/folders/mq/knftmst16037tkq__p96znfh0000gn/T/ipykernel_82026/3955720515.py:11: RuntimeWarning: No bad channels to interpolate. Doing nothing...\n",
      "  epochs_a_ave.interpolate_bads(reset_bads=True, mode='accurate', origin='auto', method=None, exclude=(), verbose=None)\n"
     ]
    },
    {
     "name": "stdout",
     "output_type": "stream",
     "text": [
      "Fitted sphere radius:         95.0 mm\n",
      "Origin head coordinates:      0.0 -0.0 40.1 mm\n",
      "Origin device coordinates:    0.0 -0.0 40.1 mm\n",
      "\n",
      "Equiv. model fitting -> RV = 0.00491618 %\n",
      "mu1 = 0.94375    lambda1 = 0.13988\n",
      "mu2 = 0.662436    lambda2 = 0.696795\n",
      "mu3 = 0.290512    lambda3 = -0.0263051\n",
      "Set up EEG sphere model with scalp radius    95.0 mm\n",
      "\n",
      "Sphere                : origin at (0.0 -0.0 40.1) mm\n",
      "              radius  : 85.5 mm\n",
      "grid                  : 5.0 mm\n",
      "mindist               : 5.0 mm\n",
      "\n",
      "Setting up the sphere...\n",
      "Surface CM = (   0.0   -0.0   40.1) mm\n",
      "Surface fits inside a sphere with radius   85.5 mm\n",
      "Surface extent:\n",
      "    x =  -85.5 ...   85.5 mm\n",
      "    y =  -85.5 ...   85.5 mm\n",
      "    z =  -45.4 ...  125.6 mm\n",
      "Grid extent:\n",
      "    x =  -90.0 ...   90.0 mm\n",
      "    y =  -90.0 ...   90.0 mm\n",
      "    z =  -50.0 ...  130.0 mm\n",
      "50653 sources before omitting any.\n",
      "20895 sources after omitting infeasible sources not within 0.0 - 85.5 mm.\n",
      "17437 sources remaining after excluding the sources outside the surface and less than    5.0 mm inside.\n",
      "Adjusting the neighborhood info.\n",
      "Source space : MRI voxel -> MRI (surface RAS)\n",
      "     0.005000  0.000000  0.000000     -90.00 mm\n",
      "     0.000000  0.005000  0.000000     -90.00 mm\n",
      "     0.000000  0.000000  0.005000     -50.00 mm\n",
      "     0.000000  0.000000  0.000000       1.00\n",
      "Source space          : <SourceSpaces: [<discrete, n_used=17437>] MRI (surface RAS) coords, ~12.6 MB>\n",
      "MRI -> head transform : identity\n",
      "Measurement data      : instance of Info\n",
      "Sphere model      : origin at [ 5.07590205e-09 -2.27468297e-08  4.01488980e-02] mm\n",
      "Standard field computations\n",
      "Do computations in head coordinates\n",
      "Free source orientations\n",
      "\n",
      "Read 1 source spaces a total of 17437 active source locations\n",
      "\n",
      "Coordinate transformation: MRI (surface RAS) -> head\n",
      "     1.000000  0.000000  0.000000       0.00 mm\n",
      "     0.000000  1.000000  0.000000       0.00 mm\n",
      "     0.000000  0.000000  1.000000       0.00 mm\n",
      "     0.000000  0.000000  0.000000       1.00\n",
      "\n",
      "Read  64 EEG channels from info\n",
      "Head coordinate coil definitions created.\n",
      "Source spaces are now in head coordinates.\n",
      "\n",
      "Using the sphere model.\n",
      "\n",
      "Using the equivalent source approach in the homogeneous sphere for EEG\n",
      "Computing EEG at 17437 source locations (free orientations)...\n"
     ]
    },
    {
     "name": "stderr",
     "output_type": "stream",
     "text": [
      "[Parallel(n_jobs=1)]: Using backend SequentialBackend with 1 concurrent workers.\n"
     ]
    },
    {
     "name": "stdout",
     "output_type": "stream",
     "text": [
      "\n",
      "Finished.\n",
      "EEG channel type selected for re-referencing\n",
      "Applying REST reference.\n",
      "Applying a custom ('EEG',) reference.\n"
     ]
    },
    {
     "name": "stderr",
     "output_type": "stream",
     "text": [
      "[Parallel(n_jobs=1)]: Done   1 out of   1 | elapsed:    3.1s remaining:    0.0s\n",
      "[Parallel(n_jobs=1)]: Done   1 out of   1 | elapsed:    3.1s finished\n"
     ]
    },
    {
     "name": "stdout",
     "output_type": "stream",
     "text": [
      "    64 out of 64 channels remain after picking\n"
     ]
    },
    {
     "name": "stderr",
     "output_type": "stream",
     "text": [
      "/var/folders/mq/knftmst16037tkq__p96znfh0000gn/T/ipykernel_82026/3955720515.py:23: RuntimeWarning: No bad channels to interpolate. Doing nothing...\n",
      "  epochs_a_rest.interpolate_bads(reset_bads=True, mode='accurate', origin='auto', method=None, exclude=(), verbose=None)\n"
     ]
    },
    {
     "name": "stdout",
     "output_type": "stream",
     "text": [
      "EEG channel type selected for re-referencing\n",
      "Applying average reference.\n",
      "Applying a custom ('EEG',) reference.\n",
      "Fitted sphere radius:         95.0 mm\n",
      "Origin head coordinates:      0.0 -0.0 40.1 mm\n",
      "Origin device coordinates:    0.0 -0.0 40.1 mm\n"
     ]
    },
    {
     "name": "stderr",
     "output_type": "stream",
     "text": [
      "/var/folders/mq/knftmst16037tkq__p96znfh0000gn/T/ipykernel_82026/3955720515.py:33: RuntimeWarning: No bad channels to interpolate. Doing nothing...\n",
      "  epochs_b_ave.interpolate_bads(reset_bads=True, mode='accurate', origin='auto', method=None, exclude=(), verbose=None)\n"
     ]
    },
    {
     "name": "stdout",
     "output_type": "stream",
     "text": [
      "Fitted sphere radius:         95.0 mm\n",
      "Origin head coordinates:      0.0 -0.0 40.1 mm\n",
      "Origin device coordinates:    0.0 -0.0 40.1 mm\n",
      "\n",
      "Equiv. model fitting -> RV = 0.00491618 %\n",
      "mu1 = 0.94375    lambda1 = 0.13988\n",
      "mu2 = 0.662436    lambda2 = 0.696795\n",
      "mu3 = 0.290512    lambda3 = -0.0263051\n",
      "Set up EEG sphere model with scalp radius    95.0 mm\n",
      "\n",
      "Sphere                : origin at (0.0 -0.0 40.1) mm\n",
      "              radius  : 85.5 mm\n",
      "grid                  : 5.0 mm\n",
      "mindist               : 5.0 mm\n",
      "\n",
      "Setting up the sphere...\n",
      "Surface CM = (   0.0   -0.0   40.1) mm\n",
      "Surface fits inside a sphere with radius   85.5 mm\n",
      "Surface extent:\n",
      "    x =  -85.5 ...   85.5 mm\n",
      "    y =  -85.5 ...   85.5 mm\n",
      "    z =  -45.4 ...  125.6 mm\n",
      "Grid extent:\n",
      "    x =  -90.0 ...   90.0 mm\n",
      "    y =  -90.0 ...   90.0 mm\n",
      "    z =  -50.0 ...  130.0 mm\n",
      "50653 sources before omitting any.\n",
      "20895 sources after omitting infeasible sources not within 0.0 - 85.5 mm.\n",
      "17437 sources remaining after excluding the sources outside the surface and less than    5.0 mm inside.\n",
      "Adjusting the neighborhood info.\n",
      "Source space : MRI voxel -> MRI (surface RAS)\n",
      "     0.005000  0.000000  0.000000     -90.00 mm\n",
      "     0.000000  0.005000  0.000000     -90.00 mm\n",
      "     0.000000  0.000000  0.005000     -50.00 mm\n",
      "     0.000000  0.000000  0.000000       1.00\n",
      "Source space          : <SourceSpaces: [<discrete, n_used=17437>] MRI (surface RAS) coords, ~12.6 MB>\n",
      "MRI -> head transform : identity\n",
      "Measurement data      : instance of Info\n",
      "Sphere model      : origin at [ 5.07590205e-09 -2.27468297e-08  4.01488980e-02] mm\n",
      "Standard field computations\n",
      "Do computations in head coordinates\n",
      "Free source orientations\n",
      "\n",
      "Read 1 source spaces a total of 17437 active source locations\n",
      "\n",
      "Coordinate transformation: MRI (surface RAS) -> head\n",
      "     1.000000  0.000000  0.000000       0.00 mm\n",
      "     0.000000  1.000000  0.000000       0.00 mm\n",
      "     0.000000  0.000000  1.000000       0.00 mm\n",
      "     0.000000  0.000000  0.000000       1.00\n",
      "\n",
      "Read  64 EEG channels from info\n",
      "Head coordinate coil definitions created.\n",
      "Source spaces are now in head coordinates.\n",
      "\n",
      "Using the sphere model.\n",
      "\n",
      "Using the equivalent source approach in the homogeneous sphere for EEG\n",
      "Computing EEG at 17437 source locations (free orientations)...\n"
     ]
    },
    {
     "name": "stderr",
     "output_type": "stream",
     "text": [
      "[Parallel(n_jobs=1)]: Using backend SequentialBackend with 1 concurrent workers.\n"
     ]
    },
    {
     "name": "stdout",
     "output_type": "stream",
     "text": [
      "\n",
      "Finished.\n",
      "EEG channel type selected for re-referencing\n",
      "Applying REST reference.\n",
      "Applying a custom ('EEG',) reference.\n",
      "    64 out of 64 channels remain after picking\n"
     ]
    },
    {
     "name": "stderr",
     "output_type": "stream",
     "text": [
      "[Parallel(n_jobs=1)]: Done   1 out of   1 | elapsed:    3.1s remaining:    0.0s\n",
      "[Parallel(n_jobs=1)]: Done   1 out of   1 | elapsed:    3.1s finished\n",
      "/var/folders/mq/knftmst16037tkq__p96znfh0000gn/T/ipykernel_82026/3955720515.py:45: RuntimeWarning: No bad channels to interpolate. Doing nothing...\n",
      "  epochs_b_rest.interpolate_bads(reset_bads=True, mode='accurate', origin='auto', method=None, exclude=(), verbose=None)\n"
     ]
    },
    {
     "name": "stdout",
     "output_type": "stream",
     "text": [
      "EEG channel type selected for re-referencing\n",
      "Applying average reference.\n",
      "Applying a custom ('EEG',) reference.\n",
      "Fitted sphere radius:         95.0 mm\n",
      "Origin head coordinates:      0.0 -0.0 40.1 mm\n",
      "Origin device coordinates:    0.0 -0.0 40.1 mm\n"
     ]
    },
    {
     "name": "stderr",
     "output_type": "stream",
     "text": [
      "/var/folders/mq/knftmst16037tkq__p96znfh0000gn/T/ipykernel_82026/3955720515.py:11: RuntimeWarning: No bad channels to interpolate. Doing nothing...\n",
      "  epochs_a_ave.interpolate_bads(reset_bads=True, mode='accurate', origin='auto', method=None, exclude=(), verbose=None)\n"
     ]
    },
    {
     "name": "stdout",
     "output_type": "stream",
     "text": [
      "Fitted sphere radius:         95.0 mm\n",
      "Origin head coordinates:      0.0 -0.0 40.1 mm\n",
      "Origin device coordinates:    0.0 -0.0 40.1 mm\n",
      "\n",
      "Equiv. model fitting -> RV = 0.00491618 %\n",
      "mu1 = 0.94375    lambda1 = 0.13988\n",
      "mu2 = 0.662436    lambda2 = 0.696795\n",
      "mu3 = 0.290512    lambda3 = -0.0263051\n",
      "Set up EEG sphere model with scalp radius    95.0 mm\n",
      "\n",
      "Sphere                : origin at (0.0 -0.0 40.1) mm\n",
      "              radius  : 85.5 mm\n",
      "grid                  : 5.0 mm\n",
      "mindist               : 5.0 mm\n",
      "\n",
      "Setting up the sphere...\n",
      "Surface CM = (   0.0   -0.0   40.1) mm\n",
      "Surface fits inside a sphere with radius   85.5 mm\n",
      "Surface extent:\n",
      "    x =  -85.5 ...   85.5 mm\n",
      "    y =  -85.5 ...   85.5 mm\n",
      "    z =  -45.4 ...  125.6 mm\n",
      "Grid extent:\n",
      "    x =  -90.0 ...   90.0 mm\n",
      "    y =  -90.0 ...   90.0 mm\n",
      "    z =  -50.0 ...  130.0 mm\n",
      "50653 sources before omitting any.\n",
      "20895 sources after omitting infeasible sources not within 0.0 - 85.5 mm.\n",
      "17437 sources remaining after excluding the sources outside the surface and less than    5.0 mm inside.\n",
      "Adjusting the neighborhood info.\n",
      "Source space : MRI voxel -> MRI (surface RAS)\n",
      "     0.005000  0.000000  0.000000     -90.00 mm\n",
      "     0.000000  0.005000  0.000000     -90.00 mm\n",
      "     0.000000  0.000000  0.005000     -50.00 mm\n",
      "     0.000000  0.000000  0.000000       1.00\n",
      "Source space          : <SourceSpaces: [<discrete, n_used=17437>] MRI (surface RAS) coords, ~12.6 MB>\n",
      "MRI -> head transform : identity\n",
      "Measurement data      : instance of Info\n",
      "Sphere model      : origin at [ 5.07590205e-09 -2.27468297e-08  4.01488980e-02] mm\n",
      "Standard field computations\n",
      "Do computations in head coordinates\n",
      "Free source orientations\n",
      "\n",
      "Read 1 source spaces a total of 17437 active source locations\n",
      "\n",
      "Coordinate transformation: MRI (surface RAS) -> head\n",
      "     1.000000  0.000000  0.000000       0.00 mm\n",
      "     0.000000  1.000000  0.000000       0.00 mm\n",
      "     0.000000  0.000000  1.000000       0.00 mm\n",
      "     0.000000  0.000000  0.000000       1.00\n",
      "\n",
      "Read  64 EEG channels from info\n",
      "Head coordinate coil definitions created.\n",
      "Source spaces are now in head coordinates.\n",
      "\n",
      "Using the sphere model.\n",
      "\n",
      "Using the equivalent source approach in the homogeneous sphere for EEG\n",
      "Computing EEG at 17437 source locations (free orientations)...\n"
     ]
    },
    {
     "name": "stderr",
     "output_type": "stream",
     "text": [
      "[Parallel(n_jobs=1)]: Using backend SequentialBackend with 1 concurrent workers.\n"
     ]
    },
    {
     "name": "stdout",
     "output_type": "stream",
     "text": [
      "\n",
      "Finished.\n",
      "EEG channel type selected for re-referencing\n",
      "Applying REST reference.\n",
      "Applying a custom ('EEG',) reference.\n"
     ]
    },
    {
     "name": "stderr",
     "output_type": "stream",
     "text": [
      "[Parallel(n_jobs=1)]: Done   1 out of   1 | elapsed:    3.2s remaining:    0.0s\n",
      "[Parallel(n_jobs=1)]: Done   1 out of   1 | elapsed:    3.2s finished\n"
     ]
    },
    {
     "name": "stdout",
     "output_type": "stream",
     "text": [
      "    64 out of 64 channels remain after picking\n"
     ]
    },
    {
     "name": "stderr",
     "output_type": "stream",
     "text": [
      "/var/folders/mq/knftmst16037tkq__p96znfh0000gn/T/ipykernel_82026/3955720515.py:23: RuntimeWarning: No bad channels to interpolate. Doing nothing...\n",
      "  epochs_a_rest.interpolate_bads(reset_bads=True, mode='accurate', origin='auto', method=None, exclude=(), verbose=None)\n"
     ]
    },
    {
     "name": "stdout",
     "output_type": "stream",
     "text": [
      "EEG channel type selected for re-referencing\n",
      "Applying average reference.\n",
      "Applying a custom ('EEG',) reference.\n",
      "Fitted sphere radius:         95.0 mm\n",
      "Origin head coordinates:      0.0 -0.0 40.1 mm\n",
      "Origin device coordinates:    0.0 -0.0 40.1 mm\n"
     ]
    },
    {
     "name": "stderr",
     "output_type": "stream",
     "text": [
      "/var/folders/mq/knftmst16037tkq__p96znfh0000gn/T/ipykernel_82026/3955720515.py:33: RuntimeWarning: No bad channels to interpolate. Doing nothing...\n",
      "  epochs_b_ave.interpolate_bads(reset_bads=True, mode='accurate', origin='auto', method=None, exclude=(), verbose=None)\n"
     ]
    },
    {
     "name": "stdout",
     "output_type": "stream",
     "text": [
      "Fitted sphere radius:         95.0 mm\n",
      "Origin head coordinates:      0.0 -0.0 40.1 mm\n",
      "Origin device coordinates:    0.0 -0.0 40.1 mm\n",
      "\n",
      "Equiv. model fitting -> RV = 0.00491618 %\n",
      "mu1 = 0.94375    lambda1 = 0.13988\n",
      "mu2 = 0.662436    lambda2 = 0.696795\n",
      "mu3 = 0.290512    lambda3 = -0.0263051\n",
      "Set up EEG sphere model with scalp radius    95.0 mm\n",
      "\n",
      "Sphere                : origin at (0.0 -0.0 40.1) mm\n",
      "              radius  : 85.5 mm\n",
      "grid                  : 5.0 mm\n",
      "mindist               : 5.0 mm\n",
      "\n",
      "Setting up the sphere...\n",
      "Surface CM = (   0.0   -0.0   40.1) mm\n",
      "Surface fits inside a sphere with radius   85.5 mm\n",
      "Surface extent:\n",
      "    x =  -85.5 ...   85.5 mm\n",
      "    y =  -85.5 ...   85.5 mm\n",
      "    z =  -45.4 ...  125.6 mm\n",
      "Grid extent:\n",
      "    x =  -90.0 ...   90.0 mm\n",
      "    y =  -90.0 ...   90.0 mm\n",
      "    z =  -50.0 ...  130.0 mm\n",
      "50653 sources before omitting any.\n",
      "20895 sources after omitting infeasible sources not within 0.0 - 85.5 mm.\n",
      "17437 sources remaining after excluding the sources outside the surface and less than    5.0 mm inside.\n",
      "Adjusting the neighborhood info.\n",
      "Source space : MRI voxel -> MRI (surface RAS)\n",
      "     0.005000  0.000000  0.000000     -90.00 mm\n",
      "     0.000000  0.005000  0.000000     -90.00 mm\n",
      "     0.000000  0.000000  0.005000     -50.00 mm\n",
      "     0.000000  0.000000  0.000000       1.00\n",
      "Source space          : <SourceSpaces: [<discrete, n_used=17437>] MRI (surface RAS) coords, ~12.6 MB>\n",
      "MRI -> head transform : identity\n",
      "Measurement data      : instance of Info\n",
      "Sphere model      : origin at [ 5.07590205e-09 -2.27468297e-08  4.01488980e-02] mm\n",
      "Standard field computations\n",
      "Do computations in head coordinates\n",
      "Free source orientations\n",
      "\n",
      "Read 1 source spaces a total of 17437 active source locations\n",
      "\n",
      "Coordinate transformation: MRI (surface RAS) -> head\n",
      "     1.000000  0.000000  0.000000       0.00 mm\n",
      "     0.000000  1.000000  0.000000       0.00 mm\n",
      "     0.000000  0.000000  1.000000       0.00 mm\n",
      "     0.000000  0.000000  0.000000       1.00\n",
      "\n",
      "Read  64 EEG channels from info\n",
      "Head coordinate coil definitions created.\n",
      "Source spaces are now in head coordinates.\n",
      "\n",
      "Using the sphere model.\n",
      "\n",
      "Using the equivalent source approach in the homogeneous sphere for EEG\n",
      "Computing EEG at 17437 source locations (free orientations)...\n"
     ]
    },
    {
     "name": "stderr",
     "output_type": "stream",
     "text": [
      "[Parallel(n_jobs=1)]: Using backend SequentialBackend with 1 concurrent workers.\n"
     ]
    },
    {
     "name": "stdout",
     "output_type": "stream",
     "text": [
      "\n",
      "Finished.\n",
      "EEG channel type selected for re-referencing\n",
      "Applying REST reference.\n",
      "Applying a custom ('EEG',) reference.\n"
     ]
    },
    {
     "name": "stderr",
     "output_type": "stream",
     "text": [
      "[Parallel(n_jobs=1)]: Done   1 out of   1 | elapsed:    3.1s remaining:    0.0s\n",
      "[Parallel(n_jobs=1)]: Done   1 out of   1 | elapsed:    3.1s finished\n"
     ]
    },
    {
     "name": "stdout",
     "output_type": "stream",
     "text": [
      "    64 out of 64 channels remain after picking\n"
     ]
    },
    {
     "name": "stderr",
     "output_type": "stream",
     "text": [
      "/var/folders/mq/knftmst16037tkq__p96znfh0000gn/T/ipykernel_82026/3955720515.py:45: RuntimeWarning: No bad channels to interpolate. Doing nothing...\n",
      "  epochs_b_rest.interpolate_bads(reset_bads=True, mode='accurate', origin='auto', method=None, exclude=(), verbose=None)\n"
     ]
    },
    {
     "name": "stdout",
     "output_type": "stream",
     "text": [
      "Dropped 0 epochs: \n",
      "The following epochs were marked as bad and are dropped:\n",
      "[]\n",
      "Channels marked as bad:\n",
      "none\n"
     ]
    }
   ],
   "source": [
    "for pair_n in pairs:\n",
    "    folder = f\"/Users/aliaksandrdabranau/Data/Mirror_game/pair{pair_n}\"\n",
    "    \n",
    "    ### — Subject A\n",
    "\n",
    "    ### loading the data\n",
    "    epochs_a = mne.read_epochs(pathlib.Path(folder+f'/{pair_n}a_beh_epo.fif'), verbose=False)\n",
    "\n",
    "    ### average referencing, bad channel interpolation, saving\n",
    "    epochs_a_ave = epochs_a.copy().set_eeg_reference(ref_channels='average')\n",
    "    epochs_a_ave.interpolate_bads(reset_bads=True, mode='accurate', origin='auto', method=None, exclude=(), verbose=None)\n",
    "    epochs_a_ave.save(pathlib.Path(folder+f'/{pair_n}a_ave_epo.fif'), overwrite=True, verbose=False)\n",
    "\n",
    "    ### Laplacian, saving (bad channels are already interpolated above)\n",
    "    epochs_a_csd = mne.preprocessing.compute_current_source_density(epochs_a_ave, stiffness=4)\n",
    "    epochs_a_csd.save(pathlib.Path(folder+f'/{pair_n}a_csd_epo.fif'), overwrite=True, verbose=False)\n",
    "\n",
    "    ### Infinity, bad channel interpolation, saving\n",
    "    sphere = mne.make_sphere_model('auto', 'auto', epochs_a.info)\n",
    "    src = mne.setup_volume_source_space(sphere=sphere, exclude=0.0, pos=5.0)\n",
    "    forward = mne.make_forward_solution(epochs_a.info, trans=None, src=src, bem=sphere)\n",
    "    epochs_a_rest = epochs_a.copy().set_eeg_reference('REST', forward=forward)\n",
    "    epochs_a_rest.interpolate_bads(reset_bads=True, mode='accurate', origin='auto', method=None, exclude=(), verbose=None)\n",
    "    epochs_a_rest.save(pathlib.Path(folder+f'/{pair_n}a_rest_epo.fif'), overwrite=True, verbose=False)\n",
    "\n",
    "    ### — Subject B\n",
    "\n",
    "    ### loading the data\n",
    "    epochs_b = mne.read_epochs(pathlib.Path(folder+f'/{pair_n}b_beh_epo.fif'), verbose=False)\n",
    "\n",
    "    ### average referencing, bad channel interpolation, saving\n",
    "    epochs_b_ave = epochs_b.copy().set_eeg_reference(ref_channels='average')\n",
    "    epochs_b_ave.interpolate_bads(reset_bads=True, mode='accurate', origin='auto', method=None, exclude=(), verbose=None)\n",
    "    epochs_b_ave.save(pathlib.Path(folder+f'/{pair_n}b_ave_epo.fif'), overwrite=True, verbose=False)\n",
    "\n",
    "    ### Laplacian, saving (bad channels are already interpolated above)\n",
    "    epochs_b_csd = mne.preprocessing.compute_current_source_density(epochs_b_ave, stiffness=4)\n",
    "    epochs_b_csd.save(pathlib.Path(folder+f'/{pair_n}b_csd_epo.fif'), overwrite=True, verbose=False)\n",
    "\n",
    "    ### Infinity, bad channel interpolation, saving\n",
    "    sphere = mne.make_sphere_model('auto', 'auto', epochs_b.info)\n",
    "    src = mne.setup_volume_source_space(sphere=sphere, exclude=0.0, pos=5.0)\n",
    "    forward = mne.make_forward_solution(epochs_a.info, trans=None, src=src, bem=sphere)\n",
    "    epochs_b_rest = epochs_b.copy().set_eeg_reference('REST', forward=forward)\n",
    "    epochs_b_rest.interpolate_bads(reset_bads=True, mode='accurate', origin='auto', method=None, exclude=(), verbose=None)\n",
    "    epochs_b_rest.save(pathlib.Path(folder+f'/{pair_n}b_rest_epo.fif'), overwrite=True, verbose=False)"
   ]
  },
  {
   "cell_type": "code",
   "execution_count": 118,
   "id": "07fbc409",
   "metadata": {},
   "outputs": [],
   "source": [
    "### Checking the difference\n",
    "\n",
    "epochs_a.plot(title=\"raw\", n_epochs = 1)\n",
    "epochs_a_ave.plot(title=\"average\", n_epochs = 1)\n",
    "epochs_a_csd.plot(title=\"csd\", n_epochs = 1)\n",
    "epochs_a_rest.plot(title=\"rest\", n_epochs = 1)"
   ]
  }
 ],
 "metadata": {
  "kernelspec": {
   "display_name": "Python 3 (ipykernel)",
   "language": "python",
   "name": "python3"
  },
  "language_info": {
   "codemirror_mode": {
    "name": "ipython",
    "version": 3
   },
   "file_extension": ".py",
   "mimetype": "text/x-python",
   "name": "python",
   "nbconvert_exporter": "python",
   "pygments_lexer": "ipython3",
   "version": "3.9.7"
  }
 },
 "nbformat": 4,
 "nbformat_minor": 5
}
