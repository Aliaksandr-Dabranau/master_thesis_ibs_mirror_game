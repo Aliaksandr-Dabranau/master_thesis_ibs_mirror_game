{
 "cells": [
  {
   "cell_type": "markdown",
   "id": "eea6f079",
   "metadata": {},
   "source": [
    "# Sensor-Space Analysis"
   ]
  },
  {
   "cell_type": "code",
   "execution_count": 1,
   "id": "3bd99c38",
   "metadata": {},
   "outputs": [],
   "source": [
    "### Importing packages\n",
    "\n",
    "# 1. Core\n",
    "\n",
    "import io\n",
    "import pickle\n",
    "from copy import copy\n",
    "from collections import OrderedDict\n",
    "import requests\n",
    "import pathlib\n",
    "import glob, os\n",
    "import itertools\n",
    "\n",
    "# 2. Data Science\n",
    "\n",
    "import numpy as np\n",
    "import pandas as pd\n",
    "import scipy\n",
    "\n",
    "# 3. Visualization\n",
    "\n",
    "import matplotlib.pyplot as plt\n",
    "from mpl_toolkits.mplot3d import Axes3D\n",
    "from hypyp.ext.mpl3d import glm\n",
    "from hypyp.ext.mpl3d.mesh import Mesh\n",
    "from hypyp.ext.mpl3d.camera import Camera\n",
    "\n",
    "# 4. Brain Core\n",
    "\n",
    "import mne\n",
    "import hypyp\n",
    "from mne.preprocessing import (ICA, corrmap)\n",
    "from hypyp import prep \n",
    "from hypyp import analyses\n",
    "from hypyp import stats\n",
    "from hypyp import viz"
   ]
  },
  {
   "cell_type": "markdown",
   "id": "e3158601",
   "metadata": {},
   "source": [
    "### 1. Defining functions for preparing the data"
   ]
  },
  {
   "cell_type": "code",
   "execution_count": 2,
   "id": "f8a29cc5",
   "metadata": {},
   "outputs": [],
   "source": [
    "### Defining a function for splitting the 25-s complex signal into 3-s segments for later use\n",
    "\n",
    "def segment_complex_signal(complex_signal, pair_n, condition, dict_with_bad_epochs):\n",
    "    complex_signal_no_baseline = complex_signal[:,:,:,:,513:] ### not including sample 0\n",
    "    all_short_epochs_list = []\n",
    "    for i in range(0,8):\n",
    "        n_samples = 256 * 3 ### corresponds to 3-second segments\n",
    "        short_epoch = complex_signal_no_baseline[:,:,:,:,n_samples*i:n_samples*(i+1)]\n",
    "        all_short_epochs_list.append(short_epoch)\n",
    "    complex_signal_short_epochs = np.concatenate(([i for i in all_short_epochs_list]),axis=1)\n",
    "    \n",
    "    # Removing bad epochs\n",
    "    \n",
    "    bad_epochs = dict_with_bad_epochs[pair_n + '_' + condition]\n",
    "    s1 = np.delete(complex_signal_short_epochs[0], obj = bad_epochs, axis = 0) ### for subject a\n",
    "    s2 = np.delete(complex_signal_short_epochs[1], obj = bad_epochs, axis = 0) ### for subject b\n",
    "    all_s_complex_signal_short_epochs = np.stack((s1,s2), axis=0)\n",
    "\n",
    "    print(f\"The shape of the matrix with all epochs: {complex_signal_short_epochs.shape}.\")\n",
    "    print(f\"The shape of the matrix without bad epochs: {all_s_complex_signal_short_epochs.shape}.\")\n",
    "\n",
    "    return(all_s_complex_signal_short_epochs)\n",
    "\n",
    "\n",
    "### Defining a segmenting function for cutting original epochs into 3 sec\n",
    "\n",
    "def segment_epochs(full_epochs, condition):\n",
    "    epochs_list = []\n",
    "    x = 0\n",
    "    k = 0 ### a time shifter to make sure all shorter epochs have the same times\n",
    "    for i in range(0,8):\n",
    "        shorter_epochs = full_epochs[condition].crop(tmin=x,tmax=x+3,include_tmax=False)\n",
    "        shorter_epochs.shift_time(k, relative=True)\n",
    "        epochs_list.append(shorter_epochs)\n",
    "        k = -x-3\n",
    "        x = x+3\n",
    "    conc_object = mne.concatenate_epochs(epochs_list, add_offset=True) ### concatenate\n",
    "    final_object = mne.EpochsArray(data = conc_object.get_data(), info = conc_object.info) ### resent indices\n",
    "    return(final_object)"
   ]
  },
  {
   "cell_type": "markdown",
   "id": "97146aa9",
   "metadata": {},
   "source": [
    "### 2. Calculating PLV values for symmetrical conditions: Control, Coupled, Individual"
   ]
  },
  {
   "cell_type": "markdown",
   "id": "a4c22757",
   "metadata": {},
   "source": [
    "##### 2.1. Creating a dictionary with bad short epochs"
   ]
  },
  {
   "cell_type": "code",
   "execution_count": 386,
   "id": "5e880df3",
   "metadata": {},
   "outputs": [],
   "source": [
    "# 1. Split original epochs into 3-s segments without saving (one data file by one).\n",
    "# 2. Accumulate the indices of bad (full of artifacts) epochs."
   ]
  },
  {
   "cell_type": "code",
   "execution_count": 34,
   "id": "f26c4fcd",
   "metadata": {},
   "outputs": [],
   "source": [
    "bad_short_epochs = {}"
   ]
  },
  {
   "cell_type": "code",
   "execution_count": 376,
   "id": "daa99532",
   "metadata": {},
   "outputs": [
    {
     "name": "stdout",
     "output_type": "stream",
     "text": [
      "Not setting metadata\n",
      "128 matching events found\n",
      "No baseline correction applied\n",
      "Not setting metadata\n",
      "128 matching events found\n",
      "No baseline correction applied\n",
      "0 projection items activated\n",
      "Not setting metadata\n",
      "128 matching events found\n",
      "No baseline correction applied\n",
      "Not setting metadata\n",
      "128 matching events found\n",
      "No baseline correction applied\n",
      "0 projection items activated\n"
     ]
    }
   ],
   "source": [
    "pair_n = '003'\n",
    "folder = f\"/Users/aliaksandrdabranau/Data/Mirror_game/pair{pair_n}\"\n",
    "\n",
    "condition = 'control'\n",
    "\n",
    "epochs_a = mne.read_epochs(pathlib.Path(folder+f'/{pair_n}a_ave_epo.fif'), verbose=False)\n",
    "epochs_b = mne.read_epochs(pathlib.Path(folder+f'/{pair_n}b_ave_epo.fif'), verbose=False)\n",
    "\n",
    "xxx_a = segment_epochs(epochs_a, condition)\n",
    "xxx_b = segment_epochs(epochs_b, condition)"
   ]
  },
  {
   "cell_type": "code",
   "execution_count": 377,
   "id": "50a824ba",
   "metadata": {},
   "outputs": [
    {
     "data": {
      "text/plain": [
       "<MNEBrowseFigure size 1600x1370 with 4 Axes>"
      ]
     },
     "execution_count": 377,
     "metadata": {},
     "output_type": "execute_result"
    },
    {
     "name": "stdout",
     "output_type": "stream",
     "text": [
      "Dropped 0 epochs: \n",
      "The following epochs were marked as bad and are dropped:\n",
      "[]\n",
      "Channels marked as bad:\n",
      "none\n"
     ]
    }
   ],
   "source": [
    "xxx_a.plot(n_epochs=4, n_channels = 64)"
   ]
  },
  {
   "cell_type": "code",
   "execution_count": 378,
   "id": "8847434c",
   "metadata": {},
   "outputs": [
    {
     "data": {
      "text/plain": [
       "<MNEBrowseFigure size 1600x1370 with 4 Axes>"
      ]
     },
     "execution_count": 378,
     "metadata": {},
     "output_type": "execute_result"
    },
    {
     "name": "stdout",
     "output_type": "stream",
     "text": [
      "Dropped 9 epochs: 7, 11, 23, 27, 29, 39, 44, 45, 71\n",
      "The following epochs were marked as bad and are dropped:\n",
      "[7, 11, 23, 27, 29, 39, 44, 45, 71]\n",
      "Channels marked as bad:\n",
      "none\n"
     ]
    }
   ],
   "source": [
    "xxx_b.plot(n_epochs=4, n_channels = 64)"
   ]
  },
  {
   "cell_type": "code",
   "execution_count": 374,
   "id": "3a1b6f79",
   "metadata": {},
   "outputs": [],
   "source": [
    "bad_short_epochs[pair_n + '_' + condition] = [70]"
   ]
  },
  {
   "cell_type": "code",
   "execution_count": 379,
   "id": "b80ea3cf",
   "metadata": {},
   "outputs": [],
   "source": [
    "### Save the dictionary\n",
    "\n",
    "with open('dict_with_short_bad_epochs_symmetrical.pickle', 'wb') as handle:\n",
    "    pickle.dump(bad_short_epochs, handle, protocol=pickle.HIGHEST_PROTOCOL)"
   ]
  },
  {
   "cell_type": "markdown",
   "id": "9effe743",
   "metadata": {},
   "source": [
    "##### 2.2. Following the pipeline to get the parameters"
   ]
  },
  {
   "cell_type": "code",
   "execution_count": 9,
   "id": "d030d5c2",
   "metadata": {},
   "outputs": [],
   "source": [
    "### Open the dictionary\n",
    "\n",
    "with open('dict_with_short_bad_epochs_symmetrical.pickle', 'rb') as f:\n",
    "    bad_short_epochs = pickle.load(f)"
   ]
  },
  {
   "cell_type": "code",
   "execution_count": 12,
   "id": "557231f1",
   "metadata": {
    "collapsed": true
   },
   "outputs": [
    {
     "name": "stdout",
     "output_type": "stream",
     "text": [
      "\n",
      "003 ave individual.\n",
      "The shape of the matrix with all epochs: (2, 128, 64, 5, 768).\n",
      "The shape of the matrix without bad epochs: (2, 125, 64, 5, 768).\n",
      "Proceeding to the next pair\n",
      "\n",
      "003 ave coupled.\n",
      "The shape of the matrix with all epochs: (2, 128, 64, 5, 768).\n",
      "The shape of the matrix without bad epochs: (2, 127, 64, 5, 768).\n",
      "Proceeding to the next pair\n",
      "\n",
      "003 ave control.\n",
      "The shape of the matrix with all epochs: (2, 128, 64, 5, 768).\n",
      "The shape of the matrix without bad epochs: (2, 116, 64, 5, 768).\n",
      "Proceeding to the next pair\n",
      "\n",
      "003 csd individual.\n",
      "The shape of the matrix with all epochs: (2, 128, 64, 5, 768).\n",
      "The shape of the matrix without bad epochs: (2, 125, 64, 5, 768).\n",
      "Proceeding to the next pair\n",
      "\n",
      "003 csd coupled.\n",
      "The shape of the matrix with all epochs: (2, 128, 64, 5, 768).\n",
      "The shape of the matrix without bad epochs: (2, 127, 64, 5, 768).\n",
      "Proceeding to the next pair\n",
      "\n",
      "003 csd control.\n",
      "The shape of the matrix with all epochs: (2, 128, 64, 5, 768).\n",
      "The shape of the matrix without bad epochs: (2, 116, 64, 5, 768).\n",
      "Proceeding to the next pair\n",
      "\n",
      "003 rest individual.\n",
      "The shape of the matrix with all epochs: (2, 128, 64, 5, 768).\n",
      "The shape of the matrix without bad epochs: (2, 125, 64, 5, 768).\n",
      "Proceeding to the next pair\n",
      "\n",
      "003 rest coupled.\n",
      "The shape of the matrix with all epochs: (2, 128, 64, 5, 768).\n",
      "The shape of the matrix without bad epochs: (2, 127, 64, 5, 768).\n",
      "Proceeding to the next pair\n",
      "\n",
      "003 rest control.\n",
      "The shape of the matrix with all epochs: (2, 128, 64, 5, 768).\n",
      "The shape of the matrix without bad epochs: (2, 116, 64, 5, 768).\n",
      "Proceeding to the next pair\n",
      "\n",
      "004 ave individual.\n",
      "The shape of the matrix with all epochs: (2, 128, 64, 5, 768).\n",
      "The shape of the matrix without bad epochs: (2, 123, 64, 5, 768).\n",
      "Proceeding to the next pair\n",
      "\n",
      "004 ave coupled.\n",
      "The shape of the matrix with all epochs: (2, 128, 64, 5, 768).\n",
      "The shape of the matrix without bad epochs: (2, 128, 64, 5, 768).\n",
      "Proceeding to the next pair\n",
      "\n",
      "004 ave control.\n",
      "The shape of the matrix with all epochs: (2, 128, 64, 5, 768).\n",
      "The shape of the matrix without bad epochs: (2, 124, 64, 5, 768).\n",
      "Proceeding to the next pair\n",
      "\n",
      "004 csd individual.\n",
      "The shape of the matrix with all epochs: (2, 128, 64, 5, 768).\n",
      "The shape of the matrix without bad epochs: (2, 123, 64, 5, 768).\n",
      "Proceeding to the next pair\n",
      "\n",
      "004 csd coupled.\n",
      "The shape of the matrix with all epochs: (2, 128, 64, 5, 768).\n",
      "The shape of the matrix without bad epochs: (2, 128, 64, 5, 768).\n",
      "Proceeding to the next pair\n",
      "\n",
      "004 csd control.\n",
      "The shape of the matrix with all epochs: (2, 128, 64, 5, 768).\n",
      "The shape of the matrix without bad epochs: (2, 124, 64, 5, 768).\n",
      "Proceeding to the next pair\n",
      "\n",
      "004 rest individual.\n",
      "The shape of the matrix with all epochs: (2, 128, 64, 5, 768).\n",
      "The shape of the matrix without bad epochs: (2, 123, 64, 5, 768).\n",
      "Proceeding to the next pair\n",
      "\n",
      "004 rest coupled.\n",
      "The shape of the matrix with all epochs: (2, 128, 64, 5, 768).\n",
      "The shape of the matrix without bad epochs: (2, 128, 64, 5, 768).\n",
      "Proceeding to the next pair\n",
      "\n",
      "004 rest control.\n",
      "The shape of the matrix with all epochs: (2, 128, 64, 5, 768).\n",
      "The shape of the matrix without bad epochs: (2, 124, 64, 5, 768).\n",
      "Proceeding to the next pair\n",
      "\n",
      "005 ave individual.\n",
      "The shape of the matrix with all epochs: (2, 128, 64, 5, 768).\n",
      "The shape of the matrix without bad epochs: (2, 127, 64, 5, 768).\n",
      "Proceeding to the next pair\n",
      "\n",
      "005 ave coupled.\n",
      "The shape of the matrix with all epochs: (2, 128, 64, 5, 768).\n",
      "The shape of the matrix without bad epochs: (2, 128, 64, 5, 768).\n",
      "Proceeding to the next pair\n",
      "\n",
      "005 ave control.\n",
      "The shape of the matrix with all epochs: (2, 128, 64, 5, 768).\n",
      "The shape of the matrix without bad epochs: (2, 121, 64, 5, 768).\n",
      "Proceeding to the next pair\n",
      "\n",
      "005 csd individual.\n",
      "The shape of the matrix with all epochs: (2, 128, 64, 5, 768).\n",
      "The shape of the matrix without bad epochs: (2, 127, 64, 5, 768).\n",
      "Proceeding to the next pair\n",
      "\n",
      "005 csd coupled.\n",
      "The shape of the matrix with all epochs: (2, 128, 64, 5, 768).\n",
      "The shape of the matrix without bad epochs: (2, 128, 64, 5, 768).\n",
      "Proceeding to the next pair\n",
      "\n",
      "005 csd control.\n",
      "The shape of the matrix with all epochs: (2, 128, 64, 5, 768).\n",
      "The shape of the matrix without bad epochs: (2, 121, 64, 5, 768).\n",
      "Proceeding to the next pair\n",
      "\n",
      "005 rest individual.\n",
      "The shape of the matrix with all epochs: (2, 128, 64, 5, 768).\n",
      "The shape of the matrix without bad epochs: (2, 127, 64, 5, 768).\n",
      "Proceeding to the next pair\n",
      "\n",
      "005 rest coupled.\n",
      "The shape of the matrix with all epochs: (2, 128, 64, 5, 768).\n",
      "The shape of the matrix without bad epochs: (2, 128, 64, 5, 768).\n",
      "Proceeding to the next pair\n",
      "\n",
      "005 rest control.\n",
      "The shape of the matrix with all epochs: (2, 128, 64, 5, 768).\n",
      "The shape of the matrix without bad epochs: (2, 121, 64, 5, 768).\n",
      "Proceeding to the next pair\n",
      "\n",
      "007 ave individual.\n",
      "The shape of the matrix with all epochs: (2, 128, 64, 5, 768).\n",
      "The shape of the matrix without bad epochs: (2, 121, 64, 5, 768).\n",
      "Proceeding to the next pair\n",
      "\n",
      "007 ave coupled.\n",
      "The shape of the matrix with all epochs: (2, 128, 64, 5, 768).\n",
      "The shape of the matrix without bad epochs: (2, 122, 64, 5, 768).\n",
      "Proceeding to the next pair\n",
      "\n",
      "007 ave control.\n",
      "The shape of the matrix with all epochs: (2, 128, 64, 5, 768).\n",
      "The shape of the matrix without bad epochs: (2, 117, 64, 5, 768).\n",
      "Proceeding to the next pair\n",
      "\n",
      "007 csd individual.\n",
      "The shape of the matrix with all epochs: (2, 128, 64, 5, 768).\n",
      "The shape of the matrix without bad epochs: (2, 121, 64, 5, 768).\n",
      "Proceeding to the next pair\n",
      "\n",
      "007 csd coupled.\n",
      "The shape of the matrix with all epochs: (2, 128, 64, 5, 768).\n",
      "The shape of the matrix without bad epochs: (2, 122, 64, 5, 768).\n",
      "Proceeding to the next pair\n",
      "\n",
      "007 csd control.\n",
      "The shape of the matrix with all epochs: (2, 128, 64, 5, 768).\n",
      "The shape of the matrix without bad epochs: (2, 117, 64, 5, 768).\n",
      "Proceeding to the next pair\n",
      "\n",
      "007 rest individual.\n",
      "The shape of the matrix with all epochs: (2, 128, 64, 5, 768).\n",
      "The shape of the matrix without bad epochs: (2, 121, 64, 5, 768).\n",
      "Proceeding to the next pair\n",
      "\n",
      "007 rest coupled.\n",
      "The shape of the matrix with all epochs: (2, 128, 64, 5, 768).\n",
      "The shape of the matrix without bad epochs: (2, 122, 64, 5, 768).\n",
      "Proceeding to the next pair\n",
      "\n",
      "007 rest control.\n",
      "The shape of the matrix with all epochs: (2, 128, 64, 5, 768).\n",
      "The shape of the matrix without bad epochs: (2, 117, 64, 5, 768).\n",
      "Proceeding to the next pair\n",
      "\n",
      "008 ave individual.\n",
      "The shape of the matrix with all epochs: (2, 128, 64, 5, 768).\n",
      "The shape of the matrix without bad epochs: (2, 115, 64, 5, 768).\n",
      "Proceeding to the next pair\n",
      "\n",
      "008 ave coupled.\n",
      "The shape of the matrix with all epochs: (2, 128, 64, 5, 768).\n",
      "The shape of the matrix without bad epochs: (2, 116, 64, 5, 768).\n",
      "Proceeding to the next pair\n",
      "\n",
      "008 ave control.\n",
      "The shape of the matrix with all epochs: (2, 128, 64, 5, 768).\n",
      "The shape of the matrix without bad epochs: (2, 120, 64, 5, 768).\n",
      "Proceeding to the next pair\n",
      "\n",
      "008 csd individual.\n",
      "The shape of the matrix with all epochs: (2, 128, 64, 5, 768).\n",
      "The shape of the matrix without bad epochs: (2, 115, 64, 5, 768).\n",
      "Proceeding to the next pair\n",
      "\n",
      "008 csd coupled.\n",
      "The shape of the matrix with all epochs: (2, 128, 64, 5, 768).\n",
      "The shape of the matrix without bad epochs: (2, 116, 64, 5, 768).\n",
      "Proceeding to the next pair\n",
      "\n",
      "008 csd control.\n",
      "The shape of the matrix with all epochs: (2, 128, 64, 5, 768).\n",
      "The shape of the matrix without bad epochs: (2, 120, 64, 5, 768).\n",
      "Proceeding to the next pair\n",
      "\n",
      "008 rest individual.\n",
      "The shape of the matrix with all epochs: (2, 128, 64, 5, 768).\n",
      "The shape of the matrix without bad epochs: (2, 115, 64, 5, 768).\n",
      "Proceeding to the next pair\n",
      "\n",
      "008 rest coupled.\n",
      "The shape of the matrix with all epochs: (2, 128, 64, 5, 768).\n",
      "The shape of the matrix without bad epochs: (2, 116, 64, 5, 768).\n",
      "Proceeding to the next pair\n",
      "\n",
      "008 rest control.\n",
      "The shape of the matrix with all epochs: (2, 128, 64, 5, 768).\n",
      "The shape of the matrix without bad epochs: (2, 120, 64, 5, 768).\n",
      "Proceeding to the next pair\n",
      "\n",
      "009 ave individual.\n",
      "The shape of the matrix with all epochs: (2, 128, 64, 5, 768).\n",
      "The shape of the matrix without bad epochs: (2, 126, 64, 5, 768).\n",
      "Proceeding to the next pair\n",
      "\n",
      "009 ave coupled.\n",
      "The shape of the matrix with all epochs: (2, 128, 64, 5, 768).\n",
      "The shape of the matrix without bad epochs: (2, 127, 64, 5, 768).\n"
     ]
    },
    {
     "name": "stdout",
     "output_type": "stream",
     "text": [
      "Proceeding to the next pair\n",
      "\n",
      "009 ave control.\n",
      "The shape of the matrix with all epochs: (2, 128, 64, 5, 768).\n",
      "The shape of the matrix without bad epochs: (2, 121, 64, 5, 768).\n",
      "Proceeding to the next pair\n",
      "\n",
      "009 csd individual.\n",
      "The shape of the matrix with all epochs: (2, 128, 64, 5, 768).\n",
      "The shape of the matrix without bad epochs: (2, 126, 64, 5, 768).\n",
      "Proceeding to the next pair\n",
      "\n",
      "009 csd coupled.\n",
      "The shape of the matrix with all epochs: (2, 128, 64, 5, 768).\n",
      "The shape of the matrix without bad epochs: (2, 127, 64, 5, 768).\n",
      "Proceeding to the next pair\n",
      "\n",
      "009 csd control.\n",
      "The shape of the matrix with all epochs: (2, 128, 64, 5, 768).\n",
      "The shape of the matrix without bad epochs: (2, 121, 64, 5, 768).\n",
      "Proceeding to the next pair\n",
      "\n",
      "009 rest individual.\n",
      "The shape of the matrix with all epochs: (2, 128, 64, 5, 768).\n",
      "The shape of the matrix without bad epochs: (2, 126, 64, 5, 768).\n",
      "Proceeding to the next pair\n",
      "\n",
      "009 rest coupled.\n",
      "The shape of the matrix with all epochs: (2, 128, 64, 5, 768).\n",
      "The shape of the matrix without bad epochs: (2, 127, 64, 5, 768).\n",
      "Proceeding to the next pair\n",
      "\n",
      "009 rest control.\n",
      "The shape of the matrix with all epochs: (2, 128, 64, 5, 768).\n",
      "The shape of the matrix without bad epochs: (2, 121, 64, 5, 768).\n",
      "Proceeding to the next pair\n",
      "\n",
      "010 ave individual.\n",
      "The shape of the matrix with all epochs: (2, 128, 64, 5, 768).\n",
      "The shape of the matrix without bad epochs: (2, 123, 64, 5, 768).\n",
      "Proceeding to the next pair\n",
      "\n",
      "010 ave coupled.\n",
      "The shape of the matrix with all epochs: (2, 128, 64, 5, 768).\n",
      "The shape of the matrix without bad epochs: (2, 127, 64, 5, 768).\n",
      "Proceeding to the next pair\n",
      "\n",
      "010 ave control.\n",
      "The shape of the matrix with all epochs: (2, 128, 64, 5, 768).\n",
      "The shape of the matrix without bad epochs: (2, 126, 64, 5, 768).\n",
      "Proceeding to the next pair\n",
      "\n",
      "010 csd individual.\n",
      "The shape of the matrix with all epochs: (2, 128, 64, 5, 768).\n",
      "The shape of the matrix without bad epochs: (2, 123, 64, 5, 768).\n",
      "Proceeding to the next pair\n",
      "\n",
      "010 csd coupled.\n",
      "The shape of the matrix with all epochs: (2, 128, 64, 5, 768).\n",
      "The shape of the matrix without bad epochs: (2, 127, 64, 5, 768).\n",
      "Proceeding to the next pair\n",
      "\n",
      "010 csd control.\n",
      "The shape of the matrix with all epochs: (2, 128, 64, 5, 768).\n",
      "The shape of the matrix without bad epochs: (2, 126, 64, 5, 768).\n",
      "Proceeding to the next pair\n",
      "\n",
      "010 rest individual.\n",
      "The shape of the matrix with all epochs: (2, 128, 64, 5, 768).\n",
      "The shape of the matrix without bad epochs: (2, 123, 64, 5, 768).\n",
      "Proceeding to the next pair\n",
      "\n",
      "010 rest coupled.\n",
      "The shape of the matrix with all epochs: (2, 128, 64, 5, 768).\n",
      "The shape of the matrix without bad epochs: (2, 127, 64, 5, 768).\n",
      "Proceeding to the next pair\n",
      "\n",
      "010 rest control.\n",
      "The shape of the matrix with all epochs: (2, 128, 64, 5, 768).\n",
      "The shape of the matrix without bad epochs: (2, 126, 64, 5, 768).\n",
      "Proceeding to the next pair\n",
      "\n",
      "011 ave individual.\n",
      "The shape of the matrix with all epochs: (2, 128, 64, 5, 768).\n",
      "The shape of the matrix without bad epochs: (2, 127, 64, 5, 768).\n",
      "Proceeding to the next pair\n",
      "\n",
      "011 ave coupled.\n",
      "The shape of the matrix with all epochs: (2, 128, 64, 5, 768).\n",
      "The shape of the matrix without bad epochs: (2, 128, 64, 5, 768).\n",
      "Proceeding to the next pair\n",
      "\n",
      "011 ave control.\n",
      "The shape of the matrix with all epochs: (2, 128, 64, 5, 768).\n",
      "The shape of the matrix without bad epochs: (2, 127, 64, 5, 768).\n",
      "Proceeding to the next pair\n",
      "\n",
      "011 csd individual.\n",
      "The shape of the matrix with all epochs: (2, 128, 64, 5, 768).\n",
      "The shape of the matrix without bad epochs: (2, 127, 64, 5, 768).\n",
      "Proceeding to the next pair\n",
      "\n",
      "011 csd coupled.\n",
      "The shape of the matrix with all epochs: (2, 128, 64, 5, 768).\n",
      "The shape of the matrix without bad epochs: (2, 128, 64, 5, 768).\n",
      "Proceeding to the next pair\n",
      "\n",
      "011 csd control.\n",
      "The shape of the matrix with all epochs: (2, 128, 64, 5, 768).\n",
      "The shape of the matrix without bad epochs: (2, 127, 64, 5, 768).\n",
      "Proceeding to the next pair\n",
      "\n",
      "011 rest individual.\n",
      "The shape of the matrix with all epochs: (2, 128, 64, 5, 768).\n",
      "The shape of the matrix without bad epochs: (2, 127, 64, 5, 768).\n",
      "Proceeding to the next pair\n",
      "\n",
      "011 rest coupled.\n",
      "The shape of the matrix with all epochs: (2, 128, 64, 5, 768).\n",
      "The shape of the matrix without bad epochs: (2, 128, 64, 5, 768).\n",
      "Proceeding to the next pair\n",
      "\n",
      "011 rest control.\n",
      "The shape of the matrix with all epochs: (2, 128, 64, 5, 768).\n",
      "The shape of the matrix without bad epochs: (2, 127, 64, 5, 768).\n",
      "Proceeding to the next pair\n",
      "\n",
      "012 ave individual.\n",
      "The shape of the matrix with all epochs: (2, 128, 64, 5, 768).\n",
      "The shape of the matrix without bad epochs: (2, 124, 64, 5, 768).\n",
      "Proceeding to the next pair\n",
      "\n",
      "012 ave coupled.\n",
      "The shape of the matrix with all epochs: (2, 128, 64, 5, 768).\n",
      "The shape of the matrix without bad epochs: (2, 125, 64, 5, 768).\n",
      "Proceeding to the next pair\n",
      "\n",
      "012 ave control.\n",
      "The shape of the matrix with all epochs: (2, 128, 64, 5, 768).\n",
      "The shape of the matrix without bad epochs: (2, 121, 64, 5, 768).\n",
      "Proceeding to the next pair\n",
      "\n",
      "012 csd individual.\n",
      "The shape of the matrix with all epochs: (2, 128, 64, 5, 768).\n",
      "The shape of the matrix without bad epochs: (2, 124, 64, 5, 768).\n",
      "Proceeding to the next pair\n",
      "\n",
      "012 csd coupled.\n",
      "The shape of the matrix with all epochs: (2, 128, 64, 5, 768).\n",
      "The shape of the matrix without bad epochs: (2, 125, 64, 5, 768).\n",
      "Proceeding to the next pair\n",
      "\n",
      "012 csd control.\n",
      "The shape of the matrix with all epochs: (2, 128, 64, 5, 768).\n",
      "The shape of the matrix without bad epochs: (2, 121, 64, 5, 768).\n",
      "Proceeding to the next pair\n",
      "\n",
      "012 rest individual.\n",
      "The shape of the matrix with all epochs: (2, 128, 64, 5, 768).\n",
      "The shape of the matrix without bad epochs: (2, 124, 64, 5, 768).\n",
      "Proceeding to the next pair\n",
      "\n",
      "012 rest coupled.\n",
      "The shape of the matrix with all epochs: (2, 128, 64, 5, 768).\n",
      "The shape of the matrix without bad epochs: (2, 125, 64, 5, 768).\n",
      "Proceeding to the next pair\n",
      "\n",
      "012 rest control.\n",
      "The shape of the matrix with all epochs: (2, 128, 64, 5, 768).\n",
      "The shape of the matrix without bad epochs: (2, 121, 64, 5, 768).\n",
      "Proceeding to the next pair\n",
      "\n",
      "013 ave individual.\n",
      "The shape of the matrix with all epochs: (2, 128, 64, 5, 768).\n",
      "The shape of the matrix without bad epochs: (2, 124, 64, 5, 768).\n",
      "Proceeding to the next pair\n",
      "\n",
      "013 ave coupled.\n",
      "The shape of the matrix with all epochs: (2, 128, 64, 5, 768).\n",
      "The shape of the matrix without bad epochs: (2, 124, 64, 5, 768).\n",
      "Proceeding to the next pair\n",
      "\n",
      "013 ave control.\n",
      "The shape of the matrix with all epochs: (2, 128, 64, 5, 768).\n",
      "The shape of the matrix without bad epochs: (2, 125, 64, 5, 768).\n",
      "Proceeding to the next pair\n",
      "\n",
      "013 csd individual.\n",
      "The shape of the matrix with all epochs: (2, 128, 64, 5, 768).\n",
      "The shape of the matrix without bad epochs: (2, 124, 64, 5, 768).\n",
      "Proceeding to the next pair\n",
      "\n",
      "013 csd coupled.\n",
      "The shape of the matrix with all epochs: (2, 128, 64, 5, 768).\n",
      "The shape of the matrix without bad epochs: (2, 124, 64, 5, 768).\n",
      "Proceeding to the next pair\n",
      "\n",
      "013 csd control.\n",
      "The shape of the matrix with all epochs: (2, 128, 64, 5, 768).\n",
      "The shape of the matrix without bad epochs: (2, 125, 64, 5, 768).\n",
      "Proceeding to the next pair\n",
      "\n",
      "013 rest individual.\n",
      "The shape of the matrix with all epochs: (2, 128, 64, 5, 768).\n",
      "The shape of the matrix without bad epochs: (2, 124, 64, 5, 768).\n",
      "Proceeding to the next pair\n",
      "\n",
      "013 rest coupled.\n",
      "The shape of the matrix with all epochs: (2, 128, 64, 5, 768).\n",
      "The shape of the matrix without bad epochs: (2, 124, 64, 5, 768).\n",
      "Proceeding to the next pair\n",
      "\n",
      "013 rest control.\n",
      "The shape of the matrix with all epochs: (2, 128, 64, 5, 768).\n",
      "The shape of the matrix without bad epochs: (2, 125, 64, 5, 768).\n",
      "Proceeding to the next pair\n",
      "\n",
      "014 ave individual.\n",
      "The shape of the matrix with all epochs: (2, 128, 64, 5, 768).\n",
      "The shape of the matrix without bad epochs: (2, 127, 64, 5, 768).\n",
      "Proceeding to the next pair\n",
      "\n",
      "014 ave coupled.\n",
      "The shape of the matrix with all epochs: (2, 128, 64, 5, 768).\n",
      "The shape of the matrix without bad epochs: (2, 127, 64, 5, 768).\n",
      "Proceeding to the next pair\n",
      "\n",
      "014 ave control.\n",
      "The shape of the matrix with all epochs: (2, 128, 64, 5, 768).\n",
      "The shape of the matrix without bad epochs: (2, 122, 64, 5, 768).\n",
      "Proceeding to the next pair\n",
      "\n",
      "014 csd individual.\n",
      "The shape of the matrix with all epochs: (2, 128, 64, 5, 768).\n",
      "The shape of the matrix without bad epochs: (2, 127, 64, 5, 768).\n"
     ]
    },
    {
     "name": "stdout",
     "output_type": "stream",
     "text": [
      "Proceeding to the next pair\n",
      "\n",
      "014 csd coupled.\n",
      "The shape of the matrix with all epochs: (2, 128, 64, 5, 768).\n",
      "The shape of the matrix without bad epochs: (2, 127, 64, 5, 768).\n",
      "Proceeding to the next pair\n",
      "\n",
      "014 csd control.\n",
      "The shape of the matrix with all epochs: (2, 128, 64, 5, 768).\n",
      "The shape of the matrix without bad epochs: (2, 122, 64, 5, 768).\n",
      "Proceeding to the next pair\n",
      "\n",
      "014 rest individual.\n",
      "The shape of the matrix with all epochs: (2, 128, 64, 5, 768).\n",
      "The shape of the matrix without bad epochs: (2, 127, 64, 5, 768).\n",
      "Proceeding to the next pair\n",
      "\n",
      "014 rest coupled.\n",
      "The shape of the matrix with all epochs: (2, 128, 64, 5, 768).\n",
      "The shape of the matrix without bad epochs: (2, 127, 64, 5, 768).\n",
      "Proceeding to the next pair\n",
      "\n",
      "014 rest control.\n",
      "The shape of the matrix with all epochs: (2, 128, 64, 5, 768).\n",
      "The shape of the matrix without bad epochs: (2, 122, 64, 5, 768).\n",
      "Proceeding to the next pair\n",
      "\n",
      "016 ave individual.\n",
      "The shape of the matrix with all epochs: (2, 128, 64, 5, 768).\n",
      "The shape of the matrix without bad epochs: (2, 127, 64, 5, 768).\n",
      "Proceeding to the next pair\n",
      "\n",
      "016 ave coupled.\n",
      "The shape of the matrix with all epochs: (2, 128, 64, 5, 768).\n",
      "The shape of the matrix without bad epochs: (2, 127, 64, 5, 768).\n",
      "Proceeding to the next pair\n",
      "\n",
      "016 ave control.\n",
      "The shape of the matrix with all epochs: (2, 128, 64, 5, 768).\n",
      "The shape of the matrix without bad epochs: (2, 126, 64, 5, 768).\n",
      "Proceeding to the next pair\n",
      "\n",
      "016 csd individual.\n",
      "The shape of the matrix with all epochs: (2, 128, 64, 5, 768).\n",
      "The shape of the matrix without bad epochs: (2, 127, 64, 5, 768).\n",
      "Proceeding to the next pair\n",
      "\n",
      "016 csd coupled.\n",
      "The shape of the matrix with all epochs: (2, 128, 64, 5, 768).\n",
      "The shape of the matrix without bad epochs: (2, 127, 64, 5, 768).\n",
      "Proceeding to the next pair\n",
      "\n",
      "016 csd control.\n",
      "The shape of the matrix with all epochs: (2, 128, 64, 5, 768).\n",
      "The shape of the matrix without bad epochs: (2, 126, 64, 5, 768).\n",
      "Proceeding to the next pair\n",
      "\n",
      "016 rest individual.\n",
      "The shape of the matrix with all epochs: (2, 128, 64, 5, 768).\n",
      "The shape of the matrix without bad epochs: (2, 127, 64, 5, 768).\n",
      "Proceeding to the next pair\n",
      "\n",
      "016 rest coupled.\n",
      "The shape of the matrix with all epochs: (2, 128, 64, 5, 768).\n",
      "The shape of the matrix without bad epochs: (2, 127, 64, 5, 768).\n",
      "Proceeding to the next pair\n",
      "\n",
      "016 rest control.\n",
      "The shape of the matrix with all epochs: (2, 128, 64, 5, 768).\n",
      "The shape of the matrix without bad epochs: (2, 126, 64, 5, 768).\n",
      "Proceeding to the next pair\n",
      "\n",
      "017 ave individual.\n",
      "The shape of the matrix with all epochs: (2, 128, 64, 5, 768).\n",
      "The shape of the matrix without bad epochs: (2, 122, 64, 5, 768).\n",
      "Proceeding to the next pair\n",
      "\n",
      "017 ave coupled.\n",
      "The shape of the matrix with all epochs: (2, 128, 64, 5, 768).\n",
      "The shape of the matrix without bad epochs: (2, 128, 64, 5, 768).\n",
      "Proceeding to the next pair\n",
      "\n",
      "017 ave control.\n",
      "The shape of the matrix with all epochs: (2, 128, 64, 5, 768).\n",
      "The shape of the matrix without bad epochs: (2, 127, 64, 5, 768).\n",
      "Proceeding to the next pair\n",
      "\n",
      "017 csd individual.\n",
      "The shape of the matrix with all epochs: (2, 128, 64, 5, 768).\n",
      "The shape of the matrix without bad epochs: (2, 122, 64, 5, 768).\n",
      "Proceeding to the next pair\n",
      "\n",
      "017 csd coupled.\n",
      "The shape of the matrix with all epochs: (2, 128, 64, 5, 768).\n",
      "The shape of the matrix without bad epochs: (2, 128, 64, 5, 768).\n",
      "Proceeding to the next pair\n",
      "\n",
      "017 csd control.\n",
      "The shape of the matrix with all epochs: (2, 128, 64, 5, 768).\n",
      "The shape of the matrix without bad epochs: (2, 127, 64, 5, 768).\n",
      "Proceeding to the next pair\n",
      "\n",
      "017 rest individual.\n",
      "The shape of the matrix with all epochs: (2, 128, 64, 5, 768).\n",
      "The shape of the matrix without bad epochs: (2, 122, 64, 5, 768).\n",
      "Proceeding to the next pair\n",
      "\n",
      "017 rest coupled.\n",
      "The shape of the matrix with all epochs: (2, 128, 64, 5, 768).\n",
      "The shape of the matrix without bad epochs: (2, 128, 64, 5, 768).\n",
      "Proceeding to the next pair\n",
      "\n",
      "017 rest control.\n",
      "The shape of the matrix with all epochs: (2, 128, 64, 5, 768).\n",
      "The shape of the matrix without bad epochs: (2, 127, 64, 5, 768).\n",
      "Proceeding to the next pair\n",
      "\n",
      "018 ave individual.\n",
      "The shape of the matrix with all epochs: (2, 128, 64, 5, 768).\n",
      "The shape of the matrix without bad epochs: (2, 122, 64, 5, 768).\n",
      "Proceeding to the next pair\n",
      "\n",
      "018 ave coupled.\n",
      "The shape of the matrix with all epochs: (2, 128, 64, 5, 768).\n",
      "The shape of the matrix without bad epochs: (2, 120, 64, 5, 768).\n",
      "Proceeding to the next pair\n",
      "\n",
      "018 ave control.\n",
      "The shape of the matrix with all epochs: (2, 128, 64, 5, 768).\n",
      "The shape of the matrix without bad epochs: (2, 128, 64, 5, 768).\n",
      "Proceeding to the next pair\n",
      "\n",
      "018 csd individual.\n",
      "The shape of the matrix with all epochs: (2, 128, 64, 5, 768).\n",
      "The shape of the matrix without bad epochs: (2, 122, 64, 5, 768).\n",
      "Proceeding to the next pair\n",
      "\n",
      "018 csd coupled.\n",
      "The shape of the matrix with all epochs: (2, 128, 64, 5, 768).\n",
      "The shape of the matrix without bad epochs: (2, 120, 64, 5, 768).\n",
      "Proceeding to the next pair\n",
      "\n",
      "018 csd control.\n",
      "The shape of the matrix with all epochs: (2, 128, 64, 5, 768).\n",
      "The shape of the matrix without bad epochs: (2, 128, 64, 5, 768).\n",
      "Proceeding to the next pair\n",
      "\n",
      "018 rest individual.\n",
      "The shape of the matrix with all epochs: (2, 128, 64, 5, 768).\n",
      "The shape of the matrix without bad epochs: (2, 122, 64, 5, 768).\n",
      "Proceeding to the next pair\n",
      "\n",
      "018 rest coupled.\n",
      "The shape of the matrix with all epochs: (2, 128, 64, 5, 768).\n",
      "The shape of the matrix without bad epochs: (2, 120, 64, 5, 768).\n",
      "Proceeding to the next pair\n",
      "\n",
      "018 rest control.\n",
      "The shape of the matrix with all epochs: (2, 128, 64, 5, 768).\n",
      "The shape of the matrix without bad epochs: (2, 128, 64, 5, 768).\n",
      "Proceeding to the next pair\n",
      "\n",
      "019 ave individual.\n",
      "The shape of the matrix with all epochs: (2, 128, 64, 5, 768).\n",
      "The shape of the matrix without bad epochs: (2, 122, 64, 5, 768).\n",
      "Proceeding to the next pair\n",
      "\n",
      "019 ave coupled.\n",
      "The shape of the matrix with all epochs: (2, 128, 64, 5, 768).\n",
      "The shape of the matrix without bad epochs: (2, 126, 64, 5, 768).\n",
      "Proceeding to the next pair\n",
      "\n",
      "019 ave control.\n",
      "The shape of the matrix with all epochs: (2, 128, 64, 5, 768).\n",
      "The shape of the matrix without bad epochs: (2, 126, 64, 5, 768).\n",
      "Proceeding to the next pair\n",
      "\n",
      "019 csd individual.\n",
      "The shape of the matrix with all epochs: (2, 128, 64, 5, 768).\n",
      "The shape of the matrix without bad epochs: (2, 122, 64, 5, 768).\n",
      "Proceeding to the next pair\n",
      "\n",
      "019 csd coupled.\n",
      "The shape of the matrix with all epochs: (2, 128, 64, 5, 768).\n",
      "The shape of the matrix without bad epochs: (2, 126, 64, 5, 768).\n",
      "Proceeding to the next pair\n",
      "\n",
      "019 csd control.\n",
      "The shape of the matrix with all epochs: (2, 128, 64, 5, 768).\n",
      "The shape of the matrix without bad epochs: (2, 126, 64, 5, 768).\n",
      "Proceeding to the next pair\n",
      "\n",
      "019 rest individual.\n",
      "The shape of the matrix with all epochs: (2, 128, 64, 5, 768).\n",
      "The shape of the matrix without bad epochs: (2, 122, 64, 5, 768).\n",
      "Proceeding to the next pair\n",
      "\n",
      "019 rest coupled.\n",
      "The shape of the matrix with all epochs: (2, 128, 64, 5, 768).\n",
      "The shape of the matrix without bad epochs: (2, 126, 64, 5, 768).\n",
      "Proceeding to the next pair\n",
      "\n",
      "019 rest control.\n",
      "The shape of the matrix with all epochs: (2, 128, 64, 5, 768).\n",
      "The shape of the matrix without bad epochs: (2, 126, 64, 5, 768).\n",
      "Proceeding to the next pair\n",
      "\n",
      "020 ave individual.\n",
      "The shape of the matrix with all epochs: (2, 128, 64, 5, 768).\n",
      "The shape of the matrix without bad epochs: (2, 124, 64, 5, 768).\n",
      "Proceeding to the next pair\n",
      "\n",
      "020 ave coupled.\n",
      "The shape of the matrix with all epochs: (2, 128, 64, 5, 768).\n",
      "The shape of the matrix without bad epochs: (2, 127, 64, 5, 768).\n",
      "Proceeding to the next pair\n",
      "\n",
      "020 ave control.\n",
      "The shape of the matrix with all epochs: (2, 128, 64, 5, 768).\n",
      "The shape of the matrix without bad epochs: (2, 128, 64, 5, 768).\n",
      "Proceeding to the next pair\n",
      "\n",
      "020 csd individual.\n",
      "The shape of the matrix with all epochs: (2, 128, 64, 5, 768).\n",
      "The shape of the matrix without bad epochs: (2, 124, 64, 5, 768).\n",
      "Proceeding to the next pair\n",
      "\n",
      "020 csd coupled.\n",
      "The shape of the matrix with all epochs: (2, 128, 64, 5, 768).\n",
      "The shape of the matrix without bad epochs: (2, 127, 64, 5, 768).\n",
      "Proceeding to the next pair\n",
      "\n",
      "020 csd control.\n",
      "The shape of the matrix with all epochs: (2, 128, 64, 5, 768).\n",
      "The shape of the matrix without bad epochs: (2, 128, 64, 5, 768).\n"
     ]
    },
    {
     "name": "stdout",
     "output_type": "stream",
     "text": [
      "Proceeding to the next pair\n",
      "\n",
      "020 rest individual.\n",
      "The shape of the matrix with all epochs: (2, 128, 64, 5, 768).\n",
      "The shape of the matrix without bad epochs: (2, 124, 64, 5, 768).\n",
      "Proceeding to the next pair\n",
      "\n",
      "020 rest coupled.\n",
      "The shape of the matrix with all epochs: (2, 128, 64, 5, 768).\n",
      "The shape of the matrix without bad epochs: (2, 127, 64, 5, 768).\n",
      "Proceeding to the next pair\n",
      "\n",
      "020 rest control.\n",
      "The shape of the matrix with all epochs: (2, 128, 64, 5, 768).\n",
      "The shape of the matrix without bad epochs: (2, 128, 64, 5, 768).\n",
      "Proceeding to the next pair\n",
      "\n",
      "022 ave individual.\n",
      "The shape of the matrix with all epochs: (2, 128, 64, 5, 768).\n",
      "The shape of the matrix without bad epochs: (2, 123, 64, 5, 768).\n",
      "Proceeding to the next pair\n",
      "\n",
      "022 ave coupled.\n",
      "The shape of the matrix with all epochs: (2, 128, 64, 5, 768).\n",
      "The shape of the matrix without bad epochs: (2, 125, 64, 5, 768).\n",
      "Proceeding to the next pair\n",
      "\n",
      "022 ave control.\n",
      "The shape of the matrix with all epochs: (2, 128, 64, 5, 768).\n",
      "The shape of the matrix without bad epochs: (2, 125, 64, 5, 768).\n",
      "Proceeding to the next pair\n",
      "\n",
      "022 csd individual.\n",
      "The shape of the matrix with all epochs: (2, 128, 64, 5, 768).\n",
      "The shape of the matrix without bad epochs: (2, 123, 64, 5, 768).\n",
      "Proceeding to the next pair\n",
      "\n",
      "022 csd coupled.\n",
      "The shape of the matrix with all epochs: (2, 128, 64, 5, 768).\n",
      "The shape of the matrix without bad epochs: (2, 125, 64, 5, 768).\n",
      "Proceeding to the next pair\n",
      "\n",
      "022 csd control.\n",
      "The shape of the matrix with all epochs: (2, 128, 64, 5, 768).\n",
      "The shape of the matrix without bad epochs: (2, 125, 64, 5, 768).\n",
      "Proceeding to the next pair\n",
      "\n",
      "022 rest individual.\n",
      "The shape of the matrix with all epochs: (2, 128, 64, 5, 768).\n",
      "The shape of the matrix without bad epochs: (2, 123, 64, 5, 768).\n",
      "Proceeding to the next pair\n",
      "\n",
      "022 rest coupled.\n",
      "The shape of the matrix with all epochs: (2, 128, 64, 5, 768).\n",
      "The shape of the matrix without bad epochs: (2, 125, 64, 5, 768).\n",
      "Proceeding to the next pair\n",
      "\n",
      "022 rest control.\n",
      "The shape of the matrix with all epochs: (2, 128, 64, 5, 768).\n",
      "The shape of the matrix without bad epochs: (2, 125, 64, 5, 768).\n",
      "Proceeding to the next pair\n",
      "\n",
      "023 ave individual.\n",
      "The shape of the matrix with all epochs: (2, 128, 64, 5, 768).\n",
      "The shape of the matrix without bad epochs: (2, 122, 64, 5, 768).\n",
      "Proceeding to the next pair\n",
      "\n",
      "023 ave coupled.\n",
      "The shape of the matrix with all epochs: (2, 128, 64, 5, 768).\n",
      "The shape of the matrix without bad epochs: (2, 126, 64, 5, 768).\n",
      "Proceeding to the next pair\n",
      "\n",
      "023 ave control.\n",
      "The shape of the matrix with all epochs: (2, 128, 64, 5, 768).\n",
      "The shape of the matrix without bad epochs: (2, 124, 64, 5, 768).\n",
      "Proceeding to the next pair\n",
      "\n",
      "023 csd individual.\n",
      "The shape of the matrix with all epochs: (2, 128, 64, 5, 768).\n",
      "The shape of the matrix without bad epochs: (2, 122, 64, 5, 768).\n",
      "Proceeding to the next pair\n",
      "\n",
      "023 csd coupled.\n",
      "The shape of the matrix with all epochs: (2, 128, 64, 5, 768).\n",
      "The shape of the matrix without bad epochs: (2, 126, 64, 5, 768).\n",
      "Proceeding to the next pair\n",
      "\n",
      "023 csd control.\n",
      "The shape of the matrix with all epochs: (2, 128, 64, 5, 768).\n",
      "The shape of the matrix without bad epochs: (2, 124, 64, 5, 768).\n",
      "Proceeding to the next pair\n",
      "\n",
      "023 rest individual.\n",
      "The shape of the matrix with all epochs: (2, 128, 64, 5, 768).\n",
      "The shape of the matrix without bad epochs: (2, 122, 64, 5, 768).\n",
      "Proceeding to the next pair\n",
      "\n",
      "023 rest coupled.\n",
      "The shape of the matrix with all epochs: (2, 128, 64, 5, 768).\n",
      "The shape of the matrix without bad epochs: (2, 126, 64, 5, 768).\n",
      "Proceeding to the next pair\n",
      "\n",
      "023 rest control.\n",
      "The shape of the matrix with all epochs: (2, 128, 64, 5, 768).\n",
      "The shape of the matrix without bad epochs: (2, 124, 64, 5, 768).\n",
      "Proceeding to the next pair\n",
      "\n",
      "024 ave individual.\n",
      "The shape of the matrix with all epochs: (2, 128, 64, 5, 768).\n",
      "The shape of the matrix without bad epochs: (2, 123, 64, 5, 768).\n",
      "Proceeding to the next pair\n",
      "\n",
      "024 ave coupled.\n",
      "The shape of the matrix with all epochs: (2, 128, 64, 5, 768).\n",
      "The shape of the matrix without bad epochs: (2, 121, 64, 5, 768).\n",
      "Proceeding to the next pair\n",
      "\n",
      "024 ave control.\n",
      "The shape of the matrix with all epochs: (2, 128, 64, 5, 768).\n",
      "The shape of the matrix without bad epochs: (2, 123, 64, 5, 768).\n",
      "Proceeding to the next pair\n",
      "\n",
      "024 csd individual.\n",
      "The shape of the matrix with all epochs: (2, 128, 64, 5, 768).\n",
      "The shape of the matrix without bad epochs: (2, 123, 64, 5, 768).\n",
      "Proceeding to the next pair\n",
      "\n",
      "024 csd coupled.\n",
      "The shape of the matrix with all epochs: (2, 128, 64, 5, 768).\n",
      "The shape of the matrix without bad epochs: (2, 121, 64, 5, 768).\n",
      "Proceeding to the next pair\n",
      "\n",
      "024 csd control.\n",
      "The shape of the matrix with all epochs: (2, 128, 64, 5, 768).\n",
      "The shape of the matrix without bad epochs: (2, 123, 64, 5, 768).\n",
      "Proceeding to the next pair\n",
      "\n",
      "024 rest individual.\n",
      "The shape of the matrix with all epochs: (2, 128, 64, 5, 768).\n",
      "The shape of the matrix without bad epochs: (2, 123, 64, 5, 768).\n",
      "Proceeding to the next pair\n",
      "\n",
      "024 rest coupled.\n",
      "The shape of the matrix with all epochs: (2, 128, 64, 5, 768).\n",
      "The shape of the matrix without bad epochs: (2, 121, 64, 5, 768).\n",
      "Proceeding to the next pair\n",
      "\n",
      "024 rest control.\n",
      "The shape of the matrix with all epochs: (2, 128, 64, 5, 768).\n",
      "The shape of the matrix without bad epochs: (2, 123, 64, 5, 768).\n",
      "Proceeding to the next pair\n",
      "\n",
      "025 ave individual.\n",
      "The shape of the matrix with all epochs: (2, 80, 64, 5, 768).\n",
      "The shape of the matrix without bad epochs: (2, 77, 64, 5, 768).\n",
      "Proceeding to the next pair\n",
      "\n",
      "025 ave coupled.\n",
      "The shape of the matrix with all epochs: (2, 88, 64, 5, 768).\n",
      "The shape of the matrix without bad epochs: (2, 85, 64, 5, 768).\n",
      "Proceeding to the next pair\n",
      "\n",
      "025 ave control.\n",
      "The shape of the matrix with all epochs: (2, 80, 64, 5, 768).\n",
      "The shape of the matrix without bad epochs: (2, 80, 64, 5, 768).\n",
      "Proceeding to the next pair\n",
      "\n",
      "025 csd individual.\n",
      "The shape of the matrix with all epochs: (2, 80, 64, 5, 768).\n",
      "The shape of the matrix without bad epochs: (2, 77, 64, 5, 768).\n",
      "Proceeding to the next pair\n",
      "\n",
      "025 csd coupled.\n",
      "The shape of the matrix with all epochs: (2, 88, 64, 5, 768).\n",
      "The shape of the matrix without bad epochs: (2, 85, 64, 5, 768).\n",
      "Proceeding to the next pair\n",
      "\n",
      "025 csd control.\n",
      "The shape of the matrix with all epochs: (2, 80, 64, 5, 768).\n",
      "The shape of the matrix without bad epochs: (2, 80, 64, 5, 768).\n",
      "Proceeding to the next pair\n",
      "\n",
      "025 rest individual.\n",
      "The shape of the matrix with all epochs: (2, 80, 64, 5, 768).\n",
      "The shape of the matrix without bad epochs: (2, 77, 64, 5, 768).\n",
      "Proceeding to the next pair\n",
      "\n",
      "025 rest coupled.\n",
      "The shape of the matrix with all epochs: (2, 88, 64, 5, 768).\n",
      "The shape of the matrix without bad epochs: (2, 85, 64, 5, 768).\n",
      "Proceeding to the next pair\n",
      "\n",
      "025 rest control.\n",
      "The shape of the matrix with all epochs: (2, 80, 64, 5, 768).\n",
      "The shape of the matrix without bad epochs: (2, 80, 64, 5, 768).\n",
      "Proceeding to the next pair\n",
      "\n",
      "027 ave individual.\n",
      "The shape of the matrix with all epochs: (2, 128, 64, 5, 768).\n",
      "The shape of the matrix without bad epochs: (2, 124, 64, 5, 768).\n",
      "Proceeding to the next pair\n",
      "\n",
      "027 ave coupled.\n",
      "The shape of the matrix with all epochs: (2, 128, 64, 5, 768).\n",
      "The shape of the matrix without bad epochs: (2, 127, 64, 5, 768).\n",
      "Proceeding to the next pair\n",
      "\n",
      "027 ave control.\n",
      "The shape of the matrix with all epochs: (2, 128, 64, 5, 768).\n",
      "The shape of the matrix without bad epochs: (2, 119, 64, 5, 768).\n",
      "Proceeding to the next pair\n",
      "\n",
      "027 csd individual.\n",
      "The shape of the matrix with all epochs: (2, 128, 64, 5, 768).\n",
      "The shape of the matrix without bad epochs: (2, 124, 64, 5, 768).\n",
      "Proceeding to the next pair\n",
      "\n",
      "027 csd coupled.\n",
      "The shape of the matrix with all epochs: (2, 128, 64, 5, 768).\n",
      "The shape of the matrix without bad epochs: (2, 127, 64, 5, 768).\n",
      "Proceeding to the next pair\n",
      "\n",
      "027 csd control.\n",
      "The shape of the matrix with all epochs: (2, 128, 64, 5, 768).\n",
      "The shape of the matrix without bad epochs: (2, 119, 64, 5, 768).\n",
      "Proceeding to the next pair\n",
      "\n",
      "027 rest individual.\n",
      "The shape of the matrix with all epochs: (2, 128, 64, 5, 768).\n",
      "The shape of the matrix without bad epochs: (2, 124, 64, 5, 768).\n",
      "Proceeding to the next pair\n",
      "\n",
      "027 rest coupled.\n",
      "The shape of the matrix with all epochs: (2, 128, 64, 5, 768).\n",
      "The shape of the matrix without bad epochs: (2, 127, 64, 5, 768).\n"
     ]
    },
    {
     "name": "stdout",
     "output_type": "stream",
     "text": [
      "Proceeding to the next pair\n",
      "\n",
      "027 rest control.\n",
      "The shape of the matrix with all epochs: (2, 128, 64, 5, 768).\n",
      "The shape of the matrix without bad epochs: (2, 119, 64, 5, 768).\n",
      "Proceeding to the next pair\n"
     ]
    }
   ],
   "source": [
    "### Calculate PLV matrices & save\n",
    "\n",
    "data = {}\n",
    "\n",
    "pairs = [\"003\",\"004\",\"005\",\"007\",\"008\",\"009\",\"010\",\"011\",\"012\",\"013\",\"014\",\n",
    "         \"016\",\"017\",\"018\",\"019\",\"020\",\"022\",\"023\",\"024\",\"025\",\"027\"]\n",
    "\n",
    "reference = ['ave','csd','rest']\n",
    "\n",
    "conditions = [\"individual\", \"coupled\", \"control\"]\n",
    "\n",
    "measure = 'plv'\n",
    "\n",
    "all_eeg_chans = ['Fp1','AF7','AF3','F1','F3','F5','F7','FT7','FC5','FC3',\n",
    "                 'FC1','C1','C3','C5','T7','TP7','CP5','CP3','CP1','P1',\n",
    "                 'P3','P5','P7','P9','PO7','PO3','O1','Iz','Oz','POz','Pz',\n",
    "                 'CPz','Fpz','Fp2','AF8','AF4','AFz','Fz','F2','F4','F6','F8',\n",
    "                 'FT8','FC6','FC4','FC2','FCz','Cz','C2','C4','C6','T8','TP8',\n",
    "                 'CP6','CP4','CP2','P2','P4','P6','P8','P10','PO8','PO4','O2']\n",
    "\n",
    "for pair_n in pairs:\n",
    "    for ref in reference:\n",
    "        for condition in conditions:\n",
    "            # 0. Verbose\n",
    "            print(f\"\\n{pair_n} {ref} {condition}.\")\n",
    "        \n",
    "            # 1. Loading\n",
    "            folder = f\"/Users/aliaksandrdabranau/Data/Mirror_game/pair{pair_n}\"\n",
    "            epochs_a = mne.read_epochs(pathlib.Path(folder+f'/{pair_n}a_{ref}_epo.fif'), verbose=False)\n",
    "            epochs_b = mne.read_epochs(pathlib.Path(folder+f'/{pair_n}b_{ref}_epo.fif'), verbose=False)\n",
    "\n",
    "            # 2. Selecting only one condition\n",
    "            epochs_a = epochs_a[condition]\n",
    "            epochs_b = epochs_b[condition]\n",
    "\n",
    "            # 3. Equalizing the number of epochs (NO NEED)\n",
    "            # mne.epochs.equalize_epoch_counts([epochs_a, epochs_b])\n",
    "        \n",
    "            # 4. Putting two sets of epochs into one array\n",
    "            data_inter = np.array([epochs_a.pick(picks=all_eeg_chans), epochs_b.pick(picks=all_eeg_chans)])\n",
    "        \n",
    "            # 5. Calculating the complex signal with Hilbert\n",
    "            freq_bands = {'Theta':[4,7.5],\n",
    "                      'Alpha-Low': [8, 11],\n",
    "                      'Alpha-High': [11.5, 13],\n",
    "                      'Alpha_Combined': [8,13],\n",
    "                      'Beta':[14,30]}\n",
    "        \n",
    "            sampling_rate = 256\n",
    "        \n",
    "            complex_signal = analyses.compute_freq_bands(data_inter, sampling_rate, freq_bands)\n",
    "        \n",
    "            # 6. Splitting the complex signal of 25-s epochs into 3-s segments\n",
    "            short_epochs = segment_complex_signal(complex_signal = complex_signal, \n",
    "                                                  pair_n = pair_n, \n",
    "                                                  condition = condition, \n",
    "                                                  dict_with_bad_epochs = bad_short_epochs)\n",
    "        \n",
    "            # 7. Calculating synchrony value (PLV)\n",
    "            result = analyses.compute_sync(short_epochs, mode = measure, epochs_average=True)\n",
    "\n",
    "            # 8. Retrieving the inter-brain part of the matrix\n",
    "            n_ch = 64\n",
    "            theta, alpha_low, alpha_high, alpha_combined, beta = result[:, 0:n_ch, n_ch:2*n_ch]\n",
    "        \n",
    "            # 9. Putting the matrices into a dictionary\n",
    "            data[pair_n+\"_\"+ref+\"_\"+condition+\"_\"+'theta'] = theta\n",
    "            data[pair_n+\"_\"+ref+\"_\"+condition+\"_\"+'alpha_low'] = alpha_low\n",
    "            data[pair_n+\"_\"+ref+\"_\"+condition+\"_\"+'alpha_high'] = alpha_high\n",
    "            data[pair_n+\"_\"+ref+\"_\"+condition+\"_\"+'alpha_combined'] = alpha_combined\n",
    "            data[pair_n+\"_\"+ref+\"_\"+condition+\"_\"+'beta'] = beta\n",
    "            \n",
    "            # 10. Saving the dictionary\n",
    "            with open('plv_symmetrical_conditions.pickle', 'wb') as handle:\n",
    "                pickle.dump(data, handle, protocol=pickle.HIGHEST_PROTOCOL)\n",
    "                \n",
    "            # 11. Verbose_2\n",
    "            print(\"Proceeding to the next pair.\")"
   ]
  },
  {
   "cell_type": "code",
   "execution_count": 3,
   "id": "9ef8529a",
   "metadata": {},
   "outputs": [],
   "source": [
    "### Open the dictionary\n",
    "\n",
    "with open('plv_symmetrical_conditions.pickle', 'rb') as d:\n",
    "    data = pickle.load(d)"
   ]
  },
  {
   "cell_type": "markdown",
   "id": "ac85a0af",
   "metadata": {},
   "source": [
    "### 3. Calculating PLV values for asymmetric conditions: Leader-Follower, Actor-Observer"
   ]
  },
  {
   "cell_type": "markdown",
   "id": "be2b4403",
   "metadata": {},
   "source": [
    "##### 3.1. Defining a specific function for calculating the complex signal in this case"
   ]
  },
  {
   "cell_type": "code",
   "execution_count": 3,
   "id": "14220b33",
   "metadata": {},
   "outputs": [],
   "source": [
    "### Defining the function\n",
    "\n",
    "def segment_complex_signal_asymm(complex_signal, pair_n, condition_a, condition_b, dict_with_bad_epochs):\n",
    "    \n",
    "    ### conditon_a defines the condition in which the subject A is (e.g., leader)\n",
    "    ### condition_b defines the complementary condition for the subject B (e.g., follower) \n",
    "    \n",
    "    complex_signal_no_baseline = complex_signal[:,:,:,:,513:] ### not including sample 0\n",
    "    all_short_epochs_list = []\n",
    "    for i in range(0,8):\n",
    "        n_samples = 256 * 3 ### corresponds to 3-second segments\n",
    "        short_epoch = complex_signal_no_baseline[:,:,:,:,n_samples*i:n_samples*(i+1)]\n",
    "        all_short_epochs_list.append(short_epoch)\n",
    "    complex_signal_short_epochs = np.concatenate(([i for i in all_short_epochs_list]),axis=1)\n",
    "    \n",
    "    # Removing bad epochs\n",
    "    \n",
    "    bad_epochs = dict_with_bad_epochs[pair_n + '_' + condition_a + '-' + condition_b]\n",
    "    s1 = np.delete(complex_signal_short_epochs[0], obj = bad_epochs, axis = 0) ### for subject a\n",
    "    s2 = np.delete(complex_signal_short_epochs[1], obj = bad_epochs, axis = 0) ### for subject b\n",
    "    all_s_complex_signal_short_epochs = np.stack((s1,s2), axis=0)\n",
    "\n",
    "    print(f\"The shape of the original matrix is {complex_signal_short_epochs.shape}.\")\n",
    "    print(f\"The shape of the final matrix is {all_s_complex_signal_short_epochs.shape}.\")\n",
    "\n",
    "    return(all_s_complex_signal_short_epochs)"
   ]
  },
  {
   "cell_type": "code",
   "execution_count": 407,
   "id": "d3892274",
   "metadata": {},
   "outputs": [],
   "source": [
    "#bad_short_epochs_asymm = {}"
   ]
  },
  {
   "cell_type": "code",
   "execution_count": 31,
   "id": "2aca062d",
   "metadata": {},
   "outputs": [],
   "source": [
    "### Open the dictionary\n",
    "\n",
    "#with open('dict_with_short_bad_epochs_asymm.pickle', 'rb') as k:\n",
    "    #bad_short_epochs_asymm = pickle.load(k)"
   ]
  },
  {
   "cell_type": "code",
   "execution_count": 228,
   "id": "1bc5dd3e",
   "metadata": {},
   "outputs": [
    {
     "name": "stdout",
     "output_type": "stream",
     "text": [
      "Not setting metadata\n",
      "64 matching events found\n",
      "No baseline correction applied\n",
      "Not setting metadata\n",
      "64 matching events found\n",
      "No baseline correction applied\n",
      "0 projection items activated\n",
      "Not setting metadata\n",
      "64 matching events found\n",
      "No baseline correction applied\n",
      "Not setting metadata\n",
      "64 matching events found\n",
      "No baseline correction applied\n",
      "0 projection items activated\n"
     ]
    }
   ],
   "source": [
    "pair_n = '003'\n",
    "folder = f\"/Users/aliaksandrdabranau/Data/Mirror_game/pair{pair_n}\"\n",
    "\n",
    "condition_a = 'follower'\n",
    "condition_b = 'leader'\n",
    "\n",
    "epochs_a = mne.read_epochs(pathlib.Path(folder+f'/{pair_n}a_ave_epo.fif'), verbose=False)\n",
    "epochs_b = mne.read_epochs(pathlib.Path(folder+f'/{pair_n}b_ave_epo.fif'), verbose=False)\n",
    "\n",
    "xxx_a = segment_epochs(epochs_a, condition_a)\n",
    "xxx_b = segment_epochs(epochs_b, condition_b)"
   ]
  },
  {
   "cell_type": "code",
   "execution_count": 230,
   "id": "b14b4d5f",
   "metadata": {},
   "outputs": [
    {
     "data": {
      "text/plain": [
       "<MNEBrowseFigure size 1600x1372 with 4 Axes>"
      ]
     },
     "execution_count": 230,
     "metadata": {},
     "output_type": "execute_result"
    },
    {
     "name": "stdout",
     "output_type": "stream",
     "text": [
      "Dropped 1 epoch: 15\n",
      "The following epochs were marked as bad and are dropped:\n",
      "[15]\n",
      "Channels marked as bad:\n",
      "none\n"
     ]
    }
   ],
   "source": [
    "xxx_a.plot(n_epochs=4, n_channels = 64)"
   ]
  },
  {
   "cell_type": "code",
   "execution_count": 231,
   "id": "919240ad",
   "metadata": {},
   "outputs": [
    {
     "data": {
      "text/plain": [
       "<MNEBrowseFigure size 1600x1372 with 4 Axes>"
      ]
     },
     "execution_count": 231,
     "metadata": {},
     "output_type": "execute_result"
    },
    {
     "name": "stdout",
     "output_type": "stream",
     "text": [
      "Dropped 0 epochs: \n",
      "The following epochs were marked as bad and are dropped:\n",
      "[]\n",
      "Channels marked as bad:\n",
      "none\n"
     ]
    }
   ],
   "source": [
    "xxx_b.plot(n_epochs=4, n_channels = 64)"
   ]
  },
  {
   "cell_type": "code",
   "execution_count": 232,
   "id": "7e599fcd",
   "metadata": {},
   "outputs": [],
   "source": [
    "bad_short_epochs_asymm[pair_n + '_' + condition_a + '-' + condition_b] = [15]"
   ]
  },
  {
   "cell_type": "code",
   "execution_count": 32,
   "id": "df850be9",
   "metadata": {
    "collapsed": true
   },
   "outputs": [
    {
     "data": {
      "text/plain": [
       "{'003_actor-observer': [],\n",
       " '004_actor-observer': [4, 10],\n",
       " '005_actor-observer': [3, 4, 10, 11, 49],\n",
       " '007_actor-observer': [13, 19],\n",
       " '008_actor-observer': [1, 27],\n",
       " '009_actor-observer': [7, 62],\n",
       " '010_actor-observer': [19],\n",
       " '011_actor-observer': [5],\n",
       " '012_actor-observer': [8, 14, 16, 25, 33, 38, 39],\n",
       " '013_actor-observer': [],\n",
       " '014_actor-observer': [25],\n",
       " '016_actor-observer': [2],\n",
       " '017_actor-observer': [21],\n",
       " '018_actor-observer': [10, 13, 23, 27, 33],\n",
       " '019_actor-observer': [7],\n",
       " '020_actor-observer': [1, 13, 15, 21, 33],\n",
       " '022_actor-observer': [6, 14],\n",
       " '023_actor-observer': [6, 14],\n",
       " '024_actor-observer': [2, 6],\n",
       " '025_actor-observer': [0],\n",
       " '027_actor-observer': [],\n",
       " '003_observer-actor': [],\n",
       " '004_observer-actor': [],\n",
       " '005_observer-actor': [],\n",
       " '007_observer-actor': [4, 5],\n",
       " '008_observer-actor': [5, 19, 26, 48],\n",
       " '009_observer-actor': [],\n",
       " '010_observer-actor': [2, 3],\n",
       " '011_observer-actor': [],\n",
       " '012_observer-actor': [22],\n",
       " '013_observer-actor': [8],\n",
       " '014_observer-actor': [47],\n",
       " '016_observer-actor': [5],\n",
       " '017_observer-actor': [],\n",
       " '018_observer-actor': [26],\n",
       " '019_observer-actor': [],\n",
       " '020_observer-actor': [],\n",
       " '022_observer-actor': [11, 22, 28],\n",
       " '023_observer-actor': [],\n",
       " '024_observer-actor': [0, 5],\n",
       " '025_observer-actor': [9, 14],\n",
       " '027_observer-actor': [1, 7],\n",
       " '003_leader-follower': [14],\n",
       " '004_leader-follower': [7],\n",
       " '005_leader-follower': [],\n",
       " '007_leader-follower': [],\n",
       " '008_leader-follower': [5, 7, 8, 13, 33, 38, 41, 49],\n",
       " '009_leader-follower': [],\n",
       " '010_leader-follower': [],\n",
       " '011_leader-follower': [],\n",
       " '012_leader-follower': [],\n",
       " '013_leader-follower': [],\n",
       " '014_leader-follower': [41],\n",
       " '016_leader-follower': [62],\n",
       " '017_leader-follower': [],\n",
       " '018_leader-follower': [5],\n",
       " '019_leader-follower': [],\n",
       " '020_leader-follower': [2, 23, 53],\n",
       " '022_leader-follower': [],\n",
       " '023_leader-follower': [7],\n",
       " '024_leader-follower': [],\n",
       " '025_leader-follower': [],\n",
       " '027_leader-follower': [],\n",
       " '003_follower-leader': [],\n",
       " '004_follower-leader': [11],\n",
       " '005_follower-leader': [61],\n",
       " '007_follower-leader': [7, 19, 20],\n",
       " '008_follower-leader': [3],\n",
       " '009_follower-leader': [],\n",
       " '010_follower-leader': [],\n",
       " '011_follower-leader': [],\n",
       " '012_follower-leader': [19],\n",
       " '013_follower-leader': [23],\n",
       " '014_follower-leader': [],\n",
       " '016_follower-leader': [2, 5, 13, 15, 21],\n",
       " '017_follower-leader': [],\n",
       " '018_follower-leader': [43, 48, 50, 56, 59],\n",
       " '019_follower-leader': [7],\n",
       " '020_follower-leader': [],\n",
       " '022_follower-leader': [1, 40],\n",
       " '023_follower-leader': [3, 13, 21],\n",
       " '024_follower-leader': [3, 7, 11],\n",
       " '025_follower-leader': [2, 7],\n",
       " '027_follower-leader': [15]}"
      ]
     },
     "execution_count": 32,
     "metadata": {},
     "output_type": "execute_result"
    }
   ],
   "source": [
    "bad_short_epochs_asymm"
   ]
  },
  {
   "cell_type": "code",
   "execution_count": 234,
   "id": "66c36ea4",
   "metadata": {},
   "outputs": [],
   "source": [
    "### Save the asymmetric dictionary\n",
    "\n",
    "#with open('dict_with_short_bad_epochs_asymm.pickle', 'wb') as handle:\n",
    "    #pickle.dump(bad_short_epochs_asymm, handle, protocol=pickle.HIGHEST_PROTOCOL)"
   ]
  },
  {
   "cell_type": "code",
   "execution_count": 46,
   "id": "de96c06c",
   "metadata": {
    "collapsed": true
   },
   "outputs": [
    {
     "name": "stdout",
     "output_type": "stream",
     "text": [
      "\n",
      "003 ave actor-observer.\n",
      "The shape of the original matrix is (2, 32, 64, 5, 768).\n",
      "The shape of the final matrix is (2, 32, 64, 5, 768).\n",
      "The shape of the original matrix is (2, 48, 64, 5, 768).\n",
      "The shape of the final matrix is (2, 48, 64, 5, 768).\n",
      "\n",
      "003 ave leader-follower.\n",
      "The shape of the original matrix is (2, 64, 64, 5, 768).\n",
      "The shape of the final matrix is (2, 63, 64, 5, 768).\n",
      "The shape of the original matrix is (2, 64, 64, 5, 768).\n",
      "The shape of the final matrix is (2, 64, 64, 5, 768).\n",
      "\n",
      "003 csd actor-observer.\n",
      "The shape of the original matrix is (2, 32, 64, 5, 768).\n",
      "The shape of the final matrix is (2, 32, 64, 5, 768).\n",
      "The shape of the original matrix is (2, 48, 64, 5, 768).\n",
      "The shape of the final matrix is (2, 48, 64, 5, 768).\n",
      "\n",
      "003 csd leader-follower.\n",
      "The shape of the original matrix is (2, 64, 64, 5, 768).\n",
      "The shape of the final matrix is (2, 63, 64, 5, 768).\n",
      "The shape of the original matrix is (2, 64, 64, 5, 768).\n",
      "The shape of the final matrix is (2, 64, 64, 5, 768).\n",
      "\n",
      "003 rest actor-observer.\n",
      "The shape of the original matrix is (2, 32, 64, 5, 768).\n",
      "The shape of the final matrix is (2, 32, 64, 5, 768).\n",
      "The shape of the original matrix is (2, 48, 64, 5, 768).\n",
      "The shape of the final matrix is (2, 48, 64, 5, 768).\n",
      "\n",
      "003 rest leader-follower.\n",
      "The shape of the original matrix is (2, 64, 64, 5, 768).\n",
      "The shape of the final matrix is (2, 63, 64, 5, 768).\n",
      "The shape of the original matrix is (2, 64, 64, 5, 768).\n",
      "The shape of the final matrix is (2, 64, 64, 5, 768).\n",
      "\n",
      "004 ave actor-observer.\n",
      "The shape of the original matrix is (2, 48, 64, 5, 768).\n",
      "The shape of the final matrix is (2, 46, 64, 5, 768).\n",
      "The shape of the original matrix is (2, 40, 64, 5, 768).\n",
      "The shape of the final matrix is (2, 40, 64, 5, 768).\n",
      "\n",
      "004 ave leader-follower.\n",
      "The shape of the original matrix is (2, 64, 64, 5, 768).\n",
      "The shape of the final matrix is (2, 63, 64, 5, 768).\n",
      "The shape of the original matrix is (2, 64, 64, 5, 768).\n",
      "The shape of the final matrix is (2, 63, 64, 5, 768).\n",
      "\n",
      "004 csd actor-observer.\n",
      "The shape of the original matrix is (2, 48, 64, 5, 768).\n",
      "The shape of the final matrix is (2, 46, 64, 5, 768).\n",
      "The shape of the original matrix is (2, 40, 64, 5, 768).\n",
      "The shape of the final matrix is (2, 40, 64, 5, 768).\n",
      "\n",
      "004 csd leader-follower.\n",
      "The shape of the original matrix is (2, 64, 64, 5, 768).\n",
      "The shape of the final matrix is (2, 63, 64, 5, 768).\n",
      "The shape of the original matrix is (2, 64, 64, 5, 768).\n",
      "The shape of the final matrix is (2, 63, 64, 5, 768).\n",
      "\n",
      "004 rest actor-observer.\n",
      "The shape of the original matrix is (2, 48, 64, 5, 768).\n",
      "The shape of the final matrix is (2, 46, 64, 5, 768).\n",
      "The shape of the original matrix is (2, 40, 64, 5, 768).\n",
      "The shape of the final matrix is (2, 40, 64, 5, 768).\n",
      "\n",
      "004 rest leader-follower.\n",
      "The shape of the original matrix is (2, 64, 64, 5, 768).\n",
      "The shape of the final matrix is (2, 63, 64, 5, 768).\n",
      "The shape of the original matrix is (2, 64, 64, 5, 768).\n",
      "The shape of the final matrix is (2, 63, 64, 5, 768).\n",
      "\n",
      "005 ave actor-observer.\n",
      "The shape of the original matrix is (2, 56, 64, 5, 768).\n",
      "The shape of the final matrix is (2, 51, 64, 5, 768).\n",
      "The shape of the original matrix is (2, 48, 64, 5, 768).\n",
      "The shape of the final matrix is (2, 48, 64, 5, 768).\n",
      "\n",
      "005 ave leader-follower.\n",
      "The shape of the original matrix is (2, 64, 64, 5, 768).\n",
      "The shape of the final matrix is (2, 64, 64, 5, 768).\n",
      "The shape of the original matrix is (2, 64, 64, 5, 768).\n",
      "The shape of the final matrix is (2, 63, 64, 5, 768).\n",
      "\n",
      "005 csd actor-observer.\n",
      "The shape of the original matrix is (2, 56, 64, 5, 768).\n",
      "The shape of the final matrix is (2, 51, 64, 5, 768).\n",
      "The shape of the original matrix is (2, 48, 64, 5, 768).\n",
      "The shape of the final matrix is (2, 48, 64, 5, 768).\n",
      "\n",
      "005 csd leader-follower.\n",
      "The shape of the original matrix is (2, 64, 64, 5, 768).\n",
      "The shape of the final matrix is (2, 64, 64, 5, 768).\n",
      "The shape of the original matrix is (2, 64, 64, 5, 768).\n",
      "The shape of the final matrix is (2, 63, 64, 5, 768).\n",
      "\n",
      "005 rest actor-observer.\n",
      "The shape of the original matrix is (2, 56, 64, 5, 768).\n",
      "The shape of the final matrix is (2, 51, 64, 5, 768).\n",
      "The shape of the original matrix is (2, 48, 64, 5, 768).\n",
      "The shape of the final matrix is (2, 48, 64, 5, 768).\n",
      "\n",
      "005 rest leader-follower.\n",
      "The shape of the original matrix is (2, 64, 64, 5, 768).\n",
      "The shape of the final matrix is (2, 64, 64, 5, 768).\n",
      "The shape of the original matrix is (2, 64, 64, 5, 768).\n",
      "The shape of the final matrix is (2, 63, 64, 5, 768).\n",
      "\n",
      "007 ave actor-observer.\n",
      "The shape of the original matrix is (2, 56, 64, 5, 768).\n",
      "The shape of the final matrix is (2, 54, 64, 5, 768).\n",
      "The shape of the original matrix is (2, 56, 64, 5, 768).\n",
      "The shape of the final matrix is (2, 54, 64, 5, 768).\n",
      "\n",
      "007 ave leader-follower.\n",
      "The shape of the original matrix is (2, 64, 64, 5, 768).\n",
      "The shape of the final matrix is (2, 64, 64, 5, 768).\n",
      "The shape of the original matrix is (2, 64, 64, 5, 768).\n",
      "The shape of the final matrix is (2, 61, 64, 5, 768).\n",
      "\n",
      "007 csd actor-observer.\n",
      "The shape of the original matrix is (2, 56, 64, 5, 768).\n",
      "The shape of the final matrix is (2, 54, 64, 5, 768).\n",
      "The shape of the original matrix is (2, 56, 64, 5, 768).\n",
      "The shape of the final matrix is (2, 54, 64, 5, 768).\n",
      "\n",
      "007 csd leader-follower.\n",
      "The shape of the original matrix is (2, 64, 64, 5, 768).\n",
      "The shape of the final matrix is (2, 64, 64, 5, 768).\n",
      "The shape of the original matrix is (2, 64, 64, 5, 768).\n",
      "The shape of the final matrix is (2, 61, 64, 5, 768).\n",
      "\n",
      "007 rest actor-observer.\n",
      "The shape of the original matrix is (2, 56, 64, 5, 768).\n",
      "The shape of the final matrix is (2, 54, 64, 5, 768).\n",
      "The shape of the original matrix is (2, 56, 64, 5, 768).\n",
      "The shape of the final matrix is (2, 54, 64, 5, 768).\n",
      "\n",
      "007 rest leader-follower.\n",
      "The shape of the original matrix is (2, 64, 64, 5, 768).\n",
      "The shape of the final matrix is (2, 64, 64, 5, 768).\n",
      "The shape of the original matrix is (2, 64, 64, 5, 768).\n",
      "The shape of the final matrix is (2, 61, 64, 5, 768).\n",
      "\n",
      "008 ave actor-observer.\n",
      "The shape of the original matrix is (2, 56, 64, 5, 768).\n",
      "The shape of the final matrix is (2, 54, 64, 5, 768).\n",
      "The shape of the original matrix is (2, 56, 64, 5, 768).\n",
      "The shape of the final matrix is (2, 52, 64, 5, 768).\n",
      "\n",
      "008 ave leader-follower.\n",
      "The shape of the original matrix is (2, 64, 64, 5, 768).\n",
      "The shape of the final matrix is (2, 56, 64, 5, 768).\n",
      "The shape of the original matrix is (2, 64, 64, 5, 768).\n",
      "The shape of the final matrix is (2, 63, 64, 5, 768).\n",
      "\n",
      "008 csd actor-observer.\n",
      "The shape of the original matrix is (2, 56, 64, 5, 768).\n",
      "The shape of the final matrix is (2, 54, 64, 5, 768).\n",
      "The shape of the original matrix is (2, 56, 64, 5, 768).\n",
      "The shape of the final matrix is (2, 52, 64, 5, 768).\n",
      "\n",
      "008 csd leader-follower.\n",
      "The shape of the original matrix is (2, 64, 64, 5, 768).\n",
      "The shape of the final matrix is (2, 56, 64, 5, 768).\n",
      "The shape of the original matrix is (2, 64, 64, 5, 768).\n",
      "The shape of the final matrix is (2, 63, 64, 5, 768).\n",
      "\n",
      "008 rest actor-observer.\n",
      "The shape of the original matrix is (2, 56, 64, 5, 768).\n",
      "The shape of the final matrix is (2, 54, 64, 5, 768).\n",
      "The shape of the original matrix is (2, 56, 64, 5, 768).\n",
      "The shape of the final matrix is (2, 52, 64, 5, 768).\n",
      "\n",
      "008 rest leader-follower.\n",
      "The shape of the original matrix is (2, 64, 64, 5, 768).\n",
      "The shape of the final matrix is (2, 56, 64, 5, 768).\n",
      "The shape of the original matrix is (2, 64, 64, 5, 768).\n",
      "The shape of the final matrix is (2, 63, 64, 5, 768).\n",
      "\n",
      "009 ave actor-observer.\n",
      "The shape of the original matrix is (2, 64, 64, 5, 768).\n",
      "The shape of the final matrix is (2, 62, 64, 5, 768).\n",
      "The shape of the original matrix is (2, 56, 64, 5, 768).\n",
      "The shape of the final matrix is (2, 56, 64, 5, 768).\n",
      "\n",
      "009 ave leader-follower.\n",
      "The shape of the original matrix is (2, 64, 64, 5, 768).\n",
      "The shape of the final matrix is (2, 64, 64, 5, 768).\n",
      "The shape of the original matrix is (2, 64, 64, 5, 768).\n",
      "The shape of the final matrix is (2, 64, 64, 5, 768).\n",
      "\n",
      "009 csd actor-observer.\n",
      "The shape of the original matrix is (2, 64, 64, 5, 768).\n",
      "The shape of the final matrix is (2, 62, 64, 5, 768).\n",
      "The shape of the original matrix is (2, 56, 64, 5, 768).\n",
      "The shape of the final matrix is (2, 56, 64, 5, 768).\n",
      "\n",
      "009 csd leader-follower.\n"
     ]
    },
    {
     "name": "stdout",
     "output_type": "stream",
     "text": [
      "The shape of the original matrix is (2, 64, 64, 5, 768).\n",
      "The shape of the final matrix is (2, 64, 64, 5, 768).\n",
      "The shape of the original matrix is (2, 64, 64, 5, 768).\n",
      "The shape of the final matrix is (2, 64, 64, 5, 768).\n",
      "\n",
      "009 rest actor-observer.\n",
      "The shape of the original matrix is (2, 64, 64, 5, 768).\n",
      "The shape of the final matrix is (2, 62, 64, 5, 768).\n",
      "The shape of the original matrix is (2, 56, 64, 5, 768).\n",
      "The shape of the final matrix is (2, 56, 64, 5, 768).\n",
      "\n",
      "009 rest leader-follower.\n",
      "The shape of the original matrix is (2, 64, 64, 5, 768).\n",
      "The shape of the final matrix is (2, 64, 64, 5, 768).\n",
      "The shape of the original matrix is (2, 64, 64, 5, 768).\n",
      "The shape of the final matrix is (2, 64, 64, 5, 768).\n",
      "\n",
      "010 ave actor-observer.\n",
      "The shape of the original matrix is (2, 64, 64, 5, 768).\n",
      "The shape of the final matrix is (2, 63, 64, 5, 768).\n",
      "The shape of the original matrix is (2, 56, 64, 5, 768).\n",
      "The shape of the final matrix is (2, 54, 64, 5, 768).\n",
      "\n",
      "010 ave leader-follower.\n",
      "The shape of the original matrix is (2, 64, 64, 5, 768).\n",
      "The shape of the final matrix is (2, 64, 64, 5, 768).\n",
      "The shape of the original matrix is (2, 64, 64, 5, 768).\n",
      "The shape of the final matrix is (2, 64, 64, 5, 768).\n",
      "\n",
      "010 csd actor-observer.\n",
      "The shape of the original matrix is (2, 64, 64, 5, 768).\n",
      "The shape of the final matrix is (2, 63, 64, 5, 768).\n",
      "The shape of the original matrix is (2, 56, 64, 5, 768).\n",
      "The shape of the final matrix is (2, 54, 64, 5, 768).\n",
      "\n",
      "010 csd leader-follower.\n",
      "The shape of the original matrix is (2, 64, 64, 5, 768).\n",
      "The shape of the final matrix is (2, 64, 64, 5, 768).\n",
      "The shape of the original matrix is (2, 64, 64, 5, 768).\n",
      "The shape of the final matrix is (2, 64, 64, 5, 768).\n",
      "\n",
      "010 rest actor-observer.\n",
      "The shape of the original matrix is (2, 64, 64, 5, 768).\n",
      "The shape of the final matrix is (2, 63, 64, 5, 768).\n",
      "The shape of the original matrix is (2, 56, 64, 5, 768).\n",
      "The shape of the final matrix is (2, 54, 64, 5, 768).\n",
      "\n",
      "010 rest leader-follower.\n",
      "The shape of the original matrix is (2, 64, 64, 5, 768).\n",
      "The shape of the final matrix is (2, 64, 64, 5, 768).\n",
      "The shape of the original matrix is (2, 64, 64, 5, 768).\n",
      "The shape of the final matrix is (2, 64, 64, 5, 768).\n",
      "\n",
      "011 ave actor-observer.\n",
      "The shape of the original matrix is (2, 64, 64, 5, 768).\n",
      "The shape of the final matrix is (2, 63, 64, 5, 768).\n",
      "The shape of the original matrix is (2, 16, 64, 5, 768).\n",
      "The shape of the final matrix is (2, 16, 64, 5, 768).\n",
      "\n",
      "011 ave leader-follower.\n",
      "The shape of the original matrix is (2, 64, 64, 5, 768).\n",
      "The shape of the final matrix is (2, 64, 64, 5, 768).\n",
      "The shape of the original matrix is (2, 64, 64, 5, 768).\n",
      "The shape of the final matrix is (2, 64, 64, 5, 768).\n",
      "\n",
      "011 csd actor-observer.\n",
      "The shape of the original matrix is (2, 64, 64, 5, 768).\n",
      "The shape of the final matrix is (2, 63, 64, 5, 768).\n",
      "The shape of the original matrix is (2, 16, 64, 5, 768).\n",
      "The shape of the final matrix is (2, 16, 64, 5, 768).\n",
      "\n",
      "011 csd leader-follower.\n",
      "The shape of the original matrix is (2, 64, 64, 5, 768).\n",
      "The shape of the final matrix is (2, 64, 64, 5, 768).\n",
      "The shape of the original matrix is (2, 64, 64, 5, 768).\n",
      "The shape of the final matrix is (2, 64, 64, 5, 768).\n",
      "\n",
      "011 rest actor-observer.\n",
      "The shape of the original matrix is (2, 64, 64, 5, 768).\n",
      "The shape of the final matrix is (2, 63, 64, 5, 768).\n",
      "The shape of the original matrix is (2, 16, 64, 5, 768).\n",
      "The shape of the final matrix is (2, 16, 64, 5, 768).\n",
      "\n",
      "011 rest leader-follower.\n",
      "The shape of the original matrix is (2, 64, 64, 5, 768).\n",
      "The shape of the final matrix is (2, 64, 64, 5, 768).\n",
      "The shape of the original matrix is (2, 64, 64, 5, 768).\n",
      "The shape of the final matrix is (2, 64, 64, 5, 768).\n",
      "\n",
      "012 ave actor-observer.\n",
      "The shape of the original matrix is (2, 48, 64, 5, 768).\n",
      "The shape of the final matrix is (2, 41, 64, 5, 768).\n",
      "The shape of the original matrix is (2, 48, 64, 5, 768).\n",
      "The shape of the final matrix is (2, 47, 64, 5, 768).\n",
      "\n",
      "012 ave leader-follower.\n",
      "The shape of the original matrix is (2, 64, 64, 5, 768).\n",
      "The shape of the final matrix is (2, 64, 64, 5, 768).\n",
      "The shape of the original matrix is (2, 64, 64, 5, 768).\n",
      "The shape of the final matrix is (2, 63, 64, 5, 768).\n",
      "\n",
      "012 csd actor-observer.\n",
      "The shape of the original matrix is (2, 48, 64, 5, 768).\n",
      "The shape of the final matrix is (2, 41, 64, 5, 768).\n",
      "The shape of the original matrix is (2, 48, 64, 5, 768).\n",
      "The shape of the final matrix is (2, 47, 64, 5, 768).\n",
      "\n",
      "012 csd leader-follower.\n",
      "The shape of the original matrix is (2, 64, 64, 5, 768).\n",
      "The shape of the final matrix is (2, 64, 64, 5, 768).\n",
      "The shape of the original matrix is (2, 64, 64, 5, 768).\n",
      "The shape of the final matrix is (2, 63, 64, 5, 768).\n",
      "\n",
      "012 rest actor-observer.\n",
      "The shape of the original matrix is (2, 48, 64, 5, 768).\n",
      "The shape of the final matrix is (2, 41, 64, 5, 768).\n",
      "The shape of the original matrix is (2, 48, 64, 5, 768).\n",
      "The shape of the final matrix is (2, 47, 64, 5, 768).\n",
      "\n",
      "012 rest leader-follower.\n",
      "The shape of the original matrix is (2, 64, 64, 5, 768).\n",
      "The shape of the final matrix is (2, 64, 64, 5, 768).\n",
      "The shape of the original matrix is (2, 64, 64, 5, 768).\n",
      "The shape of the final matrix is (2, 63, 64, 5, 768).\n",
      "\n",
      "013 ave actor-observer.\n",
      "The shape of the original matrix is (2, 40, 64, 5, 768).\n",
      "The shape of the final matrix is (2, 40, 64, 5, 768).\n",
      "The shape of the original matrix is (2, 40, 64, 5, 768).\n",
      "The shape of the final matrix is (2, 39, 64, 5, 768).\n",
      "\n",
      "013 ave leader-follower.\n",
      "The shape of the original matrix is (2, 64, 64, 5, 768).\n",
      "The shape of the final matrix is (2, 64, 64, 5, 768).\n",
      "The shape of the original matrix is (2, 64, 64, 5, 768).\n",
      "The shape of the final matrix is (2, 63, 64, 5, 768).\n",
      "\n",
      "013 csd actor-observer.\n",
      "The shape of the original matrix is (2, 40, 64, 5, 768).\n",
      "The shape of the final matrix is (2, 40, 64, 5, 768).\n",
      "The shape of the original matrix is (2, 40, 64, 5, 768).\n",
      "The shape of the final matrix is (2, 39, 64, 5, 768).\n",
      "\n",
      "013 csd leader-follower.\n",
      "The shape of the original matrix is (2, 64, 64, 5, 768).\n",
      "The shape of the final matrix is (2, 64, 64, 5, 768).\n",
      "The shape of the original matrix is (2, 64, 64, 5, 768).\n",
      "The shape of the final matrix is (2, 63, 64, 5, 768).\n",
      "\n",
      "013 rest actor-observer.\n",
      "The shape of the original matrix is (2, 40, 64, 5, 768).\n",
      "The shape of the final matrix is (2, 40, 64, 5, 768).\n",
      "The shape of the original matrix is (2, 40, 64, 5, 768).\n",
      "The shape of the final matrix is (2, 39, 64, 5, 768).\n",
      "\n",
      "013 rest leader-follower.\n",
      "The shape of the original matrix is (2, 64, 64, 5, 768).\n",
      "The shape of the final matrix is (2, 64, 64, 5, 768).\n",
      "The shape of the original matrix is (2, 64, 64, 5, 768).\n",
      "The shape of the final matrix is (2, 63, 64, 5, 768).\n",
      "\n",
      "014 ave actor-observer.\n",
      "The shape of the original matrix is (2, 48, 64, 5, 768).\n",
      "The shape of the final matrix is (2, 47, 64, 5, 768).\n",
      "The shape of the original matrix is (2, 56, 64, 5, 768).\n",
      "The shape of the final matrix is (2, 55, 64, 5, 768).\n",
      "\n",
      "014 ave leader-follower.\n",
      "The shape of the original matrix is (2, 64, 64, 5, 768).\n",
      "The shape of the final matrix is (2, 63, 64, 5, 768).\n",
      "The shape of the original matrix is (2, 64, 64, 5, 768).\n",
      "The shape of the final matrix is (2, 64, 64, 5, 768).\n",
      "\n",
      "014 csd actor-observer.\n",
      "The shape of the original matrix is (2, 48, 64, 5, 768).\n",
      "The shape of the final matrix is (2, 47, 64, 5, 768).\n",
      "The shape of the original matrix is (2, 56, 64, 5, 768).\n",
      "The shape of the final matrix is (2, 55, 64, 5, 768).\n",
      "\n",
      "014 csd leader-follower.\n",
      "The shape of the original matrix is (2, 64, 64, 5, 768).\n",
      "The shape of the final matrix is (2, 63, 64, 5, 768).\n",
      "The shape of the original matrix is (2, 64, 64, 5, 768).\n",
      "The shape of the final matrix is (2, 64, 64, 5, 768).\n",
      "\n",
      "014 rest actor-observer.\n",
      "The shape of the original matrix is (2, 48, 64, 5, 768).\n",
      "The shape of the final matrix is (2, 47, 64, 5, 768).\n",
      "The shape of the original matrix is (2, 56, 64, 5, 768).\n",
      "The shape of the final matrix is (2, 55, 64, 5, 768).\n",
      "\n",
      "014 rest leader-follower.\n",
      "The shape of the original matrix is (2, 64, 64, 5, 768).\n",
      "The shape of the final matrix is (2, 63, 64, 5, 768).\n",
      "The shape of the original matrix is (2, 64, 64, 5, 768).\n",
      "The shape of the final matrix is (2, 64, 64, 5, 768).\n",
      "\n",
      "016 ave actor-observer.\n",
      "The shape of the original matrix is (2, 24, 64, 5, 768).\n",
      "The shape of the final matrix is (2, 23, 64, 5, 768).\n"
     ]
    },
    {
     "name": "stdout",
     "output_type": "stream",
     "text": [
      "The shape of the original matrix is (2, 48, 64, 5, 768).\n",
      "The shape of the final matrix is (2, 47, 64, 5, 768).\n",
      "\n",
      "016 ave leader-follower.\n",
      "The shape of the original matrix is (2, 64, 64, 5, 768).\n",
      "The shape of the final matrix is (2, 63, 64, 5, 768).\n",
      "The shape of the original matrix is (2, 64, 64, 5, 768).\n",
      "The shape of the final matrix is (2, 59, 64, 5, 768).\n",
      "\n",
      "016 csd actor-observer.\n",
      "The shape of the original matrix is (2, 24, 64, 5, 768).\n",
      "The shape of the final matrix is (2, 23, 64, 5, 768).\n",
      "The shape of the original matrix is (2, 48, 64, 5, 768).\n",
      "The shape of the final matrix is (2, 47, 64, 5, 768).\n",
      "\n",
      "016 csd leader-follower.\n",
      "The shape of the original matrix is (2, 64, 64, 5, 768).\n",
      "The shape of the final matrix is (2, 63, 64, 5, 768).\n",
      "The shape of the original matrix is (2, 64, 64, 5, 768).\n",
      "The shape of the final matrix is (2, 59, 64, 5, 768).\n",
      "\n",
      "016 rest actor-observer.\n",
      "The shape of the original matrix is (2, 24, 64, 5, 768).\n",
      "The shape of the final matrix is (2, 23, 64, 5, 768).\n",
      "The shape of the original matrix is (2, 48, 64, 5, 768).\n",
      "The shape of the final matrix is (2, 47, 64, 5, 768).\n",
      "\n",
      "016 rest leader-follower.\n",
      "The shape of the original matrix is (2, 64, 64, 5, 768).\n",
      "The shape of the final matrix is (2, 63, 64, 5, 768).\n",
      "The shape of the original matrix is (2, 64, 64, 5, 768).\n",
      "The shape of the final matrix is (2, 59, 64, 5, 768).\n",
      "\n",
      "017 ave actor-observer.\n",
      "The shape of the original matrix is (2, 48, 64, 5, 768).\n",
      "The shape of the final matrix is (2, 47, 64, 5, 768).\n",
      "The shape of the original matrix is (2, 40, 64, 5, 768).\n",
      "The shape of the final matrix is (2, 40, 64, 5, 768).\n",
      "\n",
      "017 ave leader-follower.\n",
      "The shape of the original matrix is (2, 64, 64, 5, 768).\n",
      "The shape of the final matrix is (2, 64, 64, 5, 768).\n",
      "The shape of the original matrix is (2, 64, 64, 5, 768).\n",
      "The shape of the final matrix is (2, 64, 64, 5, 768).\n",
      "\n",
      "017 csd actor-observer.\n",
      "The shape of the original matrix is (2, 48, 64, 5, 768).\n",
      "The shape of the final matrix is (2, 47, 64, 5, 768).\n",
      "The shape of the original matrix is (2, 40, 64, 5, 768).\n",
      "The shape of the final matrix is (2, 40, 64, 5, 768).\n",
      "\n",
      "017 csd leader-follower.\n",
      "The shape of the original matrix is (2, 64, 64, 5, 768).\n",
      "The shape of the final matrix is (2, 64, 64, 5, 768).\n",
      "The shape of the original matrix is (2, 64, 64, 5, 768).\n",
      "The shape of the final matrix is (2, 64, 64, 5, 768).\n",
      "\n",
      "017 rest actor-observer.\n",
      "The shape of the original matrix is (2, 48, 64, 5, 768).\n",
      "The shape of the final matrix is (2, 47, 64, 5, 768).\n",
      "The shape of the original matrix is (2, 40, 64, 5, 768).\n",
      "The shape of the final matrix is (2, 40, 64, 5, 768).\n",
      "\n",
      "017 rest leader-follower.\n",
      "The shape of the original matrix is (2, 64, 64, 5, 768).\n",
      "The shape of the final matrix is (2, 64, 64, 5, 768).\n",
      "The shape of the original matrix is (2, 64, 64, 5, 768).\n",
      "The shape of the final matrix is (2, 64, 64, 5, 768).\n",
      "\n",
      "018 ave actor-observer.\n",
      "The shape of the original matrix is (2, 40, 64, 5, 768).\n",
      "The shape of the final matrix is (2, 35, 64, 5, 768).\n",
      "The shape of the original matrix is (2, 48, 64, 5, 768).\n",
      "The shape of the final matrix is (2, 47, 64, 5, 768).\n",
      "\n",
      "018 ave leader-follower.\n",
      "The shape of the original matrix is (2, 64, 64, 5, 768).\n",
      "The shape of the final matrix is (2, 63, 64, 5, 768).\n",
      "The shape of the original matrix is (2, 64, 64, 5, 768).\n",
      "The shape of the final matrix is (2, 59, 64, 5, 768).\n",
      "\n",
      "018 csd actor-observer.\n",
      "The shape of the original matrix is (2, 40, 64, 5, 768).\n",
      "The shape of the final matrix is (2, 35, 64, 5, 768).\n",
      "The shape of the original matrix is (2, 48, 64, 5, 768).\n",
      "The shape of the final matrix is (2, 47, 64, 5, 768).\n",
      "\n",
      "018 csd leader-follower.\n",
      "The shape of the original matrix is (2, 64, 64, 5, 768).\n",
      "The shape of the final matrix is (2, 63, 64, 5, 768).\n",
      "The shape of the original matrix is (2, 64, 64, 5, 768).\n",
      "The shape of the final matrix is (2, 59, 64, 5, 768).\n",
      "\n",
      "018 rest actor-observer.\n",
      "The shape of the original matrix is (2, 40, 64, 5, 768).\n",
      "The shape of the final matrix is (2, 35, 64, 5, 768).\n",
      "The shape of the original matrix is (2, 48, 64, 5, 768).\n",
      "The shape of the final matrix is (2, 47, 64, 5, 768).\n",
      "\n",
      "018 rest leader-follower.\n",
      "The shape of the original matrix is (2, 64, 64, 5, 768).\n",
      "The shape of the final matrix is (2, 63, 64, 5, 768).\n",
      "The shape of the original matrix is (2, 64, 64, 5, 768).\n",
      "The shape of the final matrix is (2, 59, 64, 5, 768).\n",
      "\n",
      "019 ave actor-observer.\n",
      "The shape of the original matrix is (2, 64, 64, 5, 768).\n",
      "The shape of the final matrix is (2, 63, 64, 5, 768).\n",
      "The shape of the original matrix is (2, 56, 64, 5, 768).\n",
      "The shape of the final matrix is (2, 56, 64, 5, 768).\n",
      "\n",
      "019 ave leader-follower.\n",
      "The shape of the original matrix is (2, 64, 64, 5, 768).\n",
      "The shape of the final matrix is (2, 64, 64, 5, 768).\n",
      "The shape of the original matrix is (2, 64, 64, 5, 768).\n",
      "The shape of the final matrix is (2, 63, 64, 5, 768).\n",
      "\n",
      "019 csd actor-observer.\n",
      "The shape of the original matrix is (2, 64, 64, 5, 768).\n",
      "The shape of the final matrix is (2, 63, 64, 5, 768).\n",
      "The shape of the original matrix is (2, 56, 64, 5, 768).\n",
      "The shape of the final matrix is (2, 56, 64, 5, 768).\n",
      "\n",
      "019 csd leader-follower.\n",
      "The shape of the original matrix is (2, 64, 64, 5, 768).\n",
      "The shape of the final matrix is (2, 64, 64, 5, 768).\n",
      "The shape of the original matrix is (2, 64, 64, 5, 768).\n",
      "The shape of the final matrix is (2, 63, 64, 5, 768).\n",
      "\n",
      "019 rest actor-observer.\n",
      "The shape of the original matrix is (2, 64, 64, 5, 768).\n",
      "The shape of the final matrix is (2, 63, 64, 5, 768).\n",
      "The shape of the original matrix is (2, 56, 64, 5, 768).\n",
      "The shape of the final matrix is (2, 56, 64, 5, 768).\n",
      "\n",
      "019 rest leader-follower.\n",
      "The shape of the original matrix is (2, 64, 64, 5, 768).\n",
      "The shape of the final matrix is (2, 64, 64, 5, 768).\n",
      "The shape of the original matrix is (2, 64, 64, 5, 768).\n",
      "The shape of the final matrix is (2, 63, 64, 5, 768).\n",
      "\n",
      "020 ave actor-observer.\n",
      "The shape of the original matrix is (2, 48, 64, 5, 768).\n",
      "The shape of the final matrix is (2, 43, 64, 5, 768).\n",
      "The shape of the original matrix is (2, 64, 64, 5, 768).\n",
      "The shape of the final matrix is (2, 64, 64, 5, 768).\n",
      "\n",
      "020 ave leader-follower.\n",
      "The shape of the original matrix is (2, 64, 64, 5, 768).\n",
      "The shape of the final matrix is (2, 61, 64, 5, 768).\n",
      "The shape of the original matrix is (2, 64, 64, 5, 768).\n",
      "The shape of the final matrix is (2, 64, 64, 5, 768).\n",
      "\n",
      "020 csd actor-observer.\n",
      "The shape of the original matrix is (2, 48, 64, 5, 768).\n",
      "The shape of the final matrix is (2, 43, 64, 5, 768).\n",
      "The shape of the original matrix is (2, 64, 64, 5, 768).\n",
      "The shape of the final matrix is (2, 64, 64, 5, 768).\n",
      "\n",
      "020 csd leader-follower.\n",
      "The shape of the original matrix is (2, 64, 64, 5, 768).\n",
      "The shape of the final matrix is (2, 61, 64, 5, 768).\n",
      "The shape of the original matrix is (2, 64, 64, 5, 768).\n",
      "The shape of the final matrix is (2, 64, 64, 5, 768).\n",
      "\n",
      "020 rest actor-observer.\n",
      "The shape of the original matrix is (2, 48, 64, 5, 768).\n",
      "The shape of the final matrix is (2, 43, 64, 5, 768).\n",
      "The shape of the original matrix is (2, 64, 64, 5, 768).\n",
      "The shape of the final matrix is (2, 64, 64, 5, 768).\n",
      "\n",
      "020 rest leader-follower.\n",
      "The shape of the original matrix is (2, 64, 64, 5, 768).\n",
      "The shape of the final matrix is (2, 61, 64, 5, 768).\n",
      "The shape of the original matrix is (2, 64, 64, 5, 768).\n",
      "The shape of the final matrix is (2, 64, 64, 5, 768).\n",
      "\n",
      "022 ave actor-observer.\n",
      "The shape of the original matrix is (2, 64, 64, 5, 768).\n",
      "The shape of the final matrix is (2, 62, 64, 5, 768).\n",
      "The shape of the original matrix is (2, 48, 64, 5, 768).\n",
      "The shape of the final matrix is (2, 45, 64, 5, 768).\n",
      "\n",
      "022 ave leader-follower.\n",
      "The shape of the original matrix is (2, 64, 64, 5, 768).\n",
      "The shape of the final matrix is (2, 64, 64, 5, 768).\n",
      "The shape of the original matrix is (2, 64, 64, 5, 768).\n",
      "The shape of the final matrix is (2, 62, 64, 5, 768).\n",
      "\n",
      "022 csd actor-observer.\n",
      "The shape of the original matrix is (2, 64, 64, 5, 768).\n",
      "The shape of the final matrix is (2, 62, 64, 5, 768).\n",
      "The shape of the original matrix is (2, 48, 64, 5, 768).\n",
      "The shape of the final matrix is (2, 45, 64, 5, 768).\n",
      "\n",
      "022 csd leader-follower.\n",
      "The shape of the original matrix is (2, 64, 64, 5, 768).\n",
      "The shape of the final matrix is (2, 64, 64, 5, 768).\n",
      "The shape of the original matrix is (2, 64, 64, 5, 768).\n",
      "The shape of the final matrix is (2, 62, 64, 5, 768).\n"
     ]
    },
    {
     "name": "stdout",
     "output_type": "stream",
     "text": [
      "\n",
      "022 rest actor-observer.\n",
      "The shape of the original matrix is (2, 64, 64, 5, 768).\n",
      "The shape of the final matrix is (2, 62, 64, 5, 768).\n",
      "The shape of the original matrix is (2, 48, 64, 5, 768).\n",
      "The shape of the final matrix is (2, 45, 64, 5, 768).\n",
      "\n",
      "022 rest leader-follower.\n",
      "The shape of the original matrix is (2, 64, 64, 5, 768).\n",
      "The shape of the final matrix is (2, 64, 64, 5, 768).\n",
      "The shape of the original matrix is (2, 64, 64, 5, 768).\n",
      "The shape of the final matrix is (2, 62, 64, 5, 768).\n",
      "\n",
      "023 ave actor-observer.\n",
      "The shape of the original matrix is (2, 64, 64, 5, 768).\n",
      "The shape of the final matrix is (2, 62, 64, 5, 768).\n",
      "The shape of the original matrix is (2, 32, 64, 5, 768).\n",
      "The shape of the final matrix is (2, 32, 64, 5, 768).\n",
      "\n",
      "023 ave leader-follower.\n",
      "The shape of the original matrix is (2, 64, 64, 5, 768).\n",
      "The shape of the final matrix is (2, 63, 64, 5, 768).\n",
      "The shape of the original matrix is (2, 64, 64, 5, 768).\n",
      "The shape of the final matrix is (2, 61, 64, 5, 768).\n",
      "\n",
      "023 csd actor-observer.\n",
      "The shape of the original matrix is (2, 64, 64, 5, 768).\n",
      "The shape of the final matrix is (2, 62, 64, 5, 768).\n",
      "The shape of the original matrix is (2, 32, 64, 5, 768).\n",
      "The shape of the final matrix is (2, 32, 64, 5, 768).\n",
      "\n",
      "023 csd leader-follower.\n",
      "The shape of the original matrix is (2, 64, 64, 5, 768).\n",
      "The shape of the final matrix is (2, 63, 64, 5, 768).\n",
      "The shape of the original matrix is (2, 64, 64, 5, 768).\n",
      "The shape of the final matrix is (2, 61, 64, 5, 768).\n",
      "\n",
      "023 rest actor-observer.\n",
      "The shape of the original matrix is (2, 64, 64, 5, 768).\n",
      "The shape of the final matrix is (2, 62, 64, 5, 768).\n",
      "The shape of the original matrix is (2, 32, 64, 5, 768).\n",
      "The shape of the final matrix is (2, 32, 64, 5, 768).\n",
      "\n",
      "023 rest leader-follower.\n",
      "The shape of the original matrix is (2, 64, 64, 5, 768).\n",
      "The shape of the final matrix is (2, 63, 64, 5, 768).\n",
      "The shape of the original matrix is (2, 64, 64, 5, 768).\n",
      "The shape of the final matrix is (2, 61, 64, 5, 768).\n",
      "\n",
      "024 ave actor-observer.\n",
      "The shape of the original matrix is (2, 56, 64, 5, 768).\n",
      "The shape of the final matrix is (2, 54, 64, 5, 768).\n",
      "The shape of the original matrix is (2, 56, 64, 5, 768).\n",
      "The shape of the final matrix is (2, 54, 64, 5, 768).\n",
      "\n",
      "024 ave leader-follower.\n",
      "The shape of the original matrix is (2, 64, 64, 5, 768).\n",
      "The shape of the final matrix is (2, 64, 64, 5, 768).\n",
      "The shape of the original matrix is (2, 64, 64, 5, 768).\n",
      "The shape of the final matrix is (2, 61, 64, 5, 768).\n",
      "\n",
      "024 csd actor-observer.\n",
      "The shape of the original matrix is (2, 56, 64, 5, 768).\n",
      "The shape of the final matrix is (2, 54, 64, 5, 768).\n",
      "The shape of the original matrix is (2, 56, 64, 5, 768).\n",
      "The shape of the final matrix is (2, 54, 64, 5, 768).\n",
      "\n",
      "024 csd leader-follower.\n",
      "The shape of the original matrix is (2, 64, 64, 5, 768).\n",
      "The shape of the final matrix is (2, 64, 64, 5, 768).\n",
      "The shape of the original matrix is (2, 64, 64, 5, 768).\n",
      "The shape of the final matrix is (2, 61, 64, 5, 768).\n",
      "\n",
      "024 rest actor-observer.\n",
      "The shape of the original matrix is (2, 56, 64, 5, 768).\n",
      "The shape of the final matrix is (2, 54, 64, 5, 768).\n",
      "The shape of the original matrix is (2, 56, 64, 5, 768).\n",
      "The shape of the final matrix is (2, 54, 64, 5, 768).\n",
      "\n",
      "024 rest leader-follower.\n",
      "The shape of the original matrix is (2, 64, 64, 5, 768).\n",
      "The shape of the final matrix is (2, 64, 64, 5, 768).\n",
      "The shape of the original matrix is (2, 64, 64, 5, 768).\n",
      "The shape of the final matrix is (2, 61, 64, 5, 768).\n",
      "\n",
      "025 ave actor-observer.\n",
      "The shape of the original matrix is (2, 32, 64, 5, 768).\n",
      "The shape of the final matrix is (2, 31, 64, 5, 768).\n",
      "The shape of the original matrix is (2, 40, 64, 5, 768).\n",
      "The shape of the final matrix is (2, 38, 64, 5, 768).\n",
      "\n",
      "025 ave leader-follower.\n",
      "The shape of the original matrix is (2, 48, 64, 5, 768).\n",
      "The shape of the final matrix is (2, 48, 64, 5, 768).\n",
      "The shape of the original matrix is (2, 40, 64, 5, 768).\n",
      "The shape of the final matrix is (2, 38, 64, 5, 768).\n",
      "\n",
      "025 csd actor-observer.\n",
      "The shape of the original matrix is (2, 32, 64, 5, 768).\n",
      "The shape of the final matrix is (2, 31, 64, 5, 768).\n",
      "The shape of the original matrix is (2, 40, 64, 5, 768).\n",
      "The shape of the final matrix is (2, 38, 64, 5, 768).\n",
      "\n",
      "025 csd leader-follower.\n",
      "The shape of the original matrix is (2, 48, 64, 5, 768).\n",
      "The shape of the final matrix is (2, 48, 64, 5, 768).\n",
      "The shape of the original matrix is (2, 40, 64, 5, 768).\n",
      "The shape of the final matrix is (2, 38, 64, 5, 768).\n",
      "\n",
      "025 rest actor-observer.\n",
      "The shape of the original matrix is (2, 32, 64, 5, 768).\n",
      "The shape of the final matrix is (2, 31, 64, 5, 768).\n",
      "The shape of the original matrix is (2, 40, 64, 5, 768).\n",
      "The shape of the final matrix is (2, 38, 64, 5, 768).\n",
      "\n",
      "025 rest leader-follower.\n",
      "The shape of the original matrix is (2, 48, 64, 5, 768).\n",
      "The shape of the final matrix is (2, 48, 64, 5, 768).\n",
      "The shape of the original matrix is (2, 40, 64, 5, 768).\n",
      "The shape of the final matrix is (2, 38, 64, 5, 768).\n",
      "\n",
      "027 ave actor-observer.\n",
      "The shape of the original matrix is (2, 8, 64, 5, 768).\n",
      "The shape of the final matrix is (2, 8, 64, 5, 768).\n",
      "The shape of the original matrix is (2, 48, 64, 5, 768).\n",
      "The shape of the final matrix is (2, 46, 64, 5, 768).\n",
      "\n",
      "027 ave leader-follower.\n",
      "The shape of the original matrix is (2, 64, 64, 5, 768).\n",
      "The shape of the final matrix is (2, 64, 64, 5, 768).\n",
      "The shape of the original matrix is (2, 64, 64, 5, 768).\n",
      "The shape of the final matrix is (2, 63, 64, 5, 768).\n",
      "\n",
      "027 csd actor-observer.\n",
      "The shape of the original matrix is (2, 8, 64, 5, 768).\n",
      "The shape of the final matrix is (2, 8, 64, 5, 768).\n",
      "The shape of the original matrix is (2, 48, 64, 5, 768).\n",
      "The shape of the final matrix is (2, 46, 64, 5, 768).\n",
      "\n",
      "027 csd leader-follower.\n",
      "The shape of the original matrix is (2, 64, 64, 5, 768).\n",
      "The shape of the final matrix is (2, 64, 64, 5, 768).\n",
      "The shape of the original matrix is (2, 64, 64, 5, 768).\n",
      "The shape of the final matrix is (2, 63, 64, 5, 768).\n",
      "\n",
      "027 rest actor-observer.\n",
      "The shape of the original matrix is (2, 8, 64, 5, 768).\n",
      "The shape of the final matrix is (2, 8, 64, 5, 768).\n",
      "The shape of the original matrix is (2, 48, 64, 5, 768).\n",
      "The shape of the final matrix is (2, 46, 64, 5, 768).\n",
      "\n",
      "027 rest leader-follower.\n",
      "The shape of the original matrix is (2, 64, 64, 5, 768).\n",
      "The shape of the final matrix is (2, 64, 64, 5, 768).\n",
      "The shape of the original matrix is (2, 64, 64, 5, 768).\n",
      "The shape of the final matrix is (2, 63, 64, 5, 768).\n"
     ]
    }
   ],
   "source": [
    "### Asymmetric: Calculate PLV matrices & save\n",
    "\n",
    "data_asymm = {}\n",
    "\n",
    "pairs = [\"003\",\"004\",\"005\",\"007\",\"008\",\"009\",\"010\",\"011\",\"012\",\"013\",\"014\",\n",
    "         \"016\",\"017\",\"018\",\"019\",\"020\",\"022\",\"023\",\"024\",\"025\",\"027\"]\n",
    "\n",
    "reference = ['ave','csd','rest']\n",
    "\n",
    "conditions_asymm = [\"actor-observer\",\n",
    "                    \"leader-follower\"]\n",
    "\n",
    "measure = 'plv'\n",
    "\n",
    "all_eeg_chans = ['Fp1','AF7','AF3','F1','F3','F5','F7','FT7','FC5','FC3',\n",
    "                 'FC1','C1','C3','C5','T7','TP7','CP5','CP3','CP1','P1',\n",
    "                 'P3','P5','P7','P9','PO7','PO3','O1','Iz','Oz','POz','Pz',\n",
    "                 'CPz','Fpz','Fp2','AF8','AF4','AFz','Fz','F2','F4','F6','F8',\n",
    "                 'FT8','FC6','FC4','FC2','FCz','Cz','C2','C4','C6','T8','TP8',\n",
    "                 'CP6','CP4','CP2','P2','P4','P6','P8','P10','PO8','PO4','O2']\n",
    "\n",
    "for pair_n in pairs:\n",
    "    for ref in reference:\n",
    "        for condition in conditions_asymm:\n",
    "            # 0. Verbose\n",
    "            print(f\"\\n{pair_n} {ref} {condition}.\")\n",
    "        \n",
    "            # 1. Loading\n",
    "            folder = f\"/Users/aliaksandrdabranau/Data/Mirror_game/pair{pair_n}\"\n",
    "            epochs_a = mne.read_epochs(pathlib.Path(folder+f'/{pair_n}a_{ref}_epo.fif'), verbose=False)\n",
    "            epochs_b = mne.read_epochs(pathlib.Path(folder+f'/{pair_n}b_{ref}_epo.fif'), verbose=False)\n",
    "\n",
    "            # 2. Selecting only one condition\n",
    "            \n",
    "            if condition == \"actor-observer\":\n",
    "                condition_a = 'actor'\n",
    "                condition_b = 'observer'\n",
    "            elif condition == \"leader-follower\":\n",
    "                condition_a = 'leader'\n",
    "                condition_b = 'follower'\n",
    "            \n",
    "            ### One way\n",
    "            \n",
    "            epochs_a_1 = epochs_a[condition_a] #leader\n",
    "            epochs_b_1 = epochs_b[condition_b] #follower\n",
    "        \n",
    "            data_inter_1 = np.array([epochs_a_1.pick(picks=all_eeg_chans), epochs_b_1.pick(picks=all_eeg_chans)])\n",
    "        \n",
    "            # ~ Calculating the complex signal with Hilbert\n",
    "            freq_bands = {'Theta':[4,7.5],\n",
    "                      'Alpha-Low': [8, 11],\n",
    "                      'Alpha-High': [11.5, 13],\n",
    "                      'Alpha_Combined': [8,13],\n",
    "                      'Beta':[14,30]}\n",
    "        \n",
    "            sampling_rate = 256\n",
    "        \n",
    "            complex_signal_1 = analyses.compute_freq_bands(data_inter_1, sampling_rate, freq_bands)\n",
    "        \n",
    "            # ~ Splitting the complex signal of 25-s epochs into 3-s segments\n",
    "            short_epochs_1 = segment_complex_signal_asymm(complex_signal = complex_signal_1, \n",
    "                                                  pair_n = pair_n, \n",
    "                                                  condition_a = condition_a,\n",
    "                                                  condition_b = condition_b,\n",
    "                                                  dict_with_bad_epochs = bad_short_epochs_asymm)\n",
    "            \n",
    "            ### Another way\n",
    "            \n",
    "            epochs_a_2 = epochs_a[condition_b] #follower\n",
    "            epochs_b_2 = epochs_b[condition_a] #leader\n",
    "        \n",
    "            data_inter_2 = np.array([epochs_a_2.pick(picks=all_eeg_chans), epochs_b_2.pick(picks=all_eeg_chans)])\n",
    "        \n",
    "            # ~ Calculating the complex signal with Hilbert\n",
    "            freq_bands = {'Theta':[4,7.5],\n",
    "                      'Alpha-Low': [8, 11],\n",
    "                      'Alpha-High': [11.5, 13],\n",
    "                      'Alpha_Combined': [8,13],\n",
    "                      'Beta':[14,30]}\n",
    "        \n",
    "            sampling_rate = 256\n",
    "        \n",
    "            complex_signal_2 = analyses.compute_freq_bands(data_inter_2, sampling_rate, freq_bands)\n",
    "        \n",
    "            # ~ Splitting the complex signal of 25-s epochs into 3-s segments\n",
    "            \n",
    "            short_epochs_2 = segment_complex_signal_asymm(complex_signal = complex_signal_2, \n",
    "                                                  pair_n = pair_n, \n",
    "                                                  condition_a = condition_b,\n",
    "                                                  condition_b = condition_a,\n",
    "                                                  dict_with_bad_epochs = bad_short_epochs_asymm)\n",
    "        \n",
    "            ### Combining two ways\n",
    "            \n",
    "            short_epochs = np.concatenate((short_epochs_1, short_epochs_2), axis=1)\n",
    "            \n",
    "            \n",
    "            # 7. Calculating synchrony value (PLV)\n",
    "            result = analyses.compute_sync(short_epochs, mode = measure, epochs_average=True)\n",
    "\n",
    "            # 8. Retrieving the inter-brain part of the matrix\n",
    "            n_ch = 64\n",
    "            theta, alpha_low, alpha_high, alpha_combined, beta = result[:, 0:n_ch, n_ch:2*n_ch]\n",
    "        \n",
    "            # 9. Putting the matrices into a dictionary\n",
    "            data_asymm[pair_n+\"_\"+ref+\"_\"+condition+\"_\"+'theta'] = theta\n",
    "            data_asymm[pair_n+\"_\"+ref+\"_\"+condition+\"_\"+'alpha_low'] = alpha_low\n",
    "            data_asymm[pair_n+\"_\"+ref+\"_\"+condition+\"_\"+'alpha_high'] = alpha_high\n",
    "            data_asymm[pair_n+\"_\"+ref+\"_\"+condition+\"_\"+'alpha_combined'] = alpha_combined\n",
    "            data_asymm[pair_n+\"_\"+ref+\"_\"+condition+\"_\"+'beta'] = beta\n",
    "            \n",
    "            # 10. Saving the dictionary\n",
    "            with open('plv_asymm_conditions_new.pickle', 'wb') as handle:\n",
    "                pickle.dump(data_asymm, handle, protocol=pickle.HIGHEST_PROTOCOL)"
   ]
  },
  {
   "cell_type": "markdown",
   "id": "2a6b6ae6",
   "metadata": {},
   "source": [
    "### 4. Doing Cluster-Based Permutation Tests"
   ]
  },
  {
   "cell_type": "markdown",
   "id": "b7842849",
   "metadata": {},
   "source": [
    "### 4.1. PLV"
   ]
  },
  {
   "cell_type": "code",
   "execution_count": 47,
   "id": "8a26b66d",
   "metadata": {},
   "outputs": [],
   "source": [
    "### Loading the dictionary with symmetric conditions\n",
    "\n",
    "with open('plv_symmetrical_conditions.pickle', 'rb') as s:\n",
    "    plv_data_symmetric = pickle.load(s)\n",
    "    \n",
    "### Loading the dictionary with Asymmetric conditions \n",
    "\n",
    "with open('plv_asymm_conditions_new.pickle', 'rb') as a:\n",
    "    plv_data_asym = pickle.load(a)\n",
    "    \n",
    "### Merging two dicts\n",
    "\n",
    "plv_data = plv_data_symmetric | plv_data_asym"
   ]
  },
  {
   "cell_type": "code",
   "execution_count": 81,
   "id": "d27ee937",
   "metadata": {},
   "outputs": [],
   "source": [
    "### Cluster-based Permutation Test for the Inter-Brain Connectivity:\n",
    "### Defining functions\n",
    "\n",
    "######## Info\n",
    "\n",
    "### A. Input\n",
    "\n",
    "#  data: values from different conditions or different groups to compare,\n",
    "#  list of arrays (3d for time-frequency power or connectivity values)\n",
    "\n",
    "### B. Output\n",
    "\n",
    "# Stat_obs: statistic (T or F values according to the assignement of 'test') \n",
    "# observed for all variables, array of shape (n_tests,).\n",
    "\n",
    "# clusters: boolean array with same shape as the input data, \n",
    "# True values indicating locations that are part of a cluster, array.\n",
    "\n",
    "# cluster_p_values: \n",
    "# p-value for each cluster, array.\n",
    "\n",
    "# H0: max cluster level stats observed under permutation, \n",
    "# array of shape (n_permutations,).\n",
    "\n",
    "# Stat_obs_plot: statistical values above alpha threshold, \n",
    "# to plot significant sensors, array of shape (n_tests,).\n",
    "\n",
    "########\n",
    "\n",
    "def perm_test(group1,group2):\n",
    "    \n",
    "    result = stats.statscluster(\n",
    "    \n",
    "        data=[group1, group2],\n",
    "              test = 'rel ttest',      # repeated-samples t-test \n",
    "              factor_level = None,     # this is for ANOVA\n",
    "              ch_con_freq=None,        # a priori connectivity\n",
    "              tail=0,                  # both sides of the distribution\n",
    "              n_permutations=5000,\n",
    "              alpha=2.086              # corresponds to two-tails' 0.05 significance level \n",
    "                                       # with 20 degress of freedom (21 pair - 1)\n",
    "                        )\n",
    "    return(result)\n",
    "\n",
    "\n",
    "def custom_permutation_test(dict_with_matrices,ref,freq,cond_a,cond_b):\n",
    "    group1 = np.array([y for (x,y) in dict_with_matrices.items() if f'_{ref}_{cond_a}_{freq}' in x])\n",
    "    group2 = np.array([b for (a,b) in dict_with_matrices.items() if f'_{ref}_{cond_b}_{freq}' in a])\n",
    "    \n",
    "    result = perm_test(group1,group2)\n",
    "    \n",
    "    return(np.array(result,dtype=object))"
   ]
  },
  {
   "cell_type": "code",
   "execution_count": 51,
   "id": "f60d9ce1",
   "metadata": {},
   "outputs": [
    {
     "name": "stdout",
     "output_type": "stream",
     "text": [
      "stat_fun(H1): min=-3.870089 max=4.070646\n",
      "Running initial clustering …\n",
      "Found 171 clusters\n"
     ]
    },
    {
     "data": {
      "application/vnd.jupyter.widget-view+json": {
       "model_id": "a8a6e695f7924c1f9aec359e19a81320",
       "version_major": 2,
       "version_minor": 0
      },
      "text/plain": [
       "  0%|          | Permuting : 0/4999 [00:00<?,       ?it/s]"
      ]
     },
     "metadata": {},
     "output_type": "display_data"
    },
    {
     "name": "stdout",
     "output_type": "stream",
     "text": [
      "stat_fun(H1): min=-3.300037 max=4.394363\n",
      "Running initial clustering …\n",
      "Found 161 clusters\n"
     ]
    },
    {
     "data": {
      "application/vnd.jupyter.widget-view+json": {
       "model_id": "746d8791ca6d4fd880733c4eecf447a7",
       "version_major": 2,
       "version_minor": 0
      },
      "text/plain": [
       "  0%|          | Permuting : 0/4999 [00:00<?,       ?it/s]"
      ]
     },
     "metadata": {},
     "output_type": "display_data"
    },
    {
     "name": "stdout",
     "output_type": "stream",
     "text": [
      "stat_fun(H1): min=-3.114640 max=5.150072\n",
      "Running initial clustering …\n",
      "Found 153 clusters\n"
     ]
    },
    {
     "data": {
      "application/vnd.jupyter.widget-view+json": {
       "model_id": "ec32d4b9c706483f81a00bd173241b63",
       "version_major": 2,
       "version_minor": 0
      },
      "text/plain": [
       "  0%|          | Permuting : 0/4999 [00:00<?,       ?it/s]"
      ]
     },
     "metadata": {},
     "output_type": "display_data"
    },
    {
     "name": "stdout",
     "output_type": "stream",
     "text": [
      "stat_fun(H1): min=-4.790002 max=3.223314\n",
      "Running initial clustering …\n",
      "Found 168 clusters\n"
     ]
    },
    {
     "data": {
      "application/vnd.jupyter.widget-view+json": {
       "model_id": "c841910835aa4f8f9a7fcd3faa988434",
       "version_major": 2,
       "version_minor": 0
      },
      "text/plain": [
       "  0%|          | Permuting : 0/4999 [00:00<?,       ?it/s]"
      ]
     },
     "metadata": {},
     "output_type": "display_data"
    },
    {
     "name": "stdout",
     "output_type": "stream",
     "text": [
      "stat_fun(H1): min=-4.841303 max=3.238305\n",
      "Running initial clustering …\n",
      "Found 141 clusters\n"
     ]
    },
    {
     "data": {
      "application/vnd.jupyter.widget-view+json": {
       "model_id": "ecfbd6815ec045ceb2c15515713953d6",
       "version_major": 2,
       "version_minor": 0
      },
      "text/plain": [
       "  0%|          | Permuting : 0/4999 [00:00<?,       ?it/s]"
      ]
     },
     "metadata": {},
     "output_type": "display_data"
    },
    {
     "name": "stdout",
     "output_type": "stream",
     "text": [
      "stat_fun(H1): min=-4.821509 max=3.282214\n",
      "Running initial clustering …\n",
      "Found 167 clusters\n"
     ]
    },
    {
     "data": {
      "application/vnd.jupyter.widget-view+json": {
       "model_id": "17f6f332dd0c4ef6b78168fe1d833424",
       "version_major": 2,
       "version_minor": 0
      },
      "text/plain": [
       "  0%|          | Permuting : 0/4999 [00:00<?,       ?it/s]"
      ]
     },
     "metadata": {},
     "output_type": "display_data"
    },
    {
     "name": "stdout",
     "output_type": "stream",
     "text": [
      "stat_fun(H1): min=-3.579295 max=4.202258\n",
      "Running initial clustering …\n",
      "Found 110 clusters\n"
     ]
    },
    {
     "data": {
      "application/vnd.jupyter.widget-view+json": {
       "model_id": "1f3842aaff4a45cba03e55a3e4013078",
       "version_major": 2,
       "version_minor": 0
      },
      "text/plain": [
       "  0%|          | Permuting : 0/4999 [00:00<?,       ?it/s]"
      ]
     },
     "metadata": {},
     "output_type": "display_data"
    },
    {
     "name": "stdout",
     "output_type": "stream",
     "text": [
      "stat_fun(H1): min=-3.765373 max=5.403669\n",
      "Running initial clustering …\n",
      "Found 162 clusters\n"
     ]
    },
    {
     "data": {
      "application/vnd.jupyter.widget-view+json": {
       "model_id": "bfb795baf0f44f21b88daaad587ac7a0",
       "version_major": 2,
       "version_minor": 0
      },
      "text/plain": [
       "  0%|          | Permuting : 0/4999 [00:00<?,       ?it/s]"
      ]
     },
     "metadata": {},
     "output_type": "display_data"
    },
    {
     "name": "stdout",
     "output_type": "stream",
     "text": [
      "stat_fun(H1): min=-3.723279 max=4.440018\n",
      "Running initial clustering …\n",
      "Found 140 clusters\n"
     ]
    },
    {
     "data": {
      "application/vnd.jupyter.widget-view+json": {
       "model_id": "0017924e2da24d38989e4922cff95f99",
       "version_major": 2,
       "version_minor": 0
      },
      "text/plain": [
       "  0%|          | Permuting : 0/4999 [00:00<?,       ?it/s]"
      ]
     },
     "metadata": {},
     "output_type": "display_data"
    },
    {
     "name": "stdout",
     "output_type": "stream",
     "text": [
      "stat_fun(H1): min=-3.157106 max=4.691424\n",
      "Running initial clustering …\n",
      "Found 192 clusters\n"
     ]
    },
    {
     "data": {
      "application/vnd.jupyter.widget-view+json": {
       "model_id": "6c4571587c754d1a8c61b5a6686cd6d3",
       "version_major": 2,
       "version_minor": 0
      },
      "text/plain": [
       "  0%|          | Permuting : 0/4999 [00:00<?,       ?it/s]"
      ]
     },
     "metadata": {},
     "output_type": "display_data"
    },
    {
     "name": "stdout",
     "output_type": "stream",
     "text": [
      "stat_fun(H1): min=-4.537311 max=4.452321\n",
      "Running initial clustering …\n",
      "Found 125 clusters\n"
     ]
    },
    {
     "data": {
      "application/vnd.jupyter.widget-view+json": {
       "model_id": "746ac7027e784370972557db856fc0eb",
       "version_major": 2,
       "version_minor": 0
      },
      "text/plain": [
       "  0%|          | Permuting : 0/4999 [00:00<?,       ?it/s]"
      ]
     },
     "metadata": {},
     "output_type": "display_data"
    },
    {
     "name": "stdout",
     "output_type": "stream",
     "text": [
      "stat_fun(H1): min=-4.401242 max=5.671798\n",
      "Running initial clustering …\n",
      "Found 140 clusters\n"
     ]
    },
    {
     "data": {
      "application/vnd.jupyter.widget-view+json": {
       "model_id": "2ae6b94d47e74541b92c7ce63d5ce3ef",
       "version_major": 2,
       "version_minor": 0
      },
      "text/plain": [
       "  0%|          | Permuting : 0/4999 [00:00<?,       ?it/s]"
      ]
     },
     "metadata": {},
     "output_type": "display_data"
    },
    {
     "name": "stdout",
     "output_type": "stream",
     "text": [
      "stat_fun(H1): min=-3.666724 max=4.176265\n",
      "Running initial clustering …\n",
      "Found 115 clusters\n"
     ]
    },
    {
     "data": {
      "application/vnd.jupyter.widget-view+json": {
       "model_id": "7b13197f945240829c7b44eed82346cf",
       "version_major": 2,
       "version_minor": 0
      },
      "text/plain": [
       "  0%|          | Permuting : 0/4999 [00:00<?,       ?it/s]"
      ]
     },
     "metadata": {},
     "output_type": "display_data"
    },
    {
     "name": "stdout",
     "output_type": "stream",
     "text": [
      "stat_fun(H1): min=-3.552384 max=4.955472\n",
      "Running initial clustering …\n",
      "Found 141 clusters\n"
     ]
    },
    {
     "data": {
      "application/vnd.jupyter.widget-view+json": {
       "model_id": "d6b9c2d2840b4dceab212520949d3b38",
       "version_major": 2,
       "version_minor": 0
      },
      "text/plain": [
       "  0%|          | Permuting : 0/4999 [00:00<?,       ?it/s]"
      ]
     },
     "metadata": {},
     "output_type": "display_data"
    },
    {
     "name": "stdout",
     "output_type": "stream",
     "text": [
      "stat_fun(H1): min=-4.818113 max=4.084589\n",
      "Running initial clustering …\n",
      "Found 143 clusters\n"
     ]
    },
    {
     "data": {
      "application/vnd.jupyter.widget-view+json": {
       "model_id": "7dd38dc85a6745308c6ccd4e864eb80d",
       "version_major": 2,
       "version_minor": 0
      },
      "text/plain": [
       "  0%|          | Permuting : 0/4999 [00:00<?,       ?it/s]"
      ]
     },
     "metadata": {},
     "output_type": "display_data"
    },
    {
     "name": "stdout",
     "output_type": "stream",
     "text": [
      "stat_fun(H1): min=-3.839496 max=5.867316\n",
      "Running initial clustering …\n",
      "Found 140 clusters\n"
     ]
    },
    {
     "data": {
      "application/vnd.jupyter.widget-view+json": {
       "model_id": "6e1331ab149b4a5596d96356c58ed2bc",
       "version_major": 2,
       "version_minor": 0
      },
      "text/plain": [
       "  0%|          | Permuting : 0/4999 [00:00<?,       ?it/s]"
      ]
     },
     "metadata": {},
     "output_type": "display_data"
    },
    {
     "name": "stdout",
     "output_type": "stream",
     "text": [
      "stat_fun(H1): min=-2.983371 max=5.677370\n",
      "Running initial clustering …\n",
      "Found 139 clusters\n"
     ]
    },
    {
     "data": {
      "application/vnd.jupyter.widget-view+json": {
       "model_id": "6e23fedae6b8494e88362cf421d3f702",
       "version_major": 2,
       "version_minor": 0
      },
      "text/plain": [
       "  0%|          | Permuting : 0/4999 [00:00<?,       ?it/s]"
      ]
     },
     "metadata": {},
     "output_type": "display_data"
    },
    {
     "name": "stdout",
     "output_type": "stream",
     "text": [
      "stat_fun(H1): min=-3.939131 max=4.065537\n",
      "Running initial clustering …\n",
      "Found 111 clusters\n"
     ]
    },
    {
     "data": {
      "application/vnd.jupyter.widget-view+json": {
       "model_id": "d1a2d828eca34dc091474db7a907ef75",
       "version_major": 2,
       "version_minor": 0
      },
      "text/plain": [
       "  0%|          | Permuting : 0/4999 [00:00<?,       ?it/s]"
      ]
     },
     "metadata": {},
     "output_type": "display_data"
    },
    {
     "name": "stdout",
     "output_type": "stream",
     "text": [
      "stat_fun(H1): min=-5.142184 max=3.528611\n",
      "Running initial clustering …\n",
      "Found 136 clusters\n"
     ]
    },
    {
     "data": {
      "application/vnd.jupyter.widget-view+json": {
       "model_id": "90c3b594dc234d9393606309eb6bcac9",
       "version_major": 2,
       "version_minor": 0
      },
      "text/plain": [
       "  0%|          | Permuting : 0/4999 [00:00<?,       ?it/s]"
      ]
     },
     "metadata": {},
     "output_type": "display_data"
    },
    {
     "name": "stdout",
     "output_type": "stream",
     "text": [
      "stat_fun(H1): min=-3.707750 max=4.050333\n",
      "Running initial clustering …\n",
      "Found 119 clusters\n"
     ]
    },
    {
     "data": {
      "application/vnd.jupyter.widget-view+json": {
       "model_id": "fd8a094042454a7f848ee31dabec18a0",
       "version_major": 2,
       "version_minor": 0
      },
      "text/plain": [
       "  0%|          | Permuting : 0/4999 [00:00<?,       ?it/s]"
      ]
     },
     "metadata": {},
     "output_type": "display_data"
    },
    {
     "name": "stdout",
     "output_type": "stream",
     "text": [
      "stat_fun(H1): min=-3.597567 max=3.543743\n",
      "Running initial clustering …\n",
      "Found 131 clusters\n"
     ]
    },
    {
     "data": {
      "application/vnd.jupyter.widget-view+json": {
       "model_id": "1790151c76fb436483b5307923f017a3",
       "version_major": 2,
       "version_minor": 0
      },
      "text/plain": [
       "  0%|          | Permuting : 0/4999 [00:00<?,       ?it/s]"
      ]
     },
     "metadata": {},
     "output_type": "display_data"
    },
    {
     "name": "stdout",
     "output_type": "stream",
     "text": [
      "stat_fun(H1): min=-4.157264 max=4.624389\n",
      "Running initial clustering …\n",
      "Found 130 clusters\n"
     ]
    },
    {
     "data": {
      "application/vnd.jupyter.widget-view+json": {
       "model_id": "c69917ee7bcb464c9f41c0d0cc61428b",
       "version_major": 2,
       "version_minor": 0
      },
      "text/plain": [
       "  0%|          | Permuting : 0/4999 [00:00<?,       ?it/s]"
      ]
     },
     "metadata": {},
     "output_type": "display_data"
    },
    {
     "name": "stdout",
     "output_type": "stream",
     "text": [
      "stat_fun(H1): min=-3.825032 max=3.504487\n",
      "Running initial clustering …\n",
      "Found 137 clusters\n"
     ]
    },
    {
     "data": {
      "application/vnd.jupyter.widget-view+json": {
       "model_id": "9a7eb67b62a54d0d9420345a7d6a5839",
       "version_major": 2,
       "version_minor": 0
      },
      "text/plain": [
       "  0%|          | Permuting : 0/4999 [00:00<?,       ?it/s]"
      ]
     },
     "metadata": {},
     "output_type": "display_data"
    },
    {
     "name": "stdout",
     "output_type": "stream",
     "text": [
      "stat_fun(H1): min=-3.854803 max=3.528310\n",
      "Running initial clustering …\n",
      "Found 110 clusters\n"
     ]
    },
    {
     "data": {
      "application/vnd.jupyter.widget-view+json": {
       "model_id": "c4d1fca9fb8e4ac1b5bac0fd0c77bf77",
       "version_major": 2,
       "version_minor": 0
      },
      "text/plain": [
       "  0%|          | Permuting : 0/4999 [00:00<?,       ?it/s]"
      ]
     },
     "metadata": {},
     "output_type": "display_data"
    },
    {
     "name": "stdout",
     "output_type": "stream",
     "text": [
      "stat_fun(H1): min=-4.984313 max=3.614554\n",
      "Running initial clustering …\n",
      "Found 138 clusters\n"
     ]
    },
    {
     "data": {
      "application/vnd.jupyter.widget-view+json": {
       "model_id": "64b18d9e8d574cf2bcaebe08ed5d7d32",
       "version_major": 2,
       "version_minor": 0
      },
      "text/plain": [
       "  0%|          | Permuting : 0/4999 [00:00<?,       ?it/s]"
      ]
     },
     "metadata": {},
     "output_type": "display_data"
    },
    {
     "name": "stdout",
     "output_type": "stream",
     "text": [
      "stat_fun(H1): min=-4.258904 max=3.491201\n",
      "Running initial clustering …\n",
      "Found 156 clusters\n"
     ]
    },
    {
     "data": {
      "application/vnd.jupyter.widget-view+json": {
       "model_id": "149c4665b891406eb80b1d85b2d15df0",
       "version_major": 2,
       "version_minor": 0
      },
      "text/plain": [
       "  0%|          | Permuting : 0/4999 [00:00<?,       ?it/s]"
      ]
     },
     "metadata": {},
     "output_type": "display_data"
    },
    {
     "name": "stdout",
     "output_type": "stream",
     "text": [
      "stat_fun(H1): min=-4.256728 max=3.688724\n",
      "Running initial clustering …\n",
      "Found 181 clusters\n"
     ]
    },
    {
     "data": {
      "application/vnd.jupyter.widget-view+json": {
       "model_id": "a8309b1b02204910a8a2f8679cbd989c",
       "version_major": 2,
       "version_minor": 0
      },
      "text/plain": [
       "  0%|          | Permuting : 0/4999 [00:00<?,       ?it/s]"
      ]
     },
     "metadata": {},
     "output_type": "display_data"
    },
    {
     "name": "stdout",
     "output_type": "stream",
     "text": [
      "stat_fun(H1): min=-3.827121 max=3.529420\n",
      "Running initial clustering …\n",
      "Found 141 clusters\n"
     ]
    },
    {
     "data": {
      "application/vnd.jupyter.widget-view+json": {
       "model_id": "7865b7a426d748928d40e628873f7d66",
       "version_major": 2,
       "version_minor": 0
      },
      "text/plain": [
       "  0%|          | Permuting : 0/4999 [00:00<?,       ?it/s]"
      ]
     },
     "metadata": {},
     "output_type": "display_data"
    },
    {
     "name": "stdout",
     "output_type": "stream",
     "text": [
      "stat_fun(H1): min=-6.758016 max=3.213407\n",
      "Running initial clustering …\n",
      "Found 155 clusters\n"
     ]
    },
    {
     "data": {
      "application/vnd.jupyter.widget-view+json": {
       "model_id": "cf83eef1aa9a4e0faa75c7b1e69468f0",
       "version_major": 2,
       "version_minor": 0
      },
      "text/plain": [
       "  0%|          | Permuting : 0/4999 [00:00<?,       ?it/s]"
      ]
     },
     "metadata": {},
     "output_type": "display_data"
    },
    {
     "name": "stdout",
     "output_type": "stream",
     "text": [
      "stat_fun(H1): min=-4.888615 max=3.131097\n",
      "Running initial clustering …\n",
      "Found 178 clusters\n"
     ]
    },
    {
     "data": {
      "application/vnd.jupyter.widget-view+json": {
       "model_id": "e92a7c84dffc4d1cb965481c975f390b",
       "version_major": 2,
       "version_minor": 0
      },
      "text/plain": [
       "  0%|          | Permuting : 0/4999 [00:00<?,       ?it/s]"
      ]
     },
     "metadata": {},
     "output_type": "display_data"
    },
    {
     "name": "stdout",
     "output_type": "stream",
     "text": [
      "stat_fun(H1): min=-3.622099 max=5.022638\n",
      "Running initial clustering …\n",
      "Found 139 clusters\n"
     ]
    },
    {
     "data": {
      "application/vnd.jupyter.widget-view+json": {
       "model_id": "e7b8021c4a304dc99eea30f3a9475d57",
       "version_major": 2,
       "version_minor": 0
      },
      "text/plain": [
       "  0%|          | Permuting : 0/4999 [00:00<?,       ?it/s]"
      ]
     },
     "metadata": {},
     "output_type": "display_data"
    },
    {
     "name": "stdout",
     "output_type": "stream",
     "text": [
      "stat_fun(H1): min=-4.595280 max=3.952084\n",
      "Running initial clustering …\n",
      "Found 144 clusters\n"
     ]
    },
    {
     "data": {
      "application/vnd.jupyter.widget-view+json": {
       "model_id": "683dbbc409124d479cfe97707d3e4ff0",
       "version_major": 2,
       "version_minor": 0
      },
      "text/plain": [
       "  0%|          | Permuting : 0/4999 [00:00<?,       ?it/s]"
      ]
     },
     "metadata": {},
     "output_type": "display_data"
    },
    {
     "name": "stdout",
     "output_type": "stream",
     "text": [
      "stat_fun(H1): min=-4.089122 max=4.221291\n",
      "Running initial clustering …\n",
      "Found 100 clusters\n"
     ]
    },
    {
     "data": {
      "application/vnd.jupyter.widget-view+json": {
       "model_id": "435852cfdb34464288cff535cc1c9ccf",
       "version_major": 2,
       "version_minor": 0
      },
      "text/plain": [
       "  0%|          | Permuting : 0/4999 [00:00<?,       ?it/s]"
      ]
     },
     "metadata": {},
     "output_type": "display_data"
    },
    {
     "name": "stdout",
     "output_type": "stream",
     "text": [
      "stat_fun(H1): min=-2.739769 max=5.966933\n",
      "Running initial clustering …\n",
      "Found 170 clusters\n"
     ]
    },
    {
     "data": {
      "application/vnd.jupyter.widget-view+json": {
       "model_id": "f04bbb01656448dabfd08e964c292687",
       "version_major": 2,
       "version_minor": 0
      },
      "text/plain": [
       "  0%|          | Permuting : 0/4999 [00:00<?,       ?it/s]"
      ]
     },
     "metadata": {},
     "output_type": "display_data"
    },
    {
     "name": "stdout",
     "output_type": "stream",
     "text": [
      "stat_fun(H1): min=-4.913911 max=4.741004\n",
      "Running initial clustering …\n",
      "Found 190 clusters\n"
     ]
    },
    {
     "data": {
      "application/vnd.jupyter.widget-view+json": {
       "model_id": "1f841cfa5c3c46f097c0f500a0b63f83",
       "version_major": 2,
       "version_minor": 0
      },
      "text/plain": [
       "  0%|          | Permuting : 0/4999 [00:00<?,       ?it/s]"
      ]
     },
     "metadata": {},
     "output_type": "display_data"
    },
    {
     "name": "stdout",
     "output_type": "stream",
     "text": [
      "stat_fun(H1): min=-4.241433 max=3.872705\n",
      "Running initial clustering …\n",
      "Found 147 clusters\n"
     ]
    },
    {
     "data": {
      "application/vnd.jupyter.widget-view+json": {
       "model_id": "b362bdbc79824e4494e4c9de8a56f67f",
       "version_major": 2,
       "version_minor": 0
      },
      "text/plain": [
       "  0%|          | Permuting : 0/4999 [00:00<?,       ?it/s]"
      ]
     },
     "metadata": {},
     "output_type": "display_data"
    },
    {
     "name": "stdout",
     "output_type": "stream",
     "text": [
      "stat_fun(H1): min=-3.206282 max=4.023908\n",
      "Running initial clustering …\n",
      "Found 135 clusters\n"
     ]
    },
    {
     "data": {
      "application/vnd.jupyter.widget-view+json": {
       "model_id": "2049bd46d9124694a136e9383a2633f4",
       "version_major": 2,
       "version_minor": 0
      },
      "text/plain": [
       "  0%|          | Permuting : 0/4999 [00:00<?,       ?it/s]"
      ]
     },
     "metadata": {},
     "output_type": "display_data"
    },
    {
     "name": "stdout",
     "output_type": "stream",
     "text": [
      "stat_fun(H1): min=-4.003839 max=3.651924\n",
      "Running initial clustering …\n",
      "Found 136 clusters\n"
     ]
    },
    {
     "data": {
      "application/vnd.jupyter.widget-view+json": {
       "model_id": "90848d8dbfc5453da37968260a56ed9e",
       "version_major": 2,
       "version_minor": 0
      },
      "text/plain": [
       "  0%|          | Permuting : 0/4999 [00:00<?,       ?it/s]"
      ]
     },
     "metadata": {},
     "output_type": "display_data"
    },
    {
     "name": "stdout",
     "output_type": "stream",
     "text": [
      "stat_fun(H1): min=-5.894708 max=4.159790\n",
      "Running initial clustering …\n",
      "Found 177 clusters\n"
     ]
    },
    {
     "data": {
      "application/vnd.jupyter.widget-view+json": {
       "model_id": "ae09035e1b864c51acdcecd303bbb997",
       "version_major": 2,
       "version_minor": 0
      },
      "text/plain": [
       "  0%|          | Permuting : 0/4999 [00:00<?,       ?it/s]"
      ]
     },
     "metadata": {},
     "output_type": "display_data"
    },
    {
     "name": "stdout",
     "output_type": "stream",
     "text": [
      "stat_fun(H1): min=-3.899510 max=3.998828\n",
      "Running initial clustering …\n",
      "Found 143 clusters\n"
     ]
    },
    {
     "data": {
      "application/vnd.jupyter.widget-view+json": {
       "model_id": "6db6c0447c1140618d4dcffe38d8035d",
       "version_major": 2,
       "version_minor": 0
      },
      "text/plain": [
       "  0%|          | Permuting : 0/4999 [00:00<?,       ?it/s]"
      ]
     },
     "metadata": {},
     "output_type": "display_data"
    },
    {
     "name": "stdout",
     "output_type": "stream",
     "text": [
      "stat_fun(H1): min=-4.565307 max=4.020177\n",
      "Running initial clustering …\n",
      "Found 157 clusters\n"
     ]
    },
    {
     "data": {
      "application/vnd.jupyter.widget-view+json": {
       "model_id": "91f28566a4c44312848dcf6a2ae02743",
       "version_major": 2,
       "version_minor": 0
      },
      "text/plain": [
       "  0%|          | Permuting : 0/4999 [00:00<?,       ?it/s]"
      ]
     },
     "metadata": {},
     "output_type": "display_data"
    },
    {
     "name": "stdout",
     "output_type": "stream",
     "text": [
      "stat_fun(H1): min=-4.392042 max=3.519516\n",
      "Running initial clustering …\n",
      "Found 168 clusters\n"
     ]
    },
    {
     "data": {
      "application/vnd.jupyter.widget-view+json": {
       "model_id": "0df5485d26cb453791df35d0f8394757",
       "version_major": 2,
       "version_minor": 0
      },
      "text/plain": [
       "  0%|          | Permuting : 0/4999 [00:00<?,       ?it/s]"
      ]
     },
     "metadata": {},
     "output_type": "display_data"
    },
    {
     "name": "stdout",
     "output_type": "stream",
     "text": [
      "stat_fun(H1): min=-4.167770 max=3.833277\n",
      "Running initial clustering …\n",
      "Found 153 clusters\n"
     ]
    },
    {
     "data": {
      "application/vnd.jupyter.widget-view+json": {
       "model_id": "d229c123bc9846ba8a009b6c06f30213",
       "version_major": 2,
       "version_minor": 0
      },
      "text/plain": [
       "  0%|          | Permuting : 0/4999 [00:00<?,       ?it/s]"
      ]
     },
     "metadata": {},
     "output_type": "display_data"
    },
    {
     "name": "stdout",
     "output_type": "stream",
     "text": [
      "stat_fun(H1): min=-4.645705 max=5.529003\n",
      "Running initial clustering …\n",
      "Found 175 clusters\n"
     ]
    },
    {
     "data": {
      "application/vnd.jupyter.widget-view+json": {
       "model_id": "ffcd71bbe1624ab8b735d4c97488f21d",
       "version_major": 2,
       "version_minor": 0
      },
      "text/plain": [
       "  0%|          | Permuting : 0/4999 [00:00<?,       ?it/s]"
      ]
     },
     "metadata": {},
     "output_type": "display_data"
    },
    {
     "name": "stdout",
     "output_type": "stream",
     "text": [
      "stat_fun(H1): min=-3.644840 max=5.014770\n",
      "Running initial clustering …\n",
      "Found 135 clusters\n"
     ]
    },
    {
     "data": {
      "application/vnd.jupyter.widget-view+json": {
       "model_id": "891a015434b249feb6b63544d5449afa",
       "version_major": 2,
       "version_minor": 0
      },
      "text/plain": [
       "  0%|          | Permuting : 0/4999 [00:00<?,       ?it/s]"
      ]
     },
     "metadata": {},
     "output_type": "display_data"
    },
    {
     "name": "stdout",
     "output_type": "stream",
     "text": [
      "stat_fun(H1): min=-3.739991 max=5.397714\n",
      "Running initial clustering …\n",
      "Found 169 clusters\n"
     ]
    },
    {
     "data": {
      "application/vnd.jupyter.widget-view+json": {
       "model_id": "ad7ababf0a884577a0b4c7961f240609",
       "version_major": 2,
       "version_minor": 0
      },
      "text/plain": [
       "  0%|          | Permuting : 0/4999 [00:00<?,       ?it/s]"
      ]
     },
     "metadata": {},
     "output_type": "display_data"
    },
    {
     "name": "stdout",
     "output_type": "stream",
     "text": [
      "stat_fun(H1): min=-4.024162 max=3.974173\n",
      "Running initial clustering …\n",
      "Found 149 clusters\n"
     ]
    },
    {
     "data": {
      "application/vnd.jupyter.widget-view+json": {
       "model_id": "56c391903cb049a1a04f1b07935b41de",
       "version_major": 2,
       "version_minor": 0
      },
      "text/plain": [
       "  0%|          | Permuting : 0/4999 [00:00<?,       ?it/s]"
      ]
     },
     "metadata": {},
     "output_type": "display_data"
    },
    {
     "name": "stdout",
     "output_type": "stream",
     "text": [
      "stat_fun(H1): min=-5.512485 max=5.540190\n",
      "Running initial clustering …\n",
      "Found 174 clusters\n"
     ]
    },
    {
     "data": {
      "application/vnd.jupyter.widget-view+json": {
       "model_id": "f1324a63d1b2422b9a48732793937804",
       "version_major": 2,
       "version_minor": 0
      },
      "text/plain": [
       "  0%|          | Permuting : 0/4999 [00:00<?,       ?it/s]"
      ]
     },
     "metadata": {},
     "output_type": "display_data"
    },
    {
     "name": "stdout",
     "output_type": "stream",
     "text": [
      "stat_fun(H1): min=-4.384144 max=3.784247\n",
      "Running initial clustering …\n",
      "Found 157 clusters\n"
     ]
    },
    {
     "data": {
      "application/vnd.jupyter.widget-view+json": {
       "model_id": "313c27547afb41c59c26e93a64e7300c",
       "version_major": 2,
       "version_minor": 0
      },
      "text/plain": [
       "  0%|          | Permuting : 0/4999 [00:00<?,       ?it/s]"
      ]
     },
     "metadata": {},
     "output_type": "display_data"
    },
    {
     "name": "stdout",
     "output_type": "stream",
     "text": [
      "stat_fun(H1): min=-4.693353 max=4.403340\n",
      "Running initial clustering …\n",
      "Found 195 clusters\n"
     ]
    },
    {
     "data": {
      "application/vnd.jupyter.widget-view+json": {
       "model_id": "276345b23a0943788a8a25ce2a53d51f",
       "version_major": 2,
       "version_minor": 0
      },
      "text/plain": [
       "  0%|          | Permuting : 0/4999 [00:00<?,       ?it/s]"
      ]
     },
     "metadata": {},
     "output_type": "display_data"
    },
    {
     "name": "stdout",
     "output_type": "stream",
     "text": [
      "stat_fun(H1): min=-5.192260 max=6.450216\n",
      "Running initial clustering …\n",
      "Found 162 clusters\n"
     ]
    },
    {
     "data": {
      "application/vnd.jupyter.widget-view+json": {
       "model_id": "c87e48ba4ea243e4953f8314e03a6406",
       "version_major": 2,
       "version_minor": 0
      },
      "text/plain": [
       "  0%|          | Permuting : 0/4999 [00:00<?,       ?it/s]"
      ]
     },
     "metadata": {},
     "output_type": "display_data"
    },
    {
     "name": "stdout",
     "output_type": "stream",
     "text": [
      "stat_fun(H1): min=-4.251260 max=5.014732\n",
      "Running initial clustering …\n",
      "Found 182 clusters\n"
     ]
    },
    {
     "data": {
      "application/vnd.jupyter.widget-view+json": {
       "model_id": "f959130f6bed4a9cbadbd8201a75efd6",
       "version_major": 2,
       "version_minor": 0
      },
      "text/plain": [
       "  0%|          | Permuting : 0/4999 [00:00<?,       ?it/s]"
      ]
     },
     "metadata": {},
     "output_type": "display_data"
    },
    {
     "name": "stdout",
     "output_type": "stream",
     "text": [
      "stat_fun(H1): min=-4.248899 max=3.746947\n",
      "Running initial clustering …\n",
      "Found 142 clusters\n"
     ]
    },
    {
     "data": {
      "application/vnd.jupyter.widget-view+json": {
       "model_id": "866c89db55134c7f815e1272100972ed",
       "version_major": 2,
       "version_minor": 0
      },
      "text/plain": [
       "  0%|          | Permuting : 0/4999 [00:00<?,       ?it/s]"
      ]
     },
     "metadata": {},
     "output_type": "display_data"
    },
    {
     "name": "stdout",
     "output_type": "stream",
     "text": [
      "stat_fun(H1): min=-5.883216 max=3.942692\n",
      "Running initial clustering …\n",
      "Found 177 clusters\n"
     ]
    },
    {
     "data": {
      "application/vnd.jupyter.widget-view+json": {
       "model_id": "b676cf6c5eb4410ca1b06cf62beb6a22",
       "version_major": 2,
       "version_minor": 0
      },
      "text/plain": [
       "  0%|          | Permuting : 0/4999 [00:00<?,       ?it/s]"
      ]
     },
     "metadata": {},
     "output_type": "display_data"
    },
    {
     "name": "stdout",
     "output_type": "stream",
     "text": [
      "stat_fun(H1): min=-4.967415 max=3.416954\n",
      "Running initial clustering …\n",
      "Found 182 clusters\n"
     ]
    },
    {
     "data": {
      "application/vnd.jupyter.widget-view+json": {
       "model_id": "4ef16ca89d15481badcbc479377096f9",
       "version_major": 2,
       "version_minor": 0
      },
      "text/plain": [
       "  0%|          | Permuting : 0/4999 [00:00<?,       ?it/s]"
      ]
     },
     "metadata": {},
     "output_type": "display_data"
    },
    {
     "name": "stdout",
     "output_type": "stream",
     "text": [
      "stat_fun(H1): min=-5.489418 max=3.717571\n",
      "Running initial clustering …\n",
      "Found 181 clusters\n"
     ]
    },
    {
     "data": {
      "application/vnd.jupyter.widget-view+json": {
       "model_id": "3e8fc48f189742b99bdbcc6148676a89",
       "version_major": 2,
       "version_minor": 0
      },
      "text/plain": [
       "  0%|          | Permuting : 0/4999 [00:00<?,       ?it/s]"
      ]
     },
     "metadata": {},
     "output_type": "display_data"
    },
    {
     "name": "stdout",
     "output_type": "stream",
     "text": [
      "stat_fun(H1): min=-6.248845 max=3.489027\n",
      "Running initial clustering …\n",
      "Found 160 clusters\n"
     ]
    },
    {
     "data": {
      "application/vnd.jupyter.widget-view+json": {
       "model_id": "d4fbee23d60048c1a61a74534d071408",
       "version_major": 2,
       "version_minor": 0
      },
      "text/plain": [
       "  0%|          | Permuting : 0/4999 [00:00<?,       ?it/s]"
      ]
     },
     "metadata": {},
     "output_type": "display_data"
    },
    {
     "name": "stdout",
     "output_type": "stream",
     "text": [
      "stat_fun(H1): min=-4.413254 max=4.174335\n",
      "Running initial clustering …\n",
      "Found 170 clusters\n"
     ]
    },
    {
     "data": {
      "application/vnd.jupyter.widget-view+json": {
       "model_id": "bd645d08510047f7933a562662345403",
       "version_major": 2,
       "version_minor": 0
      },
      "text/plain": [
       "  0%|          | Permuting : 0/4999 [00:00<?,       ?it/s]"
      ]
     },
     "metadata": {},
     "output_type": "display_data"
    },
    {
     "name": "stdout",
     "output_type": "stream",
     "text": [
      "stat_fun(H1): min=-4.040818 max=3.631717\n",
      "Running initial clustering …\n",
      "Found 146 clusters\n"
     ]
    },
    {
     "data": {
      "application/vnd.jupyter.widget-view+json": {
       "model_id": "a1e4e6f2242b49e59f1984c83e8796b7",
       "version_major": 2,
       "version_minor": 0
      },
      "text/plain": [
       "  0%|          | Permuting : 0/4999 [00:00<?,       ?it/s]"
      ]
     },
     "metadata": {},
     "output_type": "display_data"
    },
    {
     "name": "stdout",
     "output_type": "stream",
     "text": [
      "stat_fun(H1): min=-3.694400 max=3.890984\n",
      "Running initial clustering …\n",
      "Found 163 clusters\n"
     ]
    },
    {
     "data": {
      "application/vnd.jupyter.widget-view+json": {
       "model_id": "52a26f8f347d47e89bbf7c16c0cac504",
       "version_major": 2,
       "version_minor": 0
      },
      "text/plain": [
       "  0%|          | Permuting : 0/4999 [00:00<?,       ?it/s]"
      ]
     },
     "metadata": {},
     "output_type": "display_data"
    },
    {
     "name": "stdout",
     "output_type": "stream",
     "text": [
      "stat_fun(H1): min=-4.240424 max=4.151023\n",
      "Running initial clustering …\n",
      "Found 178 clusters\n"
     ]
    },
    {
     "data": {
      "application/vnd.jupyter.widget-view+json": {
       "model_id": "c849a50c45c94cf38cc11335cc797018",
       "version_major": 2,
       "version_minor": 0
      },
      "text/plain": [
       "  0%|          | Permuting : 0/4999 [00:00<?,       ?it/s]"
      ]
     },
     "metadata": {},
     "output_type": "display_data"
    },
    {
     "name": "stdout",
     "output_type": "stream",
     "text": [
      "stat_fun(H1): min=-3.636982 max=3.949772\n",
      "Running initial clustering …\n",
      "Found 169 clusters\n"
     ]
    },
    {
     "data": {
      "application/vnd.jupyter.widget-view+json": {
       "model_id": "c5a666a9683f4acd88d2a4f5f64d9c06",
       "version_major": 2,
       "version_minor": 0
      },
      "text/plain": [
       "  0%|          | Permuting : 0/4999 [00:00<?,       ?it/s]"
      ]
     },
     "metadata": {},
     "output_type": "display_data"
    },
    {
     "name": "stdout",
     "output_type": "stream",
     "text": [
      "stat_fun(H1): min=-3.830962 max=5.035445\n",
      "Running initial clustering …\n",
      "Found 148 clusters\n"
     ]
    },
    {
     "data": {
      "application/vnd.jupyter.widget-view+json": {
       "model_id": "214feb050cc64fa2b4fab022a3a0d8b7",
       "version_major": 2,
       "version_minor": 0
      },
      "text/plain": [
       "  0%|          | Permuting : 0/4999 [00:00<?,       ?it/s]"
      ]
     },
     "metadata": {},
     "output_type": "display_data"
    },
    {
     "name": "stdout",
     "output_type": "stream",
     "text": [
      "stat_fun(H1): min=-3.843540 max=4.936011\n",
      "Running initial clustering …\n",
      "Found 161 clusters\n"
     ]
    },
    {
     "data": {
      "application/vnd.jupyter.widget-view+json": {
       "model_id": "eab46e45b93448908f35f7c9aaefa247",
       "version_major": 2,
       "version_minor": 0
      },
      "text/plain": [
       "  0%|          | Permuting : 0/4999 [00:00<?,       ?it/s]"
      ]
     },
     "metadata": {},
     "output_type": "display_data"
    },
    {
     "name": "stdout",
     "output_type": "stream",
     "text": [
      "stat_fun(H1): min=-4.646293 max=4.551241\n",
      "Running initial clustering …\n",
      "Found 166 clusters\n"
     ]
    },
    {
     "data": {
      "application/vnd.jupyter.widget-view+json": {
       "model_id": "03c281a8424341429816d8dcc77da729",
       "version_major": 2,
       "version_minor": 0
      },
      "text/plain": [
       "  0%|          | Permuting : 0/4999 [00:00<?,       ?it/s]"
      ]
     },
     "metadata": {},
     "output_type": "display_data"
    },
    {
     "name": "stdout",
     "output_type": "stream",
     "text": [
      "stat_fun(H1): min=-3.488197 max=4.435522\n",
      "Running initial clustering …\n",
      "Found 161 clusters\n"
     ]
    },
    {
     "data": {
      "application/vnd.jupyter.widget-view+json": {
       "model_id": "07bf11e7aa174cde8bf7afa7498cb94c",
       "version_major": 2,
       "version_minor": 0
      },
      "text/plain": [
       "  0%|          | Permuting : 0/4999 [00:00<?,       ?it/s]"
      ]
     },
     "metadata": {},
     "output_type": "display_data"
    },
    {
     "name": "stdout",
     "output_type": "stream",
     "text": [
      "stat_fun(H1): min=-3.073967 max=4.541537\n",
      "Running initial clustering …\n",
      "Found 162 clusters\n"
     ]
    },
    {
     "data": {
      "application/vnd.jupyter.widget-view+json": {
       "model_id": "00300871445044988ddc5c903c9b66af",
       "version_major": 2,
       "version_minor": 0
      },
      "text/plain": [
       "  0%|          | Permuting : 0/4999 [00:00<?,       ?it/s]"
      ]
     },
     "metadata": {},
     "output_type": "display_data"
    },
    {
     "name": "stdout",
     "output_type": "stream",
     "text": [
      "stat_fun(H1): min=-4.130360 max=4.094649\n",
      "Running initial clustering …\n",
      "Found 163 clusters\n"
     ]
    },
    {
     "data": {
      "application/vnd.jupyter.widget-view+json": {
       "model_id": "061c65bb5ca5460bb51fe267113ca01d",
       "version_major": 2,
       "version_minor": 0
      },
      "text/plain": [
       "  0%|          | Permuting : 0/4999 [00:00<?,       ?it/s]"
      ]
     },
     "metadata": {},
     "output_type": "display_data"
    },
    {
     "name": "stdout",
     "output_type": "stream",
     "text": [
      "stat_fun(H1): min=-3.779453 max=3.851595\n",
      "Running initial clustering …\n",
      "Found 150 clusters\n"
     ]
    },
    {
     "data": {
      "application/vnd.jupyter.widget-view+json": {
       "model_id": "e158b321a5f64e2ab0aa1a50f9a92036",
       "version_major": 2,
       "version_minor": 0
      },
      "text/plain": [
       "  0%|          | Permuting : 0/4999 [00:00<?,       ?it/s]"
      ]
     },
     "metadata": {},
     "output_type": "display_data"
    },
    {
     "name": "stdout",
     "output_type": "stream",
     "text": [
      "stat_fun(H1): min=-3.857430 max=4.875178\n",
      "Running initial clustering …\n",
      "Found 155 clusters\n"
     ]
    },
    {
     "data": {
      "application/vnd.jupyter.widget-view+json": {
       "model_id": "3cfb03597d55491eb55301ab8da0a9f3",
       "version_major": 2,
       "version_minor": 0
      },
      "text/plain": [
       "  0%|          | Permuting : 0/4999 [00:00<?,       ?it/s]"
      ]
     },
     "metadata": {},
     "output_type": "display_data"
    },
    {
     "name": "stdout",
     "output_type": "stream",
     "text": [
      "stat_fun(H1): min=-5.567379 max=5.254455\n",
      "Running initial clustering …\n",
      "Found 147 clusters\n"
     ]
    },
    {
     "data": {
      "application/vnd.jupyter.widget-view+json": {
       "model_id": "917ed072a3904f65b2d468995613abe2",
       "version_major": 2,
       "version_minor": 0
      },
      "text/plain": [
       "  0%|          | Permuting : 0/4999 [00:00<?,       ?it/s]"
      ]
     },
     "metadata": {},
     "output_type": "display_data"
    },
    {
     "name": "stdout",
     "output_type": "stream",
     "text": [
      "stat_fun(H1): min=-4.540411 max=5.093283\n",
      "Running initial clustering …\n",
      "Found 158 clusters\n"
     ]
    },
    {
     "data": {
      "application/vnd.jupyter.widget-view+json": {
       "model_id": "c5ab0ff961d7445780468c3fd3422e6b",
       "version_major": 2,
       "version_minor": 0
      },
      "text/plain": [
       "  0%|          | Permuting : 0/4999 [00:00<?,       ?it/s]"
      ]
     },
     "metadata": {},
     "output_type": "display_data"
    },
    {
     "name": "stdout",
     "output_type": "stream",
     "text": [
      "stat_fun(H1): min=-4.622683 max=5.196921\n",
      "Running initial clustering …\n",
      "Found 142 clusters\n"
     ]
    },
    {
     "data": {
      "application/vnd.jupyter.widget-view+json": {
       "model_id": "11407e6fa9c24fab8b6f45bea3e49577",
       "version_major": 2,
       "version_minor": 0
      },
      "text/plain": [
       "  0%|          | Permuting : 0/4999 [00:00<?,       ?it/s]"
      ]
     },
     "metadata": {},
     "output_type": "display_data"
    },
    {
     "name": "stdout",
     "output_type": "stream",
     "text": [
      "stat_fun(H1): min=-4.340627 max=4.538935\n",
      "Running initial clustering …\n",
      "Found 179 clusters\n"
     ]
    },
    {
     "data": {
      "application/vnd.jupyter.widget-view+json": {
       "model_id": "6f82344998774210a8d9ef27ee6c4b1b",
       "version_major": 2,
       "version_minor": 0
      },
      "text/plain": [
       "  0%|          | Permuting : 0/4999 [00:00<?,       ?it/s]"
      ]
     },
     "metadata": {},
     "output_type": "display_data"
    },
    {
     "name": "stdout",
     "output_type": "stream",
     "text": [
      "stat_fun(H1): min=-4.414007 max=3.668168\n",
      "Running initial clustering …\n",
      "Found 168 clusters\n"
     ]
    },
    {
     "data": {
      "application/vnd.jupyter.widget-view+json": {
       "model_id": "114f584494ee4642bd9d8e859031a54f",
       "version_major": 2,
       "version_minor": 0
      },
      "text/plain": [
       "  0%|          | Permuting : 0/4999 [00:00<?,       ?it/s]"
      ]
     },
     "metadata": {},
     "output_type": "display_data"
    },
    {
     "name": "stdout",
     "output_type": "stream",
     "text": [
      "stat_fun(H1): min=-4.966274 max=3.860242\n",
      "Running initial clustering …\n",
      "Found 183 clusters\n"
     ]
    },
    {
     "data": {
      "application/vnd.jupyter.widget-view+json": {
       "model_id": "360a7c9dad614ca48686845014e1b454",
       "version_major": 2,
       "version_minor": 0
      },
      "text/plain": [
       "  0%|          | Permuting : 0/4999 [00:00<?,       ?it/s]"
      ]
     },
     "metadata": {},
     "output_type": "display_data"
    },
    {
     "name": "stdout",
     "output_type": "stream",
     "text": [
      "stat_fun(H1): min=-3.834622 max=4.745662\n",
      "Running initial clustering …\n",
      "Found 160 clusters\n"
     ]
    },
    {
     "data": {
      "application/vnd.jupyter.widget-view+json": {
       "model_id": "2de480fe3509411a9469d4f66957754e",
       "version_major": 2,
       "version_minor": 0
      },
      "text/plain": [
       "  0%|          | Permuting : 0/4999 [00:00<?,       ?it/s]"
      ]
     },
     "metadata": {},
     "output_type": "display_data"
    },
    {
     "name": "stdout",
     "output_type": "stream",
     "text": [
      "stat_fun(H1): min=-4.509017 max=4.229858\n",
      "Running initial clustering …\n",
      "Found 151 clusters\n"
     ]
    },
    {
     "data": {
      "application/vnd.jupyter.widget-view+json": {
       "model_id": "741d9cc0316d4354b311a1523ed99728",
       "version_major": 2,
       "version_minor": 0
      },
      "text/plain": [
       "  0%|          | Permuting : 0/4999 [00:00<?,       ?it/s]"
      ]
     },
     "metadata": {},
     "output_type": "display_data"
    },
    {
     "name": "stdout",
     "output_type": "stream",
     "text": [
      "stat_fun(H1): min=-4.257485 max=4.662530\n",
      "Running initial clustering …\n",
      "Found 170 clusters\n"
     ]
    },
    {
     "data": {
      "application/vnd.jupyter.widget-view+json": {
       "model_id": "ff56d1b62b274cdfa2064d8a183d27be",
       "version_major": 2,
       "version_minor": 0
      },
      "text/plain": [
       "  0%|          | Permuting : 0/4999 [00:00<?,       ?it/s]"
      ]
     },
     "metadata": {},
     "output_type": "display_data"
    },
    {
     "name": "stdout",
     "output_type": "stream",
     "text": [
      "stat_fun(H1): min=-4.447025 max=4.042084\n",
      "Running initial clustering …\n",
      "Found 174 clusters\n"
     ]
    },
    {
     "data": {
      "application/vnd.jupyter.widget-view+json": {
       "model_id": "0011645f0036464090c494a73f49b747",
       "version_major": 2,
       "version_minor": 0
      },
      "text/plain": [
       "  0%|          | Permuting : 0/4999 [00:00<?,       ?it/s]"
      ]
     },
     "metadata": {},
     "output_type": "display_data"
    },
    {
     "name": "stdout",
     "output_type": "stream",
     "text": [
      "stat_fun(H1): min=-3.812885 max=4.843638\n",
      "Running initial clustering …\n",
      "Found 163 clusters\n"
     ]
    },
    {
     "data": {
      "application/vnd.jupyter.widget-view+json": {
       "model_id": "d57113e029224556bcd02f9b66a217a1",
       "version_major": 2,
       "version_minor": 0
      },
      "text/plain": [
       "  0%|          | Permuting : 0/4999 [00:00<?,       ?it/s]"
      ]
     },
     "metadata": {},
     "output_type": "display_data"
    },
    {
     "name": "stdout",
     "output_type": "stream",
     "text": [
      "stat_fun(H1): min=-5.536385 max=4.795594\n",
      "Running initial clustering …\n",
      "Found 197 clusters\n"
     ]
    },
    {
     "data": {
      "application/vnd.jupyter.widget-view+json": {
       "model_id": "cd2bb071a82140b38941eebd95885eaa",
       "version_major": 2,
       "version_minor": 0
      },
      "text/plain": [
       "  0%|          | Permuting : 0/4999 [00:00<?,       ?it/s]"
      ]
     },
     "metadata": {},
     "output_type": "display_data"
    },
    {
     "name": "stdout",
     "output_type": "stream",
     "text": [
      "stat_fun(H1): min=-4.215484 max=4.869390\n",
      "Running initial clustering …\n",
      "Found 158 clusters\n"
     ]
    },
    {
     "data": {
      "application/vnd.jupyter.widget-view+json": {
       "model_id": "63824fc0308f4ac28b6246d59c73641f",
       "version_major": 2,
       "version_minor": 0
      },
      "text/plain": [
       "  0%|          | Permuting : 0/4999 [00:00<?,       ?it/s]"
      ]
     },
     "metadata": {},
     "output_type": "display_data"
    },
    {
     "name": "stdout",
     "output_type": "stream",
     "text": [
      "stat_fun(H1): min=-3.634447 max=5.612019\n",
      "Running initial clustering …\n",
      "Found 198 clusters\n"
     ]
    },
    {
     "data": {
      "application/vnd.jupyter.widget-view+json": {
       "model_id": "e9ed7050bc6842e28df3b2bff4111d33",
       "version_major": 2,
       "version_minor": 0
      },
      "text/plain": [
       "  0%|          | Permuting : 0/4999 [00:00<?,       ?it/s]"
      ]
     },
     "metadata": {},
     "output_type": "display_data"
    },
    {
     "name": "stdout",
     "output_type": "stream",
     "text": [
      "stat_fun(H1): min=-3.303970 max=4.929760\n",
      "Running initial clustering …\n",
      "Found 193 clusters\n"
     ]
    },
    {
     "data": {
      "application/vnd.jupyter.widget-view+json": {
       "model_id": "3b14f705048645db9bd6a3e964728006",
       "version_major": 2,
       "version_minor": 0
      },
      "text/plain": [
       "  0%|          | Permuting : 0/4999 [00:00<?,       ?it/s]"
      ]
     },
     "metadata": {},
     "output_type": "display_data"
    },
    {
     "name": "stdout",
     "output_type": "stream",
     "text": [
      "stat_fun(H1): min=-4.040296 max=5.382944\n",
      "Running initial clustering …\n",
      "Found 204 clusters\n"
     ]
    },
    {
     "data": {
      "application/vnd.jupyter.widget-view+json": {
       "model_id": "2ad1b51d34ef46de9282559c0c4740a7",
       "version_major": 2,
       "version_minor": 0
      },
      "text/plain": [
       "  0%|          | Permuting : 0/4999 [00:00<?,       ?it/s]"
      ]
     },
     "metadata": {},
     "output_type": "display_data"
    },
    {
     "name": "stdout",
     "output_type": "stream",
     "text": [
      "stat_fun(H1): min=-4.204875 max=5.047387\n",
      "Running initial clustering …\n",
      "Found 167 clusters\n"
     ]
    },
    {
     "data": {
      "application/vnd.jupyter.widget-view+json": {
       "model_id": "48e58618241b4d3e89513d327e194632",
       "version_major": 2,
       "version_minor": 0
      },
      "text/plain": [
       "  0%|          | Permuting : 0/4999 [00:00<?,       ?it/s]"
      ]
     },
     "metadata": {},
     "output_type": "display_data"
    },
    {
     "name": "stdout",
     "output_type": "stream",
     "text": [
      "stat_fun(H1): min=-4.514747 max=4.564535\n",
      "Running initial clustering …\n",
      "Found 165 clusters\n"
     ]
    },
    {
     "data": {
      "application/vnd.jupyter.widget-view+json": {
       "model_id": "8cfb46d453124c9083b1df6f58036cdc",
       "version_major": 2,
       "version_minor": 0
      },
      "text/plain": [
       "  0%|          | Permuting : 0/4999 [00:00<?,       ?it/s]"
      ]
     },
     "metadata": {},
     "output_type": "display_data"
    },
    {
     "name": "stdout",
     "output_type": "stream",
     "text": [
      "stat_fun(H1): min=-4.701552 max=3.797339\n",
      "Running initial clustering …\n",
      "Found 184 clusters\n"
     ]
    },
    {
     "data": {
      "application/vnd.jupyter.widget-view+json": {
       "model_id": "c11490624f834400aa7cb4776f71e706",
       "version_major": 2,
       "version_minor": 0
      },
      "text/plain": [
       "  0%|          | Permuting : 0/4999 [00:00<?,       ?it/s]"
      ]
     },
     "metadata": {},
     "output_type": "display_data"
    },
    {
     "name": "stdout",
     "output_type": "stream",
     "text": [
      "stat_fun(H1): min=-4.499964 max=3.947613\n",
      "Running initial clustering …\n",
      "Found 158 clusters\n"
     ]
    },
    {
     "data": {
      "application/vnd.jupyter.widget-view+json": {
       "model_id": "82477914bfde4202b7004037c1e6c41c",
       "version_major": 2,
       "version_minor": 0
      },
      "text/plain": [
       "  0%|          | Permuting : 0/4999 [00:00<?,       ?it/s]"
      ]
     },
     "metadata": {},
     "output_type": "display_data"
    },
    {
     "name": "stdout",
     "output_type": "stream",
     "text": [
      "stat_fun(H1): min=-4.823813 max=4.296713\n",
      "Running initial clustering …\n",
      "Found 147 clusters\n"
     ]
    },
    {
     "data": {
      "application/vnd.jupyter.widget-view+json": {
       "model_id": "6cc679c1d10d4a4bac60b06e0c511b3a",
       "version_major": 2,
       "version_minor": 0
      },
      "text/plain": [
       "  0%|          | Permuting : 0/4999 [00:00<?,       ?it/s]"
      ]
     },
     "metadata": {},
     "output_type": "display_data"
    },
    {
     "name": "stdout",
     "output_type": "stream",
     "text": [
      "stat_fun(H1): min=-4.896312 max=4.171951\n",
      "Running initial clustering …\n",
      "Found 191 clusters\n"
     ]
    },
    {
     "data": {
      "application/vnd.jupyter.widget-view+json": {
       "model_id": "088771cc4e15472da92024446e4707de",
       "version_major": 2,
       "version_minor": 0
      },
      "text/plain": [
       "  0%|          | Permuting : 0/4999 [00:00<?,       ?it/s]"
      ]
     },
     "metadata": {},
     "output_type": "display_data"
    },
    {
     "name": "stdout",
     "output_type": "stream",
     "text": [
      "stat_fun(H1): min=-3.989391 max=4.281947\n",
      "Running initial clustering …\n",
      "Found 162 clusters\n"
     ]
    },
    {
     "data": {
      "application/vnd.jupyter.widget-view+json": {
       "model_id": "5ce40cd25b7241bb8926d9afbe3eae2f",
       "version_major": 2,
       "version_minor": 0
      },
      "text/plain": [
       "  0%|          | Permuting : 0/4999 [00:00<?,       ?it/s]"
      ]
     },
     "metadata": {},
     "output_type": "display_data"
    },
    {
     "name": "stdout",
     "output_type": "stream",
     "text": [
      "stat_fun(H1): min=-4.269625 max=4.983864\n",
      "Running initial clustering …\n",
      "Found 148 clusters\n"
     ]
    },
    {
     "data": {
      "application/vnd.jupyter.widget-view+json": {
       "model_id": "8d9e90d18b4e4c0c97de9247c6838043",
       "version_major": 2,
       "version_minor": 0
      },
      "text/plain": [
       "  0%|          | Permuting : 0/4999 [00:00<?,       ?it/s]"
      ]
     },
     "metadata": {},
     "output_type": "display_data"
    },
    {
     "name": "stdout",
     "output_type": "stream",
     "text": [
      "stat_fun(H1): min=-5.641465 max=4.266575\n",
      "Running initial clustering …\n",
      "Found 153 clusters\n"
     ]
    },
    {
     "data": {
      "application/vnd.jupyter.widget-view+json": {
       "model_id": "a46608703c0c45f2a35e8ba8ea134c4d",
       "version_major": 2,
       "version_minor": 0
      },
      "text/plain": [
       "  0%|          | Permuting : 0/4999 [00:00<?,       ?it/s]"
      ]
     },
     "metadata": {},
     "output_type": "display_data"
    },
    {
     "name": "stdout",
     "output_type": "stream",
     "text": [
      "stat_fun(H1): min=-3.298782 max=4.212117\n",
      "Running initial clustering …\n",
      "Found 161 clusters\n"
     ]
    },
    {
     "data": {
      "application/vnd.jupyter.widget-view+json": {
       "model_id": "8705da44d84940569742e0c01c117434",
       "version_major": 2,
       "version_minor": 0
      },
      "text/plain": [
       "  0%|          | Permuting : 0/4999 [00:00<?,       ?it/s]"
      ]
     },
     "metadata": {},
     "output_type": "display_data"
    },
    {
     "name": "stdout",
     "output_type": "stream",
     "text": [
      "stat_fun(H1): min=-4.672521 max=4.223900\n",
      "Running initial clustering …\n",
      "Found 158 clusters\n"
     ]
    },
    {
     "data": {
      "application/vnd.jupyter.widget-view+json": {
       "model_id": "d10502aaefed4bae958c7d15e0652e76",
       "version_major": 2,
       "version_minor": 0
      },
      "text/plain": [
       "  0%|          | Permuting : 0/4999 [00:00<?,       ?it/s]"
      ]
     },
     "metadata": {},
     "output_type": "display_data"
    },
    {
     "name": "stdout",
     "output_type": "stream",
     "text": [
      "stat_fun(H1): min=-4.572802 max=3.750382\n",
      "Running initial clustering …\n",
      "Found 161 clusters\n"
     ]
    },
    {
     "data": {
      "application/vnd.jupyter.widget-view+json": {
       "model_id": "7862c6831a214e1185d64d7514a349cc",
       "version_major": 2,
       "version_minor": 0
      },
      "text/plain": [
       "  0%|          | Permuting : 0/4999 [00:00<?,       ?it/s]"
      ]
     },
     "metadata": {},
     "output_type": "display_data"
    },
    {
     "name": "stdout",
     "output_type": "stream",
     "text": [
      "stat_fun(H1): min=-3.795858 max=4.129980\n",
      "Running initial clustering …\n",
      "Found 170 clusters\n"
     ]
    },
    {
     "data": {
      "application/vnd.jupyter.widget-view+json": {
       "model_id": "7ece59b7b9ad4a8c839f05003039230c",
       "version_major": 2,
       "version_minor": 0
      },
      "text/plain": [
       "  0%|          | Permuting : 0/4999 [00:00<?,       ?it/s]"
      ]
     },
     "metadata": {},
     "output_type": "display_data"
    },
    {
     "name": "stdout",
     "output_type": "stream",
     "text": [
      "stat_fun(H1): min=-4.651465 max=3.691934\n",
      "Running initial clustering …\n",
      "Found 165 clusters\n"
     ]
    },
    {
     "data": {
      "application/vnd.jupyter.widget-view+json": {
       "model_id": "bd876c8d530844398f57ccbd6c812002",
       "version_major": 2,
       "version_minor": 0
      },
      "text/plain": [
       "  0%|          | Permuting : 0/4999 [00:00<?,       ?it/s]"
      ]
     },
     "metadata": {},
     "output_type": "display_data"
    },
    {
     "name": "stdout",
     "output_type": "stream",
     "text": [
      "stat_fun(H1): min=-3.632111 max=5.152989\n",
      "Running initial clustering …\n",
      "Found 149 clusters\n"
     ]
    },
    {
     "data": {
      "application/vnd.jupyter.widget-view+json": {
       "model_id": "1dd1db6752f84671b61c308c9524cde4",
       "version_major": 2,
       "version_minor": 0
      },
      "text/plain": [
       "  0%|          | Permuting : 0/4999 [00:00<?,       ?it/s]"
      ]
     },
     "metadata": {},
     "output_type": "display_data"
    },
    {
     "name": "stdout",
     "output_type": "stream",
     "text": [
      "stat_fun(H1): min=-2.968331 max=7.053205\n",
      "Running initial clustering …\n",
      "Found 145 clusters\n"
     ]
    },
    {
     "data": {
      "application/vnd.jupyter.widget-view+json": {
       "model_id": "879a538c6ce94f79885f4801bb7d61d8",
       "version_major": 2,
       "version_minor": 0
      },
      "text/plain": [
       "  0%|          | Permuting : 0/4999 [00:00<?,       ?it/s]"
      ]
     },
     "metadata": {},
     "output_type": "display_data"
    },
    {
     "name": "stdout",
     "output_type": "stream",
     "text": [
      "stat_fun(H1): min=-3.122255 max=4.709002\n",
      "Running initial clustering …\n",
      "Found 151 clusters\n"
     ]
    },
    {
     "data": {
      "application/vnd.jupyter.widget-view+json": {
       "model_id": "d86038617b144db89ced97f38a5ea251",
       "version_major": 2,
       "version_minor": 0
      },
      "text/plain": [
       "  0%|          | Permuting : 0/4999 [00:00<?,       ?it/s]"
      ]
     },
     "metadata": {},
     "output_type": "display_data"
    },
    {
     "name": "stdout",
     "output_type": "stream",
     "text": [
      "stat_fun(H1): min=-4.903414 max=4.018268\n",
      "Running initial clustering …\n",
      "Found 151 clusters\n"
     ]
    },
    {
     "data": {
      "application/vnd.jupyter.widget-view+json": {
       "model_id": "fbc494a0611c46ac911c089c06e67887",
       "version_major": 2,
       "version_minor": 0
      },
      "text/plain": [
       "  0%|          | Permuting : 0/4999 [00:00<?,       ?it/s]"
      ]
     },
     "metadata": {},
     "output_type": "display_data"
    },
    {
     "name": "stdout",
     "output_type": "stream",
     "text": [
      "stat_fun(H1): min=-3.906488 max=3.979314\n",
      "Running initial clustering …\n",
      "Found 160 clusters\n"
     ]
    },
    {
     "data": {
      "application/vnd.jupyter.widget-view+json": {
       "model_id": "3f505149c9d44216aed2f9f9cca98308",
       "version_major": 2,
       "version_minor": 0
      },
      "text/plain": [
       "  0%|          | Permuting : 0/4999 [00:00<?,       ?it/s]"
      ]
     },
     "metadata": {},
     "output_type": "display_data"
    },
    {
     "name": "stdout",
     "output_type": "stream",
     "text": [
      "stat_fun(H1): min=-4.873685 max=3.302200\n",
      "Running initial clustering …\n",
      "Found 137 clusters\n"
     ]
    },
    {
     "data": {
      "application/vnd.jupyter.widget-view+json": {
       "model_id": "7fe55248e6864d5b8bfc8ac380e8f925",
       "version_major": 2,
       "version_minor": 0
      },
      "text/plain": [
       "  0%|          | Permuting : 0/4999 [00:00<?,       ?it/s]"
      ]
     },
     "metadata": {},
     "output_type": "display_data"
    },
    {
     "name": "stdout",
     "output_type": "stream",
     "text": [
      "stat_fun(H1): min=-4.111198 max=4.441063\n",
      "Running initial clustering …\n",
      "Found 115 clusters\n"
     ]
    },
    {
     "data": {
      "application/vnd.jupyter.widget-view+json": {
       "model_id": "c166f95789244631a99b73e1f5836697",
       "version_major": 2,
       "version_minor": 0
      },
      "text/plain": [
       "  0%|          | Permuting : 0/4999 [00:00<?,       ?it/s]"
      ]
     },
     "metadata": {},
     "output_type": "display_data"
    },
    {
     "name": "stdout",
     "output_type": "stream",
     "text": [
      "stat_fun(H1): min=-4.801119 max=3.852263\n",
      "Running initial clustering …\n",
      "Found 163 clusters\n"
     ]
    },
    {
     "data": {
      "application/vnd.jupyter.widget-view+json": {
       "model_id": "ca4e3a85dfcf4b45bdaacfb8ea43052d",
       "version_major": 2,
       "version_minor": 0
      },
      "text/plain": [
       "  0%|          | Permuting : 0/4999 [00:00<?,       ?it/s]"
      ]
     },
     "metadata": {},
     "output_type": "display_data"
    },
    {
     "name": "stdout",
     "output_type": "stream",
     "text": [
      "stat_fun(H1): min=-3.653901 max=3.402534\n",
      "Running initial clustering …\n",
      "Found 119 clusters\n"
     ]
    },
    {
     "data": {
      "application/vnd.jupyter.widget-view+json": {
       "model_id": "a930cb4ccc4745d19d46c17bea5291a0",
       "version_major": 2,
       "version_minor": 0
      },
      "text/plain": [
       "  0%|          | Permuting : 0/4999 [00:00<?,       ?it/s]"
      ]
     },
     "metadata": {},
     "output_type": "display_data"
    },
    {
     "name": "stdout",
     "output_type": "stream",
     "text": [
      "stat_fun(H1): min=-2.989793 max=5.242554\n",
      "Running initial clustering …\n",
      "Found 189 clusters\n"
     ]
    },
    {
     "data": {
      "application/vnd.jupyter.widget-view+json": {
       "model_id": "8fd8ecdb3de44132bc63df1f2f491507",
       "version_major": 2,
       "version_minor": 0
      },
      "text/plain": [
       "  0%|          | Permuting : 0/4999 [00:00<?,       ?it/s]"
      ]
     },
     "metadata": {},
     "output_type": "display_data"
    },
    {
     "name": "stdout",
     "output_type": "stream",
     "text": [
      "stat_fun(H1): min=-4.618406 max=3.929575\n",
      "Running initial clustering …\n",
      "Found 106 clusters\n"
     ]
    },
    {
     "data": {
      "application/vnd.jupyter.widget-view+json": {
       "model_id": "fd17de044d8d425e89e05960e9f8a620",
       "version_major": 2,
       "version_minor": 0
      },
      "text/plain": [
       "  0%|          | Permuting : 0/4999 [00:00<?,       ?it/s]"
      ]
     },
     "metadata": {},
     "output_type": "display_data"
    },
    {
     "name": "stdout",
     "output_type": "stream",
     "text": [
      "stat_fun(H1): min=-4.319364 max=4.268121\n",
      "Running initial clustering …\n",
      "Found 136 clusters\n"
     ]
    },
    {
     "data": {
      "application/vnd.jupyter.widget-view+json": {
       "model_id": "b7334d4645634e6c8498cde34bb19d32",
       "version_major": 2,
       "version_minor": 0
      },
      "text/plain": [
       "  0%|          | Permuting : 0/4999 [00:00<?,       ?it/s]"
      ]
     },
     "metadata": {},
     "output_type": "display_data"
    },
    {
     "name": "stdout",
     "output_type": "stream",
     "text": [
      "stat_fun(H1): min=-5.118090 max=5.514927\n",
      "Running initial clustering …\n",
      "Found 153 clusters\n"
     ]
    },
    {
     "data": {
      "application/vnd.jupyter.widget-view+json": {
       "model_id": "b1699c4ba17948b58f5d6deb8e6c682a",
       "version_major": 2,
       "version_minor": 0
      },
      "text/plain": [
       "  0%|          | Permuting : 0/4999 [00:00<?,       ?it/s]"
      ]
     },
     "metadata": {},
     "output_type": "display_data"
    },
    {
     "name": "stdout",
     "output_type": "stream",
     "text": [
      "stat_fun(H1): min=-3.825481 max=5.234912\n",
      "Running initial clustering …\n",
      "Found 149 clusters\n"
     ]
    },
    {
     "data": {
      "application/vnd.jupyter.widget-view+json": {
       "model_id": "386679136a4c4eff8ac775037de8ede4",
       "version_major": 2,
       "version_minor": 0
      },
      "text/plain": [
       "  0%|          | Permuting : 0/4999 [00:00<?,       ?it/s]"
      ]
     },
     "metadata": {},
     "output_type": "display_data"
    },
    {
     "name": "stdout",
     "output_type": "stream",
     "text": [
      "stat_fun(H1): min=-3.801870 max=4.649678\n",
      "Running initial clustering …\n",
      "Found 154 clusters\n"
     ]
    },
    {
     "data": {
      "application/vnd.jupyter.widget-view+json": {
       "model_id": "bc6884e83d4544ef9c1d1b18e43977f1",
       "version_major": 2,
       "version_minor": 0
      },
      "text/plain": [
       "  0%|          | Permuting : 0/4999 [00:00<?,       ?it/s]"
      ]
     },
     "metadata": {},
     "output_type": "display_data"
    },
    {
     "name": "stdout",
     "output_type": "stream",
     "text": [
      "stat_fun(H1): min=-3.983713 max=4.227752\n",
      "Running initial clustering …\n",
      "Found 110 clusters\n"
     ]
    },
    {
     "data": {
      "application/vnd.jupyter.widget-view+json": {
       "model_id": "ce734e02159048d1a5c647281ed7e3d1",
       "version_major": 2,
       "version_minor": 0
      },
      "text/plain": [
       "  0%|          | Permuting : 0/4999 [00:00<?,       ?it/s]"
      ]
     },
     "metadata": {},
     "output_type": "display_data"
    },
    {
     "name": "stdout",
     "output_type": "stream",
     "text": [
      "stat_fun(H1): min=-3.177395 max=4.873020\n",
      "Running initial clustering …\n",
      "Found 171 clusters\n"
     ]
    },
    {
     "data": {
      "application/vnd.jupyter.widget-view+json": {
       "model_id": "7c3f29f8cced4a938e3e5191edd51af8",
       "version_major": 2,
       "version_minor": 0
      },
      "text/plain": [
       "  0%|          | Permuting : 0/4999 [00:00<?,       ?it/s]"
      ]
     },
     "metadata": {},
     "output_type": "display_data"
    },
    {
     "name": "stdout",
     "output_type": "stream",
     "text": [
      "stat_fun(H1): min=-4.928886 max=3.542047\n",
      "Running initial clustering …\n",
      "Found 113 clusters\n"
     ]
    },
    {
     "data": {
      "application/vnd.jupyter.widget-view+json": {
       "model_id": "c9444b5de40e42a6b3a6e78f53cbc56e",
       "version_major": 2,
       "version_minor": 0
      },
      "text/plain": [
       "  0%|          | Permuting : 0/4999 [00:00<?,       ?it/s]"
      ]
     },
     "metadata": {},
     "output_type": "display_data"
    },
    {
     "name": "stdout",
     "output_type": "stream",
     "text": [
      "stat_fun(H1): min=-4.419768 max=3.130336\n",
      "Running initial clustering …\n",
      "Found 131 clusters\n"
     ]
    },
    {
     "data": {
      "application/vnd.jupyter.widget-view+json": {
       "model_id": "d564c22d16114a63870737dcdf43ea8e",
       "version_major": 2,
       "version_minor": 0
      },
      "text/plain": [
       "  0%|          | Permuting : 0/4999 [00:00<?,       ?it/s]"
      ]
     },
     "metadata": {},
     "output_type": "display_data"
    },
    {
     "name": "stdout",
     "output_type": "stream",
     "text": [
      "stat_fun(H1): min=-4.322213 max=3.876177\n",
      "Running initial clustering …\n",
      "Found 148 clusters\n"
     ]
    },
    {
     "data": {
      "application/vnd.jupyter.widget-view+json": {
       "model_id": "2365ee2d48864d55a36b8bd8a76203a0",
       "version_major": 2,
       "version_minor": 0
      },
      "text/plain": [
       "  0%|          | Permuting : 0/4999 [00:00<?,       ?it/s]"
      ]
     },
     "metadata": {},
     "output_type": "display_data"
    },
    {
     "name": "stdout",
     "output_type": "stream",
     "text": [
      "stat_fun(H1): min=-4.258750 max=4.748359\n",
      "Running initial clustering …\n",
      "Found 142 clusters\n"
     ]
    },
    {
     "data": {
      "application/vnd.jupyter.widget-view+json": {
       "model_id": "bbf705dd04c64afabd275e59aa5e336d",
       "version_major": 2,
       "version_minor": 0
      },
      "text/plain": [
       "  0%|          | Permuting : 0/4999 [00:00<?,       ?it/s]"
      ]
     },
     "metadata": {},
     "output_type": "display_data"
    },
    {
     "name": "stdout",
     "output_type": "stream",
     "text": [
      "stat_fun(H1): min=-4.665979 max=4.126564\n",
      "Running initial clustering …\n",
      "Found 121 clusters\n"
     ]
    },
    {
     "data": {
      "application/vnd.jupyter.widget-view+json": {
       "model_id": "53f1c348b24d483f95fe7527acd0fa1a",
       "version_major": 2,
       "version_minor": 0
      },
      "text/plain": [
       "  0%|          | Permuting : 0/4999 [00:00<?,       ?it/s]"
      ]
     },
     "metadata": {},
     "output_type": "display_data"
    },
    {
     "name": "stdout",
     "output_type": "stream",
     "text": [
      "stat_fun(H1): min=-4.045229 max=3.843600\n",
      "Running initial clustering …\n",
      "Found 141 clusters\n"
     ]
    },
    {
     "data": {
      "application/vnd.jupyter.widget-view+json": {
       "model_id": "1488e12b2252415fa7cf87f6e4bbfdd6",
       "version_major": 2,
       "version_minor": 0
      },
      "text/plain": [
       "  0%|          | Permuting : 0/4999 [00:00<?,       ?it/s]"
      ]
     },
     "metadata": {},
     "output_type": "display_data"
    },
    {
     "name": "stdout",
     "output_type": "stream",
     "text": [
      "stat_fun(H1): min=-3.610551 max=3.289063\n",
      "Running initial clustering …\n",
      "Found 104 clusters\n"
     ]
    },
    {
     "data": {
      "application/vnd.jupyter.widget-view+json": {
       "model_id": "8875a162e96c4c89a3bc1ac7d5427f67",
       "version_major": 2,
       "version_minor": 0
      },
      "text/plain": [
       "  0%|          | Permuting : 0/4999 [00:00<?,       ?it/s]"
      ]
     },
     "metadata": {},
     "output_type": "display_data"
    },
    {
     "name": "stdout",
     "output_type": "stream",
     "text": [
      "stat_fun(H1): min=-5.145413 max=4.973640\n",
      "Running initial clustering …\n",
      "Found 142 clusters\n"
     ]
    },
    {
     "data": {
      "application/vnd.jupyter.widget-view+json": {
       "model_id": "785b827dd84b4474854ba47f048ef38e",
       "version_major": 2,
       "version_minor": 0
      },
      "text/plain": [
       "  0%|          | Permuting : 0/4999 [00:00<?,       ?it/s]"
      ]
     },
     "metadata": {},
     "output_type": "display_data"
    },
    {
     "name": "stdout",
     "output_type": "stream",
     "text": [
      "stat_fun(H1): min=-4.854039 max=3.673401\n",
      "Running initial clustering …\n",
      "Found 140 clusters\n"
     ]
    },
    {
     "data": {
      "application/vnd.jupyter.widget-view+json": {
       "model_id": "2dcb5b1a4ab04c29b7d084192eed0fc5",
       "version_major": 2,
       "version_minor": 0
      },
      "text/plain": [
       "  0%|          | Permuting : 0/4999 [00:00<?,       ?it/s]"
      ]
     },
     "metadata": {},
     "output_type": "display_data"
    },
    {
     "name": "stdout",
     "output_type": "stream",
     "text": [
      "stat_fun(H1): min=-4.361485 max=3.457995\n",
      "Running initial clustering …\n",
      "Found 165 clusters\n"
     ]
    },
    {
     "data": {
      "application/vnd.jupyter.widget-view+json": {
       "model_id": "62cdbb980f814d1bba6169e84f21b6cf",
       "version_major": 2,
       "version_minor": 0
      },
      "text/plain": [
       "  0%|          | Permuting : 0/4999 [00:00<?,       ?it/s]"
      ]
     },
     "metadata": {},
     "output_type": "display_data"
    },
    {
     "name": "stdout",
     "output_type": "stream",
     "text": [
      "stat_fun(H1): min=-3.665715 max=3.540255\n",
      "Running initial clustering …\n",
      "Found 140 clusters\n"
     ]
    },
    {
     "data": {
      "application/vnd.jupyter.widget-view+json": {
       "model_id": "887e42a744e24880b2204ac7364c48b7",
       "version_major": 2,
       "version_minor": 0
      },
      "text/plain": [
       "  0%|          | Permuting : 0/4999 [00:00<?,       ?it/s]"
      ]
     },
     "metadata": {},
     "output_type": "display_data"
    },
    {
     "name": "stdout",
     "output_type": "stream",
     "text": [
      "stat_fun(H1): min=-4.607467 max=3.316169\n",
      "Running initial clustering …\n",
      "Found 117 clusters\n"
     ]
    },
    {
     "data": {
      "application/vnd.jupyter.widget-view+json": {
       "model_id": "eaded3b311ee41958aacebf84de30c53",
       "version_major": 2,
       "version_minor": 0
      },
      "text/plain": [
       "  0%|          | Permuting : 0/4999 [00:00<?,       ?it/s]"
      ]
     },
     "metadata": {},
     "output_type": "display_data"
    },
    {
     "name": "stdout",
     "output_type": "stream",
     "text": [
      "stat_fun(H1): min=-5.142466 max=3.071442\n",
      "Running initial clustering …\n",
      "Found 151 clusters\n"
     ]
    },
    {
     "data": {
      "application/vnd.jupyter.widget-view+json": {
       "model_id": "3e8c7e8ab29a42cb9fca32a7ff437e3d",
       "version_major": 2,
       "version_minor": 0
      },
      "text/plain": [
       "  0%|          | Permuting : 0/4999 [00:00<?,       ?it/s]"
      ]
     },
     "metadata": {},
     "output_type": "display_data"
    },
    {
     "name": "stdout",
     "output_type": "stream",
     "text": [
      "stat_fun(H1): min=-3.936446 max=4.461570\n",
      "Running initial clustering …\n",
      "Found 132 clusters\n"
     ]
    },
    {
     "data": {
      "application/vnd.jupyter.widget-view+json": {
       "model_id": "d25bf782812746c4b94be1f0622c532e",
       "version_major": 2,
       "version_minor": 0
      },
      "text/plain": [
       "  0%|          | Permuting : 0/4999 [00:00<?,       ?it/s]"
      ]
     },
     "metadata": {},
     "output_type": "display_data"
    },
    {
     "name": "stdout",
     "output_type": "stream",
     "text": [
      "stat_fun(H1): min=-4.860761 max=3.887523\n",
      "Running initial clustering …\n",
      "Found 122 clusters\n"
     ]
    },
    {
     "data": {
      "application/vnd.jupyter.widget-view+json": {
       "model_id": "a7a1915d66594c07bc66dcf02c7262f1",
       "version_major": 2,
       "version_minor": 0
      },
      "text/plain": [
       "  0%|          | Permuting : 0/4999 [00:00<?,       ?it/s]"
      ]
     },
     "metadata": {},
     "output_type": "display_data"
    },
    {
     "name": "stdout",
     "output_type": "stream",
     "text": [
      "stat_fun(H1): min=-5.210086 max=4.154242\n",
      "Running initial clustering …\n",
      "Found 113 clusters\n"
     ]
    },
    {
     "data": {
      "application/vnd.jupyter.widget-view+json": {
       "model_id": "14840e5aee6b4f95838d7eab9a632550",
       "version_major": 2,
       "version_minor": 0
      },
      "text/plain": [
       "  0%|          | Permuting : 0/4999 [00:00<?,       ?it/s]"
      ]
     },
     "metadata": {},
     "output_type": "display_data"
    },
    {
     "name": "stdout",
     "output_type": "stream",
     "text": [
      "stat_fun(H1): min=-2.532989 max=5.142024\n",
      "Running initial clustering …\n",
      "Found 193 clusters\n"
     ]
    },
    {
     "data": {
      "application/vnd.jupyter.widget-view+json": {
       "model_id": "1b365a29032948a19b848991fffd4ae7",
       "version_major": 2,
       "version_minor": 0
      },
      "text/plain": [
       "  0%|          | Permuting : 0/4999 [00:00<?,       ?it/s]"
      ]
     },
     "metadata": {},
     "output_type": "display_data"
    },
    {
     "name": "stdout",
     "output_type": "stream",
     "text": [
      "stat_fun(H1): min=-3.928587 max=4.823374\n",
      "Running initial clustering …\n",
      "Found 187 clusters\n"
     ]
    },
    {
     "data": {
      "application/vnd.jupyter.widget-view+json": {
       "model_id": "ea66c7e92ea84e05b48e6e2230b84bf2",
       "version_major": 2,
       "version_minor": 0
      },
      "text/plain": [
       "  0%|          | Permuting : 0/4999 [00:00<?,       ?it/s]"
      ]
     },
     "metadata": {},
     "output_type": "display_data"
    },
    {
     "name": "stdout",
     "output_type": "stream",
     "text": [
      "stat_fun(H1): min=-3.259922 max=4.115565\n",
      "Running initial clustering …\n",
      "Found 125 clusters\n"
     ]
    },
    {
     "data": {
      "application/vnd.jupyter.widget-view+json": {
       "model_id": "be7e4b6a6b4747359ddf724da056fd2b",
       "version_major": 2,
       "version_minor": 0
      },
      "text/plain": [
       "  0%|          | Permuting : 0/4999 [00:00<?,       ?it/s]"
      ]
     },
     "metadata": {},
     "output_type": "display_data"
    },
    {
     "name": "stdout",
     "output_type": "stream",
     "text": [
      "stat_fun(H1): min=-3.930213 max=4.696002\n",
      "Running initial clustering …\n",
      "Found 133 clusters\n"
     ]
    },
    {
     "data": {
      "application/vnd.jupyter.widget-view+json": {
       "model_id": "6b069a19defa4b16a4f6194431f68741",
       "version_major": 2,
       "version_minor": 0
      },
      "text/plain": [
       "  0%|          | Permuting : 0/4999 [00:00<?,       ?it/s]"
      ]
     },
     "metadata": {},
     "output_type": "display_data"
    },
    {
     "name": "stdout",
     "output_type": "stream",
     "text": [
      "stat_fun(H1): min=-4.529034 max=3.622799\n",
      "Running initial clustering …\n",
      "Found 131 clusters\n"
     ]
    },
    {
     "data": {
      "application/vnd.jupyter.widget-view+json": {
       "model_id": "1efef77beea142d7aa96929d00ab5250",
       "version_major": 2,
       "version_minor": 0
      },
      "text/plain": [
       "  0%|          | Permuting : 0/4999 [00:00<?,       ?it/s]"
      ]
     },
     "metadata": {},
     "output_type": "display_data"
    },
    {
     "name": "stdout",
     "output_type": "stream",
     "text": [
      "stat_fun(H1): min=-5.200521 max=3.458413\n",
      "Running initial clustering …\n",
      "Found 177 clusters\n"
     ]
    },
    {
     "data": {
      "application/vnd.jupyter.widget-view+json": {
       "model_id": "6639e61b12a9466b96558966b1c09a5a",
       "version_major": 2,
       "version_minor": 0
      },
      "text/plain": [
       "  0%|          | Permuting : 0/4999 [00:00<?,       ?it/s]"
      ]
     },
     "metadata": {},
     "output_type": "display_data"
    },
    {
     "name": "stdout",
     "output_type": "stream",
     "text": [
      "stat_fun(H1): min=-4.784460 max=3.048793\n",
      "Running initial clustering …\n",
      "Found 157 clusters\n"
     ]
    },
    {
     "data": {
      "application/vnd.jupyter.widget-view+json": {
       "model_id": "7a3fd46485b5447fa7e9e918c7774ae7",
       "version_major": 2,
       "version_minor": 0
      },
      "text/plain": [
       "  0%|          | Permuting : 0/4999 [00:00<?,       ?it/s]"
      ]
     },
     "metadata": {},
     "output_type": "display_data"
    },
    {
     "name": "stdout",
     "output_type": "stream",
     "text": [
      "stat_fun(H1): min=-4.506054 max=4.006479\n",
      "Running initial clustering …\n",
      "Found 148 clusters\n"
     ]
    },
    {
     "data": {
      "application/vnd.jupyter.widget-view+json": {
       "model_id": "d318bff24f924206b2bae4c29f40576a",
       "version_major": 2,
       "version_minor": 0
      },
      "text/plain": [
       "  0%|          | Permuting : 0/4999 [00:00<?,       ?it/s]"
      ]
     },
     "metadata": {},
     "output_type": "display_data"
    },
    {
     "name": "stdout",
     "output_type": "stream",
     "text": [
      "stat_fun(H1): min=-4.559222 max=3.345886\n",
      "Running initial clustering …\n",
      "Found 163 clusters\n"
     ]
    },
    {
     "data": {
      "application/vnd.jupyter.widget-view+json": {
       "model_id": "f17a874abf68437baf4ba5c5b3eff100",
       "version_major": 2,
       "version_minor": 0
      },
      "text/plain": [
       "  0%|          | Permuting : 0/4999 [00:00<?,       ?it/s]"
      ]
     },
     "metadata": {},
     "output_type": "display_data"
    },
    {
     "name": "stdout",
     "output_type": "stream",
     "text": [
      "stat_fun(H1): min=-4.528629 max=4.054243\n",
      "Running initial clustering …\n",
      "Found 130 clusters\n"
     ]
    },
    {
     "data": {
      "application/vnd.jupyter.widget-view+json": {
       "model_id": "2a35d33777894dc7ac99e1574131d3f9",
       "version_major": 2,
       "version_minor": 0
      },
      "text/plain": [
       "  0%|          | Permuting : 0/4999 [00:00<?,       ?it/s]"
      ]
     },
     "metadata": {},
     "output_type": "display_data"
    },
    {
     "name": "stdout",
     "output_type": "stream",
     "text": [
      "stat_fun(H1): min=-3.126179 max=4.329608\n",
      "Running initial clustering …\n",
      "Found 171 clusters\n"
     ]
    },
    {
     "data": {
      "application/vnd.jupyter.widget-view+json": {
       "model_id": "c1755ef1f08342c89254180d5543d00a",
       "version_major": 2,
       "version_minor": 0
      },
      "text/plain": [
       "  0%|          | Permuting : 0/4999 [00:00<?,       ?it/s]"
      ]
     },
     "metadata": {},
     "output_type": "display_data"
    },
    {
     "name": "stdout",
     "output_type": "stream",
     "text": [
      "stat_fun(H1): min=-3.906499 max=4.665110\n",
      "Running initial clustering …\n",
      "Found 160 clusters\n"
     ]
    },
    {
     "data": {
      "application/vnd.jupyter.widget-view+json": {
       "model_id": "b44466e7f55a42a2a78ed8cd187c0df8",
       "version_major": 2,
       "version_minor": 0
      },
      "text/plain": [
       "  0%|          | Permuting : 0/4999 [00:00<?,       ?it/s]"
      ]
     },
     "metadata": {},
     "output_type": "display_data"
    },
    {
     "name": "stdout",
     "output_type": "stream",
     "text": [
      "stat_fun(H1): min=-2.795011 max=6.076017\n",
      "Running initial clustering …\n",
      "Found 188 clusters\n"
     ]
    },
    {
     "data": {
      "application/vnd.jupyter.widget-view+json": {
       "model_id": "f1e2fe83a2404deebe8a7a097fe8f37f",
       "version_major": 2,
       "version_minor": 0
      },
      "text/plain": [
       "  0%|          | Permuting : 0/4999 [00:00<?,       ?it/s]"
      ]
     },
     "metadata": {},
     "output_type": "display_data"
    },
    {
     "name": "stdout",
     "output_type": "stream",
     "text": [
      "stat_fun(H1): min=-4.134494 max=5.293748\n",
      "Running initial clustering …\n",
      "Found 138 clusters\n"
     ]
    },
    {
     "data": {
      "application/vnd.jupyter.widget-view+json": {
       "model_id": "56f66cd9310d4179a0b3c70e1f1cc987",
       "version_major": 2,
       "version_minor": 0
      },
      "text/plain": [
       "  0%|          | Permuting : 0/4999 [00:00<?,       ?it/s]"
      ]
     },
     "metadata": {},
     "output_type": "display_data"
    },
    {
     "name": "stdout",
     "output_type": "stream",
     "text": [
      "stat_fun(H1): min=-4.528033 max=6.334881\n",
      "Running initial clustering …\n",
      "Found 158 clusters\n"
     ]
    },
    {
     "data": {
      "application/vnd.jupyter.widget-view+json": {
       "model_id": "a52b45cb4d2b4375aea6fbde6ee1ca16",
       "version_major": 2,
       "version_minor": 0
      },
      "text/plain": [
       "  0%|          | Permuting : 0/4999 [00:00<?,       ?it/s]"
      ]
     },
     "metadata": {},
     "output_type": "display_data"
    },
    {
     "name": "stdout",
     "output_type": "stream",
     "text": [
      "stat_fun(H1): min=-4.742689 max=3.691548\n",
      "Running initial clustering …\n",
      "Found 121 clusters\n"
     ]
    },
    {
     "data": {
      "application/vnd.jupyter.widget-view+json": {
       "model_id": "48afad986f894530a0eca67bb928a38c",
       "version_major": 2,
       "version_minor": 0
      },
      "text/plain": [
       "  0%|          | Permuting : 0/4999 [00:00<?,       ?it/s]"
      ]
     },
     "metadata": {},
     "output_type": "display_data"
    },
    {
     "name": "stdout",
     "output_type": "stream",
     "text": [
      "stat_fun(H1): min=-4.523125 max=4.995244\n",
      "Running initial clustering …\n",
      "Found 179 clusters\n"
     ]
    },
    {
     "data": {
      "application/vnd.jupyter.widget-view+json": {
       "model_id": "300f490717104e05944ffe30abc81326",
       "version_major": 2,
       "version_minor": 0
      },
      "text/plain": [
       "  0%|          | Permuting : 0/4999 [00:00<?,       ?it/s]"
      ]
     },
     "metadata": {},
     "output_type": "display_data"
    }
   ],
   "source": [
    "### Permutting\n",
    "\n",
    "plv_res_perm = {}\n",
    "\n",
    "ref_list = ['ave','csd','rest']\n",
    "freq_list = ['theta','alpha_low','alpha_high','alpha_combined','beta']\n",
    "\n",
    "\n",
    "for ref in ref_list:\n",
    "    for freq in freq_list:\n",
    "        \n",
    "        ### 1. Symmetric conditions\n",
    "        plv_res_perm[f'{ref}_{freq}_coupled_vs_control'] = custom_permutation_test(plv_data,\n",
    "                                                                                   ref,freq,\n",
    "                                                                                   'coupled','control')\n",
    "        plv_res_perm[f'{ref}_{freq}_coupled_vs_individual'] = custom_permutation_test(plv_data,\n",
    "                                                                                      ref,freq,\n",
    "                                                                                      'coupled','individual')\n",
    "        plv_res_perm[f'{ref}_{freq}_control_vs_individual'] = custom_permutation_test(plv_data_symmetric,\n",
    "                                                                                      ref,freq,\n",
    "                                                                                      'control','individual')\n",
    "        \n",
    "        ### 2. Asymmetric conditions\n",
    "        plv_res_perm[f'{ref}_{freq}_ao_vs_lf'] = custom_permutation_test(plv_data,\n",
    "                                                                         ref,freq,\n",
    "                                                                         'actor-observer',\n",
    "                                                                         'leader-follower')\n",
    "        \n",
    "        ### 3. Actor-observer VS the rest\n",
    "        plv_res_perm[f'{ref}_{freq}_ao_vs_control'] = custom_permutation_test(plv_data,\n",
    "                                                                         ref,freq,\n",
    "                                                                         'actor-observer',\n",
    "                                                                         'control')\n",
    "        plv_res_perm[f'{ref}_{freq}_ao_vs_coupled'] = custom_permutation_test(plv_data,\n",
    "                                                                         ref,freq,\n",
    "                                                                         'actor-observer',\n",
    "                                                                         'coupled')\n",
    "        plv_res_perm[f'{ref}_{freq}_ao_vs_individual'] = custom_permutation_test(plv_data,\n",
    "                                                                         ref,freq,\n",
    "                                                                         'actor-observer',\n",
    "                                                                         'individual')\n",
    "        \n",
    "        ### 4. Leader-follower VS the rest\n",
    "        plv_res_perm[f'{ref}_{freq}_lf_vs_control'] = custom_permutation_test(plv_data,\n",
    "                                                                         ref,freq,\n",
    "                                                                         'leader-follower',\n",
    "                                                                         'control')\n",
    "        plv_res_perm[f'{ref}_{freq}_lf_vs_coupled'] = custom_permutation_test(plv_data,\n",
    "                                                                         ref,freq,\n",
    "                                                                         'leader-follower',\n",
    "                                                                         'coupled')\n",
    "        plv_res_perm[f'{ref}_{freq}_lf_vs_individual'] = custom_permutation_test(plv_data,\n",
    "                                                                         ref,freq,\n",
    "                                                                         'leader-follower',\n",
    "                                                                         'individual')"
   ]
  },
  {
   "cell_type": "markdown",
   "id": "028152d3",
   "metadata": {},
   "source": [
    "<b>Although the immediate output above shows that the number of permutations is 0, the saved data is correct.<br>These zeros appear after reloading the script.</b>"
   ]
  },
  {
   "cell_type": "code",
   "execution_count": 52,
   "id": "4230a8bb",
   "metadata": {},
   "outputs": [],
   "source": [
    "### Saving the dictionary\n",
    "\n",
    "#with open('plv_results_permutation.pickle', 'wb') as handle:\n",
    "    #pickle.dump(plv_res_perm, handle, protocol=pickle.HIGHEST_PROTOCOL)"
   ]
  },
  {
   "cell_type": "code",
   "execution_count": 3,
   "id": "c116c777",
   "metadata": {},
   "outputs": [],
   "source": [
    "### Loading it back\n",
    "\n",
    "with open('plv_results_permutation.pickle', 'rb') as a:\n",
    "    plv_res_perm = pickle.load(a)"
   ]
  },
  {
   "cell_type": "code",
   "execution_count": 13,
   "id": "1b430474",
   "metadata": {},
   "outputs": [],
   "source": [
    "### Defining functions for data presentations\n",
    "\n",
    "def freq_fun(string):\n",
    "    ff = ['theta','beta','alpha_combined','alpha_low','alpha_high']\n",
    "    for f in ff:\n",
    "        if f in string:\n",
    "            result = f\n",
    "    return(result)\n",
    "\n",
    "def ref_fun(string):\n",
    "    rr = ['ave','csd','rest']\n",
    "    for r in rr:\n",
    "        if r in string:\n",
    "            result = r\n",
    "    return(result)\n",
    "\n",
    "def cond_fun(string):\n",
    "    new_string = string.split('_vs_')\n",
    "    cc = ['coupled','control','individual','lf','ao']\n",
    "    for c in cc:\n",
    "        if c in new_string[0]:\n",
    "            cond1 = c\n",
    "        if c in new_string[1]:\n",
    "            cond2 = c\n",
    "    return(cond1,cond2)"
   ]
  },
  {
   "cell_type": "code",
   "execution_count": 14,
   "id": "2e4c07c1",
   "metadata": {},
   "outputs": [],
   "source": [
    "### Presenting a clear data frame\n",
    "\n",
    "key_list = []\n",
    "n_list = []\n",
    "index_list = []\n",
    "sign_list = []\n",
    "\n",
    "freq_list = []\n",
    "ref_list = []\n",
    "cond1_list = []\n",
    "cond2_list = []\n",
    "\n",
    "dict_for_plots_plv = {}\n",
    "\n",
    "for key in plv_res_perm.keys():\n",
    "    \n",
    "    clusters = plv_res_perm[key][1]\n",
    "    cluster_p_values = plv_res_perm[key][2]\n",
    "    Stat_obs = plv_res_perm[key][0]\n",
    "    \n",
    "    n_significant_clusters = len([i for i in cluster_p_values if i<0.05])\n",
    "    if n_significant_clusters > 0:\n",
    "        freq_list.append(freq_fun(key))\n",
    "        ref_list.append(ref_fun(key))\n",
    "        cond1_list.append(cond_fun(key)[0])\n",
    "        cond2_list.append(cond_fun(key)[1])\n",
    "        \n",
    "        cluster_indices = [list(cluster_p_values).index(i) for i in cluster_p_values if i<0.05]\n",
    "        key_list.append(key)\n",
    "        n_list.append(n_significant_clusters)\n",
    "        index_list.append(cluster_indices)\n",
    "        \n",
    "        sign_sublist = []\n",
    "        for cluster_p in cluster_p_values:\n",
    "            if cluster_p <= 0.05:\n",
    "                sensors_plot = clusters[np.where(cluster_p_values == cluster_p)[0][0]].astype('uint8')\n",
    "                Stat_values = sensors_plot*Stat_obs\n",
    "                dict_for_plots_plv[key] = Stat_values\n",
    "                \n",
    "                cluster_values = []\n",
    "                for e_out in range(0,64):\n",
    "                    for e_in in range(0,64):\n",
    "                        if Stat_values[e_out][e_in] != 0:\n",
    "                            cluster_values.append(Stat_values[e_out][e_in])\n",
    "            \n",
    "                if sum(np.sign(cluster_values)) != len(np.sign(cluster_values)):\n",
    "                    sign_sublist.append('negative')\n",
    "                else:\n",
    "                    sign_sublist.append('positive')\n",
    "        sign_list.append(sign_sublist)\n",
    "                \n",
    "cluster_data_plv = pd.DataFrame({\n",
    "    'Key':key_list,\n",
    "    'Condition_1': cond1_list,\n",
    "    'Condition_2': cond2_list,\n",
    "    'Frequency': freq_list,\n",
    "    'Reference': ref_list,\n",
    "    'N_signif._clusters': n_list,\n",
    "    'Signs': sign_list,\n",
    "    'Indices': index_list\n",
    "})"
   ]
  },
  {
   "cell_type": "code",
   "execution_count": 16,
   "id": "b47fd0f9",
   "metadata": {},
   "outputs": [
    {
     "data": {
      "text/html": [
       "<div>\n",
       "<style scoped>\n",
       "    .dataframe tbody tr th:only-of-type {\n",
       "        vertical-align: middle;\n",
       "    }\n",
       "\n",
       "    .dataframe tbody tr th {\n",
       "        vertical-align: top;\n",
       "    }\n",
       "\n",
       "    .dataframe thead th {\n",
       "        text-align: right;\n",
       "    }\n",
       "</style>\n",
       "<table border=\"1\" class=\"dataframe\">\n",
       "  <thead>\n",
       "    <tr style=\"text-align: right;\">\n",
       "      <th></th>\n",
       "      <th>Key</th>\n",
       "      <th>Condition_1</th>\n",
       "      <th>Condition_2</th>\n",
       "      <th>Frequency</th>\n",
       "      <th>Reference</th>\n",
       "      <th>N_signif._clusters</th>\n",
       "      <th>Signs</th>\n",
       "      <th>Indices</th>\n",
       "    </tr>\n",
       "  </thead>\n",
       "  <tbody>\n",
       "    <tr>\n",
       "      <th>0</th>\n",
       "      <td>ave_theta_lf_vs_control</td>\n",
       "      <td>lf</td>\n",
       "      <td>control</td>\n",
       "      <td>theta</td>\n",
       "      <td>ave</td>\n",
       "      <td>1</td>\n",
       "      <td>[positive]</td>\n",
       "      <td>[62]</td>\n",
       "    </tr>\n",
       "    <tr>\n",
       "      <th>4</th>\n",
       "      <td>ave_alpha_combined_ao_vs_lf</td>\n",
       "      <td>ao</td>\n",
       "      <td>lf</td>\n",
       "      <td>alpha</td>\n",
       "      <td>ave</td>\n",
       "      <td>4</td>\n",
       "      <td>[positive, positive, positive, positive]</td>\n",
       "      <td>[1, 47, 80, 131]</td>\n",
       "    </tr>\n",
       "    <tr>\n",
       "      <th>5</th>\n",
       "      <td>ave_alpha_combined_lf_vs_coupled</td>\n",
       "      <td>lf</td>\n",
       "      <td>coupled</td>\n",
       "      <td>alpha</td>\n",
       "      <td>ave</td>\n",
       "      <td>2</td>\n",
       "      <td>[negative, negative]</td>\n",
       "      <td>[61, 101]</td>\n",
       "    </tr>\n",
       "    <tr>\n",
       "      <th>6</th>\n",
       "      <td>ave_alpha_combined_lf_vs_individual</td>\n",
       "      <td>lf</td>\n",
       "      <td>individual</td>\n",
       "      <td>alpha</td>\n",
       "      <td>ave</td>\n",
       "      <td>2</td>\n",
       "      <td>[negative, negative]</td>\n",
       "      <td>[72, 124]</td>\n",
       "    </tr>\n",
       "    <tr>\n",
       "      <th>7</th>\n",
       "      <td>csd_alpha_combined_ao_vs_control</td>\n",
       "      <td>ao</td>\n",
       "      <td>control</td>\n",
       "      <td>alpha</td>\n",
       "      <td>csd</td>\n",
       "      <td>1</td>\n",
       "      <td>[positive]</td>\n",
       "      <td>[159]</td>\n",
       "    </tr>\n",
       "    <tr>\n",
       "      <th>9</th>\n",
       "      <td>csd_beta_lf_vs_control</td>\n",
       "      <td>lf</td>\n",
       "      <td>control</td>\n",
       "      <td>beta</td>\n",
       "      <td>csd</td>\n",
       "      <td>1</td>\n",
       "      <td>[negative]</td>\n",
       "      <td>[113]</td>\n",
       "    </tr>\n",
       "    <tr>\n",
       "      <th>10</th>\n",
       "      <td>csd_beta_coupled_vs_control</td>\n",
       "      <td>coupled</td>\n",
       "      <td>control</td>\n",
       "      <td>beta</td>\n",
       "      <td>csd</td>\n",
       "      <td>2</td>\n",
       "      <td>[negative, negative]</td>\n",
       "      <td>[119, 120]</td>\n",
       "    </tr>\n",
       "    <tr>\n",
       "      <th>12</th>\n",
       "      <td>rest_alpha_combined_ao_vs_lf</td>\n",
       "      <td>ao</td>\n",
       "      <td>lf</td>\n",
       "      <td>alpha</td>\n",
       "      <td>rest</td>\n",
       "      <td>2</td>\n",
       "      <td>[positive, positive]</td>\n",
       "      <td>[1, 153]</td>\n",
       "    </tr>\n",
       "    <tr>\n",
       "      <th>13</th>\n",
       "      <td>rest_theta_lf_vs_control</td>\n",
       "      <td>lf</td>\n",
       "      <td>control</td>\n",
       "      <td>theta</td>\n",
       "      <td>rest</td>\n",
       "      <td>1</td>\n",
       "      <td>[positive]</td>\n",
       "      <td>[61]</td>\n",
       "    </tr>\n",
       "    <tr>\n",
       "      <th>14</th>\n",
       "      <td>rest_theta_lf_vs_individual</td>\n",
       "      <td>lf</td>\n",
       "      <td>individual</td>\n",
       "      <td>theta</td>\n",
       "      <td>rest</td>\n",
       "      <td>2</td>\n",
       "      <td>[positive, positive]</td>\n",
       "      <td>[41, 144]</td>\n",
       "    </tr>\n",
       "    <tr>\n",
       "      <th>19</th>\n",
       "      <td>rest_alpha_combined_lf_vs_coupled</td>\n",
       "      <td>lf</td>\n",
       "      <td>coupled</td>\n",
       "      <td>alpha</td>\n",
       "      <td>rest</td>\n",
       "      <td>1</td>\n",
       "      <td>[negative]</td>\n",
       "      <td>[84]</td>\n",
       "    </tr>\n",
       "  </tbody>\n",
       "</table>\n",
       "</div>"
      ],
      "text/plain": [
       "                                    Key Condition_1 Condition_2 Frequency  \\\n",
       "0               ave_theta_lf_vs_control          lf     control     theta   \n",
       "4           ave_alpha_combined_ao_vs_lf          ao          lf     alpha   \n",
       "5      ave_alpha_combined_lf_vs_coupled          lf     coupled     alpha   \n",
       "6   ave_alpha_combined_lf_vs_individual          lf  individual     alpha   \n",
       "7      csd_alpha_combined_ao_vs_control          ao     control     alpha   \n",
       "9                csd_beta_lf_vs_control          lf     control      beta   \n",
       "10          csd_beta_coupled_vs_control     coupled     control      beta   \n",
       "12         rest_alpha_combined_ao_vs_lf          ao          lf     alpha   \n",
       "13             rest_theta_lf_vs_control          lf     control     theta   \n",
       "14          rest_theta_lf_vs_individual          lf  individual     theta   \n",
       "19    rest_alpha_combined_lf_vs_coupled          lf     coupled     alpha   \n",
       "\n",
       "   Reference  N_signif._clusters                                     Signs  \\\n",
       "0        ave                   1                                [positive]   \n",
       "4        ave                   4  [positive, positive, positive, positive]   \n",
       "5        ave                   2                      [negative, negative]   \n",
       "6        ave                   2                      [negative, negative]   \n",
       "7        csd                   1                                [positive]   \n",
       "9        csd                   1                                [negative]   \n",
       "10       csd                   2                      [negative, negative]   \n",
       "12      rest                   2                      [positive, positive]   \n",
       "13      rest                   1                                [positive]   \n",
       "14      rest                   2                      [positive, positive]   \n",
       "19      rest                   1                                [negative]   \n",
       "\n",
       "             Indices  \n",
       "0               [62]  \n",
       "4   [1, 47, 80, 131]  \n",
       "5          [61, 101]  \n",
       "6          [72, 124]  \n",
       "7              [159]  \n",
       "9              [113]  \n",
       "10        [119, 120]  \n",
       "12          [1, 153]  \n",
       "13              [61]  \n",
       "14         [41, 144]  \n",
       "19              [84]  "
      ]
     },
     "execution_count": 16,
     "metadata": {},
     "output_type": "execute_result"
    }
   ],
   "source": [
    "cluster_data_plv = cluster_data_plv.sort_values('Reference', \n",
    "                                        ascending=True, ignore_index = True)\n",
    "cluster_data_plv.loc[cluster_data_plv['Frequency'].isin(['theta','beta','alpha_combined'])].replace('alpha_combined','alpha')\n",
    "\n"
   ]
  },
  {
   "cell_type": "code",
   "execution_count": 250,
   "id": "98eac794",
   "metadata": {},
   "outputs": [
    {
     "name": "stdout",
     "output_type": "stream",
     "text": [
      "CSD – Coupled vs Control (Beta)\n"
     ]
    },
    {
     "data": {
      "image/png": "[encoded data removed]",
      "text/plain": [
       "<Figure size 432x288 with 1 Axes>"
      ]
     },
     "metadata": {},
     "output_type": "display_data"
    },
    {
     "name": "stdout",
     "output_type": "stream",
     "text": [
      "CSD – Coupled vs Individual (Alpha High)\n"
     ]
    },
    {
     "data": {
      "image/png": "[encoded data removed]",
      "text/plain": [
       "<Figure size 432x288 with 1 Axes>"
      ]
     },
     "metadata": {},
     "output_type": "display_data"
    },
    {
     "name": "stdout",
     "output_type": "stream",
     "text": [
      "CSD – Actor-Observer vs Control (Alpha Combined)\n"
     ]
    },
    {
     "data": {
      "image/png": "[encoded data removed]",
      "text/plain": [
       "<Figure size 432x288 with 1 Axes>"
      ]
     },
     "metadata": {},
     "output_type": "display_data"
    },
    {
     "name": "stdout",
     "output_type": "stream",
     "text": [
      "CSD – Leader-Follower vs Control (Beta)\n"
     ]
    },
    {
     "data": {
      "image/png": "[encoded data removed]",
      "text/plain": [
       "<Figure size 432x288 with 1 Axes>"
      ]
     },
     "metadata": {},
     "output_type": "display_data"
    }
   ],
   "source": [
    "### Visualizing for CSD\n",
    "\n",
    "pair_n = '003'\n",
    "folder = f\"/Users/aliaksandrdabranau/Data/Mirror_game/pair{pair_n}\"\n",
    "\n",
    "condition = 'coupled'\n",
    "\n",
    "epochs_a = mne.read_epochs(pathlib.Path(folder+f'/{pair_n}a_csd_epo.fif'), verbose=False)\n",
    "epochs_b = mne.read_epochs(pathlib.Path(folder+f'/{pair_n}b_csd_epo.fif'), verbose=False)\n",
    "\n",
    "\n",
    "print('CSD – Coupled vs Control (Beta)')\n",
    "viz.viz_2D_topomap_inter(epochs_a.pick(picks='data'), epochs_b.pick(picks='data'), \n",
    "                         dict_for_plots['csd_beta_coupled_vs_control'], \n",
    "                         threshold=1, steps=100, lab=False)\n",
    "\n",
    "print('CSD – Coupled vs Individual (Alpha High)')\n",
    "viz.viz_2D_topomap_inter(epochs_a.pick(picks='data'), epochs_b.pick(picks='data'), \n",
    "                         dict_for_plots['csd_alpha_high_coupled_vs_individual'], \n",
    "                         threshold=1, steps=100, lab=False)\n",
    "\n",
    "print('CSD – Actor-Observer vs Control (Alpha Combined)')\n",
    "viz.viz_2D_topomap_inter(epochs_a.pick(picks='data'), epochs_b.pick(picks='data'), \n",
    "                         dict_for_plots['csd_alpha_combined_ao_vs_control'], \n",
    "                         threshold=1, steps=100, lab=False)\n",
    "\n",
    "print('CSD – Leader-Follower vs Control (Beta)')\n",
    "viz.viz_2D_topomap_inter(epochs_a.pick(picks='data'), epochs_b.pick(picks='data'), \n",
    "                         dict_for_plots['csd_beta_lf_vs_control'], \n",
    "                         threshold=1, steps=100, lab=False)\n",
    "\n",
    "plt.show()"
   ]
  },
  {
   "cell_type": "markdown",
   "id": "1898d14f",
   "metadata": {},
   "source": [
    "### 4.2. Circular Correlation Coefficient"
   ]
  },
  {
   "cell_type": "code",
   "execution_count": 82,
   "id": "415bb456",
   "metadata": {},
   "outputs": [],
   "source": [
    "### Defining the functions\n",
    "\n",
    "import numpy as np\n",
    "from scipy.stats import norm\n",
    "\n",
    "def circ_mean(alpha):\n",
    "    return np.angle(np.sum(np.exp(1j * alpha)))\n",
    "\n",
    "def circ_corrcc_uniform(alpha1, alpha2):\n",
    "    x_sin = np.sin(alpha1 - circ_mean(alpha1))\n",
    "    y_sin = np.sin(alpha2 - circ_mean(alpha2))\n",
    "    r_minus = np.abs(np.sum(np.exp((alpha1-alpha2) * 1j)))\n",
    "    r_plus  = np.abs(np.sum(np.exp((alpha1+alpha2) * 1j)))\n",
    "    num = (r_minus - r_plus)\n",
    "    den = 2*np.sqrt(np.sum(x_sin**2) * np.sum(y_sin**2))\n",
    "    rho = num / den\n",
    "    return(rho)\n",
    "\n",
    "def ccorr_connectivity(complex_signal):\n",
    "    n_epoch, n_ch, n_freq, n_samp = complex_signal.shape[1], complex_signal.shape[2], \\\n",
    "                                    complex_signal.shape[3], complex_signal.shape[4]\n",
    "\n",
    "    complex_signal_new = complex_signal.transpose((1, 3, 0, 2, 4)).reshape(n_epoch, n_freq, 2 * n_ch, n_samp)\n",
    "    phase = np.angle(complex_signal_new)\n",
    "    \n",
    "    starting_matrix = np.zeros((n_epoch,n_freq,128,128))\n",
    "\n",
    "    for epoch in range(n_epoch):\n",
    "        for frequency in range(n_freq):\n",
    "            for channel_1 in range(0,64):\n",
    "                for channel_2 in range(64,128):\n",
    "                    starting_matrix[epoch][frequency][channel_1][channel_2] = circ_corrcc_uniform(\n",
    "                        phase[epoch][frequency][channel_1],\n",
    "                        phase[epoch][frequency][channel_2])\n",
    "                \n",
    "    ### averaging across epochs\n",
    "    starting_matrix_swapped = starting_matrix.swapaxes(0, 1)\n",
    "    matrix = np.nanmean(starting_matrix_swapped, axis=1)[:,0:64,64:128]\n",
    "    return(matrix)"
   ]
  },
  {
   "cell_type": "code",
   "execution_count": 83,
   "id": "a42a4821",
   "metadata": {},
   "outputs": [],
   "source": [
    "### Open the dictionaries with bad epochs\n",
    "\n",
    "with open('dict_with_short_bad_epochs_symmetrical.pickle', 'rb') as f:\n",
    "    bad_short_epochs = pickle.load(f)\n",
    "    \n",
    "with open('dict_with_short_bad_epochs_asymm.pickle', 'rb') as k:\n",
    "    bad_short_epochs_asymm = pickle.load(k)"
   ]
  },
  {
   "cell_type": "code",
   "execution_count": 84,
   "id": "e4d79963",
   "metadata": {},
   "outputs": [
    {
     "name": "stdout",
     "output_type": "stream",
     "text": [
      "\n",
      "003 rest individual.\n",
      "The shape of the matrix with all epochs: (2, 128, 64, 3, 768).\n",
      "The shape of the matrix without bad epochs: (2, 125, 64, 3, 768).\n",
      "\n",
      "003 rest coupled.\n",
      "The shape of the matrix with all epochs: (2, 128, 64, 3, 768).\n",
      "The shape of the matrix without bad epochs: (2, 127, 64, 3, 768).\n",
      "\n",
      "003 rest control.\n",
      "The shape of the matrix with all epochs: (2, 128, 64, 3, 768).\n",
      "The shape of the matrix without bad epochs: (2, 116, 64, 3, 768).\n",
      "\n",
      "003 ave individual.\n",
      "The shape of the matrix with all epochs: (2, 128, 64, 3, 768).\n",
      "The shape of the matrix without bad epochs: (2, 125, 64, 3, 768).\n",
      "\n",
      "003 ave coupled.\n",
      "The shape of the matrix with all epochs: (2, 128, 64, 3, 768).\n",
      "The shape of the matrix without bad epochs: (2, 127, 64, 3, 768).\n",
      "\n",
      "003 ave control.\n",
      "The shape of the matrix with all epochs: (2, 128, 64, 3, 768).\n",
      "The shape of the matrix without bad epochs: (2, 116, 64, 3, 768).\n",
      "\n",
      "004 rest individual.\n",
      "The shape of the matrix with all epochs: (2, 128, 64, 3, 768).\n",
      "The shape of the matrix without bad epochs: (2, 123, 64, 3, 768).\n",
      "\n",
      "004 rest coupled.\n",
      "The shape of the matrix with all epochs: (2, 128, 64, 3, 768).\n",
      "The shape of the matrix without bad epochs: (2, 128, 64, 3, 768).\n",
      "\n",
      "004 rest control.\n",
      "The shape of the matrix with all epochs: (2, 128, 64, 3, 768).\n",
      "The shape of the matrix without bad epochs: (2, 124, 64, 3, 768).\n",
      "\n",
      "004 ave individual.\n",
      "The shape of the matrix with all epochs: (2, 128, 64, 3, 768).\n",
      "The shape of the matrix without bad epochs: (2, 123, 64, 3, 768).\n",
      "\n",
      "004 ave coupled.\n",
      "The shape of the matrix with all epochs: (2, 128, 64, 3, 768).\n",
      "The shape of the matrix without bad epochs: (2, 128, 64, 3, 768).\n",
      "\n",
      "004 ave control.\n",
      "The shape of the matrix with all epochs: (2, 128, 64, 3, 768).\n",
      "The shape of the matrix without bad epochs: (2, 124, 64, 3, 768).\n",
      "\n",
      "005 rest individual.\n",
      "The shape of the matrix with all epochs: (2, 128, 64, 3, 768).\n",
      "The shape of the matrix without bad epochs: (2, 127, 64, 3, 768).\n",
      "\n",
      "005 rest coupled.\n",
      "The shape of the matrix with all epochs: (2, 128, 64, 3, 768).\n",
      "The shape of the matrix without bad epochs: (2, 128, 64, 3, 768).\n",
      "\n",
      "005 rest control.\n",
      "The shape of the matrix with all epochs: (2, 128, 64, 3, 768).\n",
      "The shape of the matrix without bad epochs: (2, 121, 64, 3, 768).\n",
      "\n",
      "005 ave individual.\n",
      "The shape of the matrix with all epochs: (2, 128, 64, 3, 768).\n",
      "The shape of the matrix without bad epochs: (2, 127, 64, 3, 768).\n",
      "\n",
      "005 ave coupled.\n",
      "The shape of the matrix with all epochs: (2, 128, 64, 3, 768).\n",
      "The shape of the matrix without bad epochs: (2, 128, 64, 3, 768).\n",
      "\n",
      "005 ave control.\n",
      "The shape of the matrix with all epochs: (2, 128, 64, 3, 768).\n",
      "The shape of the matrix without bad epochs: (2, 121, 64, 3, 768).\n",
      "\n",
      "007 rest individual.\n",
      "The shape of the matrix with all epochs: (2, 128, 64, 3, 768).\n",
      "The shape of the matrix without bad epochs: (2, 121, 64, 3, 768).\n",
      "\n",
      "007 rest coupled.\n",
      "The shape of the matrix with all epochs: (2, 128, 64, 3, 768).\n",
      "The shape of the matrix without bad epochs: (2, 122, 64, 3, 768).\n",
      "\n",
      "007 rest control.\n",
      "The shape of the matrix with all epochs: (2, 128, 64, 3, 768).\n",
      "The shape of the matrix without bad epochs: (2, 117, 64, 3, 768).\n",
      "\n",
      "007 ave individual.\n",
      "The shape of the matrix with all epochs: (2, 128, 64, 3, 768).\n",
      "The shape of the matrix without bad epochs: (2, 121, 64, 3, 768).\n",
      "\n",
      "007 ave coupled.\n",
      "The shape of the matrix with all epochs: (2, 128, 64, 3, 768).\n",
      "The shape of the matrix without bad epochs: (2, 122, 64, 3, 768).\n",
      "\n",
      "007 ave control.\n",
      "The shape of the matrix with all epochs: (2, 128, 64, 3, 768).\n",
      "The shape of the matrix without bad epochs: (2, 117, 64, 3, 768).\n",
      "\n",
      "008 rest individual.\n",
      "The shape of the matrix with all epochs: (2, 128, 64, 3, 768).\n",
      "The shape of the matrix without bad epochs: (2, 115, 64, 3, 768).\n",
      "\n",
      "008 rest coupled.\n",
      "The shape of the matrix with all epochs: (2, 128, 64, 3, 768).\n",
      "The shape of the matrix without bad epochs: (2, 116, 64, 3, 768).\n",
      "\n",
      "008 rest control.\n",
      "The shape of the matrix with all epochs: (2, 128, 64, 3, 768).\n",
      "The shape of the matrix without bad epochs: (2, 120, 64, 3, 768).\n",
      "\n",
      "008 ave individual.\n",
      "The shape of the matrix with all epochs: (2, 128, 64, 3, 768).\n",
      "The shape of the matrix without bad epochs: (2, 115, 64, 3, 768).\n",
      "\n",
      "008 ave coupled.\n",
      "The shape of the matrix with all epochs: (2, 128, 64, 3, 768).\n",
      "The shape of the matrix without bad epochs: (2, 116, 64, 3, 768).\n",
      "\n",
      "008 ave control.\n",
      "The shape of the matrix with all epochs: (2, 128, 64, 3, 768).\n",
      "The shape of the matrix without bad epochs: (2, 120, 64, 3, 768).\n",
      "\n",
      "009 rest individual.\n",
      "The shape of the matrix with all epochs: (2, 128, 64, 3, 768).\n",
      "The shape of the matrix without bad epochs: (2, 126, 64, 3, 768).\n",
      "\n",
      "009 rest coupled.\n",
      "The shape of the matrix with all epochs: (2, 128, 64, 3, 768).\n",
      "The shape of the matrix without bad epochs: (2, 127, 64, 3, 768).\n",
      "\n",
      "009 rest control.\n",
      "The shape of the matrix with all epochs: (2, 128, 64, 3, 768).\n",
      "The shape of the matrix without bad epochs: (2, 121, 64, 3, 768).\n",
      "\n",
      "009 ave individual.\n",
      "The shape of the matrix with all epochs: (2, 128, 64, 3, 768).\n",
      "The shape of the matrix without bad epochs: (2, 126, 64, 3, 768).\n",
      "\n",
      "009 ave coupled.\n",
      "The shape of the matrix with all epochs: (2, 128, 64, 3, 768).\n",
      "The shape of the matrix without bad epochs: (2, 127, 64, 3, 768).\n",
      "\n",
      "009 ave control.\n",
      "The shape of the matrix with all epochs: (2, 128, 64, 3, 768).\n",
      "The shape of the matrix without bad epochs: (2, 121, 64, 3, 768).\n",
      "\n",
      "010 rest individual.\n",
      "The shape of the matrix with all epochs: (2, 128, 64, 3, 768).\n",
      "The shape of the matrix without bad epochs: (2, 123, 64, 3, 768).\n",
      "\n",
      "010 rest coupled.\n",
      "The shape of the matrix with all epochs: (2, 128, 64, 3, 768).\n",
      "The shape of the matrix without bad epochs: (2, 127, 64, 3, 768).\n",
      "\n",
      "010 rest control.\n",
      "The shape of the matrix with all epochs: (2, 128, 64, 3, 768).\n",
      "The shape of the matrix without bad epochs: (2, 126, 64, 3, 768).\n",
      "\n",
      "010 ave individual.\n",
      "The shape of the matrix with all epochs: (2, 128, 64, 3, 768).\n",
      "The shape of the matrix without bad epochs: (2, 123, 64, 3, 768).\n",
      "\n",
      "010 ave coupled.\n",
      "The shape of the matrix with all epochs: (2, 128, 64, 3, 768).\n",
      "The shape of the matrix without bad epochs: (2, 127, 64, 3, 768).\n",
      "\n",
      "010 ave control.\n",
      "The shape of the matrix with all epochs: (2, 128, 64, 3, 768).\n",
      "The shape of the matrix without bad epochs: (2, 126, 64, 3, 768).\n",
      "\n",
      "011 rest individual.\n",
      "The shape of the matrix with all epochs: (2, 128, 64, 3, 768).\n",
      "The shape of the matrix without bad epochs: (2, 127, 64, 3, 768).\n",
      "\n",
      "011 rest coupled.\n",
      "The shape of the matrix with all epochs: (2, 128, 64, 3, 768).\n",
      "The shape of the matrix without bad epochs: (2, 128, 64, 3, 768).\n",
      "\n",
      "011 rest control.\n",
      "The shape of the matrix with all epochs: (2, 128, 64, 3, 768).\n",
      "The shape of the matrix without bad epochs: (2, 127, 64, 3, 768).\n",
      "\n",
      "011 ave individual.\n",
      "The shape of the matrix with all epochs: (2, 128, 64, 3, 768).\n",
      "The shape of the matrix without bad epochs: (2, 127, 64, 3, 768).\n",
      "\n",
      "011 ave coupled.\n",
      "The shape of the matrix with all epochs: (2, 128, 64, 3, 768).\n",
      "The shape of the matrix without bad epochs: (2, 128, 64, 3, 768).\n",
      "\n",
      "011 ave control.\n",
      "The shape of the matrix with all epochs: (2, 128, 64, 3, 768).\n",
      "The shape of the matrix without bad epochs: (2, 127, 64, 3, 768).\n",
      "\n",
      "012 rest individual.\n",
      "The shape of the matrix with all epochs: (2, 128, 64, 3, 768).\n",
      "The shape of the matrix without bad epochs: (2, 124, 64, 3, 768).\n",
      "\n",
      "012 rest coupled.\n",
      "The shape of the matrix with all epochs: (2, 128, 64, 3, 768).\n",
      "The shape of the matrix without bad epochs: (2, 125, 64, 3, 768).\n",
      "\n",
      "012 rest control.\n",
      "The shape of the matrix with all epochs: (2, 128, 64, 3, 768).\n",
      "The shape of the matrix without bad epochs: (2, 121, 64, 3, 768).\n",
      "\n",
      "012 ave individual.\n",
      "The shape of the matrix with all epochs: (2, 128, 64, 3, 768).\n",
      "The shape of the matrix without bad epochs: (2, 124, 64, 3, 768).\n",
      "\n",
      "012 ave coupled.\n",
      "The shape of the matrix with all epochs: (2, 128, 64, 3, 768).\n",
      "The shape of the matrix without bad epochs: (2, 125, 64, 3, 768).\n",
      "\n",
      "012 ave control.\n",
      "The shape of the matrix with all epochs: (2, 128, 64, 3, 768).\n",
      "The shape of the matrix without bad epochs: (2, 121, 64, 3, 768).\n",
      "\n",
      "013 rest individual.\n",
      "The shape of the matrix with all epochs: (2, 128, 64, 3, 768).\n",
      "The shape of the matrix without bad epochs: (2, 124, 64, 3, 768).\n",
      "\n",
      "013 rest coupled.\n",
      "The shape of the matrix with all epochs: (2, 128, 64, 3, 768).\n",
      "The shape of the matrix without bad epochs: (2, 124, 64, 3, 768).\n"
     ]
    },
    {
     "name": "stdout",
     "output_type": "stream",
     "text": [
      "\n",
      "013 rest control.\n",
      "The shape of the matrix with all epochs: (2, 128, 64, 3, 768).\n",
      "The shape of the matrix without bad epochs: (2, 125, 64, 3, 768).\n",
      "\n",
      "013 ave individual.\n",
      "The shape of the matrix with all epochs: (2, 128, 64, 3, 768).\n",
      "The shape of the matrix without bad epochs: (2, 124, 64, 3, 768).\n",
      "\n",
      "013 ave coupled.\n",
      "The shape of the matrix with all epochs: (2, 128, 64, 3, 768).\n",
      "The shape of the matrix without bad epochs: (2, 124, 64, 3, 768).\n",
      "\n",
      "013 ave control.\n",
      "The shape of the matrix with all epochs: (2, 128, 64, 3, 768).\n",
      "The shape of the matrix without bad epochs: (2, 125, 64, 3, 768).\n",
      "\n",
      "014 rest individual.\n",
      "The shape of the matrix with all epochs: (2, 128, 64, 3, 768).\n",
      "The shape of the matrix without bad epochs: (2, 127, 64, 3, 768).\n",
      "\n",
      "014 rest coupled.\n",
      "The shape of the matrix with all epochs: (2, 128, 64, 3, 768).\n",
      "The shape of the matrix without bad epochs: (2, 127, 64, 3, 768).\n",
      "\n",
      "014 rest control.\n",
      "The shape of the matrix with all epochs: (2, 128, 64, 3, 768).\n",
      "The shape of the matrix without bad epochs: (2, 122, 64, 3, 768).\n",
      "\n",
      "014 ave individual.\n",
      "The shape of the matrix with all epochs: (2, 128, 64, 3, 768).\n",
      "The shape of the matrix without bad epochs: (2, 127, 64, 3, 768).\n",
      "\n",
      "014 ave coupled.\n",
      "The shape of the matrix with all epochs: (2, 128, 64, 3, 768).\n",
      "The shape of the matrix without bad epochs: (2, 127, 64, 3, 768).\n",
      "\n",
      "014 ave control.\n",
      "The shape of the matrix with all epochs: (2, 128, 64, 3, 768).\n",
      "The shape of the matrix without bad epochs: (2, 122, 64, 3, 768).\n",
      "\n",
      "016 rest individual.\n",
      "The shape of the matrix with all epochs: (2, 128, 64, 3, 768).\n",
      "The shape of the matrix without bad epochs: (2, 127, 64, 3, 768).\n",
      "\n",
      "016 rest coupled.\n",
      "The shape of the matrix with all epochs: (2, 128, 64, 3, 768).\n",
      "The shape of the matrix without bad epochs: (2, 127, 64, 3, 768).\n",
      "\n",
      "016 rest control.\n",
      "The shape of the matrix with all epochs: (2, 128, 64, 3, 768).\n",
      "The shape of the matrix without bad epochs: (2, 126, 64, 3, 768).\n",
      "\n",
      "016 ave individual.\n",
      "The shape of the matrix with all epochs: (2, 128, 64, 3, 768).\n",
      "The shape of the matrix without bad epochs: (2, 127, 64, 3, 768).\n",
      "\n",
      "016 ave coupled.\n",
      "The shape of the matrix with all epochs: (2, 128, 64, 3, 768).\n",
      "The shape of the matrix without bad epochs: (2, 127, 64, 3, 768).\n",
      "\n",
      "016 ave control.\n",
      "The shape of the matrix with all epochs: (2, 128, 64, 3, 768).\n",
      "The shape of the matrix without bad epochs: (2, 126, 64, 3, 768).\n",
      "\n",
      "017 rest individual.\n",
      "The shape of the matrix with all epochs: (2, 128, 64, 3, 768).\n",
      "The shape of the matrix without bad epochs: (2, 122, 64, 3, 768).\n",
      "\n",
      "017 rest coupled.\n",
      "The shape of the matrix with all epochs: (2, 128, 64, 3, 768).\n",
      "The shape of the matrix without bad epochs: (2, 128, 64, 3, 768).\n",
      "\n",
      "017 rest control.\n",
      "The shape of the matrix with all epochs: (2, 128, 64, 3, 768).\n",
      "The shape of the matrix without bad epochs: (2, 127, 64, 3, 768).\n",
      "\n",
      "017 ave individual.\n",
      "The shape of the matrix with all epochs: (2, 128, 64, 3, 768).\n",
      "The shape of the matrix without bad epochs: (2, 122, 64, 3, 768).\n",
      "\n",
      "017 ave coupled.\n",
      "The shape of the matrix with all epochs: (2, 128, 64, 3, 768).\n",
      "The shape of the matrix without bad epochs: (2, 128, 64, 3, 768).\n",
      "\n",
      "017 ave control.\n",
      "The shape of the matrix with all epochs: (2, 128, 64, 3, 768).\n",
      "The shape of the matrix without bad epochs: (2, 127, 64, 3, 768).\n",
      "\n",
      "018 rest individual.\n",
      "The shape of the matrix with all epochs: (2, 128, 64, 3, 768).\n",
      "The shape of the matrix without bad epochs: (2, 122, 64, 3, 768).\n",
      "\n",
      "018 rest coupled.\n",
      "The shape of the matrix with all epochs: (2, 128, 64, 3, 768).\n",
      "The shape of the matrix without bad epochs: (2, 120, 64, 3, 768).\n",
      "\n",
      "018 rest control.\n",
      "The shape of the matrix with all epochs: (2, 128, 64, 3, 768).\n",
      "The shape of the matrix without bad epochs: (2, 128, 64, 3, 768).\n",
      "\n",
      "018 ave individual.\n",
      "The shape of the matrix with all epochs: (2, 128, 64, 3, 768).\n",
      "The shape of the matrix without bad epochs: (2, 122, 64, 3, 768).\n",
      "\n",
      "018 ave coupled.\n",
      "The shape of the matrix with all epochs: (2, 128, 64, 3, 768).\n",
      "The shape of the matrix without bad epochs: (2, 120, 64, 3, 768).\n",
      "\n",
      "018 ave control.\n",
      "The shape of the matrix with all epochs: (2, 128, 64, 3, 768).\n",
      "The shape of the matrix without bad epochs: (2, 128, 64, 3, 768).\n",
      "\n",
      "019 rest individual.\n",
      "The shape of the matrix with all epochs: (2, 128, 64, 3, 768).\n",
      "The shape of the matrix without bad epochs: (2, 122, 64, 3, 768).\n",
      "\n",
      "019 rest coupled.\n",
      "The shape of the matrix with all epochs: (2, 128, 64, 3, 768).\n",
      "The shape of the matrix without bad epochs: (2, 126, 64, 3, 768).\n",
      "\n",
      "019 rest control.\n",
      "The shape of the matrix with all epochs: (2, 128, 64, 3, 768).\n",
      "The shape of the matrix without bad epochs: (2, 126, 64, 3, 768).\n",
      "\n",
      "019 ave individual.\n",
      "The shape of the matrix with all epochs: (2, 128, 64, 3, 768).\n",
      "The shape of the matrix without bad epochs: (2, 122, 64, 3, 768).\n",
      "\n",
      "019 ave coupled.\n",
      "The shape of the matrix with all epochs: (2, 128, 64, 3, 768).\n",
      "The shape of the matrix without bad epochs: (2, 126, 64, 3, 768).\n",
      "\n",
      "019 ave control.\n",
      "The shape of the matrix with all epochs: (2, 128, 64, 3, 768).\n",
      "The shape of the matrix without bad epochs: (2, 126, 64, 3, 768).\n",
      "\n",
      "020 rest individual.\n",
      "The shape of the matrix with all epochs: (2, 128, 64, 3, 768).\n",
      "The shape of the matrix without bad epochs: (2, 124, 64, 3, 768).\n",
      "\n",
      "020 rest coupled.\n",
      "The shape of the matrix with all epochs: (2, 128, 64, 3, 768).\n",
      "The shape of the matrix without bad epochs: (2, 127, 64, 3, 768).\n",
      "\n",
      "020 rest control.\n",
      "The shape of the matrix with all epochs: (2, 128, 64, 3, 768).\n",
      "The shape of the matrix without bad epochs: (2, 128, 64, 3, 768).\n",
      "\n",
      "020 ave individual.\n",
      "The shape of the matrix with all epochs: (2, 128, 64, 3, 768).\n",
      "The shape of the matrix without bad epochs: (2, 124, 64, 3, 768).\n",
      "\n",
      "020 ave coupled.\n",
      "The shape of the matrix with all epochs: (2, 128, 64, 3, 768).\n",
      "The shape of the matrix without bad epochs: (2, 127, 64, 3, 768).\n",
      "\n",
      "020 ave control.\n",
      "The shape of the matrix with all epochs: (2, 128, 64, 3, 768).\n",
      "The shape of the matrix without bad epochs: (2, 128, 64, 3, 768).\n",
      "\n",
      "022 rest individual.\n",
      "The shape of the matrix with all epochs: (2, 128, 64, 3, 768).\n",
      "The shape of the matrix without bad epochs: (2, 123, 64, 3, 768).\n",
      "\n",
      "022 rest coupled.\n",
      "The shape of the matrix with all epochs: (2, 128, 64, 3, 768).\n",
      "The shape of the matrix without bad epochs: (2, 125, 64, 3, 768).\n",
      "\n",
      "022 rest control.\n",
      "The shape of the matrix with all epochs: (2, 128, 64, 3, 768).\n",
      "The shape of the matrix without bad epochs: (2, 125, 64, 3, 768).\n",
      "\n",
      "022 ave individual.\n",
      "The shape of the matrix with all epochs: (2, 128, 64, 3, 768).\n",
      "The shape of the matrix without bad epochs: (2, 123, 64, 3, 768).\n",
      "\n",
      "022 ave coupled.\n",
      "The shape of the matrix with all epochs: (2, 128, 64, 3, 768).\n",
      "The shape of the matrix without bad epochs: (2, 125, 64, 3, 768).\n",
      "\n",
      "022 ave control.\n",
      "The shape of the matrix with all epochs: (2, 128, 64, 3, 768).\n",
      "The shape of the matrix without bad epochs: (2, 125, 64, 3, 768).\n",
      "\n",
      "023 rest individual.\n",
      "The shape of the matrix with all epochs: (2, 128, 64, 3, 768).\n",
      "The shape of the matrix without bad epochs: (2, 122, 64, 3, 768).\n",
      "\n",
      "023 rest coupled.\n",
      "The shape of the matrix with all epochs: (2, 128, 64, 3, 768).\n",
      "The shape of the matrix without bad epochs: (2, 126, 64, 3, 768).\n",
      "\n",
      "023 rest control.\n",
      "The shape of the matrix with all epochs: (2, 128, 64, 3, 768).\n",
      "The shape of the matrix without bad epochs: (2, 124, 64, 3, 768).\n",
      "\n",
      "023 ave individual.\n",
      "The shape of the matrix with all epochs: (2, 128, 64, 3, 768).\n",
      "The shape of the matrix without bad epochs: (2, 122, 64, 3, 768).\n",
      "\n",
      "023 ave coupled.\n",
      "The shape of the matrix with all epochs: (2, 128, 64, 3, 768).\n",
      "The shape of the matrix without bad epochs: (2, 126, 64, 3, 768).\n",
      "\n",
      "023 ave control.\n",
      "The shape of the matrix with all epochs: (2, 128, 64, 3, 768).\n",
      "The shape of the matrix without bad epochs: (2, 124, 64, 3, 768).\n",
      "\n",
      "024 rest individual.\n",
      "The shape of the matrix with all epochs: (2, 128, 64, 3, 768).\n",
      "The shape of the matrix without bad epochs: (2, 123, 64, 3, 768).\n",
      "\n",
      "024 rest coupled.\n",
      "The shape of the matrix with all epochs: (2, 128, 64, 3, 768).\n",
      "The shape of the matrix without bad epochs: (2, 121, 64, 3, 768).\n",
      "\n",
      "024 rest control.\n",
      "The shape of the matrix with all epochs: (2, 128, 64, 3, 768).\n",
      "The shape of the matrix without bad epochs: (2, 123, 64, 3, 768).\n",
      "\n",
      "024 ave individual.\n",
      "The shape of the matrix with all epochs: (2, 128, 64, 3, 768).\n",
      "The shape of the matrix without bad epochs: (2, 123, 64, 3, 768).\n"
     ]
    },
    {
     "name": "stdout",
     "output_type": "stream",
     "text": [
      "\n",
      "024 ave coupled.\n",
      "The shape of the matrix with all epochs: (2, 128, 64, 3, 768).\n",
      "The shape of the matrix without bad epochs: (2, 121, 64, 3, 768).\n",
      "\n",
      "024 ave control.\n",
      "The shape of the matrix with all epochs: (2, 128, 64, 3, 768).\n",
      "The shape of the matrix without bad epochs: (2, 123, 64, 3, 768).\n",
      "\n",
      "025 rest individual.\n",
      "The shape of the matrix with all epochs: (2, 80, 64, 3, 768).\n",
      "The shape of the matrix without bad epochs: (2, 77, 64, 3, 768).\n",
      "\n",
      "025 rest coupled.\n",
      "The shape of the matrix with all epochs: (2, 88, 64, 3, 768).\n",
      "The shape of the matrix without bad epochs: (2, 85, 64, 3, 768).\n",
      "\n",
      "025 rest control.\n",
      "The shape of the matrix with all epochs: (2, 80, 64, 3, 768).\n",
      "The shape of the matrix without bad epochs: (2, 80, 64, 3, 768).\n",
      "\n",
      "025 ave individual.\n",
      "The shape of the matrix with all epochs: (2, 80, 64, 3, 768).\n",
      "The shape of the matrix without bad epochs: (2, 77, 64, 3, 768).\n",
      "\n",
      "025 ave coupled.\n",
      "The shape of the matrix with all epochs: (2, 88, 64, 3, 768).\n",
      "The shape of the matrix without bad epochs: (2, 85, 64, 3, 768).\n",
      "\n",
      "025 ave control.\n",
      "The shape of the matrix with all epochs: (2, 80, 64, 3, 768).\n",
      "The shape of the matrix without bad epochs: (2, 80, 64, 3, 768).\n",
      "\n",
      "027 rest individual.\n",
      "The shape of the matrix with all epochs: (2, 128, 64, 3, 768).\n",
      "The shape of the matrix without bad epochs: (2, 124, 64, 3, 768).\n",
      "\n",
      "027 rest coupled.\n",
      "The shape of the matrix with all epochs: (2, 128, 64, 3, 768).\n",
      "The shape of the matrix without bad epochs: (2, 127, 64, 3, 768).\n",
      "\n",
      "027 rest control.\n",
      "The shape of the matrix with all epochs: (2, 128, 64, 3, 768).\n",
      "The shape of the matrix without bad epochs: (2, 119, 64, 3, 768).\n",
      "\n",
      "027 ave individual.\n",
      "The shape of the matrix with all epochs: (2, 128, 64, 3, 768).\n",
      "The shape of the matrix without bad epochs: (2, 124, 64, 3, 768).\n",
      "\n",
      "027 ave coupled.\n",
      "The shape of the matrix with all epochs: (2, 128, 64, 3, 768).\n",
      "The shape of the matrix without bad epochs: (2, 127, 64, 3, 768).\n",
      "\n",
      "027 ave control.\n",
      "The shape of the matrix with all epochs: (2, 128, 64, 3, 768).\n",
      "The shape of the matrix without bad epochs: (2, 119, 64, 3, 768).\n"
     ]
    }
   ],
   "source": [
    "### Loop over all symmetric conditions — ONLY CSD REFERENCE\n",
    "\n",
    "### Calculate Envelope matrices & save\n",
    "\n",
    "data = {}\n",
    "\n",
    "pairs = [\"003\",\"004\",\"005\",\"007\",\"008\",\"009\",\"010\",\"011\",\"012\",\"013\",\"014\",\n",
    "         \"016\",\"017\",\"018\",\"019\",\"020\",\"022\",\"023\",\"024\",\"025\",\"027\"]\n",
    "\n",
    "reference = ['rest','ave']\n",
    "\n",
    "conditions = [\"individual\", \"coupled\", \"control\"]\n",
    "\n",
    "measure = 'ccorr'\n",
    "\n",
    "all_eeg_chans = ['Fp1','AF7','AF3','F1','F3','F5','F7','FT7','FC5','FC3',\n",
    "                 'FC1','C1','C3','C5','T7','TP7','CP5','CP3','CP1','P1',\n",
    "                 'P3','P5','P7','P9','PO7','PO3','O1','Iz','Oz','POz','Pz',\n",
    "                 'CPz','Fpz','Fp2','AF8','AF4','AFz','Fz','F2','F4','F6','F8',\n",
    "                 'FT8','FC6','FC4','FC2','FCz','Cz','C2','C4','C6','T8','TP8',\n",
    "                 'CP6','CP4','CP2','P2','P4','P6','P8','P10','PO8','PO4','O2']\n",
    "\n",
    "for pair_n in pairs:\n",
    "    for ref in reference:\n",
    "        for condition in conditions:\n",
    "            # 0. Verbose\n",
    "            print(f\"\\n{pair_n} {ref} {condition}.\")\n",
    "        \n",
    "            # 1. Loading\n",
    "            folder = f\"/Users/aliaksandrdabranau/Data/Mirror_game/pair{pair_n}\"\n",
    "            epochs_a = mne.read_epochs(pathlib.Path(folder+f'/{pair_n}a_{ref}_epo.fif'), verbose=False)\n",
    "            epochs_b = mne.read_epochs(pathlib.Path(folder+f'/{pair_n}b_{ref}_epo.fif'), verbose=False)\n",
    "\n",
    "            # 2. Selecting only one condition\n",
    "            epochs_a = epochs_a[condition]\n",
    "            epochs_b = epochs_b[condition]\n",
    "\n",
    "            # 3. Equalizing the number of epochs (NO NEED)\n",
    "            # mne.epochs.equalize_epoch_counts([epochs_a, epochs_b])\n",
    "        \n",
    "            # 4. Putting two sets of epochs into one array\n",
    "            data_inter = np.array([epochs_a.pick(picks=all_eeg_chans), epochs_b.pick(picks=all_eeg_chans)])\n",
    "        \n",
    "            # 5. Calculating the complex signal with Hilbert\n",
    "            freq_bands = {'Theta':[4,7.5],\n",
    "                      #'Alpha-Low': [8, 11],\n",
    "                      #'Alpha-High': [11.5, 13],\n",
    "                      'Alpha_Combined': [8,13],\n",
    "                      'Beta':[14,30]}\n",
    "        \n",
    "            sampling_rate = 256\n",
    "        \n",
    "            complex_signal = analyses.compute_freq_bands(data_inter, sampling_rate, freq_bands)\n",
    "        \n",
    "            # 6. Splitting the complex signal of 25-s epochs into 3-s segments\n",
    "            short_epochs = segment_complex_signal(complex_signal = complex_signal, \n",
    "                                                  pair_n = pair_n, \n",
    "                                                  condition = condition, \n",
    "                                                  dict_with_bad_epochs = bad_short_epochs)\n",
    "        \n",
    "            # 7. Calculating synchrony value (CCORR)\n",
    "            theta, alpha_combined, beta = ccorr_connectivity(short_epochs)\n",
    "        \n",
    "            # 9. Putting the matrices into a dictionary\n",
    "            data[pair_n+\"_\"+ref+\"_\"+condition+\"_\"+'theta'] = theta\n",
    "            #data[pair_n+\"_\"+ref+\"_\"+condition+\"_\"+'alpha_low'] = alpha_low\n",
    "            #data[pair_n+\"_\"+ref+\"_\"+condition+\"_\"+'alpha_high'] = alpha_high\n",
    "            data[pair_n+\"_\"+ref+\"_\"+condition+\"_\"+'alpha_combined'] = alpha_combined\n",
    "            data[pair_n+\"_\"+ref+\"_\"+condition+\"_\"+'beta'] = beta\n",
    "            \n",
    "            # 10. Saving the dictionary\n",
    "            with open('ccorr_symmetric_conditions_1.pickle', 'wb') as handle:\n",
    "                pickle.dump(data, handle, protocol=pickle.HIGHEST_PROTOCOL)\n",
    "                \n",
    "            # 11. Verbose_2\n",
    "            #print(\"Proceeding to the next pair.\")"
   ]
  },
  {
   "cell_type": "code",
   "execution_count": 85,
   "id": "d1dbe2e8",
   "metadata": {},
   "outputs": [
    {
     "name": "stdout",
     "output_type": "stream",
     "text": [
      "\n",
      "003 rest actor-observer.\n",
      "The shape of the original matrix is (2, 32, 64, 3, 768).\n",
      "The shape of the final matrix is (2, 32, 64, 3, 768).\n",
      "The shape of the original matrix is (2, 48, 64, 3, 768).\n",
      "The shape of the final matrix is (2, 48, 64, 3, 768).\n",
      "\n",
      "003 rest leader-follower.\n",
      "The shape of the original matrix is (2, 64, 64, 3, 768).\n",
      "The shape of the final matrix is (2, 63, 64, 3, 768).\n",
      "The shape of the original matrix is (2, 64, 64, 3, 768).\n",
      "The shape of the final matrix is (2, 64, 64, 3, 768).\n",
      "\n",
      "003 ave actor-observer.\n",
      "The shape of the original matrix is (2, 32, 64, 3, 768).\n",
      "The shape of the final matrix is (2, 32, 64, 3, 768).\n",
      "The shape of the original matrix is (2, 48, 64, 3, 768).\n",
      "The shape of the final matrix is (2, 48, 64, 3, 768).\n",
      "\n",
      "003 ave leader-follower.\n",
      "The shape of the original matrix is (2, 64, 64, 3, 768).\n",
      "The shape of the final matrix is (2, 63, 64, 3, 768).\n",
      "The shape of the original matrix is (2, 64, 64, 3, 768).\n",
      "The shape of the final matrix is (2, 64, 64, 3, 768).\n",
      "\n",
      "004 rest actor-observer.\n",
      "The shape of the original matrix is (2, 48, 64, 3, 768).\n",
      "The shape of the final matrix is (2, 46, 64, 3, 768).\n",
      "The shape of the original matrix is (2, 40, 64, 3, 768).\n",
      "The shape of the final matrix is (2, 40, 64, 3, 768).\n",
      "\n",
      "004 rest leader-follower.\n",
      "The shape of the original matrix is (2, 64, 64, 3, 768).\n",
      "The shape of the final matrix is (2, 63, 64, 3, 768).\n",
      "The shape of the original matrix is (2, 64, 64, 3, 768).\n",
      "The shape of the final matrix is (2, 63, 64, 3, 768).\n",
      "\n",
      "004 ave actor-observer.\n",
      "The shape of the original matrix is (2, 48, 64, 3, 768).\n",
      "The shape of the final matrix is (2, 46, 64, 3, 768).\n",
      "The shape of the original matrix is (2, 40, 64, 3, 768).\n",
      "The shape of the final matrix is (2, 40, 64, 3, 768).\n",
      "\n",
      "004 ave leader-follower.\n",
      "The shape of the original matrix is (2, 64, 64, 3, 768).\n",
      "The shape of the final matrix is (2, 63, 64, 3, 768).\n",
      "The shape of the original matrix is (2, 64, 64, 3, 768).\n",
      "The shape of the final matrix is (2, 63, 64, 3, 768).\n",
      "\n",
      "005 rest actor-observer.\n",
      "The shape of the original matrix is (2, 56, 64, 3, 768).\n",
      "The shape of the final matrix is (2, 51, 64, 3, 768).\n",
      "The shape of the original matrix is (2, 48, 64, 3, 768).\n",
      "The shape of the final matrix is (2, 48, 64, 3, 768).\n",
      "\n",
      "005 rest leader-follower.\n",
      "The shape of the original matrix is (2, 64, 64, 3, 768).\n",
      "The shape of the final matrix is (2, 64, 64, 3, 768).\n",
      "The shape of the original matrix is (2, 64, 64, 3, 768).\n",
      "The shape of the final matrix is (2, 63, 64, 3, 768).\n",
      "\n",
      "005 ave actor-observer.\n",
      "The shape of the original matrix is (2, 56, 64, 3, 768).\n",
      "The shape of the final matrix is (2, 51, 64, 3, 768).\n",
      "The shape of the original matrix is (2, 48, 64, 3, 768).\n",
      "The shape of the final matrix is (2, 48, 64, 3, 768).\n",
      "\n",
      "005 ave leader-follower.\n",
      "The shape of the original matrix is (2, 64, 64, 3, 768).\n",
      "The shape of the final matrix is (2, 64, 64, 3, 768).\n",
      "The shape of the original matrix is (2, 64, 64, 3, 768).\n",
      "The shape of the final matrix is (2, 63, 64, 3, 768).\n",
      "\n",
      "007 rest actor-observer.\n",
      "The shape of the original matrix is (2, 56, 64, 3, 768).\n",
      "The shape of the final matrix is (2, 54, 64, 3, 768).\n",
      "The shape of the original matrix is (2, 56, 64, 3, 768).\n",
      "The shape of the final matrix is (2, 54, 64, 3, 768).\n",
      "\n",
      "007 rest leader-follower.\n",
      "The shape of the original matrix is (2, 64, 64, 3, 768).\n",
      "The shape of the final matrix is (2, 64, 64, 3, 768).\n",
      "The shape of the original matrix is (2, 64, 64, 3, 768).\n",
      "The shape of the final matrix is (2, 61, 64, 3, 768).\n",
      "\n",
      "007 ave actor-observer.\n",
      "The shape of the original matrix is (2, 56, 64, 3, 768).\n",
      "The shape of the final matrix is (2, 54, 64, 3, 768).\n",
      "The shape of the original matrix is (2, 56, 64, 3, 768).\n",
      "The shape of the final matrix is (2, 54, 64, 3, 768).\n",
      "\n",
      "007 ave leader-follower.\n",
      "The shape of the original matrix is (2, 64, 64, 3, 768).\n",
      "The shape of the final matrix is (2, 64, 64, 3, 768).\n",
      "The shape of the original matrix is (2, 64, 64, 3, 768).\n",
      "The shape of the final matrix is (2, 61, 64, 3, 768).\n",
      "\n",
      "008 rest actor-observer.\n",
      "The shape of the original matrix is (2, 56, 64, 3, 768).\n",
      "The shape of the final matrix is (2, 54, 64, 3, 768).\n",
      "The shape of the original matrix is (2, 56, 64, 3, 768).\n",
      "The shape of the final matrix is (2, 52, 64, 3, 768).\n",
      "\n",
      "008 rest leader-follower.\n",
      "The shape of the original matrix is (2, 64, 64, 3, 768).\n",
      "The shape of the final matrix is (2, 56, 64, 3, 768).\n",
      "The shape of the original matrix is (2, 64, 64, 3, 768).\n",
      "The shape of the final matrix is (2, 63, 64, 3, 768).\n",
      "\n",
      "008 ave actor-observer.\n",
      "The shape of the original matrix is (2, 56, 64, 3, 768).\n",
      "The shape of the final matrix is (2, 54, 64, 3, 768).\n",
      "The shape of the original matrix is (2, 56, 64, 3, 768).\n",
      "The shape of the final matrix is (2, 52, 64, 3, 768).\n",
      "\n",
      "008 ave leader-follower.\n",
      "The shape of the original matrix is (2, 64, 64, 3, 768).\n",
      "The shape of the final matrix is (2, 56, 64, 3, 768).\n",
      "The shape of the original matrix is (2, 64, 64, 3, 768).\n",
      "The shape of the final matrix is (2, 63, 64, 3, 768).\n",
      "\n",
      "009 rest actor-observer.\n",
      "The shape of the original matrix is (2, 64, 64, 3, 768).\n",
      "The shape of the final matrix is (2, 62, 64, 3, 768).\n",
      "The shape of the original matrix is (2, 56, 64, 3, 768).\n",
      "The shape of the final matrix is (2, 56, 64, 3, 768).\n",
      "\n",
      "009 rest leader-follower.\n",
      "The shape of the original matrix is (2, 64, 64, 3, 768).\n",
      "The shape of the final matrix is (2, 64, 64, 3, 768).\n",
      "The shape of the original matrix is (2, 64, 64, 3, 768).\n",
      "The shape of the final matrix is (2, 64, 64, 3, 768).\n",
      "\n",
      "009 ave actor-observer.\n",
      "The shape of the original matrix is (2, 64, 64, 3, 768).\n",
      "The shape of the final matrix is (2, 62, 64, 3, 768).\n",
      "The shape of the original matrix is (2, 56, 64, 3, 768).\n",
      "The shape of the final matrix is (2, 56, 64, 3, 768).\n",
      "\n",
      "009 ave leader-follower.\n",
      "The shape of the original matrix is (2, 64, 64, 3, 768).\n",
      "The shape of the final matrix is (2, 64, 64, 3, 768).\n",
      "The shape of the original matrix is (2, 64, 64, 3, 768).\n",
      "The shape of the final matrix is (2, 64, 64, 3, 768).\n",
      "\n",
      "010 rest actor-observer.\n",
      "The shape of the original matrix is (2, 64, 64, 3, 768).\n",
      "The shape of the final matrix is (2, 63, 64, 3, 768).\n",
      "The shape of the original matrix is (2, 56, 64, 3, 768).\n",
      "The shape of the final matrix is (2, 54, 64, 3, 768).\n",
      "\n",
      "010 rest leader-follower.\n",
      "The shape of the original matrix is (2, 64, 64, 3, 768).\n",
      "The shape of the final matrix is (2, 64, 64, 3, 768).\n",
      "The shape of the original matrix is (2, 64, 64, 3, 768).\n",
      "The shape of the final matrix is (2, 64, 64, 3, 768).\n",
      "\n",
      "010 ave actor-observer.\n",
      "The shape of the original matrix is (2, 64, 64, 3, 768).\n",
      "The shape of the final matrix is (2, 63, 64, 3, 768).\n",
      "The shape of the original matrix is (2, 56, 64, 3, 768).\n",
      "The shape of the final matrix is (2, 54, 64, 3, 768).\n",
      "\n",
      "010 ave leader-follower.\n",
      "The shape of the original matrix is (2, 64, 64, 3, 768).\n",
      "The shape of the final matrix is (2, 64, 64, 3, 768).\n",
      "The shape of the original matrix is (2, 64, 64, 3, 768).\n",
      "The shape of the final matrix is (2, 64, 64, 3, 768).\n",
      "\n",
      "011 rest actor-observer.\n",
      "The shape of the original matrix is (2, 64, 64, 3, 768).\n",
      "The shape of the final matrix is (2, 63, 64, 3, 768).\n",
      "The shape of the original matrix is (2, 16, 64, 3, 768).\n",
      "The shape of the final matrix is (2, 16, 64, 3, 768).\n",
      "\n",
      "011 rest leader-follower.\n",
      "The shape of the original matrix is (2, 64, 64, 3, 768).\n",
      "The shape of the final matrix is (2, 64, 64, 3, 768).\n",
      "The shape of the original matrix is (2, 64, 64, 3, 768).\n",
      "The shape of the final matrix is (2, 64, 64, 3, 768).\n",
      "\n",
      "011 ave actor-observer.\n",
      "The shape of the original matrix is (2, 64, 64, 3, 768).\n",
      "The shape of the final matrix is (2, 63, 64, 3, 768).\n",
      "The shape of the original matrix is (2, 16, 64, 3, 768).\n",
      "The shape of the final matrix is (2, 16, 64, 3, 768).\n",
      "\n",
      "011 ave leader-follower.\n",
      "The shape of the original matrix is (2, 64, 64, 3, 768).\n",
      "The shape of the final matrix is (2, 64, 64, 3, 768).\n",
      "The shape of the original matrix is (2, 64, 64, 3, 768).\n",
      "The shape of the final matrix is (2, 64, 64, 3, 768).\n",
      "\n",
      "012 rest actor-observer.\n",
      "The shape of the original matrix is (2, 48, 64, 3, 768).\n",
      "The shape of the final matrix is (2, 41, 64, 3, 768).\n",
      "The shape of the original matrix is (2, 48, 64, 3, 768).\n",
      "The shape of the final matrix is (2, 47, 64, 3, 768).\n",
      "\n",
      "012 rest leader-follower.\n"
     ]
    },
    {
     "name": "stdout",
     "output_type": "stream",
     "text": [
      "The shape of the original matrix is (2, 64, 64, 3, 768).\n",
      "The shape of the final matrix is (2, 64, 64, 3, 768).\n",
      "The shape of the original matrix is (2, 64, 64, 3, 768).\n",
      "The shape of the final matrix is (2, 63, 64, 3, 768).\n",
      "\n",
      "012 ave actor-observer.\n",
      "The shape of the original matrix is (2, 48, 64, 3, 768).\n",
      "The shape of the final matrix is (2, 41, 64, 3, 768).\n",
      "The shape of the original matrix is (2, 48, 64, 3, 768).\n",
      "The shape of the final matrix is (2, 47, 64, 3, 768).\n",
      "\n",
      "012 ave leader-follower.\n",
      "The shape of the original matrix is (2, 64, 64, 3, 768).\n",
      "The shape of the final matrix is (2, 64, 64, 3, 768).\n",
      "The shape of the original matrix is (2, 64, 64, 3, 768).\n",
      "The shape of the final matrix is (2, 63, 64, 3, 768).\n",
      "\n",
      "013 rest actor-observer.\n",
      "The shape of the original matrix is (2, 40, 64, 3, 768).\n",
      "The shape of the final matrix is (2, 40, 64, 3, 768).\n",
      "The shape of the original matrix is (2, 40, 64, 3, 768).\n",
      "The shape of the final matrix is (2, 39, 64, 3, 768).\n",
      "\n",
      "013 rest leader-follower.\n",
      "The shape of the original matrix is (2, 64, 64, 3, 768).\n",
      "The shape of the final matrix is (2, 64, 64, 3, 768).\n",
      "The shape of the original matrix is (2, 64, 64, 3, 768).\n",
      "The shape of the final matrix is (2, 63, 64, 3, 768).\n",
      "\n",
      "013 ave actor-observer.\n",
      "The shape of the original matrix is (2, 40, 64, 3, 768).\n",
      "The shape of the final matrix is (2, 40, 64, 3, 768).\n",
      "The shape of the original matrix is (2, 40, 64, 3, 768).\n",
      "The shape of the final matrix is (2, 39, 64, 3, 768).\n",
      "\n",
      "013 ave leader-follower.\n",
      "The shape of the original matrix is (2, 64, 64, 3, 768).\n",
      "The shape of the final matrix is (2, 64, 64, 3, 768).\n",
      "The shape of the original matrix is (2, 64, 64, 3, 768).\n",
      "The shape of the final matrix is (2, 63, 64, 3, 768).\n",
      "\n",
      "014 rest actor-observer.\n",
      "The shape of the original matrix is (2, 48, 64, 3, 768).\n",
      "The shape of the final matrix is (2, 47, 64, 3, 768).\n",
      "The shape of the original matrix is (2, 56, 64, 3, 768).\n",
      "The shape of the final matrix is (2, 55, 64, 3, 768).\n",
      "\n",
      "014 rest leader-follower.\n",
      "The shape of the original matrix is (2, 64, 64, 3, 768).\n",
      "The shape of the final matrix is (2, 63, 64, 3, 768).\n",
      "The shape of the original matrix is (2, 64, 64, 3, 768).\n",
      "The shape of the final matrix is (2, 64, 64, 3, 768).\n",
      "\n",
      "014 ave actor-observer.\n",
      "The shape of the original matrix is (2, 48, 64, 3, 768).\n",
      "The shape of the final matrix is (2, 47, 64, 3, 768).\n",
      "The shape of the original matrix is (2, 56, 64, 3, 768).\n",
      "The shape of the final matrix is (2, 55, 64, 3, 768).\n",
      "\n",
      "014 ave leader-follower.\n",
      "The shape of the original matrix is (2, 64, 64, 3, 768).\n",
      "The shape of the final matrix is (2, 63, 64, 3, 768).\n",
      "The shape of the original matrix is (2, 64, 64, 3, 768).\n",
      "The shape of the final matrix is (2, 64, 64, 3, 768).\n",
      "\n",
      "016 rest actor-observer.\n",
      "The shape of the original matrix is (2, 24, 64, 3, 768).\n",
      "The shape of the final matrix is (2, 23, 64, 3, 768).\n",
      "The shape of the original matrix is (2, 48, 64, 3, 768).\n",
      "The shape of the final matrix is (2, 47, 64, 3, 768).\n",
      "\n",
      "016 rest leader-follower.\n",
      "The shape of the original matrix is (2, 64, 64, 3, 768).\n",
      "The shape of the final matrix is (2, 63, 64, 3, 768).\n",
      "The shape of the original matrix is (2, 64, 64, 3, 768).\n",
      "The shape of the final matrix is (2, 59, 64, 3, 768).\n",
      "\n",
      "016 ave actor-observer.\n",
      "The shape of the original matrix is (2, 24, 64, 3, 768).\n",
      "The shape of the final matrix is (2, 23, 64, 3, 768).\n",
      "The shape of the original matrix is (2, 48, 64, 3, 768).\n",
      "The shape of the final matrix is (2, 47, 64, 3, 768).\n",
      "\n",
      "016 ave leader-follower.\n",
      "The shape of the original matrix is (2, 64, 64, 3, 768).\n",
      "The shape of the final matrix is (2, 63, 64, 3, 768).\n",
      "The shape of the original matrix is (2, 64, 64, 3, 768).\n",
      "The shape of the final matrix is (2, 59, 64, 3, 768).\n",
      "\n",
      "017 rest actor-observer.\n",
      "The shape of the original matrix is (2, 48, 64, 3, 768).\n",
      "The shape of the final matrix is (2, 47, 64, 3, 768).\n",
      "The shape of the original matrix is (2, 40, 64, 3, 768).\n",
      "The shape of the final matrix is (2, 40, 64, 3, 768).\n",
      "\n",
      "017 rest leader-follower.\n",
      "The shape of the original matrix is (2, 64, 64, 3, 768).\n",
      "The shape of the final matrix is (2, 64, 64, 3, 768).\n",
      "The shape of the original matrix is (2, 64, 64, 3, 768).\n",
      "The shape of the final matrix is (2, 64, 64, 3, 768).\n",
      "\n",
      "017 ave actor-observer.\n",
      "The shape of the original matrix is (2, 48, 64, 3, 768).\n",
      "The shape of the final matrix is (2, 47, 64, 3, 768).\n",
      "The shape of the original matrix is (2, 40, 64, 3, 768).\n",
      "The shape of the final matrix is (2, 40, 64, 3, 768).\n",
      "\n",
      "017 ave leader-follower.\n",
      "The shape of the original matrix is (2, 64, 64, 3, 768).\n",
      "The shape of the final matrix is (2, 64, 64, 3, 768).\n",
      "The shape of the original matrix is (2, 64, 64, 3, 768).\n",
      "The shape of the final matrix is (2, 64, 64, 3, 768).\n",
      "\n",
      "018 rest actor-observer.\n",
      "The shape of the original matrix is (2, 40, 64, 3, 768).\n",
      "The shape of the final matrix is (2, 35, 64, 3, 768).\n",
      "The shape of the original matrix is (2, 48, 64, 3, 768).\n",
      "The shape of the final matrix is (2, 47, 64, 3, 768).\n",
      "\n",
      "018 rest leader-follower.\n",
      "The shape of the original matrix is (2, 64, 64, 3, 768).\n",
      "The shape of the final matrix is (2, 63, 64, 3, 768).\n",
      "The shape of the original matrix is (2, 64, 64, 3, 768).\n",
      "The shape of the final matrix is (2, 59, 64, 3, 768).\n",
      "\n",
      "018 ave actor-observer.\n",
      "The shape of the original matrix is (2, 40, 64, 3, 768).\n",
      "The shape of the final matrix is (2, 35, 64, 3, 768).\n",
      "The shape of the original matrix is (2, 48, 64, 3, 768).\n",
      "The shape of the final matrix is (2, 47, 64, 3, 768).\n",
      "\n",
      "018 ave leader-follower.\n",
      "The shape of the original matrix is (2, 64, 64, 3, 768).\n",
      "The shape of the final matrix is (2, 63, 64, 3, 768).\n",
      "The shape of the original matrix is (2, 64, 64, 3, 768).\n",
      "The shape of the final matrix is (2, 59, 64, 3, 768).\n",
      "\n",
      "019 rest actor-observer.\n",
      "The shape of the original matrix is (2, 64, 64, 3, 768).\n",
      "The shape of the final matrix is (2, 63, 64, 3, 768).\n",
      "The shape of the original matrix is (2, 56, 64, 3, 768).\n",
      "The shape of the final matrix is (2, 56, 64, 3, 768).\n",
      "\n",
      "019 rest leader-follower.\n",
      "The shape of the original matrix is (2, 64, 64, 3, 768).\n",
      "The shape of the final matrix is (2, 64, 64, 3, 768).\n",
      "The shape of the original matrix is (2, 64, 64, 3, 768).\n",
      "The shape of the final matrix is (2, 63, 64, 3, 768).\n",
      "\n",
      "019 ave actor-observer.\n",
      "The shape of the original matrix is (2, 64, 64, 3, 768).\n",
      "The shape of the final matrix is (2, 63, 64, 3, 768).\n",
      "The shape of the original matrix is (2, 56, 64, 3, 768).\n",
      "The shape of the final matrix is (2, 56, 64, 3, 768).\n",
      "\n",
      "019 ave leader-follower.\n",
      "The shape of the original matrix is (2, 64, 64, 3, 768).\n",
      "The shape of the final matrix is (2, 64, 64, 3, 768).\n",
      "The shape of the original matrix is (2, 64, 64, 3, 768).\n",
      "The shape of the final matrix is (2, 63, 64, 3, 768).\n",
      "\n",
      "020 rest actor-observer.\n",
      "The shape of the original matrix is (2, 48, 64, 3, 768).\n",
      "The shape of the final matrix is (2, 43, 64, 3, 768).\n",
      "The shape of the original matrix is (2, 64, 64, 3, 768).\n",
      "The shape of the final matrix is (2, 64, 64, 3, 768).\n",
      "\n",
      "020 rest leader-follower.\n",
      "The shape of the original matrix is (2, 64, 64, 3, 768).\n",
      "The shape of the final matrix is (2, 61, 64, 3, 768).\n",
      "The shape of the original matrix is (2, 64, 64, 3, 768).\n",
      "The shape of the final matrix is (2, 64, 64, 3, 768).\n",
      "\n",
      "020 ave actor-observer.\n",
      "The shape of the original matrix is (2, 48, 64, 3, 768).\n",
      "The shape of the final matrix is (2, 43, 64, 3, 768).\n",
      "The shape of the original matrix is (2, 64, 64, 3, 768).\n",
      "The shape of the final matrix is (2, 64, 64, 3, 768).\n",
      "\n",
      "020 ave leader-follower.\n",
      "The shape of the original matrix is (2, 64, 64, 3, 768).\n",
      "The shape of the final matrix is (2, 61, 64, 3, 768).\n",
      "The shape of the original matrix is (2, 64, 64, 3, 768).\n",
      "The shape of the final matrix is (2, 64, 64, 3, 768).\n",
      "\n",
      "022 rest actor-observer.\n",
      "The shape of the original matrix is (2, 64, 64, 3, 768).\n",
      "The shape of the final matrix is (2, 62, 64, 3, 768).\n",
      "The shape of the original matrix is (2, 48, 64, 3, 768).\n",
      "The shape of the final matrix is (2, 45, 64, 3, 768).\n",
      "\n",
      "022 rest leader-follower.\n",
      "The shape of the original matrix is (2, 64, 64, 3, 768).\n",
      "The shape of the final matrix is (2, 64, 64, 3, 768).\n",
      "The shape of the original matrix is (2, 64, 64, 3, 768).\n",
      "The shape of the final matrix is (2, 62, 64, 3, 768).\n",
      "\n",
      "022 ave actor-observer.\n",
      "The shape of the original matrix is (2, 64, 64, 3, 768).\n",
      "The shape of the final matrix is (2, 62, 64, 3, 768).\n"
     ]
    },
    {
     "name": "stdout",
     "output_type": "stream",
     "text": [
      "The shape of the original matrix is (2, 48, 64, 3, 768).\n",
      "The shape of the final matrix is (2, 45, 64, 3, 768).\n",
      "\n",
      "022 ave leader-follower.\n",
      "The shape of the original matrix is (2, 64, 64, 3, 768).\n",
      "The shape of the final matrix is (2, 64, 64, 3, 768).\n",
      "The shape of the original matrix is (2, 64, 64, 3, 768).\n",
      "The shape of the final matrix is (2, 62, 64, 3, 768).\n",
      "\n",
      "023 rest actor-observer.\n",
      "The shape of the original matrix is (2, 64, 64, 3, 768).\n",
      "The shape of the final matrix is (2, 62, 64, 3, 768).\n",
      "The shape of the original matrix is (2, 32, 64, 3, 768).\n",
      "The shape of the final matrix is (2, 32, 64, 3, 768).\n",
      "\n",
      "023 rest leader-follower.\n",
      "The shape of the original matrix is (2, 64, 64, 3, 768).\n",
      "The shape of the final matrix is (2, 63, 64, 3, 768).\n",
      "The shape of the original matrix is (2, 64, 64, 3, 768).\n",
      "The shape of the final matrix is (2, 61, 64, 3, 768).\n",
      "\n",
      "023 ave actor-observer.\n",
      "The shape of the original matrix is (2, 64, 64, 3, 768).\n",
      "The shape of the final matrix is (2, 62, 64, 3, 768).\n",
      "The shape of the original matrix is (2, 32, 64, 3, 768).\n",
      "The shape of the final matrix is (2, 32, 64, 3, 768).\n",
      "\n",
      "023 ave leader-follower.\n",
      "The shape of the original matrix is (2, 64, 64, 3, 768).\n",
      "The shape of the final matrix is (2, 63, 64, 3, 768).\n",
      "The shape of the original matrix is (2, 64, 64, 3, 768).\n",
      "The shape of the final matrix is (2, 61, 64, 3, 768).\n",
      "\n",
      "024 rest actor-observer.\n",
      "The shape of the original matrix is (2, 56, 64, 3, 768).\n",
      "The shape of the final matrix is (2, 54, 64, 3, 768).\n",
      "The shape of the original matrix is (2, 56, 64, 3, 768).\n",
      "The shape of the final matrix is (2, 54, 64, 3, 768).\n",
      "\n",
      "024 rest leader-follower.\n",
      "The shape of the original matrix is (2, 64, 64, 3, 768).\n",
      "The shape of the final matrix is (2, 64, 64, 3, 768).\n",
      "The shape of the original matrix is (2, 64, 64, 3, 768).\n",
      "The shape of the final matrix is (2, 61, 64, 3, 768).\n",
      "\n",
      "024 ave actor-observer.\n",
      "The shape of the original matrix is (2, 56, 64, 3, 768).\n",
      "The shape of the final matrix is (2, 54, 64, 3, 768).\n",
      "The shape of the original matrix is (2, 56, 64, 3, 768).\n",
      "The shape of the final matrix is (2, 54, 64, 3, 768).\n",
      "\n",
      "024 ave leader-follower.\n",
      "The shape of the original matrix is (2, 64, 64, 3, 768).\n",
      "The shape of the final matrix is (2, 64, 64, 3, 768).\n",
      "The shape of the original matrix is (2, 64, 64, 3, 768).\n",
      "The shape of the final matrix is (2, 61, 64, 3, 768).\n",
      "\n",
      "025 rest actor-observer.\n",
      "The shape of the original matrix is (2, 32, 64, 3, 768).\n",
      "The shape of the final matrix is (2, 31, 64, 3, 768).\n",
      "The shape of the original matrix is (2, 40, 64, 3, 768).\n",
      "The shape of the final matrix is (2, 38, 64, 3, 768).\n",
      "\n",
      "025 rest leader-follower.\n",
      "The shape of the original matrix is (2, 48, 64, 3, 768).\n",
      "The shape of the final matrix is (2, 48, 64, 3, 768).\n",
      "The shape of the original matrix is (2, 40, 64, 3, 768).\n",
      "The shape of the final matrix is (2, 38, 64, 3, 768).\n",
      "\n",
      "025 ave actor-observer.\n",
      "The shape of the original matrix is (2, 32, 64, 3, 768).\n",
      "The shape of the final matrix is (2, 31, 64, 3, 768).\n",
      "The shape of the original matrix is (2, 40, 64, 3, 768).\n",
      "The shape of the final matrix is (2, 38, 64, 3, 768).\n",
      "\n",
      "025 ave leader-follower.\n",
      "The shape of the original matrix is (2, 48, 64, 3, 768).\n",
      "The shape of the final matrix is (2, 48, 64, 3, 768).\n",
      "The shape of the original matrix is (2, 40, 64, 3, 768).\n",
      "The shape of the final matrix is (2, 38, 64, 3, 768).\n",
      "\n",
      "027 rest actor-observer.\n",
      "The shape of the original matrix is (2, 8, 64, 3, 768).\n",
      "The shape of the final matrix is (2, 8, 64, 3, 768).\n",
      "The shape of the original matrix is (2, 48, 64, 3, 768).\n",
      "The shape of the final matrix is (2, 46, 64, 3, 768).\n",
      "\n",
      "027 rest leader-follower.\n",
      "The shape of the original matrix is (2, 64, 64, 3, 768).\n",
      "The shape of the final matrix is (2, 64, 64, 3, 768).\n",
      "The shape of the original matrix is (2, 64, 64, 3, 768).\n",
      "The shape of the final matrix is (2, 63, 64, 3, 768).\n",
      "\n",
      "027 ave actor-observer.\n",
      "The shape of the original matrix is (2, 8, 64, 3, 768).\n",
      "The shape of the final matrix is (2, 8, 64, 3, 768).\n",
      "The shape of the original matrix is (2, 48, 64, 3, 768).\n",
      "The shape of the final matrix is (2, 46, 64, 3, 768).\n",
      "\n",
      "027 ave leader-follower.\n",
      "The shape of the original matrix is (2, 64, 64, 3, 768).\n",
      "The shape of the final matrix is (2, 64, 64, 3, 768).\n",
      "The shape of the original matrix is (2, 64, 64, 3, 768).\n",
      "The shape of the final matrix is (2, 63, 64, 3, 768).\n"
     ]
    }
   ],
   "source": [
    "### Asymmetric: Calculate CCORR matrices & save\n",
    "\n",
    "data_asymm = {}\n",
    "\n",
    "pairs = [\"003\",\"004\",\"005\",\"007\",\"008\",\"009\",\"010\",\"011\",\"012\",\"013\",\"014\",\n",
    "         \"016\",\"017\",\"018\",\"019\",\"020\",\"022\",\"023\",\"024\",\"025\",\"027\"]\n",
    "\n",
    "reference = ['rest','ave']\n",
    "\n",
    "conditions_asymm = [\"actor-observer\",\n",
    "                    \"leader-follower\"]\n",
    "\n",
    "measure = 'ccorr'\n",
    "\n",
    "all_eeg_chans = ['Fp1','AF7','AF3','F1','F3','F5','F7','FT7','FC5','FC3',\n",
    "                 'FC1','C1','C3','C5','T7','TP7','CP5','CP3','CP1','P1',\n",
    "                 'P3','P5','P7','P9','PO7','PO3','O1','Iz','Oz','POz','Pz',\n",
    "                 'CPz','Fpz','Fp2','AF8','AF4','AFz','Fz','F2','F4','F6','F8',\n",
    "                 'FT8','FC6','FC4','FC2','FCz','Cz','C2','C4','C6','T8','TP8',\n",
    "                 'CP6','CP4','CP2','P2','P4','P6','P8','P10','PO8','PO4','O2']\n",
    "\n",
    "for pair_n in pairs:\n",
    "    for ref in reference:\n",
    "        for condition in conditions_asymm:\n",
    "            # 0. Verbose\n",
    "            print(f\"\\n{pair_n} {ref} {condition}.\")\n",
    "        \n",
    "            # 1. Loading\n",
    "            folder = f\"/Users/aliaksandrdabranau/Data/Mirror_game/pair{pair_n}\"\n",
    "            epochs_a = mne.read_epochs(pathlib.Path(folder+f'/{pair_n}a_{ref}_epo.fif'), verbose=False)\n",
    "            epochs_b = mne.read_epochs(pathlib.Path(folder+f'/{pair_n}b_{ref}_epo.fif'), verbose=False)\n",
    "\n",
    "            # 2. Selecting only one condition\n",
    "            \n",
    "            if condition == \"actor-observer\":\n",
    "                condition_a = 'actor'\n",
    "                condition_b = 'observer'\n",
    "            elif condition == \"leader-follower\":\n",
    "                condition_a = 'leader'\n",
    "                condition_b = 'follower'\n",
    "            \n",
    "            ### One way\n",
    "            \n",
    "            epochs_a_1 = epochs_a[condition_a] #leader\n",
    "            epochs_b_1 = epochs_b[condition_b] #follower\n",
    "        \n",
    "            data_inter_1 = np.array([epochs_a_1.pick(picks=all_eeg_chans), epochs_b_1.pick(picks=all_eeg_chans)])\n",
    "        \n",
    "            # ~ Calculating the complex signal with Hilbert\n",
    "            freq_bands = {'Theta':[4,7.5],\n",
    "                      #'Alpha-Low': [8, 11],\n",
    "                      #'Alpha-High': [11.5, 13],\n",
    "                      'Alpha_Combined': [8,13],\n",
    "                      'Beta':[14,30]}\n",
    "        \n",
    "            sampling_rate = 256\n",
    "        \n",
    "            complex_signal_1 = analyses.compute_freq_bands(data_inter_1, sampling_rate, freq_bands)\n",
    "        \n",
    "            # ~ Splitting the complex signal of 25-s epochs into 3-s segments\n",
    "            short_epochs_1 = segment_complex_signal_asymm(complex_signal = complex_signal_1, \n",
    "                                                  pair_n = pair_n, \n",
    "                                                  condition_a = condition_a,\n",
    "                                                  condition_b = condition_b,\n",
    "                                                  dict_with_bad_epochs = bad_short_epochs_asymm)\n",
    "            \n",
    "            ### Another way\n",
    "            \n",
    "            epochs_a_2 = epochs_a[condition_b] #follower\n",
    "            epochs_b_2 = epochs_b[condition_a] #leader\n",
    "        \n",
    "            data_inter_2 = np.array([epochs_a_2.pick(picks=all_eeg_chans), epochs_b_2.pick(picks=all_eeg_chans)])\n",
    "        \n",
    "            # ~ Calculating the complex signal with Hilbert\n",
    "        \n",
    "            complex_signal_2 = analyses.compute_freq_bands(data_inter_2, sampling_rate, freq_bands)\n",
    "        \n",
    "            # ~ Splitting the complex signal of 25-s epochs into 3-s segments\n",
    "            \n",
    "            short_epochs_2 = segment_complex_signal_asymm(complex_signal = complex_signal_2, \n",
    "                                                  pair_n = pair_n, \n",
    "                                                  condition_a = condition_b,\n",
    "                                                  condition_b = condition_a,\n",
    "                                                  dict_with_bad_epochs = bad_short_epochs_asymm)\n",
    "        \n",
    "            ### Combining two ways\n",
    "            \n",
    "            short_epochs = np.concatenate((short_epochs_1, short_epochs_2), axis=1)\n",
    "            \n",
    "            \n",
    "            # 7. Calculating synchrony value (CCORR)\n",
    "            theta, alpha_combined, beta = ccorr_connectivity(short_epochs)\n",
    "        \n",
    "            # 9. Putting the matrices into a dictionary\n",
    "            data_asymm[pair_n+\"_\"+ref+\"_\"+condition+\"_\"+'theta'] = theta\n",
    "            #data_asymm[pair_n+\"_\"+ref+\"_\"+condition+\"_\"+'alpha_low'] = alpha_low\n",
    "            #data_asymm[pair_n+\"_\"+ref+\"_\"+condition+\"_\"+'alpha_high'] = alpha_high\n",
    "            data_asymm[pair_n+\"_\"+ref+\"_\"+condition+\"_\"+'alpha_combined'] = alpha_combined\n",
    "            data_asymm[pair_n+\"_\"+ref+\"_\"+condition+\"_\"+'beta'] = beta\n",
    "            \n",
    "            # 10. Saving the dictionary\n",
    "            with open('ccorr_asymm_conditions_1.pickle', 'wb') as handle:\n",
    "                pickle.dump(data_asymm, handle, protocol=pickle.HIGHEST_PROTOCOL)"
   ]
  },
  {
   "cell_type": "code",
   "execution_count": 86,
   "id": "bc0c7267",
   "metadata": {},
   "outputs": [],
   "source": [
    "### Loading the dictionary with symmetric conditions\n",
    "\n",
    "with open('ccorr_symmetric_conditions.pickle', 'rb') as s:\n",
    "    ccorr_data_symmetric = pickle.load(s)\n",
    "    \n",
    "### Loading the dictionary with symmetric conditions (the rest)\n",
    "\n",
    "with open('ccorr_symmetric_conditions_1.pickle', 'rb') as s:\n",
    "    ccorr_data_symmetric_1 = pickle.load(s)\n",
    "    \n",
    "### Loading the dictionary with Asymmetric conditions \n",
    "\n",
    "with open('ccorr_asymm_conditions.pickle', 'rb') as a:\n",
    "    ccorr_data_asym = pickle.load(a)\n",
    "    \n",
    "### Loading the dictionary with Asymmetric conditions \n",
    "\n",
    "with open('ccorr_asymm_conditions_1.pickle', 'rb') as a:\n",
    "    ccorr_data_asym_1 = pickle.load(a)\n",
    "    \n",
    "### Merging two dicts\n",
    "\n",
    "ccorr_data = ccorr_data_symmetric | ccorr_data_symmetric_1 | ccorr_data_asym | ccorr_data_asym_1"
   ]
  },
  {
   "cell_type": "code",
   "execution_count": 99,
   "id": "2a4b2378",
   "metadata": {},
   "outputs": [
    {
     "name": "stdout",
     "output_type": "stream",
     "text": [
      "stat_fun(H1): min=-5.059967 max=6.642996\n",
      "Running initial clustering …\n",
      "Found 168 clusters\n"
     ]
    },
    {
     "data": {
      "application/vnd.jupyter.widget-view+json": {
       "model_id": "4254bdf61186405cacea0cddf6107d56",
       "version_major": 2,
       "version_minor": 0
      },
      "text/plain": [
       "  0%|          | Permuting : 0/4999 [00:00<?,       ?it/s]"
      ]
     },
     "metadata": {},
     "output_type": "display_data"
    },
    {
     "name": "stdout",
     "output_type": "stream",
     "text": [
      "stat_fun(H1): min=-4.064313 max=5.215714\n",
      "Running initial clustering …\n",
      "Found 183 clusters\n"
     ]
    },
    {
     "data": {
      "application/vnd.jupyter.widget-view+json": {
       "model_id": "d7a2159fe2854099adc5fcda01aeb9b1",
       "version_major": 2,
       "version_minor": 0
      },
      "text/plain": [
       "  0%|          | Permuting : 0/4999 [00:00<?,       ?it/s]"
      ]
     },
     "metadata": {},
     "output_type": "display_data"
    },
    {
     "name": "stdout",
     "output_type": "stream",
     "text": [
      "stat_fun(H1): min=-4.075122 max=4.254570\n",
      "Running initial clustering …\n",
      "Found 151 clusters\n"
     ]
    },
    {
     "data": {
      "application/vnd.jupyter.widget-view+json": {
       "model_id": "bd90d83bd0a848f4b49a021e10f8c62d",
       "version_major": 2,
       "version_minor": 0
      },
      "text/plain": [
       "  0%|          | Permuting : 0/4999 [00:00<?,       ?it/s]"
      ]
     },
     "metadata": {},
     "output_type": "display_data"
    },
    {
     "name": "stdout",
     "output_type": "stream",
     "text": [
      "stat_fun(H1): min=-5.532819 max=3.444119\n",
      "Running initial clustering …\n",
      "Found 179 clusters\n"
     ]
    },
    {
     "data": {
      "application/vnd.jupyter.widget-view+json": {
       "model_id": "7dcb20f56b194ce3aa9d5e3ee4a96cb2",
       "version_major": 2,
       "version_minor": 0
      },
      "text/plain": [
       "  0%|          | Permuting : 0/4999 [00:00<?,       ?it/s]"
      ]
     },
     "metadata": {},
     "output_type": "display_data"
    },
    {
     "name": "stdout",
     "output_type": "stream",
     "text": [
      "stat_fun(H1): min=-4.761892 max=3.657521\n",
      "Running initial clustering …\n",
      "Found 181 clusters\n"
     ]
    },
    {
     "data": {
      "application/vnd.jupyter.widget-view+json": {
       "model_id": "fd7d16671d6b46ea9ed6243f3ed72827",
       "version_major": 2,
       "version_minor": 0
      },
      "text/plain": [
       "  0%|          | Permuting : 0/4999 [00:00<?,       ?it/s]"
      ]
     },
     "metadata": {},
     "output_type": "display_data"
    },
    {
     "name": "stdout",
     "output_type": "stream",
     "text": [
      "stat_fun(H1): min=-6.008046 max=3.995123\n",
      "Running initial clustering …\n",
      "Found 170 clusters\n"
     ]
    },
    {
     "data": {
      "application/vnd.jupyter.widget-view+json": {
       "model_id": "6ffc1a423175437bacd6be2700a9650f",
       "version_major": 2,
       "version_minor": 0
      },
      "text/plain": [
       "  0%|          | Permuting : 0/4999 [00:00<?,       ?it/s]"
      ]
     },
     "metadata": {},
     "output_type": "display_data"
    },
    {
     "name": "stdout",
     "output_type": "stream",
     "text": [
      "stat_fun(H1): min=-6.359255 max=3.576859\n",
      "Running initial clustering …\n",
      "Found 162 clusters\n"
     ]
    },
    {
     "data": {
      "application/vnd.jupyter.widget-view+json": {
       "model_id": "567c0bd87a7b46178c69cc5d656a5af0",
       "version_major": 2,
       "version_minor": 0
      },
      "text/plain": [
       "  0%|          | Permuting : 0/4999 [00:00<?,       ?it/s]"
      ]
     },
     "metadata": {},
     "output_type": "display_data"
    },
    {
     "name": "stdout",
     "output_type": "stream",
     "text": [
      "stat_fun(H1): min=-4.483482 max=4.773607\n",
      "Running initial clustering …\n",
      "Found 178 clusters\n"
     ]
    },
    {
     "data": {
      "application/vnd.jupyter.widget-view+json": {
       "model_id": "f83a601e605840da94c2a7800784a956",
       "version_major": 2,
       "version_minor": 0
      },
      "text/plain": [
       "  0%|          | Permuting : 0/4999 [00:00<?,       ?it/s]"
      ]
     },
     "metadata": {},
     "output_type": "display_data"
    },
    {
     "name": "stdout",
     "output_type": "stream",
     "text": [
      "stat_fun(H1): min=-4.156913 max=3.618886\n",
      "Running initial clustering …\n",
      "Found 151 clusters\n"
     ]
    },
    {
     "data": {
      "application/vnd.jupyter.widget-view+json": {
       "model_id": "609d3eff9e3a4ead9c01b75bbffca5f1",
       "version_major": 2,
       "version_minor": 0
      },
      "text/plain": [
       "  0%|          | Permuting : 0/4999 [00:00<?,       ?it/s]"
      ]
     },
     "metadata": {},
     "output_type": "display_data"
    },
    {
     "name": "stdout",
     "output_type": "stream",
     "text": [
      "stat_fun(H1): min=-3.349503 max=3.952796\n",
      "Running initial clustering …\n",
      "Found 166 clusters\n"
     ]
    },
    {
     "data": {
      "application/vnd.jupyter.widget-view+json": {
       "model_id": "8263c1bf2ec54f4e9f312732df9ee6e9",
       "version_major": 2,
       "version_minor": 0
      },
      "text/plain": [
       "  0%|          | Permuting : 0/4999 [00:00<?,       ?it/s]"
      ]
     },
     "metadata": {},
     "output_type": "display_data"
    },
    {
     "name": "stdout",
     "output_type": "stream",
     "text": [
      "stat_fun(H1): min=-3.803923 max=4.649298\n",
      "Running initial clustering …\n",
      "Found 156 clusters\n"
     ]
    },
    {
     "data": {
      "application/vnd.jupyter.widget-view+json": {
       "model_id": "199bbf98efbb43609524de5208d5dc86",
       "version_major": 2,
       "version_minor": 0
      },
      "text/plain": [
       "  0%|          | Permuting : 0/4999 [00:00<?,       ?it/s]"
      ]
     },
     "metadata": {},
     "output_type": "display_data"
    },
    {
     "name": "stdout",
     "output_type": "stream",
     "text": [
      "stat_fun(H1): min=-5.523977 max=4.558925\n",
      "Running initial clustering …\n",
      "Found 195 clusters\n"
     ]
    },
    {
     "data": {
      "application/vnd.jupyter.widget-view+json": {
       "model_id": "eb04cd1263584a35a33335b1cb88b0ec",
       "version_major": 2,
       "version_minor": 0
      },
      "text/plain": [
       "  0%|          | Permuting : 0/4999 [00:00<?,       ?it/s]"
      ]
     },
     "metadata": {},
     "output_type": "display_data"
    },
    {
     "name": "stdout",
     "output_type": "stream",
     "text": [
      "stat_fun(H1): min=-4.107067 max=4.843761\n",
      "Running initial clustering …\n",
      "Found 162 clusters\n"
     ]
    },
    {
     "data": {
      "application/vnd.jupyter.widget-view+json": {
       "model_id": "3b796e95fe634fb1b67ba5d58df9d0d4",
       "version_major": 2,
       "version_minor": 0
      },
      "text/plain": [
       "  0%|          | Permuting : 0/4999 [00:00<?,       ?it/s]"
      ]
     },
     "metadata": {},
     "output_type": "display_data"
    },
    {
     "name": "stdout",
     "output_type": "stream",
     "text": [
      "stat_fun(H1): min=-3.598360 max=5.710161\n",
      "Running initial clustering …\n",
      "Found 224 clusters\n"
     ]
    },
    {
     "data": {
      "application/vnd.jupyter.widget-view+json": {
       "model_id": "99144057086848198155f68ce558046e",
       "version_major": 2,
       "version_minor": 0
      },
      "text/plain": [
       "  0%|          | Permuting : 0/4999 [00:00<?,       ?it/s]"
      ]
     },
     "metadata": {},
     "output_type": "display_data"
    },
    {
     "name": "stdout",
     "output_type": "stream",
     "text": [
      "stat_fun(H1): min=-3.110919 max=5.143557\n",
      "Running initial clustering …\n",
      "Found 214 clusters\n"
     ]
    },
    {
     "data": {
      "application/vnd.jupyter.widget-view+json": {
       "model_id": "b8ccc6e5ae1e4e64ab2bd0fdd4f9b26a",
       "version_major": 2,
       "version_minor": 0
      },
      "text/plain": [
       "  0%|          | Permuting : 0/4999 [00:00<?,       ?it/s]"
      ]
     },
     "metadata": {},
     "output_type": "display_data"
    },
    {
     "name": "stdout",
     "output_type": "stream",
     "text": [
      "stat_fun(H1): min=-4.074479 max=5.784456\n",
      "Running initial clustering …\n",
      "Found 223 clusters\n"
     ]
    },
    {
     "data": {
      "application/vnd.jupyter.widget-view+json": {
       "model_id": "7f53f78ed64240348755849c6d07ee3f",
       "version_major": 2,
       "version_minor": 0
      },
      "text/plain": [
       "  0%|          | Permuting : 0/4999 [00:00<?,       ?it/s]"
      ]
     },
     "metadata": {},
     "output_type": "display_data"
    },
    {
     "name": "stdout",
     "output_type": "stream",
     "text": [
      "stat_fun(H1): min=-4.022609 max=5.037236\n",
      "Running initial clustering …\n",
      "Found 184 clusters\n"
     ]
    },
    {
     "data": {
      "application/vnd.jupyter.widget-view+json": {
       "model_id": "63f8ea6392d64f9aa366ade76f23fe2c",
       "version_major": 2,
       "version_minor": 0
      },
      "text/plain": [
       "  0%|          | Permuting : 0/4999 [00:00<?,       ?it/s]"
      ]
     },
     "metadata": {},
     "output_type": "display_data"
    },
    {
     "name": "stdout",
     "output_type": "stream",
     "text": [
      "stat_fun(H1): min=-4.830558 max=4.219440\n",
      "Running initial clustering …\n",
      "Found 155 clusters\n"
     ]
    },
    {
     "data": {
      "application/vnd.jupyter.widget-view+json": {
       "model_id": "956be7723c5e485d8a49d03229952345",
       "version_major": 2,
       "version_minor": 0
      },
      "text/plain": [
       "  0%|          | Permuting : 0/4999 [00:00<?,       ?it/s]"
      ]
     },
     "metadata": {},
     "output_type": "display_data"
    },
    {
     "name": "stdout",
     "output_type": "stream",
     "text": [
      "stat_fun(H1): min=-4.629205 max=4.032062\n",
      "Running initial clustering …\n",
      "Found 178 clusters\n"
     ]
    },
    {
     "data": {
      "application/vnd.jupyter.widget-view+json": {
       "model_id": "4573231b89a845c9bd6e6ddcdd690fb7",
       "version_major": 2,
       "version_minor": 0
      },
      "text/plain": [
       "  0%|          | Permuting : 0/4999 [00:00<?,       ?it/s]"
      ]
     },
     "metadata": {},
     "output_type": "display_data"
    },
    {
     "name": "stdout",
     "output_type": "stream",
     "text": [
      "stat_fun(H1): min=-4.517792 max=3.682516\n",
      "Running initial clustering …\n",
      "Found 160 clusters\n"
     ]
    },
    {
     "data": {
      "application/vnd.jupyter.widget-view+json": {
       "model_id": "365c1d006ce1446ea8e008f8b9abe4e6",
       "version_major": 2,
       "version_minor": 0
      },
      "text/plain": [
       "  0%|          | Permuting : 0/4999 [00:00<?,       ?it/s]"
      ]
     },
     "metadata": {},
     "output_type": "display_data"
    },
    {
     "name": "stdout",
     "output_type": "stream",
     "text": [
      "stat_fun(H1): min=-4.774526 max=4.320452\n",
      "Running initial clustering …\n",
      "Found 150 clusters\n"
     ]
    },
    {
     "data": {
      "application/vnd.jupyter.widget-view+json": {
       "model_id": "b419dd61649f49108cac5b3c8584072d",
       "version_major": 2,
       "version_minor": 0
      },
      "text/plain": [
       "  0%|          | Permuting : 0/4999 [00:00<?,       ?it/s]"
      ]
     },
     "metadata": {},
     "output_type": "display_data"
    },
    {
     "name": "stdout",
     "output_type": "stream",
     "text": [
      "stat_fun(H1): min=-4.669600 max=4.499273\n",
      "Running initial clustering …\n",
      "Found 182 clusters\n"
     ]
    },
    {
     "data": {
      "application/vnd.jupyter.widget-view+json": {
       "model_id": "07b0a469d9554a60b1dd9db74e1ebc38",
       "version_major": 2,
       "version_minor": 0
      },
      "text/plain": [
       "  0%|          | Permuting : 0/4999 [00:00<?,       ?it/s]"
      ]
     },
     "metadata": {},
     "output_type": "display_data"
    },
    {
     "name": "stdout",
     "output_type": "stream",
     "text": [
      "stat_fun(H1): min=-3.759487 max=4.052858\n",
      "Running initial clustering …\n",
      "Found 155 clusters\n"
     ]
    },
    {
     "data": {
      "application/vnd.jupyter.widget-view+json": {
       "model_id": "9f070cf90d6246dda7bba1df86898ebd",
       "version_major": 2,
       "version_minor": 0
      },
      "text/plain": [
       "  0%|          | Permuting : 0/4999 [00:00<?,       ?it/s]"
      ]
     },
     "metadata": {},
     "output_type": "display_data"
    },
    {
     "name": "stdout",
     "output_type": "stream",
     "text": [
      "stat_fun(H1): min=-4.087092 max=4.471259\n",
      "Running initial clustering …\n",
      "Found 151 clusters\n"
     ]
    },
    {
     "data": {
      "application/vnd.jupyter.widget-view+json": {
       "model_id": "da91dfeb9a044863b773482f77365241",
       "version_major": 2,
       "version_minor": 0
      },
      "text/plain": [
       "  0%|          | Permuting : 0/4999 [00:00<?,       ?it/s]"
      ]
     },
     "metadata": {},
     "output_type": "display_data"
    },
    {
     "name": "stdout",
     "output_type": "stream",
     "text": [
      "stat_fun(H1): min=-5.397877 max=4.109530\n",
      "Running initial clustering …\n",
      "Found 161 clusters\n"
     ]
    },
    {
     "data": {
      "application/vnd.jupyter.widget-view+json": {
       "model_id": "96f11ab577d440f799a1253db4c2e6d4",
       "version_major": 2,
       "version_minor": 0
      },
      "text/plain": [
       "  0%|          | Permuting : 0/4999 [00:00<?,       ?it/s]"
      ]
     },
     "metadata": {},
     "output_type": "display_data"
    },
    {
     "name": "stdout",
     "output_type": "stream",
     "text": [
      "stat_fun(H1): min=-3.365306 max=3.978053\n",
      "Running initial clustering …\n",
      "Found 158 clusters\n"
     ]
    },
    {
     "data": {
      "application/vnd.jupyter.widget-view+json": {
       "model_id": "8614f5bbc4be49be966db3379267b1bd",
       "version_major": 2,
       "version_minor": 0
      },
      "text/plain": [
       "  0%|          | Permuting : 0/4999 [00:00<?,       ?it/s]"
      ]
     },
     "metadata": {},
     "output_type": "display_data"
    },
    {
     "name": "stdout",
     "output_type": "stream",
     "text": [
      "stat_fun(H1): min=-4.809863 max=4.035972\n",
      "Running initial clustering …\n",
      "Found 155 clusters\n"
     ]
    },
    {
     "data": {
      "application/vnd.jupyter.widget-view+json": {
       "model_id": "bcdeb6fa18954a6cbdc5d9ce92bb24a4",
       "version_major": 2,
       "version_minor": 0
      },
      "text/plain": [
       "  0%|          | Permuting : 0/4999 [00:00<?,       ?it/s]"
      ]
     },
     "metadata": {},
     "output_type": "display_data"
    },
    {
     "name": "stdout",
     "output_type": "stream",
     "text": [
      "stat_fun(H1): min=-4.818899 max=3.660585\n",
      "Running initial clustering …\n",
      "Found 168 clusters\n"
     ]
    },
    {
     "data": {
      "application/vnd.jupyter.widget-view+json": {
       "model_id": "b1c55f30d9a3488a964173b14b96a2b6",
       "version_major": 2,
       "version_minor": 0
      },
      "text/plain": [
       "  0%|          | Permuting : 0/4999 [00:00<?,       ?it/s]"
      ]
     },
     "metadata": {},
     "output_type": "display_data"
    },
    {
     "name": "stdout",
     "output_type": "stream",
     "text": [
      "stat_fun(H1): min=-4.188295 max=3.740452\n",
      "Running initial clustering …\n",
      "Found 173 clusters\n"
     ]
    },
    {
     "data": {
      "application/vnd.jupyter.widget-view+json": {
       "model_id": "7cd6c68c95b04f8182e135766e185bca",
       "version_major": 2,
       "version_minor": 0
      },
      "text/plain": [
       "  0%|          | Permuting : 0/4999 [00:00<?,       ?it/s]"
      ]
     },
     "metadata": {},
     "output_type": "display_data"
    },
    {
     "name": "stdout",
     "output_type": "stream",
     "text": [
      "stat_fun(H1): min=-4.725475 max=3.853288\n",
      "Running initial clustering …\n",
      "Found 152 clusters\n"
     ]
    },
    {
     "data": {
      "application/vnd.jupyter.widget-view+json": {
       "model_id": "5e261f9565ad4fcba52a0c2b553cb79d",
       "version_major": 2,
       "version_minor": 0
      },
      "text/plain": [
       "  0%|          | Permuting : 0/4999 [00:00<?,       ?it/s]"
      ]
     },
     "metadata": {},
     "output_type": "display_data"
    },
    {
     "name": "stdout",
     "output_type": "stream",
     "text": [
      "stat_fun(H1): min=-4.284324 max=4.187636\n",
      "Running initial clustering …\n",
      "Found 164 clusters\n"
     ]
    },
    {
     "data": {
      "application/vnd.jupyter.widget-view+json": {
       "model_id": "a3c4e8c28f2049d884ebaf7a328f7936",
       "version_major": 2,
       "version_minor": 0
      },
      "text/plain": [
       "  0%|          | Permuting : 0/4999 [00:00<?,       ?it/s]"
      ]
     },
     "metadata": {},
     "output_type": "display_data"
    },
    {
     "name": "stdout",
     "output_type": "stream",
     "text": [
      "stat_fun(H1): min=-3.343669 max=4.198024\n",
      "Running initial clustering …\n",
      "Found 160 clusters\n"
     ]
    },
    {
     "data": {
      "application/vnd.jupyter.widget-view+json": {
       "model_id": "e121db25223943aa897e29fe9bbc2365",
       "version_major": 2,
       "version_minor": 0
      },
      "text/plain": [
       "  0%|          | Permuting : 0/4999 [00:00<?,       ?it/s]"
      ]
     },
     "metadata": {},
     "output_type": "display_data"
    },
    {
     "name": "stdout",
     "output_type": "stream",
     "text": [
      "stat_fun(H1): min=-3.257200 max=5.324006\n",
      "Running initial clustering …\n",
      "Found 152 clusters\n"
     ]
    },
    {
     "data": {
      "application/vnd.jupyter.widget-view+json": {
       "model_id": "5465c05f2c8646fc9b584782283f995c",
       "version_major": 2,
       "version_minor": 0
      },
      "text/plain": [
       "  0%|          | Permuting : 0/4999 [00:00<?,       ?it/s]"
      ]
     },
     "metadata": {},
     "output_type": "display_data"
    },
    {
     "name": "stdout",
     "output_type": "stream",
     "text": [
      "stat_fun(H1): min=-4.682330 max=2.993130\n",
      "Running initial clustering …\n",
      "Found 164 clusters\n"
     ]
    },
    {
     "data": {
      "application/vnd.jupyter.widget-view+json": {
       "model_id": "0649afb544724d9bb945eeecc03694eb",
       "version_major": 2,
       "version_minor": 0
      },
      "text/plain": [
       "  0%|          | Permuting : 0/4999 [00:00<?,       ?it/s]"
      ]
     },
     "metadata": {},
     "output_type": "display_data"
    },
    {
     "name": "stdout",
     "output_type": "stream",
     "text": [
      "stat_fun(H1): min=-4.374758 max=3.520380\n",
      "Running initial clustering …\n",
      "Found 145 clusters\n"
     ]
    },
    {
     "data": {
      "application/vnd.jupyter.widget-view+json": {
       "model_id": "e95bbb1ccaa34c29aeccbc4e68846ea1",
       "version_major": 2,
       "version_minor": 0
      },
      "text/plain": [
       "  0%|          | Permuting : 0/4999 [00:00<?,       ?it/s]"
      ]
     },
     "metadata": {},
     "output_type": "display_data"
    },
    {
     "name": "stdout",
     "output_type": "stream",
     "text": [
      "stat_fun(H1): min=-5.078021 max=3.191205\n",
      "Running initial clustering …\n",
      "Found 152 clusters\n"
     ]
    },
    {
     "data": {
      "application/vnd.jupyter.widget-view+json": {
       "model_id": "5fe8ba5259f4400fbe89e0d244e16bc1",
       "version_major": 2,
       "version_minor": 0
      },
      "text/plain": [
       "  0%|          | Permuting : 0/4999 [00:00<?,       ?it/s]"
      ]
     },
     "metadata": {},
     "output_type": "display_data"
    },
    {
     "name": "stdout",
     "output_type": "stream",
     "text": [
      "stat_fun(H1): min=-3.804578 max=4.227785\n",
      "Running initial clustering …\n",
      "Found 113 clusters\n"
     ]
    },
    {
     "data": {
      "application/vnd.jupyter.widget-view+json": {
       "model_id": "1d84a9bf43f348e5969a7cb6a5ff2d3b",
       "version_major": 2,
       "version_minor": 0
      },
      "text/plain": [
       "  0%|          | Permuting : 0/4999 [00:00<?,       ?it/s]"
      ]
     },
     "metadata": {},
     "output_type": "display_data"
    },
    {
     "name": "stdout",
     "output_type": "stream",
     "text": [
      "stat_fun(H1): min=-3.971831 max=5.287375\n",
      "Running initial clustering …\n",
      "Found 163 clusters\n"
     ]
    },
    {
     "data": {
      "application/vnd.jupyter.widget-view+json": {
       "model_id": "b65833c82cc54a08a07def418ae07929",
       "version_major": 2,
       "version_minor": 0
      },
      "text/plain": [
       "  0%|          | Permuting : 0/4999 [00:00<?,       ?it/s]"
      ]
     },
     "metadata": {},
     "output_type": "display_data"
    },
    {
     "name": "stdout",
     "output_type": "stream",
     "text": [
      "stat_fun(H1): min=-3.715067 max=4.677182\n",
      "Running initial clustering …\n",
      "Found 140 clusters\n"
     ]
    },
    {
     "data": {
      "application/vnd.jupyter.widget-view+json": {
       "model_id": "5781493581d54eeea2a8abe01c217d89",
       "version_major": 2,
       "version_minor": 0
      },
      "text/plain": [
       "  0%|          | Permuting : 0/4999 [00:00<?,       ?it/s]"
      ]
     },
     "metadata": {},
     "output_type": "display_data"
    },
    {
     "name": "stdout",
     "output_type": "stream",
     "text": [
      "stat_fun(H1): min=-3.027122 max=4.848744\n",
      "Running initial clustering …\n",
      "Found 187 clusters\n"
     ]
    },
    {
     "data": {
      "application/vnd.jupyter.widget-view+json": {
       "model_id": "8d96f606e7694c02b30dc4da65410b00",
       "version_major": 2,
       "version_minor": 0
      },
      "text/plain": [
       "  0%|          | Permuting : 0/4999 [00:00<?,       ?it/s]"
      ]
     },
     "metadata": {},
     "output_type": "display_data"
    },
    {
     "name": "stdout",
     "output_type": "stream",
     "text": [
      "stat_fun(H1): min=-3.620459 max=4.717169\n",
      "Running initial clustering …\n",
      "Found 133 clusters\n"
     ]
    },
    {
     "data": {
      "application/vnd.jupyter.widget-view+json": {
       "model_id": "2b58098fa2894959b1ab0588c5612fb3",
       "version_major": 2,
       "version_minor": 0
      },
      "text/plain": [
       "  0%|          | Permuting : 0/4999 [00:00<?,       ?it/s]"
      ]
     },
     "metadata": {},
     "output_type": "display_data"
    },
    {
     "name": "stdout",
     "output_type": "stream",
     "text": [
      "stat_fun(H1): min=-4.482729 max=4.008295\n",
      "Running initial clustering …\n",
      "Found 140 clusters\n"
     ]
    },
    {
     "data": {
      "application/vnd.jupyter.widget-view+json": {
       "model_id": "da4f0c5a2a4846daabf968b894b8e0d8",
       "version_major": 2,
       "version_minor": 0
      },
      "text/plain": [
       "  0%|          | Permuting : 0/4999 [00:00<?,       ?it/s]"
      ]
     },
     "metadata": {},
     "output_type": "display_data"
    },
    {
     "name": "stdout",
     "output_type": "stream",
     "text": [
      "stat_fun(H1): min=-4.122369 max=4.235662\n",
      "Running initial clustering …\n",
      "Found 105 clusters\n"
     ]
    },
    {
     "data": {
      "application/vnd.jupyter.widget-view+json": {
       "model_id": "12fd0a478a25411b83f6f9d0b8cad713",
       "version_major": 2,
       "version_minor": 0
      },
      "text/plain": [
       "  0%|          | Permuting : 0/4999 [00:00<?,       ?it/s]"
      ]
     },
     "metadata": {},
     "output_type": "display_data"
    },
    {
     "name": "stdout",
     "output_type": "stream",
     "text": [
      "stat_fun(H1): min=-2.633447 max=6.358013\n",
      "Running initial clustering …\n",
      "Found 207 clusters\n"
     ]
    },
    {
     "data": {
      "application/vnd.jupyter.widget-view+json": {
       "model_id": "fde3f631083a4f3b88da28eb34a4be19",
       "version_major": 2,
       "version_minor": 0
      },
      "text/plain": [
       "  0%|          | Permuting : 0/4999 [00:00<?,       ?it/s]"
      ]
     },
     "metadata": {},
     "output_type": "display_data"
    },
    {
     "name": "stdout",
     "output_type": "stream",
     "text": [
      "stat_fun(H1): min=-4.663095 max=4.749800\n",
      "Running initial clustering …\n",
      "Found 186 clusters\n"
     ]
    },
    {
     "data": {
      "application/vnd.jupyter.widget-view+json": {
       "model_id": "8dcabc0adf3443d2ba6cffdb83c119b6",
       "version_major": 2,
       "version_minor": 0
      },
      "text/plain": [
       "  0%|          | Permuting : 0/4999 [00:00<?,       ?it/s]"
      ]
     },
     "metadata": {},
     "output_type": "display_data"
    },
    {
     "name": "stdout",
     "output_type": "stream",
     "text": [
      "stat_fun(H1): min=-4.066842 max=4.207895\n",
      "Running initial clustering …\n",
      "Found 166 clusters\n"
     ]
    },
    {
     "data": {
      "application/vnd.jupyter.widget-view+json": {
       "model_id": "166d206fd98a491caa705d3d277c966b",
       "version_major": 2,
       "version_minor": 0
      },
      "text/plain": [
       "  0%|          | Permuting : 0/4999 [00:00<?,       ?it/s]"
      ]
     },
     "metadata": {},
     "output_type": "display_data"
    },
    {
     "name": "stdout",
     "output_type": "stream",
     "text": [
      "stat_fun(H1): min=-3.065176 max=4.248903\n",
      "Running initial clustering …\n",
      "Found 144 clusters\n"
     ]
    },
    {
     "data": {
      "application/vnd.jupyter.widget-view+json": {
       "model_id": "6452d3edbd8f4a669ab7e268f21dc9eb",
       "version_major": 2,
       "version_minor": 0
      },
      "text/plain": [
       "  0%|          | Permuting : 0/4999 [00:00<?,       ?it/s]"
      ]
     },
     "metadata": {},
     "output_type": "display_data"
    },
    {
     "name": "stdout",
     "output_type": "stream",
     "text": [
      "stat_fun(H1): min=-4.286269 max=3.497077\n",
      "Running initial clustering …\n",
      "Found 139 clusters\n"
     ]
    },
    {
     "data": {
      "application/vnd.jupyter.widget-view+json": {
       "model_id": "18271138f1bc47c7a1a0ce25c659d85b",
       "version_major": 2,
       "version_minor": 0
      },
      "text/plain": [
       "  0%|          | Permuting : 0/4999 [00:00<?,       ?it/s]"
      ]
     },
     "metadata": {},
     "output_type": "display_data"
    },
    {
     "name": "stdout",
     "output_type": "stream",
     "text": [
      "stat_fun(H1): min=-5.566445 max=4.165815\n",
      "Running initial clustering …\n",
      "Found 185 clusters\n"
     ]
    },
    {
     "data": {
      "application/vnd.jupyter.widget-view+json": {
       "model_id": "3d323337062b4c7d95645440153dde49",
       "version_major": 2,
       "version_minor": 0
      },
      "text/plain": [
       "  0%|          | Permuting : 0/4999 [00:00<?,       ?it/s]"
      ]
     },
     "metadata": {},
     "output_type": "display_data"
    },
    {
     "name": "stdout",
     "output_type": "stream",
     "text": [
      "stat_fun(H1): min=-4.095357 max=3.794252\n",
      "Running initial clustering …\n",
      "Found 158 clusters\n"
     ]
    },
    {
     "data": {
      "application/vnd.jupyter.widget-view+json": {
       "model_id": "1d4ed002c26c46a09d3039c45e46a9d3",
       "version_major": 2,
       "version_minor": 0
      },
      "text/plain": [
       "  0%|          | Permuting : 0/4999 [00:00<?,       ?it/s]"
      ]
     },
     "metadata": {},
     "output_type": "display_data"
    },
    {
     "name": "stdout",
     "output_type": "stream",
     "text": [
      "stat_fun(H1): min=-4.234567 max=3.879749\n",
      "Running initial clustering …\n",
      "Found 162 clusters\n"
     ]
    },
    {
     "data": {
      "application/vnd.jupyter.widget-view+json": {
       "model_id": "81b98d411ef647318dfa5eb161a65fef",
       "version_major": 2,
       "version_minor": 0
      },
      "text/plain": [
       "  0%|          | Permuting : 0/4999 [00:00<?,       ?it/s]"
      ]
     },
     "metadata": {},
     "output_type": "display_data"
    },
    {
     "name": "stdout",
     "output_type": "stream",
     "text": [
      "stat_fun(H1): min=-4.334098 max=3.919754\n",
      "Running initial clustering …\n",
      "Found 163 clusters\n"
     ]
    },
    {
     "data": {
      "application/vnd.jupyter.widget-view+json": {
       "model_id": "afe2ee42359e43639e480ae4f239d204",
       "version_major": 2,
       "version_minor": 0
      },
      "text/plain": [
       "  0%|          | Permuting : 0/4999 [00:00<?,       ?it/s]"
      ]
     },
     "metadata": {},
     "output_type": "display_data"
    },
    {
     "name": "stdout",
     "output_type": "stream",
     "text": [
      "stat_fun(H1): min=-3.992994 max=3.804760\n",
      "Running initial clustering …\n",
      "Found 147 clusters\n"
     ]
    },
    {
     "data": {
      "application/vnd.jupyter.widget-view+json": {
       "model_id": "fbc920b8fca74895a1ce6999dbf76885",
       "version_major": 2,
       "version_minor": 0
      },
      "text/plain": [
       "  0%|          | Permuting : 0/4999 [00:00<?,       ?it/s]"
      ]
     },
     "metadata": {},
     "output_type": "display_data"
    },
    {
     "name": "stdout",
     "output_type": "stream",
     "text": [
      "stat_fun(H1): min=-4.181231 max=5.408906\n",
      "Running initial clustering …\n",
      "Found 178 clusters\n"
     ]
    },
    {
     "data": {
      "application/vnd.jupyter.widget-view+json": {
       "model_id": "72ca4db27ffc45888cd9ee3b9960f4d1",
       "version_major": 2,
       "version_minor": 0
      },
      "text/plain": [
       "  0%|          | Permuting : 0/4999 [00:00<?,       ?it/s]"
      ]
     },
     "metadata": {},
     "output_type": "display_data"
    },
    {
     "name": "stdout",
     "output_type": "stream",
     "text": [
      "stat_fun(H1): min=-3.864489 max=5.092683\n",
      "Running initial clustering …\n",
      "Found 141 clusters\n"
     ]
    },
    {
     "data": {
      "application/vnd.jupyter.widget-view+json": {
       "model_id": "081873fda3924ef5abf74819f301a3df",
       "version_major": 2,
       "version_minor": 0
      },
      "text/plain": [
       "  0%|          | Permuting : 0/4999 [00:00<?,       ?it/s]"
      ]
     },
     "metadata": {},
     "output_type": "display_data"
    },
    {
     "name": "stdout",
     "output_type": "stream",
     "text": [
      "stat_fun(H1): min=-3.691598 max=5.499169\n",
      "Running initial clustering …\n",
      "Found 165 clusters\n"
     ]
    },
    {
     "data": {
      "application/vnd.jupyter.widget-view+json": {
       "model_id": "b823fb321a1b422e8f2b9c223d91abbe",
       "version_major": 2,
       "version_minor": 0
      },
      "text/plain": [
       "  0%|          | Permuting : 0/4999 [00:00<?,       ?it/s]"
      ]
     },
     "metadata": {},
     "output_type": "display_data"
    },
    {
     "name": "stdout",
     "output_type": "stream",
     "text": [
      "stat_fun(H1): min=-3.864153 max=4.212835\n",
      "Running initial clustering …\n",
      "Found 150 clusters\n"
     ]
    },
    {
     "data": {
      "application/vnd.jupyter.widget-view+json": {
       "model_id": "1bdffb7d708142918f1d478e2709bcf7",
       "version_major": 2,
       "version_minor": 0
      },
      "text/plain": [
       "  0%|          | Permuting : 0/4999 [00:00<?,       ?it/s]"
      ]
     },
     "metadata": {},
     "output_type": "display_data"
    },
    {
     "name": "stdout",
     "output_type": "stream",
     "text": [
      "stat_fun(H1): min=-5.617010 max=5.206503\n",
      "Running initial clustering …\n",
      "Found 174 clusters\n"
     ]
    },
    {
     "data": {
      "application/vnd.jupyter.widget-view+json": {
       "model_id": "82ff1240ed3f4c6a8cb0b0e651a9f929",
       "version_major": 2,
       "version_minor": 0
      },
      "text/plain": [
       "  0%|          | Permuting : 0/4999 [00:00<?,       ?it/s]"
      ]
     },
     "metadata": {},
     "output_type": "display_data"
    },
    {
     "name": "stdout",
     "output_type": "stream",
     "text": [
      "stat_fun(H1): min=-4.160968 max=3.419429\n",
      "Running initial clustering …\n",
      "Found 157 clusters\n"
     ]
    },
    {
     "data": {
      "application/vnd.jupyter.widget-view+json": {
       "model_id": "b74ae569583a4fee934b84c25efc8ea0",
       "version_major": 2,
       "version_minor": 0
      },
      "text/plain": [
       "  0%|          | Permuting : 0/4999 [00:00<?,       ?it/s]"
      ]
     },
     "metadata": {},
     "output_type": "display_data"
    },
    {
     "name": "stdout",
     "output_type": "stream",
     "text": [
      "stat_fun(H1): min=-4.758525 max=4.400383\n",
      "Running initial clustering …\n",
      "Found 173 clusters\n"
     ]
    },
    {
     "data": {
      "application/vnd.jupyter.widget-view+json": {
       "model_id": "bf872a69a6df42e59ee66d7064b52bb8",
       "version_major": 2,
       "version_minor": 0
      },
      "text/plain": [
       "  0%|          | Permuting : 0/4999 [00:00<?,       ?it/s]"
      ]
     },
     "metadata": {},
     "output_type": "display_data"
    },
    {
     "name": "stdout",
     "output_type": "stream",
     "text": [
      "stat_fun(H1): min=-3.650217 max=4.873647\n",
      "Running initial clustering …\n",
      "Found 134 clusters\n"
     ]
    },
    {
     "data": {
      "application/vnd.jupyter.widget-view+json": {
       "model_id": "c2b01d2e5f1641cc8624eb85adb2a5b2",
       "version_major": 2,
       "version_minor": 0
      },
      "text/plain": [
       "  0%|          | Permuting : 0/4999 [00:00<?,       ?it/s]"
      ]
     },
     "metadata": {},
     "output_type": "display_data"
    },
    {
     "name": "stdout",
     "output_type": "stream",
     "text": [
      "stat_fun(H1): min=-2.966185 max=7.493236\n",
      "Running initial clustering …\n",
      "Found 157 clusters\n"
     ]
    },
    {
     "data": {
      "application/vnd.jupyter.widget-view+json": {
       "model_id": "7b46f36f410d4b86afb46c910f6a8f75",
       "version_major": 2,
       "version_minor": 0
      },
      "text/plain": [
       "  0%|          | Permuting : 0/4999 [00:00<?,       ?it/s]"
      ]
     },
     "metadata": {},
     "output_type": "display_data"
    },
    {
     "name": "stdout",
     "output_type": "stream",
     "text": [
      "stat_fun(H1): min=-3.292924 max=5.128026\n",
      "Running initial clustering …\n",
      "Found 164 clusters\n"
     ]
    },
    {
     "data": {
      "application/vnd.jupyter.widget-view+json": {
       "model_id": "aa049ab0f6d0423eb9f8a2aab01ea16e",
       "version_major": 2,
       "version_minor": 0
      },
      "text/plain": [
       "  0%|          | Permuting : 0/4999 [00:00<?,       ?it/s]"
      ]
     },
     "metadata": {},
     "output_type": "display_data"
    },
    {
     "name": "stdout",
     "output_type": "stream",
     "text": [
      "stat_fun(H1): min=-5.035140 max=3.889222\n",
      "Running initial clustering …\n",
      "Found 157 clusters\n"
     ]
    },
    {
     "data": {
      "application/vnd.jupyter.widget-view+json": {
       "model_id": "e375e1dc14df43958261a76cabc63e61",
       "version_major": 2,
       "version_minor": 0
      },
      "text/plain": [
       "  0%|          | Permuting : 0/4999 [00:00<?,       ?it/s]"
      ]
     },
     "metadata": {},
     "output_type": "display_data"
    },
    {
     "name": "stdout",
     "output_type": "stream",
     "text": [
      "stat_fun(H1): min=-3.879890 max=4.161842\n",
      "Running initial clustering …\n",
      "Found 166 clusters\n"
     ]
    },
    {
     "data": {
      "application/vnd.jupyter.widget-view+json": {
       "model_id": "331b32d5bedf479b84ecfa2223dba00f",
       "version_major": 2,
       "version_minor": 0
      },
      "text/plain": [
       "  0%|          | Permuting : 0/4999 [00:00<?,       ?it/s]"
      ]
     },
     "metadata": {},
     "output_type": "display_data"
    },
    {
     "name": "stdout",
     "output_type": "stream",
     "text": [
      "stat_fun(H1): min=-4.848513 max=3.353106\n",
      "Running initial clustering …\n",
      "Found 138 clusters\n"
     ]
    },
    {
     "data": {
      "application/vnd.jupyter.widget-view+json": {
       "model_id": "d2235dfe0022473bb36a5d0b6789832d",
       "version_major": 2,
       "version_minor": 0
      },
      "text/plain": [
       "  0%|          | Permuting : 0/4999 [00:00<?,       ?it/s]"
      ]
     },
     "metadata": {},
     "output_type": "display_data"
    },
    {
     "name": "stdout",
     "output_type": "stream",
     "text": [
      "stat_fun(H1): min=-4.059372 max=4.686441\n",
      "Running initial clustering …\n",
      "Found 124 clusters\n"
     ]
    },
    {
     "data": {
      "application/vnd.jupyter.widget-view+json": {
       "model_id": "6f07fbc983004e47a1acfb2a63a5415e",
       "version_major": 2,
       "version_minor": 0
      },
      "text/plain": [
       "  0%|          | Permuting : 0/4999 [00:00<?,       ?it/s]"
      ]
     },
     "metadata": {},
     "output_type": "display_data"
    },
    {
     "name": "stdout",
     "output_type": "stream",
     "text": [
      "stat_fun(H1): min=-5.003730 max=3.874389\n",
      "Running initial clustering …\n",
      "Found 157 clusters\n"
     ]
    },
    {
     "data": {
      "application/vnd.jupyter.widget-view+json": {
       "model_id": "a9f56a39d6854206b07206c9328c3687",
       "version_major": 2,
       "version_minor": 0
      },
      "text/plain": [
       "  0%|          | Permuting : 0/4999 [00:00<?,       ?it/s]"
      ]
     },
     "metadata": {},
     "output_type": "display_data"
    },
    {
     "name": "stdout",
     "output_type": "stream",
     "text": [
      "stat_fun(H1): min=-3.729371 max=3.371390\n",
      "Running initial clustering …\n",
      "Found 121 clusters\n"
     ]
    },
    {
     "data": {
      "application/vnd.jupyter.widget-view+json": {
       "model_id": "d55756b808b34b329b80744cc2477103",
       "version_major": 2,
       "version_minor": 0
      },
      "text/plain": [
       "  0%|          | Permuting : 0/4999 [00:00<?,       ?it/s]"
      ]
     },
     "metadata": {},
     "output_type": "display_data"
    },
    {
     "name": "stdout",
     "output_type": "stream",
     "text": [
      "stat_fun(H1): min=-3.197034 max=5.306761\n",
      "Running initial clustering …\n",
      "Found 190 clusters\n"
     ]
    },
    {
     "data": {
      "application/vnd.jupyter.widget-view+json": {
       "model_id": "a7cf1c883fe040ae9a4a5e081158fb87",
       "version_major": 2,
       "version_minor": 0
      },
      "text/plain": [
       "  0%|          | Permuting : 0/4999 [00:00<?,       ?it/s]"
      ]
     },
     "metadata": {},
     "output_type": "display_data"
    },
    {
     "name": "stdout",
     "output_type": "stream",
     "text": [
      "stat_fun(H1): min=-4.025401 max=4.301752\n",
      "Running initial clustering …\n",
      "Found 120 clusters\n"
     ]
    },
    {
     "data": {
      "application/vnd.jupyter.widget-view+json": {
       "model_id": "054d570cf82e4ba690cf7269031444da",
       "version_major": 2,
       "version_minor": 0
      },
      "text/plain": [
       "  0%|          | Permuting : 0/4999 [00:00<?,       ?it/s]"
      ]
     },
     "metadata": {},
     "output_type": "display_data"
    },
    {
     "name": "stdout",
     "output_type": "stream",
     "text": [
      "stat_fun(H1): min=-4.966468 max=3.885659\n",
      "Running initial clustering …\n",
      "Found 119 clusters\n"
     ]
    },
    {
     "data": {
      "application/vnd.jupyter.widget-view+json": {
       "model_id": "7bbef198d2e049448895a13a7e82b1b0",
       "version_major": 2,
       "version_minor": 0
      },
      "text/plain": [
       "  0%|          | Permuting : 0/4999 [00:00<?,       ?it/s]"
      ]
     },
     "metadata": {},
     "output_type": "display_data"
    },
    {
     "name": "stdout",
     "output_type": "stream",
     "text": [
      "stat_fun(H1): min=-5.275251 max=3.899250\n",
      "Running initial clustering …\n",
      "Found 111 clusters\n"
     ]
    },
    {
     "data": {
      "application/vnd.jupyter.widget-view+json": {
       "model_id": "34a2bcf297d4443bb447e4a4eefccaa7",
       "version_major": 2,
       "version_minor": 0
      },
      "text/plain": [
       "  0%|          | Permuting : 0/4999 [00:00<?,       ?it/s]"
      ]
     },
     "metadata": {},
     "output_type": "display_data"
    },
    {
     "name": "stdout",
     "output_type": "stream",
     "text": [
      "stat_fun(H1): min=-2.437024 max=5.377470\n",
      "Running initial clustering …\n",
      "Found 221 clusters\n"
     ]
    },
    {
     "data": {
      "application/vnd.jupyter.widget-view+json": {
       "model_id": "a785d541815b484fab8ecb7ae2e41383",
       "version_major": 2,
       "version_minor": 0
      },
      "text/plain": [
       "  0%|          | Permuting : 0/4999 [00:00<?,       ?it/s]"
      ]
     },
     "metadata": {},
     "output_type": "display_data"
    },
    {
     "name": "stdout",
     "output_type": "stream",
     "text": [
      "stat_fun(H1): min=-3.682417 max=5.101992\n",
      "Running initial clustering …\n",
      "Found 183 clusters\n"
     ]
    },
    {
     "data": {
      "application/vnd.jupyter.widget-view+json": {
       "model_id": "86f1901bac3d4b63952e0fcefe6d4689",
       "version_major": 2,
       "version_minor": 0
      },
      "text/plain": [
       "  0%|          | Permuting : 0/4999 [00:00<?,       ?it/s]"
      ]
     },
     "metadata": {},
     "output_type": "display_data"
    },
    {
     "name": "stdout",
     "output_type": "stream",
     "text": [
      "stat_fun(H1): min=-3.080215 max=4.290265\n",
      "Running initial clustering …\n",
      "Found 145 clusters\n"
     ]
    },
    {
     "data": {
      "application/vnd.jupyter.widget-view+json": {
       "model_id": "70aa583890e24bc9a681941da625685d",
       "version_major": 2,
       "version_minor": 0
      },
      "text/plain": [
       "  0%|          | Permuting : 0/4999 [00:00<?,       ?it/s]"
      ]
     },
     "metadata": {},
     "output_type": "display_data"
    },
    {
     "name": "stdout",
     "output_type": "stream",
     "text": [
      "stat_fun(H1): min=-3.673421 max=4.990935\n",
      "Running initial clustering …\n",
      "Found 139 clusters\n"
     ]
    },
    {
     "data": {
      "application/vnd.jupyter.widget-view+json": {
       "model_id": "60346b9157ce4677b6d49b3e595748ca",
       "version_major": 2,
       "version_minor": 0
      },
      "text/plain": [
       "  0%|          | Permuting : 0/4999 [00:00<?,       ?it/s]"
      ]
     },
     "metadata": {},
     "output_type": "display_data"
    },
    {
     "name": "stdout",
     "output_type": "stream",
     "text": [
      "stat_fun(H1): min=-4.795690 max=3.638236\n",
      "Running initial clustering …\n",
      "Found 152 clusters\n"
     ]
    },
    {
     "data": {
      "application/vnd.jupyter.widget-view+json": {
       "model_id": "fe933ec9d4264fc9b593c4ba669893e4",
       "version_major": 2,
       "version_minor": 0
      },
      "text/plain": [
       "  0%|          | Permuting : 0/4999 [00:00<?,       ?it/s]"
      ]
     },
     "metadata": {},
     "output_type": "display_data"
    },
    {
     "name": "stdout",
     "output_type": "stream",
     "text": [
      "stat_fun(H1): min=-4.995933 max=3.649048\n",
      "Running initial clustering …\n",
      "Found 176 clusters\n"
     ]
    },
    {
     "data": {
      "application/vnd.jupyter.widget-view+json": {
       "model_id": "2b7169af36c34375bb64c7d4d0ad1827",
       "version_major": 2,
       "version_minor": 0
      },
      "text/plain": [
       "  0%|          | Permuting : 0/4999 [00:00<?,       ?it/s]"
      ]
     },
     "metadata": {},
     "output_type": "display_data"
    },
    {
     "name": "stdout",
     "output_type": "stream",
     "text": [
      "stat_fun(H1): min=-5.269324 max=3.013797\n",
      "Running initial clustering …\n",
      "Found 168 clusters\n"
     ]
    },
    {
     "data": {
      "application/vnd.jupyter.widget-view+json": {
       "model_id": "50844aceb2954b80b406cd7baf38bc26",
       "version_major": 2,
       "version_minor": 0
      },
      "text/plain": [
       "  0%|          | Permuting : 0/4999 [00:00<?,       ?it/s]"
      ]
     },
     "metadata": {},
     "output_type": "display_data"
    },
    {
     "name": "stdout",
     "output_type": "stream",
     "text": [
      "stat_fun(H1): min=-4.410197 max=3.990362\n",
      "Running initial clustering …\n",
      "Found 147 clusters\n"
     ]
    },
    {
     "data": {
      "application/vnd.jupyter.widget-view+json": {
       "model_id": "da2f6bfdb4eb424ea56eaaa9a9b570cc",
       "version_major": 2,
       "version_minor": 0
      },
      "text/plain": [
       "  0%|          | Permuting : 0/4999 [00:00<?,       ?it/s]"
      ]
     },
     "metadata": {},
     "output_type": "display_data"
    },
    {
     "name": "stdout",
     "output_type": "stream",
     "text": [
      "stat_fun(H1): min=-4.330711 max=3.720628\n",
      "Running initial clustering …\n",
      "Found 141 clusters\n"
     ]
    },
    {
     "data": {
      "application/vnd.jupyter.widget-view+json": {
       "model_id": "e39b97e820eb43f4851fae4b1e96442c",
       "version_major": 2,
       "version_minor": 0
      },
      "text/plain": [
       "  0%|          | Permuting : 0/4999 [00:00<?,       ?it/s]"
      ]
     },
     "metadata": {},
     "output_type": "display_data"
    },
    {
     "name": "stdout",
     "output_type": "stream",
     "text": [
      "stat_fun(H1): min=-4.358744 max=4.194876\n",
      "Running initial clustering …\n",
      "Found 120 clusters\n"
     ]
    },
    {
     "data": {
      "application/vnd.jupyter.widget-view+json": {
       "model_id": "66843e6fee3b468d9c86c8e0b138e502",
       "version_major": 2,
       "version_minor": 0
      },
      "text/plain": [
       "  0%|          | Permuting : 0/4999 [00:00<?,       ?it/s]"
      ]
     },
     "metadata": {},
     "output_type": "display_data"
    },
    {
     "name": "stdout",
     "output_type": "stream",
     "text": [
      "stat_fun(H1): min=-3.195170 max=4.286038\n",
      "Running initial clustering …\n",
      "Found 176 clusters\n"
     ]
    },
    {
     "data": {
      "application/vnd.jupyter.widget-view+json": {
       "model_id": "86551b6069fd4c669ab0e62a70799826",
       "version_major": 2,
       "version_minor": 0
      },
      "text/plain": [
       "  0%|          | Permuting : 0/4999 [00:00<?,       ?it/s]"
      ]
     },
     "metadata": {},
     "output_type": "display_data"
    },
    {
     "name": "stdout",
     "output_type": "stream",
     "text": [
      "stat_fun(H1): min=-3.927974 max=4.577562\n",
      "Running initial clustering …\n",
      "Found 165 clusters\n"
     ]
    },
    {
     "data": {
      "application/vnd.jupyter.widget-view+json": {
       "model_id": "fd623d0d7efb4d32a2c748cc7652a8f7",
       "version_major": 2,
       "version_minor": 0
      },
      "text/plain": [
       "  0%|          | Permuting : 0/4999 [00:00<?,       ?it/s]"
      ]
     },
     "metadata": {},
     "output_type": "display_data"
    },
    {
     "name": "stdout",
     "output_type": "stream",
     "text": [
      "stat_fun(H1): min=-2.865403 max=5.427430\n",
      "Running initial clustering …\n",
      "Found 181 clusters\n"
     ]
    },
    {
     "data": {
      "application/vnd.jupyter.widget-view+json": {
       "model_id": "3e21a9f29dbb431492ff986685bc67e1",
       "version_major": 2,
       "version_minor": 0
      },
      "text/plain": [
       "  0%|          | Permuting : 0/4999 [00:00<?,       ?it/s]"
      ]
     },
     "metadata": {},
     "output_type": "display_data"
    },
    {
     "name": "stdout",
     "output_type": "stream",
     "text": [
      "stat_fun(H1): min=-4.146241 max=4.618889\n",
      "Running initial clustering …\n",
      "Found 134 clusters\n"
     ]
    },
    {
     "data": {
      "application/vnd.jupyter.widget-view+json": {
       "model_id": "0fcbf231f8c3411f8fc63c589429113f",
       "version_major": 2,
       "version_minor": 0
      },
      "text/plain": [
       "  0%|          | Permuting : 0/4999 [00:00<?,       ?it/s]"
      ]
     },
     "metadata": {},
     "output_type": "display_data"
    },
    {
     "name": "stdout",
     "output_type": "stream",
     "text": [
      "stat_fun(H1): min=-4.855492 max=6.862400\n",
      "Running initial clustering …\n",
      "Found 161 clusters\n"
     ]
    },
    {
     "data": {
      "application/vnd.jupyter.widget-view+json": {
       "model_id": "a114f73435ca4ffdb972120be56dcc74",
       "version_major": 2,
       "version_minor": 0
      },
      "text/plain": [
       "  0%|          | Permuting : 0/4999 [00:00<?,       ?it/s]"
      ]
     },
     "metadata": {},
     "output_type": "display_data"
    },
    {
     "name": "stdout",
     "output_type": "stream",
     "text": [
      "stat_fun(H1): min=-4.878856 max=3.632520\n",
      "Running initial clustering …\n",
      "Found 132 clusters\n"
     ]
    },
    {
     "data": {
      "application/vnd.jupyter.widget-view+json": {
       "model_id": "677dbab0227e422e85e4d1043df40339",
       "version_major": 2,
       "version_minor": 0
      },
      "text/plain": [
       "  0%|          | Permuting : 0/4999 [00:00<?,       ?it/s]"
      ]
     },
     "metadata": {},
     "output_type": "display_data"
    },
    {
     "name": "stdout",
     "output_type": "stream",
     "text": [
      "stat_fun(H1): min=-4.265367 max=5.157167\n",
      "Running initial clustering …\n",
      "Found 160 clusters\n"
     ]
    },
    {
     "data": {
      "application/vnd.jupyter.widget-view+json": {
       "model_id": "43a30efff5b24466a9485fd1375eb41f",
       "version_major": 2,
       "version_minor": 0
      },
      "text/plain": [
       "  0%|          | Permuting : 0/4999 [00:00<?,       ?it/s]"
      ]
     },
     "metadata": {},
     "output_type": "display_data"
    }
   ],
   "source": [
    "### Permutting\n",
    "\n",
    "ccorr_res_perm = {}\n",
    "\n",
    "ref_list = ['csd','ave','rest']\n",
    "freq_list = ['theta','alpha_combined','beta']\n",
    "\n",
    "\n",
    "for ref in ref_list:\n",
    "    for freq in freq_list:\n",
    "        \n",
    "        ### 1. Symmetric conditions\n",
    "        ccorr_res_perm[f'{ref}_{freq}_coupled_vs_control'] = custom_permutation_test(ccorr_data,\n",
    "                                                                                   ref,freq,\n",
    "                                                                                   'coupled','control')\n",
    "        ccorr_res_perm[f'{ref}_{freq}_coupled_vs_individual'] = custom_permutation_test(ccorr_data,\n",
    "                                                                                      ref,freq,\n",
    "                                                                                      'coupled','individual')\n",
    "        ccorr_res_perm[f'{ref}_{freq}_control_vs_individual'] = custom_permutation_test(ccorr_data,\n",
    "                                                                                      ref,freq,\n",
    "                                                                                      'control','individual')\n",
    "        \n",
    "        ### 2. Asymmetric conditions\n",
    "        ccorr_res_perm[f'{ref}_{freq}_ao_vs_lf'] = custom_permutation_test(ccorr_data,\n",
    "                                                                         ref,freq,\n",
    "                                                                         'actor-observer',\n",
    "                                                                         'leader-follower')\n",
    "        \n",
    "        ### 3. Actor-observer VS the rest\n",
    "        ccorr_res_perm[f'{ref}_{freq}_ao_vs_control'] = custom_permutation_test(ccorr_data,\n",
    "                                                                         ref,freq,\n",
    "                                                                         'actor-observer',\n",
    "                                                                         'control')\n",
    "        ccorr_res_perm[f'{ref}_{freq}_ao_vs_coupled'] = custom_permutation_test(ccorr_data,\n",
    "                                                                         ref,freq,\n",
    "                                                                         'actor-observer',\n",
    "                                                                         'coupled')\n",
    "        ccorr_res_perm[f'{ref}_{freq}_ao_vs_individual'] = custom_permutation_test(ccorr_data,\n",
    "                                                                         ref,freq,\n",
    "                                                                         'actor-observer',\n",
    "                                                                         'individual')\n",
    "        \n",
    "        ### 4. Leader-follower VS the rest\n",
    "        ccorr_res_perm[f'{ref}_{freq}_lf_vs_control'] = custom_permutation_test(ccorr_data,\n",
    "                                                                         ref,freq,\n",
    "                                                                         'leader-follower',\n",
    "                                                                         'control')\n",
    "        ccorr_res_perm[f'{ref}_{freq}_lf_vs_coupled'] = custom_permutation_test(ccorr_data,\n",
    "                                                                         ref,freq,\n",
    "                                                                         'leader-follower',\n",
    "                                                                         'coupled')\n",
    "        ccorr_res_perm[f'{ref}_{freq}_lf_vs_individual'] = custom_permutation_test(ccorr_data,\n",
    "                                                                         ref,freq,\n",
    "                                                                         'leader-follower',\n",
    "                                                                         'individual')"
   ]
  },
  {
   "cell_type": "markdown",
   "id": "e36ca7e3",
   "metadata": {},
   "source": [
    "<b>Although the immediate output above shows that the number of permutations is 0, the saved data is correct.<br> These zeros appear after reloading the script.</b>"
   ]
  },
  {
   "cell_type": "code",
   "execution_count": 100,
   "id": "7c325a24",
   "metadata": {},
   "outputs": [],
   "source": [
    "### Saving the dictionary\n",
    "\n",
    "#with open('ccorr_results_permutation_1.pickle', 'wb') as handle:\n",
    "    #pickle.dump(ccorr_res_perm, handle, protocol=pickle.HIGHEST_PROTOCOL)"
   ]
  },
  {
   "cell_type": "code",
   "execution_count": 20,
   "id": "ec944d72",
   "metadata": {},
   "outputs": [],
   "source": [
    "with open('ccorr_results_permutation_1.pickle', 'rb') as k:\n",
    "    ccorr_res_perm = pickle.load(k)"
   ]
  },
  {
   "cell_type": "code",
   "execution_count": 21,
   "id": "a6d29277",
   "metadata": {},
   "outputs": [],
   "source": [
    "### Presenting a clear data frame\n",
    "\n",
    "key_list = []\n",
    "n_list = []\n",
    "index_list = []\n",
    "sign_list = []\n",
    "\n",
    "freq_list = []\n",
    "ref_list = []\n",
    "cond1_list = []\n",
    "cond2_list = []\n",
    "\n",
    "dict_for_plots = {}\n",
    "\n",
    "for key in ccorr_res_perm.keys():\n",
    "    \n",
    "    clusters = ccorr_res_perm[key][1]\n",
    "    cluster_p_values = ccorr_res_perm[key][2]\n",
    "    Stat_obs = ccorr_res_perm[key][0]\n",
    "    \n",
    "    n_significant_clusters = len([i for i in cluster_p_values if i<0.05])\n",
    "    if n_significant_clusters > 0:\n",
    "        freq_list.append(freq_fun(key))\n",
    "        ref_list.append(ref_fun(key))\n",
    "        cond1_list.append(cond_fun(key)[0])\n",
    "        cond2_list.append(cond_fun(key)[1])\n",
    "        \n",
    "        cluster_indices = [list(cluster_p_values).index(i) for i in cluster_p_values if i<0.05]\n",
    "        key_list.append(key)\n",
    "        n_list.append(n_significant_clusters)\n",
    "        index_list.append(cluster_indices)\n",
    "        \n",
    "        sign_sublist = []\n",
    "        for cluster_p in cluster_p_values:\n",
    "            if cluster_p <= 0.05:\n",
    "                sensors_plot = clusters[np.where(cluster_p_values == cluster_p)[0][0]].astype('uint8')\n",
    "                Stat_values = sensors_plot*Stat_obs\n",
    "                dict_for_plots[key] = Stat_values\n",
    "                \n",
    "                cluster_values = []\n",
    "                for e_out in range(0,64):\n",
    "                    for e_in in range(0,64):\n",
    "                        if Stat_values[e_out][e_in] != 0:\n",
    "                            cluster_values.append(Stat_values[e_out][e_in])\n",
    "            \n",
    "                if sum(np.sign(cluster_values)) != len(np.sign(cluster_values)):\n",
    "                    sign_sublist.append('negative')\n",
    "                else:\n",
    "                    sign_sublist.append('positive')\n",
    "        sign_list.append(sign_sublist)\n",
    "                \n",
    "cluster_data_ccorr = pd.DataFrame({\n",
    "    'Key':key_list,\n",
    "    'Condition_1': cond1_list,\n",
    "    'Condition_2': cond2_list,\n",
    "    'Frequency': freq_list,\n",
    "    'Reference': ref_list,\n",
    "    'N_signif._clusters': n_list,\n",
    "    'Signs': sign_list,\n",
    "    'Indices': index_list\n",
    "})"
   ]
  },
  {
   "cell_type": "code",
   "execution_count": 24,
   "id": "13e1d819",
   "metadata": {},
   "outputs": [
    {
     "data": {
      "text/html": [
       "<div>\n",
       "<style scoped>\n",
       "    .dataframe tbody tr th:only-of-type {\n",
       "        vertical-align: middle;\n",
       "    }\n",
       "\n",
       "    .dataframe tbody tr th {\n",
       "        vertical-align: top;\n",
       "    }\n",
       "\n",
       "    .dataframe thead th {\n",
       "        text-align: right;\n",
       "    }\n",
       "</style>\n",
       "<table border=\"1\" class=\"dataframe\">\n",
       "  <thead>\n",
       "    <tr style=\"text-align: right;\">\n",
       "      <th></th>\n",
       "      <th>Key</th>\n",
       "      <th>Condition_1</th>\n",
       "      <th>Condition_2</th>\n",
       "      <th>Frequency</th>\n",
       "      <th>Reference</th>\n",
       "      <th>N_signif._clusters</th>\n",
       "      <th>Signs</th>\n",
       "      <th>Indices</th>\n",
       "    </tr>\n",
       "  </thead>\n",
       "  <tbody>\n",
       "    <tr>\n",
       "      <th>0</th>\n",
       "      <td>ave_theta_lf_vs_control</td>\n",
       "      <td>lf</td>\n",
       "      <td>control</td>\n",
       "      <td>theta</td>\n",
       "      <td>ave</td>\n",
       "      <td>2</td>\n",
       "      <td>[positive, positive]</td>\n",
       "      <td>[8, 62]</td>\n",
       "    </tr>\n",
       "    <tr>\n",
       "      <th>1</th>\n",
       "      <td>ave_theta_lf_vs_individual</td>\n",
       "      <td>lf</td>\n",
       "      <td>individual</td>\n",
       "      <td>theta</td>\n",
       "      <td>ave</td>\n",
       "      <td>1</td>\n",
       "      <td>[positive]</td>\n",
       "      <td>[1]</td>\n",
       "    </tr>\n",
       "    <tr>\n",
       "      <th>2</th>\n",
       "      <td>ave_alpha_combined_ao_vs_lf</td>\n",
       "      <td>ao</td>\n",
       "      <td>lf</td>\n",
       "      <td>alpha</td>\n",
       "      <td>ave</td>\n",
       "      <td>5</td>\n",
       "      <td>[positive, positive, positive, positive, posit...</td>\n",
       "      <td>[2, 65, 104, 166, 167]</td>\n",
       "    </tr>\n",
       "    <tr>\n",
       "      <th>3</th>\n",
       "      <td>ave_alpha_combined_lf_vs_coupled</td>\n",
       "      <td>lf</td>\n",
       "      <td>coupled</td>\n",
       "      <td>alpha</td>\n",
       "      <td>ave</td>\n",
       "      <td>3</td>\n",
       "      <td>[negative, negative, negative]</td>\n",
       "      <td>[60, 104, 181]</td>\n",
       "    </tr>\n",
       "    <tr>\n",
       "      <th>4</th>\n",
       "      <td>ave_alpha_combined_lf_vs_individual</td>\n",
       "      <td>lf</td>\n",
       "      <td>individual</td>\n",
       "      <td>alpha</td>\n",
       "      <td>ave</td>\n",
       "      <td>2</td>\n",
       "      <td>[negative, negative]</td>\n",
       "      <td>[77, 127]</td>\n",
       "    </tr>\n",
       "    <tr>\n",
       "      <th>5</th>\n",
       "      <td>csd_alpha_combined_ao_vs_control</td>\n",
       "      <td>ao</td>\n",
       "      <td>control</td>\n",
       "      <td>alpha</td>\n",
       "      <td>csd</td>\n",
       "      <td>1</td>\n",
       "      <td>[positive]</td>\n",
       "      <td>[186]</td>\n",
       "    </tr>\n",
       "    <tr>\n",
       "      <th>6</th>\n",
       "      <td>csd_beta_lf_vs_control</td>\n",
       "      <td>lf</td>\n",
       "      <td>control</td>\n",
       "      <td>beta</td>\n",
       "      <td>csd</td>\n",
       "      <td>1</td>\n",
       "      <td>[negative]</td>\n",
       "      <td>[119]</td>\n",
       "    </tr>\n",
       "    <tr>\n",
       "      <th>7</th>\n",
       "      <td>rest_theta_lf_vs_individual</td>\n",
       "      <td>lf</td>\n",
       "      <td>individual</td>\n",
       "      <td>theta</td>\n",
       "      <td>rest</td>\n",
       "      <td>1</td>\n",
       "      <td>[positive]</td>\n",
       "      <td>[146]</td>\n",
       "    </tr>\n",
       "    <tr>\n",
       "      <th>8</th>\n",
       "      <td>rest_alpha_combined_ao_vs_lf</td>\n",
       "      <td>ao</td>\n",
       "      <td>lf</td>\n",
       "      <td>alpha</td>\n",
       "      <td>rest</td>\n",
       "      <td>2</td>\n",
       "      <td>[positive, positive]</td>\n",
       "      <td>[2, 177]</td>\n",
       "    </tr>\n",
       "    <tr>\n",
       "      <th>9</th>\n",
       "      <td>rest_alpha_combined_ao_vs_control</td>\n",
       "      <td>ao</td>\n",
       "      <td>control</td>\n",
       "      <td>alpha</td>\n",
       "      <td>rest</td>\n",
       "      <td>1</td>\n",
       "      <td>[positive]</td>\n",
       "      <td>[38]</td>\n",
       "    </tr>\n",
       "    <tr>\n",
       "      <th>10</th>\n",
       "      <td>rest_alpha_combined_lf_vs_coupled</td>\n",
       "      <td>lf</td>\n",
       "      <td>coupled</td>\n",
       "      <td>alpha</td>\n",
       "      <td>rest</td>\n",
       "      <td>2</td>\n",
       "      <td>[negative, negative]</td>\n",
       "      <td>[22, 83]</td>\n",
       "    </tr>\n",
       "    <tr>\n",
       "      <th>11</th>\n",
       "      <td>rest_alpha_combined_lf_vs_individual</td>\n",
       "      <td>lf</td>\n",
       "      <td>individual</td>\n",
       "      <td>alpha</td>\n",
       "      <td>rest</td>\n",
       "      <td>1</td>\n",
       "      <td>[negative]</td>\n",
       "      <td>[146]</td>\n",
       "    </tr>\n",
       "  </tbody>\n",
       "</table>\n",
       "</div>"
      ],
      "text/plain": [
       "                                     Key Condition_1 Condition_2 Frequency  \\\n",
       "0                ave_theta_lf_vs_control          lf     control     theta   \n",
       "1             ave_theta_lf_vs_individual          lf  individual     theta   \n",
       "2            ave_alpha_combined_ao_vs_lf          ao          lf     alpha   \n",
       "3       ave_alpha_combined_lf_vs_coupled          lf     coupled     alpha   \n",
       "4    ave_alpha_combined_lf_vs_individual          lf  individual     alpha   \n",
       "5       csd_alpha_combined_ao_vs_control          ao     control     alpha   \n",
       "6                 csd_beta_lf_vs_control          lf     control      beta   \n",
       "7            rest_theta_lf_vs_individual          lf  individual     theta   \n",
       "8           rest_alpha_combined_ao_vs_lf          ao          lf     alpha   \n",
       "9      rest_alpha_combined_ao_vs_control          ao     control     alpha   \n",
       "10     rest_alpha_combined_lf_vs_coupled          lf     coupled     alpha   \n",
       "11  rest_alpha_combined_lf_vs_individual          lf  individual     alpha   \n",
       "\n",
       "   Reference  N_signif._clusters  \\\n",
       "0        ave                   2   \n",
       "1        ave                   1   \n",
       "2        ave                   5   \n",
       "3        ave                   3   \n",
       "4        ave                   2   \n",
       "5        csd                   1   \n",
       "6        csd                   1   \n",
       "7       rest                   1   \n",
       "8       rest                   2   \n",
       "9       rest                   1   \n",
       "10      rest                   2   \n",
       "11      rest                   1   \n",
       "\n",
       "                                                Signs                 Indices  \n",
       "0                                [positive, positive]                 [8, 62]  \n",
       "1                                          [positive]                     [1]  \n",
       "2   [positive, positive, positive, positive, posit...  [2, 65, 104, 166, 167]  \n",
       "3                      [negative, negative, negative]          [60, 104, 181]  \n",
       "4                                [negative, negative]               [77, 127]  \n",
       "5                                          [positive]                   [186]  \n",
       "6                                          [negative]                   [119]  \n",
       "7                                          [positive]                   [146]  \n",
       "8                                [positive, positive]                [2, 177]  \n",
       "9                                          [positive]                    [38]  \n",
       "10                               [negative, negative]                [22, 83]  \n",
       "11                                         [negative]                   [146]  "
      ]
     },
     "execution_count": 24,
     "metadata": {},
     "output_type": "execute_result"
    }
   ],
   "source": [
    "cluster_data_ccorr.sort_values('Reference', ascending=True, ignore_index = True).replace('alpha_combined','alpha')"
   ]
  },
  {
   "cell_type": "code",
   "execution_count": 37,
   "id": "fd524097",
   "metadata": {},
   "outputs": [
    {
     "name": "stdout",
     "output_type": "stream",
     "text": [
      "CCORR: CSD – Actor-Observer vs Control (Alpha, 8–13 Hz)\n"
     ]
    },
    {
     "data": {
      "image/png": "[encoded data removed]",
      "text/plain": [
       "<Figure size 432x288 with 1 Axes>"
      ]
     },
     "metadata": {},
     "output_type": "display_data"
    },
    {
     "name": "stdout",
     "output_type": "stream",
     "text": [
      "CCORR: CSD – Leader-Follower vs Control (Beta, 13.5–30 Hz)\n"
     ]
    },
    {
     "data": {
      "image/png": "[encoded data removed]",
      "text/plain": [
       "<Figure size 432x288 with 1 Axes>"
      ]
     },
     "metadata": {},
     "output_type": "display_data"
    }
   ],
   "source": [
    "### Visualizing for CSD\n",
    "\n",
    "pair_n = '005'\n",
    "folder = f\"/Users/aliaksandrdabranau/Data/Mirror_game/pair{pair_n}\"\n",
    "\n",
    "condition = 'coupled'\n",
    "\n",
    "epochs_a = mne.read_epochs(pathlib.Path(folder+f'/{pair_n}a_csd_epo.fif'), verbose=False)\n",
    "epochs_b = mne.read_epochs(pathlib.Path(folder+f'/{pair_n}b_csd_epo.fif'), verbose=False)\n",
    "\n",
    "\n",
    "print('CCORR: CSD – Actor-Observer vs Control (Alpha, 8–13 Hz)')\n",
    "viz.viz_2D_topomap_inter(epochs_a.pick(picks='data'), epochs_b.pick(picks='data'), \n",
    "                         dict_for_plots['csd_alpha_combined_ao_vs_control'], \n",
    "                         threshold=1, steps=100, lab=False)\n",
    "\n",
    "print('CCORR: CSD – Leader-Follower vs Control (Beta, 13.5–30 Hz)')\n",
    "viz.viz_2D_topomap_inter(epochs_a.pick(picks='data'), epochs_b.pick(picks='data'), \n",
    "                         dict_for_plots['csd_beta_lf_vs_control'], \n",
    "                         threshold=1, steps=100, lab=False)\n",
    "\n",
    "plt.show()"
   ]
  },
  {
   "cell_type": "code",
   "execution_count": 60,
   "id": "b4ec8b6b",
   "metadata": {},
   "outputs": [
    {
     "name": "stdout",
     "output_type": "stream",
     "text": [
      "stat_fun(H1): min=-4.031142 max=4.056139\n",
      "Running initial clustering …\n",
      "Found 134 clusters\n"
     ]
    },
    {
     "data": {
      "application/vnd.jupyter.widget-view+json": {
       "model_id": "9701e88bc8d64cf2a8af8a9257aa78ce",
       "version_major": 2,
       "version_minor": 0
      },
      "text/plain": [
       "  0%|          | Permuting : 0/4999 [00:00<?,       ?it/s]"
      ]
     },
     "metadata": {},
     "output_type": "display_data"
    },
    {
     "name": "stdout",
     "output_type": "stream",
     "text": [
      "stat_fun(H1): min=-3.470861 max=4.525255\n",
      "Running initial clustering …\n",
      "Found 131 clusters\n"
     ]
    },
    {
     "data": {
      "application/vnd.jupyter.widget-view+json": {
       "model_id": "384f2f5bc1b1424f89c24e7ba391ebca",
       "version_major": 2,
       "version_minor": 0
      },
      "text/plain": [
       "  0%|          | Permuting : 0/4999 [00:00<?,       ?it/s]"
      ]
     },
     "metadata": {},
     "output_type": "display_data"
    },
    {
     "name": "stdout",
     "output_type": "stream",
     "text": [
      "stat_fun(H1): min=-3.447255 max=4.026348\n",
      "Running initial clustering …\n",
      "Found 117 clusters\n"
     ]
    },
    {
     "data": {
      "application/vnd.jupyter.widget-view+json": {
       "model_id": "fe78833985824a3fabbc364f413423a2",
       "version_major": 2,
       "version_minor": 0
      },
      "text/plain": [
       "  0%|          | Permuting : 0/4999 [00:00<?,       ?it/s]"
      ]
     },
     "metadata": {},
     "output_type": "display_data"
    },
    {
     "name": "stdout",
     "output_type": "stream",
     "text": [
      "stat_fun(H1): min=-4.072630 max=3.065068\n",
      "Running initial clustering …\n",
      "Found 144 clusters\n"
     ]
    },
    {
     "data": {
      "application/vnd.jupyter.widget-view+json": {
       "model_id": "ebeb38b98aab41ba89851a379b8ec3f7",
       "version_major": 2,
       "version_minor": 0
      },
      "text/plain": [
       "  0%|          | Permuting : 0/4999 [00:00<?,       ?it/s]"
      ]
     },
     "metadata": {},
     "output_type": "display_data"
    },
    {
     "name": "stdout",
     "output_type": "stream",
     "text": [
      "stat_fun(H1): min=-4.194283 max=3.316341\n",
      "Running initial clustering …\n",
      "Found 153 clusters\n"
     ]
    },
    {
     "data": {
      "application/vnd.jupyter.widget-view+json": {
       "model_id": "cf3eaa0953b24d0b8722b04567b31a92",
       "version_major": 2,
       "version_minor": 0
      },
      "text/plain": [
       "  0%|          | Permuting : 0/4999 [00:00<?,       ?it/s]"
      ]
     },
     "metadata": {},
     "output_type": "display_data"
    },
    {
     "name": "stdout",
     "output_type": "stream",
     "text": [
      "stat_fun(H1): min=-5.024169 max=3.701998\n",
      "Running initial clustering …\n",
      "Found 149 clusters\n"
     ]
    },
    {
     "data": {
      "application/vnd.jupyter.widget-view+json": {
       "model_id": "b759d319404f4a27aad7f4f849cb8b30",
       "version_major": 2,
       "version_minor": 0
      },
      "text/plain": [
       "  0%|          | Permuting : 0/4999 [00:00<?,       ?it/s]"
      ]
     },
     "metadata": {},
     "output_type": "display_data"
    },
    {
     "name": "stdout",
     "output_type": "stream",
     "text": [
      "stat_fun(H1): min=-3.925297 max=3.633389\n",
      "Running initial clustering …\n",
      "Found 127 clusters\n"
     ]
    },
    {
     "data": {
      "application/vnd.jupyter.widget-view+json": {
       "model_id": "f5ada78e52b549fbb580d7f751b4e1f4",
       "version_major": 2,
       "version_minor": 0
      },
      "text/plain": [
       "  0%|          | Permuting : 0/4999 [00:00<?,       ?it/s]"
      ]
     },
     "metadata": {},
     "output_type": "display_data"
    },
    {
     "name": "stdout",
     "output_type": "stream",
     "text": [
      "stat_fun(H1): min=-4.475044 max=4.281716\n",
      "Running initial clustering …\n",
      "Found 144 clusters\n"
     ]
    },
    {
     "data": {
      "application/vnd.jupyter.widget-view+json": {
       "model_id": "49fd7264e7824e83bb69303b230612cc",
       "version_major": 2,
       "version_minor": 0
      },
      "text/plain": [
       "  0%|          | Permuting : 0/4999 [00:00<?,       ?it/s]"
      ]
     },
     "metadata": {},
     "output_type": "display_data"
    },
    {
     "name": "stdout",
     "output_type": "stream",
     "text": [
      "stat_fun(H1): min=-3.503877 max=3.537418\n",
      "Running initial clustering …\n",
      "Found 94 clusters\n"
     ]
    },
    {
     "data": {
      "application/vnd.jupyter.widget-view+json": {
       "model_id": "ae12b6ec4adc474a9a5f1b7949ef6665",
       "version_major": 2,
       "version_minor": 0
      },
      "text/plain": [
       "  0%|          | Permuting : 0/4999 [00:00<?,       ?it/s]"
      ]
     },
     "metadata": {},
     "output_type": "display_data"
    },
    {
     "name": "stdout",
     "output_type": "stream",
     "text": [
      "stat_fun(H1): min=-2.950710 max=3.902301\n",
      "Running initial clustering …\n",
      "Found 121 clusters\n"
     ]
    },
    {
     "data": {
      "application/vnd.jupyter.widget-view+json": {
       "model_id": "295aec825cf24eafaa9347c617052bbd",
       "version_major": 2,
       "version_minor": 0
      },
      "text/plain": [
       "  0%|          | Permuting : 0/4999 [00:00<?,       ?it/s]"
      ]
     },
     "metadata": {},
     "output_type": "display_data"
    },
    {
     "name": "stdout",
     "output_type": "stream",
     "text": [
      "stat_fun(H1): min=-3.830045 max=3.332750\n",
      "Running initial clustering …\n",
      "Found 112 clusters\n"
     ]
    },
    {
     "data": {
      "application/vnd.jupyter.widget-view+json": {
       "model_id": "6d5cd603a3024ae5b87451e5a7824d00",
       "version_major": 2,
       "version_minor": 0
      },
      "text/plain": [
       "  0%|          | Permuting : 0/4999 [00:00<?,       ?it/s]"
      ]
     },
     "metadata": {},
     "output_type": "display_data"
    },
    {
     "name": "stdout",
     "output_type": "stream",
     "text": [
      "stat_fun(H1): min=-4.074163 max=3.626433\n",
      "Running initial clustering …\n",
      "Found 138 clusters\n"
     ]
    },
    {
     "data": {
      "application/vnd.jupyter.widget-view+json": {
       "model_id": "a35dd0472b1d4f7b8ffbee9c05c4ef50",
       "version_major": 2,
       "version_minor": 0
      },
      "text/plain": [
       "  0%|          | Permuting : 0/4999 [00:00<?,       ?it/s]"
      ]
     },
     "metadata": {},
     "output_type": "display_data"
    },
    {
     "name": "stdout",
     "output_type": "stream",
     "text": [
      "stat_fun(H1): min=-3.250102 max=3.762229\n",
      "Running initial clustering …\n",
      "Found 115 clusters\n"
     ]
    },
    {
     "data": {
      "application/vnd.jupyter.widget-view+json": {
       "model_id": "30fbe6dd719846adbda201295a6e1152",
       "version_major": 2,
       "version_minor": 0
      },
      "text/plain": [
       "  0%|          | Permuting : 0/4999 [00:00<?,       ?it/s]"
      ]
     },
     "metadata": {},
     "output_type": "display_data"
    },
    {
     "name": "stdout",
     "output_type": "stream",
     "text": [
      "stat_fun(H1): min=-3.404113 max=4.206642\n",
      "Running initial clustering …\n",
      "Found 188 clusters\n"
     ]
    },
    {
     "data": {
      "application/vnd.jupyter.widget-view+json": {
       "model_id": "f9c093505d794349a70e49776a0a000a",
       "version_major": 2,
       "version_minor": 0
      },
      "text/plain": [
       "  0%|          | Permuting : 0/4999 [00:00<?,       ?it/s]"
      ]
     },
     "metadata": {},
     "output_type": "display_data"
    },
    {
     "name": "stdout",
     "output_type": "stream",
     "text": [
      "stat_fun(H1): min=-3.099449 max=4.510464\n",
      "Running initial clustering …\n",
      "Found 148 clusters\n"
     ]
    },
    {
     "data": {
      "application/vnd.jupyter.widget-view+json": {
       "model_id": "11affbd40b1b41f0b15125cc1d708292",
       "version_major": 2,
       "version_minor": 0
      },
      "text/plain": [
       "  0%|          | Permuting : 0/4999 [00:00<?,       ?it/s]"
      ]
     },
     "metadata": {},
     "output_type": "display_data"
    },
    {
     "name": "stdout",
     "output_type": "stream",
     "text": [
      "stat_fun(H1): min=-2.990705 max=4.380465\n",
      "Running initial clustering …\n",
      "Found 172 clusters\n"
     ]
    },
    {
     "data": {
      "application/vnd.jupyter.widget-view+json": {
       "model_id": "31eed136afb4451faf3dd1b46f524882",
       "version_major": 2,
       "version_minor": 0
      },
      "text/plain": [
       "  0%|          | Permuting : 0/4999 [00:00<?,       ?it/s]"
      ]
     },
     "metadata": {},
     "output_type": "display_data"
    },
    {
     "name": "stdout",
     "output_type": "stream",
     "text": [
      "stat_fun(H1): min=-2.854689 max=4.267474\n",
      "Running initial clustering …\n",
      "Found 134 clusters\n"
     ]
    },
    {
     "data": {
      "application/vnd.jupyter.widget-view+json": {
       "model_id": "f6e3e4d0b564442b9dc27c9e21b50454",
       "version_major": 2,
       "version_minor": 0
      },
      "text/plain": [
       "  0%|          | Permuting : 0/4999 [00:00<?,       ?it/s]"
      ]
     },
     "metadata": {},
     "output_type": "display_data"
    },
    {
     "name": "stdout",
     "output_type": "stream",
     "text": [
      "stat_fun(H1): min=-3.986471 max=3.623777\n",
      "Running initial clustering …\n",
      "Found 108 clusters\n"
     ]
    },
    {
     "data": {
      "application/vnd.jupyter.widget-view+json": {
       "model_id": "d70427a280734a1297709d309cab0a46",
       "version_major": 2,
       "version_minor": 0
      },
      "text/plain": [
       "  0%|          | Permuting : 0/4999 [00:00<?,       ?it/s]"
      ]
     },
     "metadata": {},
     "output_type": "display_data"
    },
    {
     "name": "stdout",
     "output_type": "stream",
     "text": [
      "stat_fun(H1): min=-4.025638 max=3.560761\n",
      "Running initial clustering …\n",
      "Found 114 clusters\n"
     ]
    },
    {
     "data": {
      "application/vnd.jupyter.widget-view+json": {
       "model_id": "9f6b808fa9214140b64f76a593ce9dbf",
       "version_major": 2,
       "version_minor": 0
      },
      "text/plain": [
       "  0%|          | Permuting : 0/4999 [00:00<?,       ?it/s]"
      ]
     },
     "metadata": {},
     "output_type": "display_data"
    },
    {
     "name": "stdout",
     "output_type": "stream",
     "text": [
      "stat_fun(H1): min=-3.948586 max=3.240548\n",
      "Running initial clustering …\n",
      "Found 110 clusters\n"
     ]
    },
    {
     "data": {
      "application/vnd.jupyter.widget-view+json": {
       "model_id": "2b0548c06d964a7595469ef506a6be29",
       "version_major": 2,
       "version_minor": 0
      },
      "text/plain": [
       "  0%|          | Permuting : 0/4999 [00:00<?,       ?it/s]"
      ]
     },
     "metadata": {},
     "output_type": "display_data"
    },
    {
     "name": "stdout",
     "output_type": "stream",
     "text": [
      "stat_fun(H1): min=-4.494836 max=3.877761\n",
      "Running initial clustering …\n",
      "Found 113 clusters\n"
     ]
    },
    {
     "data": {
      "application/vnd.jupyter.widget-view+json": {
       "model_id": "237c267178a242b9aa60ecd69aa5b3be",
       "version_major": 2,
       "version_minor": 0
      },
      "text/plain": [
       "  0%|          | Permuting : 0/4999 [00:00<?,       ?it/s]"
      ]
     },
     "metadata": {},
     "output_type": "display_data"
    },
    {
     "name": "stdout",
     "output_type": "stream",
     "text": [
      "stat_fun(H1): min=-4.218418 max=3.675095\n",
      "Running initial clustering …\n",
      "Found 135 clusters\n"
     ]
    },
    {
     "data": {
      "application/vnd.jupyter.widget-view+json": {
       "model_id": "c09771e7085e48f389b6ae12a99764a1",
       "version_major": 2,
       "version_minor": 0
      },
      "text/plain": [
       "  0%|          | Permuting : 0/4999 [00:00<?,       ?it/s]"
      ]
     },
     "metadata": {},
     "output_type": "display_data"
    },
    {
     "name": "stdout",
     "output_type": "stream",
     "text": [
      "stat_fun(H1): min=-3.544005 max=3.606870\n",
      "Running initial clustering …\n",
      "Found 108 clusters\n"
     ]
    },
    {
     "data": {
      "application/vnd.jupyter.widget-view+json": {
       "model_id": "4315859d5b2d4dd09bd3be723a996af8",
       "version_major": 2,
       "version_minor": 0
      },
      "text/plain": [
       "  0%|          | Permuting : 0/4999 [00:00<?,       ?it/s]"
      ]
     },
     "metadata": {},
     "output_type": "display_data"
    },
    {
     "name": "stdout",
     "output_type": "stream",
     "text": [
      "stat_fun(H1): min=-3.894462 max=3.435623\n",
      "Running initial clustering …\n",
      "Found 115 clusters\n"
     ]
    },
    {
     "data": {
      "application/vnd.jupyter.widget-view+json": {
       "model_id": "67d26fb4c0ae433aa05188e41a079713",
       "version_major": 2,
       "version_minor": 0
      },
      "text/plain": [
       "  0%|          | Permuting : 0/4999 [00:00<?,       ?it/s]"
      ]
     },
     "metadata": {},
     "output_type": "display_data"
    },
    {
     "name": "stdout",
     "output_type": "stream",
     "text": [
      "stat_fun(H1): min=-3.761013 max=3.649959\n",
      "Running initial clustering …\n",
      "Found 108 clusters\n"
     ]
    },
    {
     "data": {
      "application/vnd.jupyter.widget-view+json": {
       "model_id": "c75263cdf24b4641a26b4080ac005997",
       "version_major": 2,
       "version_minor": 0
      },
      "text/plain": [
       "  0%|          | Permuting : 0/4999 [00:00<?,       ?it/s]"
      ]
     },
     "metadata": {},
     "output_type": "display_data"
    },
    {
     "name": "stdout",
     "output_type": "stream",
     "text": [
      "stat_fun(H1): min=-3.346437 max=3.668040\n",
      "Running initial clustering …\n",
      "Found 111 clusters\n"
     ]
    },
    {
     "data": {
      "application/vnd.jupyter.widget-view+json": {
       "model_id": "836d4ee9615b40c78e1fde601d38273c",
       "version_major": 2,
       "version_minor": 0
      },
      "text/plain": [
       "  0%|          | Permuting : 0/4999 [00:00<?,       ?it/s]"
      ]
     },
     "metadata": {},
     "output_type": "display_data"
    },
    {
     "name": "stdout",
     "output_type": "stream",
     "text": [
      "stat_fun(H1): min=-3.729964 max=3.598241\n",
      "Running initial clustering …\n",
      "Found 112 clusters\n"
     ]
    },
    {
     "data": {
      "application/vnd.jupyter.widget-view+json": {
       "model_id": "272a7f1bcf614a0793ce2bddfa6a59d1",
       "version_major": 2,
       "version_minor": 0
      },
      "text/plain": [
       "  0%|          | Permuting : 0/4999 [00:00<?,       ?it/s]"
      ]
     },
     "metadata": {},
     "output_type": "display_data"
    },
    {
     "name": "stdout",
     "output_type": "stream",
     "text": [
      "stat_fun(H1): min=-3.706683 max=2.990239\n",
      "Running initial clustering …\n",
      "Found 103 clusters\n"
     ]
    },
    {
     "data": {
      "application/vnd.jupyter.widget-view+json": {
       "model_id": "e932d7c363084957827316a499aa8c0e",
       "version_major": 2,
       "version_minor": 0
      },
      "text/plain": [
       "  0%|          | Permuting : 0/4999 [00:00<?,       ?it/s]"
      ]
     },
     "metadata": {},
     "output_type": "display_data"
    },
    {
     "name": "stdout",
     "output_type": "stream",
     "text": [
      "stat_fun(H1): min=-3.615906 max=3.451593\n",
      "Running initial clustering …\n",
      "Found 113 clusters\n"
     ]
    },
    {
     "data": {
      "application/vnd.jupyter.widget-view+json": {
       "model_id": "8da3d8bdb892405c9f2b6c3c69f581c6",
       "version_major": 2,
       "version_minor": 0
      },
      "text/plain": [
       "  0%|          | Permuting : 0/4999 [00:00<?,       ?it/s]"
      ]
     },
     "metadata": {},
     "output_type": "display_data"
    },
    {
     "name": "stdout",
     "output_type": "stream",
     "text": [
      "stat_fun(H1): min=-4.615998 max=3.306181\n",
      "Running initial clustering …\n",
      "Found 126 clusters\n"
     ]
    },
    {
     "data": {
      "application/vnd.jupyter.widget-view+json": {
       "model_id": "39c662a7ee0e453f85050f8057a75d01",
       "version_major": 2,
       "version_minor": 0
      },
      "text/plain": [
       "  0%|          | Permuting : 0/4999 [00:00<?,       ?it/s]"
      ]
     },
     "metadata": {},
     "output_type": "display_data"
    }
   ],
   "source": [
    "### Permutting\n",
    "\n",
    "ccorr_res_perm_test = {}\n",
    "\n",
    "ref_list = ['csd']\n",
    "freq_list = ['theta','alpha_combined','beta']\n",
    "\n",
    "\n",
    "for ref in ref_list:\n",
    "    for freq in freq_list:\n",
    "        \n",
    "        ### 1. Symmetric conditions\n",
    "        ccorr_res_perm_test[f'{ref}_{freq}_coupled_vs_control'] = custom_permutation_test(ccorr_data,\n",
    "                                                                                   ref,freq,\n",
    "                                                                                   'coupled','control')\n",
    "        ccorr_res_perm_test[f'{ref}_{freq}_coupled_vs_individual'] = custom_permutation_test(ccorr_data,\n",
    "                                                                                      ref,freq,\n",
    "                                                                                      'coupled','individual')\n",
    "        ccorr_res_perm_test[f'{ref}_{freq}_control_vs_individual'] = custom_permutation_test(ccorr_data,\n",
    "                                                                                      ref,freq,\n",
    "                                                                                      'control','individual')\n",
    "        \n",
    "        ### 2. Asymmetric conditions\n",
    "        ccorr_res_perm_test[f'{ref}_{freq}_ao_vs_lf'] = custom_permutation_test(ccorr_data,\n",
    "                                                                         ref,freq,\n",
    "                                                                         'actor-observer',\n",
    "                                                                         'leader-follower')\n",
    "        \n",
    "        ### 3. Actor-observer VS the rest\n",
    "        ccorr_res_perm_test[f'{ref}_{freq}_ao_vs_control'] = custom_permutation_test(ccorr_data,\n",
    "                                                                         ref,freq,\n",
    "                                                                         'actor-observer',\n",
    "                                                                         'control')\n",
    "        ccorr_res_perm_test[f'{ref}_{freq}_ao_vs_coupled'] = custom_permutation_test(ccorr_data,\n",
    "                                                                         ref,freq,\n",
    "                                                                         'actor-observer',\n",
    "                                                                         'coupled')\n",
    "        ccorr_res_perm_test[f'{ref}_{freq}_ao_vs_individual'] = custom_permutation_test(ccorr_data,\n",
    "                                                                         ref,freq,\n",
    "                                                                         'actor-observer',\n",
    "                                                                         'individual')\n",
    "        \n",
    "        ### 4. Leader-follower VS the rest\n",
    "        ccorr_res_perm_test[f'{ref}_{freq}_lf_vs_control'] = custom_permutation_test(ccorr_data,\n",
    "                                                                         ref,freq,\n",
    "                                                                         'leader-follower',\n",
    "                                                                         'control')\n",
    "        ccorr_res_perm_test[f'{ref}_{freq}_lf_vs_coupled'] = custom_permutation_test(ccorr_data,\n",
    "                                                                         ref,freq,\n",
    "                                                                         'leader-follower',\n",
    "                                                                         'coupled')\n",
    "        ccorr_res_perm_test[f'{ref}_{freq}_lf_vs_individual'] = custom_permutation_test(ccorr_data,\n",
    "                                                                         ref,freq,\n",
    "                                                                         'leader-follower',\n",
    "                                                                         'individual')"
   ]
  },
  {
   "cell_type": "markdown",
   "id": "fecf42c7",
   "metadata": {},
   "source": [
    "<b>Although the immediate output above shows that the number of permutations is 0, the saved data is correct.<br> These zeros appear after reloading the script.</b>"
   ]
  },
  {
   "cell_type": "code",
   "execution_count": 61,
   "id": "9f58748f",
   "metadata": {},
   "outputs": [],
   "source": [
    "### Presenting a clear data frame\n",
    "\n",
    "key_list = []\n",
    "n_list = []\n",
    "index_list = []\n",
    "sign_list = []\n",
    "\n",
    "freq_list = []\n",
    "ref_list = []\n",
    "cond1_list = []\n",
    "cond2_list = []\n",
    "\n",
    "dict_for_plots_test = {}\n",
    "\n",
    "for key in ccorr_res_perm_test.keys():\n",
    "    \n",
    "    clusters = ccorr_res_perm_test[key][1]\n",
    "    cluster_p_values = ccorr_res_perm_test[key][2]\n",
    "    Stat_obs = ccorr_res_perm_test[key][0]\n",
    "    \n",
    "    n_significant_clusters = len([i for i in cluster_p_values if i<0.05])\n",
    "    if n_significant_clusters > 0:\n",
    "        freq_list.append(freq_fun(key))\n",
    "        ref_list.append(ref_fun(key))\n",
    "        cond1_list.append(cond_fun(key)[0])\n",
    "        cond2_list.append(cond_fun(key)[1])\n",
    "        \n",
    "        cluster_indices = [list(cluster_p_values).index(i) for i in cluster_p_values if i<0.05]\n",
    "        key_list.append(key)\n",
    "        n_list.append(n_significant_clusters)\n",
    "        index_list.append(cluster_indices)\n",
    "        \n",
    "        sign_sublist = []\n",
    "        for cluster_p in cluster_p_values:\n",
    "            if cluster_p <= 0.05:\n",
    "                sensors_plot = clusters[np.where(cluster_p_values == cluster_p)[0][0]].astype('uint8')\n",
    "                Stat_values = sensors_plot*Stat_obs\n",
    "                dict_for_plots_test[key] = Stat_values\n",
    "                \n",
    "                cluster_values = []\n",
    "                for e_out in range(0,64):\n",
    "                    for e_in in range(0,64):\n",
    "                        if Stat_values[e_out][e_in] != 0:\n",
    "                            cluster_values.append(Stat_values[e_out][e_in])\n",
    "            \n",
    "                if sum(np.sign(cluster_values)) != len(np.sign(cluster_values)):\n",
    "                    sign_sublist.append('negative')\n",
    "                else:\n",
    "                    sign_sublist.append('positive')\n",
    "        sign_list.append(sign_sublist)\n",
    "                \n",
    "cluster_data_ccorr_test = pd.DataFrame({\n",
    "    'Key':key_list,\n",
    "    'Condition_1': cond1_list,\n",
    "    'Condition_2': cond2_list,\n",
    "    'Frequency': freq_list,\n",
    "    'Reference': ref_list,\n",
    "    'N_signif._clusters': n_list,\n",
    "    'Signs': sign_list,\n",
    "    'Indices': index_list\n",
    "})"
   ]
  },
  {
   "cell_type": "code",
   "execution_count": 62,
   "id": "b9be117f",
   "metadata": {},
   "outputs": [
    {
     "data": {
      "text/html": [
       "<div>\n",
       "<style scoped>\n",
       "    .dataframe tbody tr th:only-of-type {\n",
       "        vertical-align: middle;\n",
       "    }\n",
       "\n",
       "    .dataframe tbody tr th {\n",
       "        vertical-align: top;\n",
       "    }\n",
       "\n",
       "    .dataframe thead th {\n",
       "        text-align: right;\n",
       "    }\n",
       "</style>\n",
       "<table border=\"1\" class=\"dataframe\">\n",
       "  <thead>\n",
       "    <tr style=\"text-align: right;\">\n",
       "      <th></th>\n",
       "      <th>Key</th>\n",
       "      <th>Condition_1</th>\n",
       "      <th>Condition_2</th>\n",
       "      <th>Frequency</th>\n",
       "      <th>Reference</th>\n",
       "      <th>N_signif._clusters</th>\n",
       "      <th>Signs</th>\n",
       "      <th>Indices</th>\n",
       "    </tr>\n",
       "  </thead>\n",
       "  <tbody>\n",
       "    <tr>\n",
       "      <th>0</th>\n",
       "      <td>csd_alpha_combined_ao_vs_control</td>\n",
       "      <td>ao</td>\n",
       "      <td>control</td>\n",
       "      <td>alpha_combined</td>\n",
       "      <td>csd</td>\n",
       "      <td>1</td>\n",
       "      <td>[positive]</td>\n",
       "      <td>[122]</td>\n",
       "    </tr>\n",
       "    <tr>\n",
       "      <th>1</th>\n",
       "      <td>csd_beta_lf_vs_control</td>\n",
       "      <td>lf</td>\n",
       "      <td>control</td>\n",
       "      <td>beta</td>\n",
       "      <td>csd</td>\n",
       "      <td>1</td>\n",
       "      <td>[negative]</td>\n",
       "      <td>[72]</td>\n",
       "    </tr>\n",
       "  </tbody>\n",
       "</table>\n",
       "</div>"
      ],
      "text/plain": [
       "                                Key Condition_1 Condition_2       Frequency  \\\n",
       "0  csd_alpha_combined_ao_vs_control          ao     control  alpha_combined   \n",
       "1            csd_beta_lf_vs_control          lf     control            beta   \n",
       "\n",
       "  Reference  N_signif._clusters       Signs Indices  \n",
       "0       csd                   1  [positive]   [122]  \n",
       "1       csd                   1  [negative]    [72]  "
      ]
     },
     "execution_count": 62,
     "metadata": {},
     "output_type": "execute_result"
    }
   ],
   "source": [
    "cluster_data_ccorr_test"
   ]
  },
  {
   "cell_type": "code",
   "execution_count": 63,
   "id": "3859a954",
   "metadata": {},
   "outputs": [
    {
     "name": "stdout",
     "output_type": "stream",
     "text": [
      "CCORR: CSD – Actor-Observer vs Control (Alpha, 8–13 Hz)\n"
     ]
    },
    {
     "data": {
      "image/png": "[encoded data removed]",
      "text/plain": [
       "<Figure size 432x288 with 1 Axes>"
      ]
     },
     "metadata": {},
     "output_type": "display_data"
    },
    {
     "name": "stdout",
     "output_type": "stream",
     "text": [
      "CCORR: CSD – Leader-Follower vs Control (Beta, 13.5–30 Hz)\n"
     ]
    },
    {
     "data": {
      "image/png": "[encoded data removed]",
      "text/plain": [
       "<Figure size 432x288 with 1 Axes>"
      ]
     },
     "metadata": {},
     "output_type": "display_data"
    }
   ],
   "source": [
    "### Visualizing for CSD\n",
    "\n",
    "pair_n = '005'\n",
    "folder = f\"/Users/aliaksandrdabranau/Data/Mirror_game/pair{pair_n}\"\n",
    "\n",
    "condition = 'coupled'\n",
    "\n",
    "epochs_a = mne.read_epochs(pathlib.Path(folder+f'/{pair_n}a_csd_epo.fif'), verbose=False)\n",
    "epochs_b = mne.read_epochs(pathlib.Path(folder+f'/{pair_n}b_csd_epo.fif'), verbose=False)\n",
    "\n",
    "\n",
    "print('CCORR: CSD – Actor-Observer vs Control (Alpha, 8–13 Hz)')\n",
    "viz.viz_2D_topomap_inter(epochs_a.pick(picks='data'), epochs_b.pick(picks='data'), \n",
    "                         dict_for_plots_test['csd_alpha_combined_ao_vs_control'], \n",
    "                         threshold=1, steps=100, lab=False)\n",
    "\n",
    "print('CCORR: CSD – Leader-Follower vs Control (Beta, 13.5–30 Hz)')\n",
    "viz.viz_2D_topomap_inter(epochs_a.pick(picks='data'), epochs_b.pick(picks='data'), \n",
    "                         dict_for_plots_test['csd_beta_lf_vs_control'], \n",
    "                         threshold=1, steps=100, lab=False)\n",
    "\n",
    "plt.show()"
   ]
  }
 ],
 "metadata": {
  "kernelspec": {
   "display_name": "Python 3 (ipykernel)",
   "language": "python",
   "name": "python3"
  },
  "language_info": {
   "codemirror_mode": {
    "name": "ipython",
    "version": 3
   },
   "file_extension": ".py",
   "mimetype": "text/x-python",
   "name": "python",
   "nbconvert_exporter": "python",
   "pygments_lexer": "ipython3",
   "version": "3.9.7"
  }
 },
 "nbformat": 4,
 "nbformat_minor": 5
}
